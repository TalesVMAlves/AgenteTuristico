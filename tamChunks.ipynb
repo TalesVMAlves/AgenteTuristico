{
 "cells": [
  {
   "cell_type": "code",
   "execution_count": 5,
   "metadata": {},
   "outputs": [],
   "source": [
    "from langchain_chroma import Chroma\n",
    "from get_embedding_function import get_embedding_function\n",
    "\n",
    "# Defina o caminho para o seu banco de dados Chroma local\n",
    "CHROMA_PATH = \"chroma/natal\"\n",
    "\n",
    "# Conecte-se ao banco de dados Chroma local\n",
    "db = Chroma(persist_directory=CHROMA_PATH, embedding_function=get_embedding_function())\n"
   ]
  },
  {
   "cell_type": "code",
   "execution_count": 6,
   "metadata": {},
   "outputs": [],
   "source": [
    "# Recuperar todos os documentos armazenados no banco de dados\n",
    "existing_items = db.get(include=[\"documents\"])\n",
    "\n",
    "# Extraia os documentos\n",
    "documents = existing_items[\"documents\"]"
   ]
  },
  {
   "cell_type": "code",
   "execution_count": 7,
   "metadata": {},
   "outputs": [
    {
     "name": "stdout",
     "output_type": "stream",
     "text": [
      "count    271.000000\n",
      "mean     644.885609\n",
      "std      203.312836\n",
      "min        7.000000\n",
      "25%      533.000000\n",
      "50%      753.000000\n",
      "75%      778.500000\n",
      "max      800.000000\n",
      "dtype: float64\n"
     ]
    }
   ],
   "source": [
    "import numpy as np\n",
    "import pandas as pd\n",
    "\n",
    "# Função para descrever as estatísticas dos tamanhos dos chunks\n",
    "def describe_chunk_sizes(documents):\n",
    "    chunk_sizes = []\n",
    "    \n",
    "    for doc in documents:\n",
    "        # Verifique se o documento é uma string ou um objeto Document\n",
    "        if isinstance(doc, str):\n",
    "            text = doc  # Se for string, use diretamente\n",
    "        elif hasattr(doc, 'page_content'):\n",
    "            text = doc.page_content  # Se for Document, use o conteúdo da página\n",
    "        else:\n",
    "            continue  # Caso contrário, ignore o documento\n",
    "        \n",
    "        chunk_sizes.append(len(text))  # Adiciona o tamanho do chunk na lista\n",
    "    \n",
    "    if chunk_sizes:\n",
    "        # Converte a lista em um DataFrame para calcular as estatísticas\n",
    "        chunk_sizes_series = pd.Series(chunk_sizes)\n",
    "        \n",
    "        # Descreve as estatísticas\n",
    "        description = chunk_sizes_series.describe()\n",
    "        print(description)\n",
    "    else:\n",
    "        print(\"Não há chunks para calcular as estatísticas.\")\n",
    "\n",
    "# Calcular as estatísticas dos tamanhos dos chunks\n",
    "describe_chunk_sizes(documents)\n"
   ]
  },
  {
   "cell_type": "code",
   "execution_count": 8,
   "metadata": {},
   "outputs": [
    {
     "name": "stdout",
     "output_type": "stream",
     "text": [
      "Statistic      Value\n",
      "    count 271.000000\n",
      "     mean 644.885609\n",
      "      std 203.312836\n",
      "      min   7.000000\n",
      "      25% 533.000000\n",
      "      50% 753.000000\n",
      "      75% 778.500000\n",
      "      max 800.000000\n"
     ]
    }
   ],
   "source": [
    "import numpy as np\n",
    "import pandas as pd\n",
    "\n",
    "# Function to describe statistics of chunk sizes\n",
    "def describe_chunk_sizes(documents):\n",
    "    chunk_sizes = []\n",
    "    \n",
    "    for doc in documents:\n",
    "        # Check if the document is a string or Document object\n",
    "        if isinstance(doc, str):\n",
    "            text = doc  # Use directly if string\n",
    "        elif hasattr(doc, 'page_content'):\n",
    "            text = doc.page_content  # Use page content if Document object\n",
    "        else:\n",
    "            continue  # Ignore if not applicable\n",
    "        \n",
    "        chunk_sizes.append(len(text))  # Add chunk size to the list\n",
    "    \n",
    "    if chunk_sizes:\n",
    "        # Convert the list into a DataFrame for better presentation\n",
    "        chunk_sizes_series = pd.Series(chunk_sizes)\n",
    "        \n",
    "        # Create a DataFrame with the description\n",
    "        description_df = chunk_sizes_series.describe().reset_index()\n",
    "        description_df.columns = ['Statistic', 'Value']\n",
    "        \n",
    "        print(description_df.to_string(index=False))\n",
    "    else:\n",
    "        print(\"No chunks available to calculate statistics.\")\n",
    "\n",
    "# Example call (ensure 'documents' is defined)\n",
    "describe_chunk_sizes(documents)"
   ]
  }
 ],
 "metadata": {
  "kernelspec": {
   "display_name": ".venv",
   "language": "python",
   "name": "python3"
  },
  "language_info": {
   "codemirror_mode": {
    "name": "ipython",
    "version": 3
   },
   "file_extension": ".py",
   "mimetype": "text/x-python",
   "name": "python",
   "nbconvert_exporter": "python",
   "pygments_lexer": "ipython3",
   "version": "3.10.11"
  }
 },
 "nbformat": 4,
 "nbformat_minor": 2
}
