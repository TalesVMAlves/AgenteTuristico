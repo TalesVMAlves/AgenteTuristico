{
 "cells": [
  {
   "cell_type": "code",
   "execution_count": 1,
   "metadata": {
    "colab": {
     "base_uri": "https://localhost:8080/"
    },
    "id": "4gIXtYDb4o3o",
    "outputId": "b74b0d76-37d0-427c-c8fd-fb9a9337d061"
   },
   "outputs": [
    {
     "name": "stderr",
     "output_type": "stream",
     "text": [
      "c:\\Users\\Tales\\Python\\AgenteTuristico\\.venv\\lib\\site-packages\\tqdm\\auto.py:21: TqdmWarning: IProgress not found. Please update jupyter and ipywidgets. See https://ipywidgets.readthedocs.io/en/stable/user_install.html\n",
      "  from .autonotebook import tqdm as notebook_tqdm\n"
     ]
    }
   ],
   "source": [
    "import os\n",
    "\n",
    "from langchain.agents import Tool\n",
    "from langchain.memory import ChatMessageHistory, ConversationBufferWindowMemory\n",
    "from langchain_google_genai import (\n",
    "    ChatGoogleGenerativeAI,\n",
    "    HarmBlockThreshold,\n",
    "    HarmCategory,\n",
    ")\n",
    "from langchain.utilities import DuckDuckGoSearchAPIWrapper\n",
    "from langchain.agents import AgentExecutor\n",
    "from langchain import hub\n",
    "from langchain.agents.format_scratchpad import format_log_to_str\n",
    "from langchain.agents.output_parsers import ReActSingleInputOutputParser\n",
    "from langchain.tools.render import render_text_description"
   ]
  },
  {
   "cell_type": "code",
   "execution_count": 2,
   "metadata": {},
   "outputs": [],
   "source": [
    "from datetime import datetime\n",
    "hoje = datetime.today()\n",
    "\n",
    "data_formatada = hoje.strftime(\"%Y/%m/%d\")\n",
    "# Pega o dia da semana em inglês\n",
    "dia_da_semana_ingles = hoje.strftime(\"%A\")\n",
    "\n",
    "# Dicionário para mapear os dias da semana de inglês para português\n",
    "dias_da_semana_pt = {\n",
    "    \"Monday\": \"segunda-feira\",\n",
    "    \"Tuesday\": \"terça-feira\",\n",
    "    \"Wednesday\": \"quarta-feira\",\n",
    "    \"Thursday\": \"quinta-feira\",\n",
    "    \"Friday\": \"sexta-feira\",\n",
    "    \"Saturday\": \"sábado\",\n",
    "    \"Sunday\": \"domingo\"\n",
    "}\n",
    "\n",
    "# Traduz o dia da semana para português\n",
    "dia_da_semana_pt = dias_da_semana_pt.get(dia_da_semana_ingles, dia_da_semana_ingles)\n",
    "\n",
    "# Formata a data para utilizar no prompt\n",
    "data_atual = f\"{dia_da_semana_pt}, {data_formatada}\""
   ]
  },
  {
   "cell_type": "code",
   "execution_count": 3,
   "metadata": {
    "id": "oRYlHV3fy_Iq"
   },
   "outputs": [],
   "source": [
    "#(https://makersuite.google.com/)\n",
    "from dotenv import load_dotenv\n",
    "\n",
    "load_dotenv()\n",
    "os.environ[\"GOOGLE_API_KEY\"] = os.getenv('GENERATIVE_LANGUAGE_API_KEY')\n",
    "os.environ[\"LANGCHAIN_API_KEY\"] = os.getenv('LANGCHAIN_API_KEY')"
   ]
  },
  {
   "cell_type": "code",
   "execution_count": 4,
   "metadata": {
    "id": "FEDgMFo84iGY"
   },
   "outputs": [],
   "source": [
    "llm = ChatGoogleGenerativeAI(\n",
    "    model=\"gemini-1.5-flash\",\n",
    "    convert_system_message_to_human=True,\n",
    "    handle_parsing_errors=True,\n",
    "    temperature=0.6,\n",
    "    max_tokens= 1000,\n",
    "    safety_settings = {\n",
    "        HarmCategory.HARM_CATEGORY_HARASSMENT: HarmBlockThreshold.BLOCK_ONLY_HIGH,\n",
    "        HarmCategory.HARM_CATEGORY_HATE_SPEECH: HarmBlockThreshold.BLOCK_ONLY_HIGH,\n",
    "        HarmCategory.HARM_CATEGORY_SEXUALLY_EXPLICIT: HarmBlockThreshold.BLOCK_ONLY_HIGH,\n",
    "        HarmCategory.HARM_CATEGORY_DANGEROUS_CONTENT: HarmBlockThreshold.BLOCK_ONLY_HIGH,\n",
    "    },\n",
    ")"
   ]
  },
  {
   "cell_type": "code",
   "execution_count": 5,
   "metadata": {},
   "outputs": [],
   "source": [
    "def transfer_to_calendar_agent(input_str):\n",
    "    return calendar_agent_executor.invoke({\"input\": input_str})\n",
    "def transfer_to_travel_agent(input_str):\n",
    "    return travel_agent_executor.invoke({\"input\": input_str})"
   ]
  },
  {
   "cell_type": "code",
   "execution_count": 6,
   "metadata": {
    "id": "EY14yxCD4OzY"
   },
   "outputs": [],
   "source": [
    "from planing_tools import weatherapi_forecast_periods, query_rag\n",
    "ddg_search = DuckDuckGoSearchAPIWrapper()\n",
    "\n",
    "travel_planing_tools = [\n",
    "    Tool(\n",
    "        name=\"DuckDuckGo Search\",\n",
    "        func=ddg_search.run,\n",
    "        description=\"\"\"Essa ferramenta DEVE ser utilizada para buscar eventos relevantes no período fornecido pelo usuário. \n",
    "        Ela é útil para obter informações sobre eventos ou atividades especiais que estão acontecendo na cidade de destino nas datas que o usuário informou. \n",
    "        O modelo deve usá-la para complementar as sugestões de atividades.\"\"\"\n",
    "    ),\n",
    "    Tool(\n",
    "        name=\"Weather Forecast\",\n",
    "        func=weatherapi_forecast_periods,\n",
    "        description=\"\"\"Essa ferramenta DEVE ser usada *antes* de gerar o roteiro turístico, após o modelo coletar todas as informações necessárias do usuário, incluindo as datas exatas. \n",
    "    O modelo deve consultar o clima separadamente para cada dia do período informado, garantindo que as atividades do roteiro sejam planejadas de acordo com as condições climáticas. \n",
    "    A previsão do tempo é um passo obrigatório quando é um fator relevante para o planejamento.\"\"\"\n",
    "    ),\n",
    "    Tool(\n",
    "        name=\"Query RAG\",\n",
    "        func=query_rag,\n",
    "        description=\"\"\"Esta ferramenta deve ser usada quando o modelo souber a cidade de destino e os interesses do usuário, com o objetivo de fornecer informações sobre pontos turísticos e atrações que se alinham com esses interesses. \n",
    "        O modelo deve utilizar essa ferramenta para sugerir atividades e lugares específicos a visitar, baseados na cidade e nos interesses fornecidos.\"\"\"\n",
    "    ),\n",
    "    Tool(\n",
    "        name=\"Calendar Agent\",\n",
    "        func=transfer_to_calendar_agent,\n",
    "        description=\"Esse agente lida com tudo relacionado ao calendário.\"\n",
    "    ),\n",
    "]"
   ]
  },
  {
   "cell_type": "code",
   "execution_count": 7,
   "metadata": {},
   "outputs": [
    {
     "name": "stdout",
     "output_type": "stream",
     "text": [
      "calendar v3 service created successfully\n"
     ]
    }
   ],
   "source": [
    "from calendar_tools import list_calendar_list, list_calendar_events, insert_calendar_event, create_calendar\n",
    "\n",
    "google_calendar_tools = [\n",
    "    Tool(\n",
    "        name=\"Create Calendar List\",\n",
    "        func=create_calendar,\n",
    "        description=\"\"\"\n",
    "        Use a função create_calendar_list para criar um novo calendário.\n",
    "        Forneça o resumo (título) do calendário que você deseja criar.\n",
    "        - Exemplo de uso: 'Meu Calendário de Viagens'\n",
    "        - Essa função vai criar um novo calendário com o resumo fornecido.\n",
    "        \"\"\"\n",
    "    ),\n",
    "    Tool(\n",
    "        name=\"List Calendar List\",\n",
    "        func=list_calendar_list,\n",
    "        description=\"\"\"\n",
    "        Use a função list_calendar_list para obter a lista dos seus calendários disponíveis no Google Calendar.\n",
    "        Se você quiser limitar o número de calendários retornados, forneça o número máximo desejado.\n",
    "        - Exemplo de uso: Forneça o número máximo de calendários a serem listados, como 50. Se não quiser um limite, apenas diga para listar 200 o máximo por padrão.\n",
    "        \"\"\"\n",
    "    ),\n",
    "    Tool(\n",
    "        name=\"List Calendar Events\",\n",
    "        func=list_calendar_events,\n",
    "        description=\"\"\"\n",
    "        Use a função list_calendar_events para obter a lista de eventos de um calendário específico.\n",
    "        Você precisa fornecer o ID do calendário e, opcionalmente, o número máximo de eventos a serem listados.\n",
    "        - Exemplo de uso para o calendário principal: forneça 'primary' como o ID do calendário.\n",
    "        - Exemplo de uso com limite: forneça o ID do calendário e o número máximo de eventos, como 'primary', 20.\n",
    "        - Para listar eventos de um calendário específico, primeiro liste seus calendários para encontrar o ID correto.\n",
    "        \"\"\"\n",
    "    ),\n",
    "    Tool(\n",
    "        name=\"Insert Calendar Event\",\n",
    "        func=insert_calendar_event,\n",
    "        description=\"\"\"\n",
    "        Use a função Insert Calendar Event para adicionar um evento a um calendário.\n",
    "        Você precisa fornecer um dicionário Python contendo os detalhes do evento.\n",
    "        Se o timezone não for mencionado utilize \"America/Fortaleza\"\n",
    "        Se o usuário informar o nome do calendário para inserir o evento chame a função list_calendar_list primeiro para adquirir a informação de calendar_id\n",
    "        O dicionário deve ter a seguinte estrutura:\n",
    "        {\n",
    "            \"calendar_id\": \"primary\",\n",
    "            \"summary\": \"Jantar em restaurante regional em Ponta Negra\",\n",
    "            \"location\": \"Restaurante regional em Ponta Negra\",\n",
    "            \"description\": \"\",\n",
    "            \"start\": {\n",
    "                \"dateTime\": \"2024-01-01T19:00:00\",\n",
    "                \"timeZone\": \"America/Fortaleza\"\n",
    "            },\n",
    "            \"end\": {\n",
    "                \"dateTime\": \"2024-01-01T22:00:00\",\n",
    "                \"timeZone\": \"America/Fortaleza\"\n",
    "            },\n",
    "            \"attendees\": []\n",
    "        }\n",
    "        Ao final você DEVE fornecer o link do evento criado ao usuário além das informações do evento criado.\n",
    "        \"\"\"\n",
    "    ),\n",
    "    Tool(\n",
    "        name=\"Main Agent\",\n",
    "        func=transfer_to_travel_agent,\n",
    "        description=\"Transfere ao agente de turismo para perguntas não relacionadas a calendário\"\n",
    "    )\n",
    "]"
   ]
  },
  {
   "cell_type": "code",
   "execution_count": 8,
   "metadata": {
    "colab": {
     "base_uri": "https://localhost:8080/",
     "height": 209
    },
    "id": "FP7Q3SBS5qb3",
    "outputId": "005c96da-55f7-401c-b00a-4a053dcebaf8"
   },
   "outputs": [],
   "source": [
    "travel_planing_prompt = hub.pull(\"tales/agente_turismo\")\n",
    "google_calendar_prompt = hub.pull(\"tales/agente_calendario\")\n",
    "# main_agent_prompt = hub.pull(\"tales/agente_principal\")"
   ]
  },
  {
   "cell_type": "code",
   "execution_count": 9,
   "metadata": {
    "id": "MuPTv06R8EOH"
   },
   "outputs": [],
   "source": [
    "planing_prompt = travel_planing_prompt.partial(\n",
    "    tools=render_text_description(travel_planing_tools),\n",
    "    tool_names=\", \".join([t.name for t in travel_planing_tools]),\n",
    ")\n",
    "llm_with_stop = llm.bind(stop=[\"\\nObservation\"])"
   ]
  },
  {
   "cell_type": "code",
   "execution_count": 10,
   "metadata": {},
   "outputs": [],
   "source": [
    "calendar_prompt = google_calendar_prompt.partial(\n",
    "    tools=render_text_description(google_calendar_tools),\n",
    "    tool_names=\", \".join([t.name for t in google_calendar_tools]),\n",
    ")"
   ]
  },
  {
   "cell_type": "code",
   "execution_count": 11,
   "metadata": {
    "colab": {
     "base_uri": "https://localhost:8080/"
    },
    "id": "LHGz2W5g4cSx",
    "outputId": "fe5fbb96-6f6d-48ce-ba79-63d1b9a732d1"
   },
   "outputs": [
    {
     "name": "stderr",
     "output_type": "stream",
     "text": [
      "C:\\Users\\Tales\\AppData\\Local\\Temp\\ipykernel_14712\\275711510.py:2: LangChainDeprecationWarning: Please see the migration guide at: https://python.langchain.com/docs/versions/migrating_memory/\n",
      "  memory = ConversationBufferWindowMemory(k=20, chat_memory=history, memory_key=\"chat_history\")\n"
     ]
    }
   ],
   "source": [
    "history = ChatMessageHistory()\n",
    "memory = ConversationBufferWindowMemory(k=20, chat_memory=history, memory_key=\"chat_history\")"
   ]
  },
  {
   "cell_type": "code",
   "execution_count": 12,
   "metadata": {
    "id": "zuQgO-EM9mdE"
   },
   "outputs": [],
   "source": [
    "travel_planing_agent = (\n",
    "    {\n",
    "        \"input\": lambda x: x[\"input\"],\n",
    "        \"agent_scratchpad\": lambda x: format_log_to_str(x[\"intermediate_steps\"]),\n",
    "        \"chat_history\": lambda x: x[\"chat_history\"],\n",
    "        \"data_atual\": lambda x: data_atual,\n",
    "    }\n",
    "    | planing_prompt\n",
    "    | llm_with_stop\n",
    "    | ReActSingleInputOutputParser()\n",
    ")\n",
    "\n",
    "travel_agent_executor = AgentExecutor(agent=travel_planing_agent, tools=travel_planing_tools, verbose=True, memory=memory)"
   ]
  },
  {
   "cell_type": "code",
   "execution_count": 13,
   "metadata": {},
   "outputs": [],
   "source": [
    "google_calendar_agent = (\n",
    "    {\n",
    "        \"input\": lambda x: x[\"input\"],\n",
    "        \"agent_scratchpad\": lambda x: format_log_to_str(x[\"intermediate_steps\"]),\n",
    "        \"chat_history\": lambda x: x[\"chat_history\"],\n",
    "        \"data_atual\": lambda x: data_atual,\n",
    "    }\n",
    "    | calendar_prompt\n",
    "    | llm_with_stop\n",
    "    | ReActSingleInputOutputParser()\n",
    ")\n",
    "\n",
    "calendar_agent_executor = AgentExecutor(agent=google_calendar_agent, tools=google_calendar_tools, verbose=True, memory=memory)"
   ]
  },
  {
   "cell_type": "code",
   "execution_count": 14,
   "metadata": {},
   "outputs": [
    {
     "name": "stderr",
     "output_type": "stream",
     "text": [
      "c:\\Users\\Tales\\Python\\AgenteTuristico\\.venv\\lib\\site-packages\\langchain_google_genai\\chat_models.py:310: UserWarning: Convert_system_message_to_human will be deprecated!\n",
      "  warnings.warn(\"Convert_system_message_to_human will be deprecated!\")\n"
     ]
    },
    {
     "name": "stdout",
     "output_type": "stream",
     "text": [
      "\n",
      "\n",
      "\u001b[1m> Entering new AgentExecutor chain...\u001b[0m\n",
      "\u001b[32;1m\u001b[1;3mThought: Do I need to use a tool? No\n",
      "Final Answer: Boa noite! Para começarmos a planejar sua viagem, qual cidade ou região você tem em mente?\n",
      "\u001b[0m\n",
      "\n",
      "\u001b[1m> Finished chain.\u001b[0m\n",
      "Boa noite! Para começarmos a planejar sua viagem, qual cidade ou região você tem em mente?\n"
     ]
    }
   ],
   "source": [
    "response = travel_agent_executor.invoke({\"input\": 'Boa noite'})\n",
    "\n",
    "print(response[\"output\"])"
   ]
  },
  {
   "cell_type": "code",
   "execution_count": 15,
   "metadata": {},
   "outputs": [
    {
     "name": "stdout",
     "output_type": "stream",
     "text": [
      "\n",
      "\n",
      "\u001b[1m> Entering new AgentExecutor chain...\u001b[0m\n"
     ]
    },
    {
     "name": "stderr",
     "output_type": "stream",
     "text": [
      "c:\\Users\\Tales\\Python\\AgenteTuristico\\.venv\\lib\\site-packages\\langchain_google_genai\\chat_models.py:310: UserWarning: Convert_system_message_to_human will be deprecated!\n",
      "  warnings.warn(\"Convert_system_message_to_human will be deprecated!\")\n"
     ]
    },
    {
     "name": "stdout",
     "output_type": "stream",
     "text": [
      "\u001b[32;1m\u001b[1;3mThought: Do I need to use a tool? No\n",
      "Final Answer: Ótimo! Natal é uma excelente escolha.  Quantos dias você pretende passar lá?\n",
      "\u001b[0m\n",
      "\n",
      "\u001b[1m> Finished chain.\u001b[0m\n",
      "Ótimo! Natal é uma excelente escolha.  Quantos dias você pretende passar lá?\n"
     ]
    }
   ],
   "source": [
    "response = travel_agent_executor.invoke({\"input\": 'Eu estou planejando visitar Natal no Rio Grande do Norte'})\n",
    "\n",
    "print(response[\"output\"])"
   ]
  },
  {
   "cell_type": "code",
   "execution_count": 16,
   "metadata": {},
   "outputs": [
    {
     "name": "stdout",
     "output_type": "stream",
     "text": [
      "\n",
      "\n",
      "\u001b[1m> Entering new AgentExecutor chain...\u001b[0m\n"
     ]
    },
    {
     "name": "stderr",
     "output_type": "stream",
     "text": [
      "c:\\Users\\Tales\\Python\\AgenteTuristico\\.venv\\lib\\site-packages\\langchain_google_genai\\chat_models.py:310: UserWarning: Convert_system_message_to_human will be deprecated!\n",
      "  warnings.warn(\"Convert_system_message_to_human will be deprecated!\")\n"
     ]
    },
    {
     "name": "stdout",
     "output_type": "stream",
     "text": [
      "\u001b[32;1m\u001b[1;3mThought: Do I need to use a tool? No\n",
      "Final Answer: Perfeito! Dois dias em Natal, de 01 a 02 de janeiro.  Quais atividades ou experiências você está buscando nessa viagem? Por exemplo, prefere explorar praias, restaurantes, eventos, museus, história, cultura, vida noturna, natureza, ou algo mais?\n",
      "\u001b[0m\n",
      "\n",
      "\u001b[1m> Finished chain.\u001b[0m\n",
      "Perfeito! Dois dias em Natal, de 01 a 02 de janeiro.  Quais atividades ou experiências você está buscando nessa viagem? Por exemplo, prefere explorar praias, restaurantes, eventos, museus, história, cultura, vida noturna, natureza, ou algo mais?\n"
     ]
    }
   ],
   "source": [
    "response = travel_agent_executor.invoke({\"input\": 'Eu planejo passar 2 dias da quarta dia 01 de janeiro e quinta'})\n",
    "\n",
    "print(response[\"output\"])"
   ]
  },
  {
   "cell_type": "code",
   "execution_count": 17,
   "metadata": {},
   "outputs": [
    {
     "name": "stdout",
     "output_type": "stream",
     "text": [
      "\n",
      "\n",
      "\u001b[1m> Entering new AgentExecutor chain...\u001b[0m\n"
     ]
    },
    {
     "name": "stderr",
     "output_type": "stream",
     "text": [
      "c:\\Users\\Tales\\Python\\AgenteTuristico\\.venv\\lib\\site-packages\\langchain_google_genai\\chat_models.py:310: UserWarning: Convert_system_message_to_human will be deprecated!\n",
      "  warnings.warn(\"Convert_system_message_to_human will be deprecated!\")\n"
     ]
    },
    {
     "name": "stdout",
     "output_type": "stream",
     "text": [
      "\u001b[32;1m\u001b[1;3mThought: Do I need to use a tool? No\n",
      "Final Answer: Entendido! Praias e restaurantes regionais em Natal.  Tem um orçamento em mente ou um limite de gastos que gostaria de seguir durante a viagem?\n",
      "\u001b[0m\n",
      "\n",
      "\u001b[1m> Finished chain.\u001b[0m\n",
      "Entendido! Praias e restaurantes regionais em Natal.  Tem um orçamento em mente ou um limite de gastos que gostaria de seguir durante a viagem?\n"
     ]
    }
   ],
   "source": [
    "response = travel_agent_executor.invoke({\"input\": 'Eu planejo visitar praias e restaurantes regionais'})\n",
    "\n",
    "print(response[\"output\"])"
   ]
  },
  {
   "cell_type": "code",
   "execution_count": 18,
   "metadata": {},
   "outputs": [
    {
     "name": "stdout",
     "output_type": "stream",
     "text": [
      "\n",
      "\n",
      "\u001b[1m> Entering new AgentExecutor chain...\u001b[0m\n"
     ]
    },
    {
     "name": "stderr",
     "output_type": "stream",
     "text": [
      "c:\\Users\\Tales\\Python\\AgenteTuristico\\.venv\\lib\\site-packages\\langchain_google_genai\\chat_models.py:310: UserWarning: Convert_system_message_to_human will be deprecated!\n",
      "  warnings.warn(\"Convert_system_message_to_human will be deprecated!\")\n"
     ]
    },
    {
     "name": "stdout",
     "output_type": "stream",
     "text": [
      "\u001b[32;1m\u001b[1;3mThought: Do I need to use a tool? No\n",
      "Final Answer: Certo! Um orçamento de aproximadamente R$400 para dois dias em Natal.  Você segue alguma dieta específica ou tem restrições alimentares, como alergias, que devo levar em consideração?\n",
      "\u001b[0m\n",
      "\n",
      "\u001b[1m> Finished chain.\u001b[0m\n",
      "Certo! Um orçamento de aproximadamente R$400 para dois dias em Natal.  Você segue alguma dieta específica ou tem restrições alimentares, como alergias, que devo levar em consideração?\n"
     ]
    }
   ],
   "source": [
    "response = travel_agent_executor.invoke({\"input\": 'Em torno de 400 reais'})\n",
    "\n",
    "print(response[\"output\"])"
   ]
  },
  {
   "cell_type": "code",
   "execution_count": 19,
   "metadata": {},
   "outputs": [
    {
     "name": "stdout",
     "output_type": "stream",
     "text": [
      "\n",
      "\n",
      "\u001b[1m> Entering new AgentExecutor chain...\u001b[0m\n"
     ]
    },
    {
     "name": "stderr",
     "output_type": "stream",
     "text": [
      "c:\\Users\\Tales\\Python\\AgenteTuristico\\.venv\\lib\\site-packages\\langchain_google_genai\\chat_models.py:310: UserWarning: Convert_system_message_to_human will be deprecated!\n",
      "  warnings.warn(\"Convert_system_message_to_human will be deprecated!\")\n"
     ]
    },
    {
     "name": "stdout",
     "output_type": "stream",
     "text": [
      "\u001b[32;1m\u001b[1;3m```tool_code\n",
      "Thought: Do I need to use a tool? Yes\n",
      "Action: Weather Forecast\n",
      "Action Input: 01/01/2024, 02/01/2024\u001b[0m\u001b[33;1m\u001b[1;3mPrevisão para 01/01/2024, 02/01/2024 em Natal:\n",
      "\n",
      "Manhã:\n",
      "Hora: 05:00 - Temp: 26.4°C, Condição: Possibilidade de chuva irregular, Chance de chuva: 100%, Umidade: 79%\n",
      "Hora: 06:00 - Temp: 27.5°C, Condição: Possibilidade de chuva irregular, Chance de chuva: 100%, Umidade: 74%\n",
      "Hora: 07:00 - Temp: 28.2°C, Condição: Possibilidade de chuva irregular, Chance de chuva: 100%, Umidade: 70%\n",
      "Hora: 08:00 - Temp: 29.1°C, Condição: Possibilidade de chuva irregular, Chance de chuva: 100%, Umidade: 66%\n",
      "Hora: 09:00 - Temp: 29.8°C, Condição: Possibilidade de chuva irregular, Chance de chuva: 79%, Umidade: 64%\n",
      "Hora: 10:00 - Temp: 30.6°C, Condição: Possibilidade de chuva irregular, Chance de chuva: 81%, Umidade: 61%\n",
      "Hora: 11:00 - Temp: 30.6°C, Condição: Possibilidade de chuva irregular, Chance de chuva: 70%, Umidade: 61%\n",
      "\n",
      "Tarde:\n",
      "Hora: 13:00 - Temp: 30.1°C, Condição: Possibilidade de chuva irregular, Chance de chuva: 63%, Umidade: 62%\n",
      "Hora: 14:00 - Temp: 29.6°C, Condição: Possibilidade de chuva irregular, Chance de chuva: 80%, Umidade: 63%\n",
      "Hora: 15:00 - Temp: 28.9°C, Condição: Sol, Chance de chuva: 0%, Umidade: 65%\n",
      "Hora: 16:00 - Temp: 28.0°C, Condição: Sol, Chance de chuva: 0%, Umidade: 69%\n",
      "Hora: 17:00 - Temp: 27.1°C, Condição: Possibilidade de chuva irregular, Chance de chuva: 70%, Umidade: 75%\n",
      "\n",
      "Noite:\n",
      "Hora: 18:00 - Temp: 27.1°C, Condição: Céu limpo, Chance de chuva: 0%, Umidade: 76%\n",
      "Hora: 19:00 - Temp: 27.0°C, Condição: Céu limpo, Chance de chuva: 0%, Umidade: 76%\n",
      "Hora: 20:00 - Temp: 26.9°C, Condição: Céu limpo, Chance de chuva: 0%, Umidade: 77%\n",
      "Hora: 21:00 - Temp: 27.0°C, Condição: Parcialmente nublado, Chance de chuva: 65%, Umidade: 79%\n",
      "Hora: 22:00 - Temp: 26.5°C, Condição: Possibilidade de chuva irregular, Chance de chuva: 100%, Umidade: 80%\n",
      "Hora: 23:00 - Temp: 26.3°C, Condição: Possibilidade de chuva irregular, Chance de chuva: 100%, Umidade: 82%\n",
      "\u001b[0m"
     ]
    },
    {
     "name": "stderr",
     "output_type": "stream",
     "text": [
      "c:\\Users\\Tales\\Python\\AgenteTuristico\\.venv\\lib\\site-packages\\langchain_google_genai\\chat_models.py:310: UserWarning: Convert_system_message_to_human will be deprecated!\n",
      "  warnings.warn(\"Convert_system_message_to_human will be deprecated!\")\n"
     ]
    },
    {
     "name": "stdout",
     "output_type": "stream",
     "text": [
      "\u001b[32;1m\u001b[1;3m```tool_code\n",
      "Thought: Do I need to use a tool? Yes\n",
      "Action: Query RAG\n",
      "Action Input: Atrações turísticas em Natal, Rio Grande do Norte, focadas em praias e restaurantes regionais.\u001b[0m\u001b[38;5;200m\u001b[1;3mATRAÇÕES\n",
      "Em Natal, a vida além da \n",
      "praia garante aquário, museus, \n",
      "parque aquático, cajueiro \n",
      "gigante e estádio de futebol\n",
      "PARQUE  \n",
      "DAS DUNAS\n",
      "Um dos grandes \n",
      "charmes do gigantesco \n",
      "parque é o Bosque dos \n",
      "Namorados, que tem \n",
      "área de piquenique, \n",
      "playground, restaurante e \n",
      "centro de visitantes. Vale \n",
      "a pena também percorrer \n",
      "as trilhas guiadas do \n",
      "parque, com vegetação \n",
      "exuberante. Embora \n",
      "não tenha praia, oferece \n",
      "mirantes com lindas vistas \n",
      "panorâmicas para o mar.\n",
      "FOTOS: SHUTTERSTOCK\n",
      "AQUÁRIO NATAL\n",
      "Na Praia da Redinha, já no \n",
      "caminho para Genipabu, \n",
      "possui cerca de 60 \n",
      "espécies de animais, como \n",
      "moreias, peixes de corais, \n",
      "cavalos-marinhos, jacarés e \n",
      "até mesmo mamíferos, como \n",
      "hipopótamos e jaguatiricas. \n",
      "Você pode passar a mão \n",
      "nas costas dos tubarões e \n",
      "chegar perto dos pinguins.\n",
      "\n",
      "---\n",
      "\n",
      "PRAIA A PRAIA\n",
      "A orla urbana de Natal é marcada por completa estrutura \n",
      "hoteleira, com quiosques atendendo à beira-mar. Da movimentada \n",
      "Ponta Negra à tradicional Redinha, tem praia para todos os gostos!\n",
      "VIA COSTEIRA\n",
      "A continuação da Praia de Ponta Negra acompanha a famosa Via Costeira, principal \n",
      "avenida da cidade. Nessa faixa de areia, ficam os incríveis resorts da cidade, com \n",
      "estrutura completa de lazer e gastronomia. A bela paisagem da região é pontuada por \n",
      "dunas, trechos de Mata Atlântica e também lindas praias desertas.\n",
      "PONTA NEGRA\n",
      "O Morro do Careca é o marco principal da Praia de Ponta Negra e cartão-postal de \n",
      "Natal. Emoldurada por vegetação, a duna de 107 m de altura domina a paisagem – \n",
      "mas é proibido subir nela por questões ambientais. A praia em si é supermovimentada,\n",
      "\n",
      "---\n",
      "\n",
      "PRAIA DA REDINHA\n",
      "A última praia ao norte de Natal é uma antiga vila de pescadores, cujo destaque é o \n",
      "Mercado Público. A tradição ali é comer a ginga com tapioca (peixe frito que vem no \n",
      "palito, dentro de uma tapioca). A Igreja de Nossa Senhora dos Navegantes, construída \n",
      "com pedras dos arrecifes, e o Aquário Natal são outros pontos de interesse.\n",
      "PRAIA DO MEIO\n",
      "Situada entre a Praia do Forte \n",
      "e a Praia dos Artistas, sedia \n",
      "anualmente, durante o Réveillon, \n",
      "a tradicional festa de Iemanjá. Era \n",
      "considerada a praia mais turística \n",
      "da cidade até os anos 1980, \n",
      "devido às formações de piscinas \n",
      "naturais da região.\n",
      "PRAIA DOS ARTISTAS\n",
      "A 5 km do centro de Natal, é uma  \n",
      "das mais agitadas da cidade. Suas \n",
      "ondas altas são ótimas para surfe \n",
      "e outros esportes náuticos. Com\n",
      "\n",
      "---\n",
      "\n",
      "rico de Natal (2010) e Turismo cultural no \n",
      "centro histórico de Natal (2011).\n",
      "Em 2012, alguns acontecimentos \n",
      "vieram a possibilitar a ampliação das \n",
      "ações: a parceria com o Iphan/RN, no \n",
      "projeto de extensão “Formação de tu-\n",
      "tores em educação patrimonial”, a pes-\n",
      "quisa atrelada às bolsas de iniciação tec-\n",
      "nológica intitulada “Estudando o centro \n",
      "histórico de Natal e suas possibilidades \n",
      "para o turismo”, bem como as atividades \n",
      "desenvolvidas pelo “Grupo de Pesquisa \n",
      "Redes Criativas e Colaborativas no Setor \n",
      "Cultural”.\n",
      "Entende-se que, apesar de não ser \n",
      "suficiente, um guia com um roteiro de \n",
      "visitação é essencial para que o centro \n",
      "histórico de Natal dê-se a conhecer, e que \n",
      "este seja um importante passo rumo à \n",
      "preservação do nosso patrimônio cultu-\n",
      "ral. Foi construído com a ideia de que,\n",
      "\n",
      "---\n",
      "\n",
      "EMERENCIANO, João Gothardo Dantas (org.). Natal não – há – \n",
      "tal: aspectos da história da cidade do Natal. Natal: Departamento \n",
      "de Informação, Pesquisa e Estatística/SEMURB/Prefeitura Munici-\n",
      "pal do Natal, 2009.\n",
      "FERRAZ, Valéria de Souza. Mapeando “esquisitices” no centro \n",
      "antigo de Natal, RN. In: V SEMINÁRIO DE PESQUISA EM TURIS-\n",
      "MO DO MERCOSUL – SeminTUR. Turismo: Inovações da Pesquisa \n",
      "na América Latina. Caxias do Sul, 2008. Anais... Disponível em: \n",
      "<http://www.usp.br/fau/depprojeto/labcom/produtos/2008_fer-\n",
      "raz_semintur.pdf>. Acesso em 05  jun. 2012.\n",
      "__________. Turismo Cultural na ZEPH-Ribeira: possibilidades e \n",
      "limitações. Dissertação (Mestrado em Arquitetura e Urbanismo). \n",
      "Universidade Federal do Rio Grande do Norte, Centro de Tecno-\u001b[0m"
     ]
    },
    {
     "name": "stderr",
     "output_type": "stream",
     "text": [
      "c:\\Users\\Tales\\Python\\AgenteTuristico\\.venv\\lib\\site-packages\\langchain_google_genai\\chat_models.py:310: UserWarning: Convert_system_message_to_human will be deprecated!\n",
      "  warnings.warn(\"Convert_system_message_to_human will be deprecated!\")\n"
     ]
    },
    {
     "name": "stdout",
     "output_type": "stream",
     "text": [
      "\u001b[32;1m\u001b[1;3m```tool_code\n",
      "Thought: Do I need to use a tool? Yes\n",
      "Action: DuckDuckGo Search\n",
      "Action Input: eventos em Natal RN 01/01/2024 e 02/01/2024\u001b[0m"
     ]
    },
    {
     "name": "stderr",
     "output_type": "stream",
     "text": [
      "c:\\Users\\Tales\\Python\\AgenteTuristico\\.venv\\lib\\site-packages\\langchain_community\\utilities\\duckduckgo_search.py:64: UserWarning: 'api' backend is deprecated, using backend='auto'\n",
      "  ddgs_gen = ddgs.text(\n"
     ]
    },
    {
     "name": "stdout",
     "output_type": "stream",
     "text": [
      "\u001b[36;1m\u001b[1;3mA programação oficial foi lançada na sexta-feira (22) pelo prefeito Álvaro Dias e pela secretária municipal de Cultura, Danielle Mafra, no auditório da Arena das Dunas.. Até o réveillon, a cidade vai entrar em clima de festa, luz e magia com a realização do Natal em Natal - O Natal da Cidade do Sol.. Com espaço para dança, música, teatro e diversas outras manifestações ... Árvore de Ponta Negra. Outro destaque imperdível do Natal em Natal 2024 é a árvore de 20 metros localizada na Avenida Praia de Ponta Negra. Com o tema \"O Natal da Cidade do Sol\", ela vai além da iluminação tradicional, oferecendo uma experiência imersiva: os visitantes podem transitar por dentro da estrutura, atravessando de um lado ao outro e se sentindo parte da magia natalina. A programação do Natal em Natal 2024, promovido pela prefeitura da cidade, reúne atrações musicais, espetáculos, dança e teatro durante todo o mês de dezembro, com opções para todas as ... Para o prefeito Álvaro Dias, o evento é uma oportunidade de aquecer a economia local, gerando emprego e renda desde os pequenos comerciantes até os grandes empresários. A valorização da cultura potiguar, segundo ele, também é uma das principais marcas do evento, que promete ser o maior Natal em Natal de todos os tempos. Shows - Natal em 2024. Encontre ingressos para todo tipo de música ao vivo, shows, datas de turnê e festivais perto de Natal. Atualmente há 5 eventos futuros. Filtrar por artista. Tudo Seus artistas favoritos. Filtrar por data. Tudo Hoje à noite Este fim de semana Este mês ...\u001b[0m"
     ]
    },
    {
     "name": "stderr",
     "output_type": "stream",
     "text": [
      "c:\\Users\\Tales\\Python\\AgenteTuristico\\.venv\\lib\\site-packages\\langchain_google_genai\\chat_models.py:310: UserWarning: Convert_system_message_to_human will be deprecated!\n",
      "  warnings.warn(\"Convert_system_message_to_human will be deprecated!\")\n"
     ]
    },
    {
     "name": "stdout",
     "output_type": "stream",
     "text": [
      "\u001b[32;1m\u001b[1;3m```tool_code\n",
      "Thought: Do I need to use a tool? No\n",
      "Final Answer: Olá! Com base nas informações que você me forneceu, preparei um roteiro para sua viagem a Natal, de 01 a 02 de janeiro de 2024, focando em praias e restaurantes regionais, com um orçamento de R$400 e sem restrições alimentares.  Considerando a previsão do tempo, que indica possibilidade de chuva em alguns momentos, planejei atividades que podem ser adaptadas caso necessário.\n",
      "\n",
      "**Roteiro de Viagem: Natal (01 a 02 de Janeiro de 2024)**\n",
      "\n",
      "**Dia 1 (Quarta-feira, 01 de Janeiro de 2024):**\n",
      "\n",
      "* **Manhã (8h-12h):**  Começaremos o dia visitando a Praia de Ponta Negra.  Apesar da previsão de chuva pela manhã, podemos aproveitar para admirar o Morro do Careca (de longe, evitando subir devido à proibição) e caminhar pela orla.  Caso a chuva esteja forte, podemos visitar o Aquário Natal na Praia da Redinha, que oferece abrigo e uma ótima opção de entretenimento.\n",
      "* **Tarde (13h-17h):**  Almoço em um restaurante regional em Ponta Negra, experimentando pratos típicos da culinária potiguar.  Após o almoço, vamos para a Praia do Meio, aproveitando o sol da tarde caso a previsão melhore.  Se a chuva persistir, podemos explorar o centro histórico de Natal, visitando a Igreja de Nossa Senhora dos Navegantes na Praia da Redinha.\n",
      "* **Noite (18h-22h):**  Jantar em um restaurante regional com vista para o mar em Ponta Negra. Após o jantar, podemos aproveitar a iluminação da Árvore de Natal de Ponta Negra (confira a programação de eventos para horários específicos).  Caso a chuva dificulte, podemos procurar um bar ou restaurante com música ao vivo na região.\n",
      "\n",
      "**Dia 2 (Quinta-feira, 02 de Janeiro de 2024):**\n",
      "\n",
      "* **Manhã (8h-12h):**  Visita ao Parque das Dunas.  Aproveite as trilhas e a vista panorâmica.  Caso chova, podemos optar por um museu ou centro cultural em Natal.\n",
      "* **Tarde (13h-17h):**  Almoço em um restaurante regional próximo ao Parque das Dunas ou no centro da cidade.  Após o almoço, visita à Praia da Redinha, para experimentar a ginga com tapioca no Mercado Público.  Se o tempo estiver chuvoso, podemos explorar lojas de artesanato local.\n",
      "* **Noite (18h-22h):**  Jantar em um restaurante mais econômico, considerando o orçamento.  Podemos procurar opções de comida regional mais acessíveis.  Após o jantar, retorno ao hotel ou acomodação.\n",
      "\n",
      "\n",
      "**Observações:**\n",
      "\n",
      "* Este roteiro é uma sugestão e pode ser adaptado de acordo com suas preferências e as condições climáticas.\n",
      "* Os valores dos restaurantes e atividades não estão incluídos no orçamento, por isso é importante pesquisar os preços com antecedência.\n",
      "* A previsão do tempo é apenas uma previsão e pode mudar.  É importante verificar a previsão atualizada antes de sair para as atividades.\n",
      "* A programação de eventos em Natal pode ser consultada em sites oficiais ou aplicativos de eventos.\n",
      "\n",
      "Gostaria de salvar esses eventos no seu Calendário Google?\n",
      "```\n",
      "\u001b[0m\n",
      "\n",
      "\u001b[1m> Finished chain.\u001b[0m\n",
      "Olá! Com base nas informações que você me forneceu, preparei um roteiro para sua viagem a Natal, de 01 a 02 de janeiro de 2024, focando em praias e restaurantes regionais, com um orçamento de R$400 e sem restrições alimentares.  Considerando a previsão do tempo, que indica possibilidade de chuva em alguns momentos, planejei atividades que podem ser adaptadas caso necessário.\n",
      "\n",
      "**Roteiro de Viagem: Natal (01 a 02 de Janeiro de 2024)**\n",
      "\n",
      "**Dia 1 (Quarta-feira, 01 de Janeiro de 2024):**\n",
      "\n",
      "* **Manhã (8h-12h):**  Começaremos o dia visitando a Praia de Ponta Negra.  Apesar da previsão de chuva pela manhã, podemos aproveitar para admirar o Morro do Careca (de longe, evitando subir devido à proibição) e caminhar pela orla.  Caso a chuva esteja forte, podemos visitar o Aquário Natal na Praia da Redinha, que oferece abrigo e uma ótima opção de entretenimento.\n",
      "* **Tarde (13h-17h):**  Almoço em um restaurante regional em Ponta Negra, experimentando pratos típicos da culinária potiguar.  Após o almoço, vamos para a Praia do Meio, aproveitando o sol da tarde caso a previsão melhore.  Se a chuva persistir, podemos explorar o centro histórico de Natal, visitando a Igreja de Nossa Senhora dos Navegantes na Praia da Redinha.\n",
      "* **Noite (18h-22h):**  Jantar em um restaurante regional com vista para o mar em Ponta Negra. Após o jantar, podemos aproveitar a iluminação da Árvore de Natal de Ponta Negra (confira a programação de eventos para horários específicos).  Caso a chuva dificulte, podemos procurar um bar ou restaurante com música ao vivo na região.\n",
      "\n",
      "**Dia 2 (Quinta-feira, 02 de Janeiro de 2024):**\n",
      "\n",
      "* **Manhã (8h-12h):**  Visita ao Parque das Dunas.  Aproveite as trilhas e a vista panorâmica.  Caso chova, podemos optar por um museu ou centro cultural em Natal.\n",
      "* **Tarde (13h-17h):**  Almoço em um restaurante regional próximo ao Parque das Dunas ou no centro da cidade.  Após o almoço, visita à Praia da Redinha, para experimentar a ginga com tapioca no Mercado Público.  Se o tempo estiver chuvoso, podemos explorar lojas de artesanato local.\n",
      "* **Noite (18h-22h):**  Jantar em um restaurante mais econômico, considerando o orçamento.  Podemos procurar opções de comida regional mais acessíveis.  Após o jantar, retorno ao hotel ou acomodação.\n",
      "\n",
      "\n",
      "**Observações:**\n",
      "\n",
      "* Este roteiro é uma sugestão e pode ser adaptado de acordo com suas preferências e as condições climáticas.\n",
      "* Os valores dos restaurantes e atividades não estão incluídos no orçamento, por isso é importante pesquisar os preços com antecedência.\n",
      "* A previsão do tempo é apenas uma previsão e pode mudar.  É importante verificar a previsão atualizada antes de sair para as atividades.\n",
      "* A programação de eventos em Natal pode ser consultada em sites oficiais ou aplicativos de eventos.\n",
      "\n",
      "Gostaria de salvar esses eventos no seu Calendário Google?\n",
      "```\n"
     ]
    }
   ],
   "source": [
    "response = travel_agent_executor.invoke({\"input\": 'Não possuo nenhuma restrição alimentar.'})\n",
    "\n",
    "print(response[\"output\"])"
   ]
  },
  {
   "cell_type": "code",
   "execution_count": 20,
   "metadata": {},
   "outputs": [
    {
     "name": "stdout",
     "output_type": "stream",
     "text": [
      "\n",
      "\n",
      "\u001b[1m> Entering new AgentExecutor chain...\u001b[0m\n"
     ]
    },
    {
     "name": "stderr",
     "output_type": "stream",
     "text": [
      "c:\\Users\\Tales\\Python\\AgenteTuristico\\.venv\\lib\\site-packages\\langchain_google_genai\\chat_models.py:310: UserWarning: Convert_system_message_to_human will be deprecated!\n",
      "  warnings.warn(\"Convert_system_message_to_human will be deprecated!\")\n"
     ]
    },
    {
     "name": "stdout",
     "output_type": "stream",
     "text": [
      "\u001b[32;1m\u001b[1;3m```tool_code\n",
      "Thought: Do I need to use a tool? Yes\n",
      "Action: Calendar Agent\n",
      "Action Input: Adicionar os seguintes eventos ao meu Calendário Google:\n",
      "\n",
      "**Dia 1 (Quarta-feira, 01 de Janeiro de 2024):**\n",
      "\n",
      "* **Manhã (8h-12h):** Praia de Ponta Negra (alternativa: Aquário Natal na Praia da Redinha caso chova).\n",
      "* **Tarde (13h-17h):** Almoço em restaurante regional em Ponta Negra (a definir) + Praia do Meio (alternativa: Centro Histórico de Natal e Igreja de Nossa Senhora dos Navegantes caso chova).\n",
      "* **Noite (18h-22h):** Jantar em restaurante regional com vista para o mar em Ponta Negra (a definir) + Árvore de Natal de Ponta Negra (confira programação) (alternativa: bar/restaurante com música ao vivo caso chova).\n",
      "\n",
      "**Dia 2 (Quinta-feira, 02 de Janeiro de 2024):**\n",
      "\n",
      "* **Manhã (8h-12h):** Parque das Dunas (alternativa: museu/centro cultural em Natal caso chova).\n",
      "* **Tarde (13h-17h):** Almoço em restaurante regional (a definir) + Praia da Redinha e Mercado Público (alternativa: lojas de artesanato local caso chova).\n",
      "* **Noite (18h-22h):** Jantar em restaurante econômico (a definir) + retorno ao hotel.\n",
      "\n",
      "\n",
      "Observações:  Os nomes dos restaurantes precisam ser definidos posteriormente.  A programação da Árvore de Natal de Ponta Negra deve ser verificada.  As alternativas para chuva devem ser consideradas caso necessário.\n",
      "\n",
      "```\n",
      "\u001b[0m\n",
      "\n",
      "\u001b[1m> Entering new AgentExecutor chain...\u001b[0m\n"
     ]
    },
    {
     "name": "stderr",
     "output_type": "stream",
     "text": [
      "c:\\Users\\Tales\\Python\\AgenteTuristico\\.venv\\lib\\site-packages\\langchain_google_genai\\chat_models.py:310: UserWarning: Convert_system_message_to_human will be deprecated!\n",
      "  warnings.warn(\"Convert_system_message_to_human will be deprecated!\")\n"
     ]
    },
    {
     "name": "stdout",
     "output_type": "stream",
     "text": [
      "\u001b[32;1m\u001b[1;3m```tool_code\n",
      "Thought: Do I need to use a tool? Yes\n",
      "Action: Insert Calendar Event\n",
      "Action Input: [\n",
      "    {\n",
      "        \"calendar_id\": \"primary\",\n",
      "        \"summary\": \"Praia de Ponta Negra (ou Aquário Natal se chover)\",\n",
      "        \"location\": \"Ponta Negra, Natal/RN\",\n",
      "        \"description\": \"Visita à Praia de Ponta Negra. Alternativa: Aquário Natal na Praia da Redinha caso chova.\",\n",
      "        \"start\": {\n",
      "            \"dateTime\": \"2024-01-01T08:00:00\",\n",
      "            \"timeZone\": \"America/Fortaleza\"\n",
      "        },\n",
      "        \"end\": {\n",
      "            \"dateTime\": \"2024-01-01T12:00:00\",\n",
      "            \"timeZone\": \"America/Fortaleza\"\n",
      "        },\n",
      "        \"attendees\": []\n",
      "    },\n",
      "    {\n",
      "        \"calendar_id\": \"primary\",\n",
      "        \"summary\": \"Almoço em restaurante regional em Ponta Negra + Praia do Meio (ou Centro Histórico se chover)\",\n",
      "        \"location\": \"Ponta Negra, Natal/RN\",\n",
      "        \"description\": \"Almoço em restaurante regional em Ponta Negra (a definir). À tarde, Praia do Meio. Alternativa: Centro Histórico de Natal e Igreja de Nossa Senhora dos Navegantes caso chova.\",\n",
      "        \"start\": {\n",
      "            \"dateTime\": \"2024-01-01T13:00:00\",\n",
      "            \"timeZone\": \"America/Fortaleza\"\n",
      "        },\n",
      "        \"end\": {\n",
      "            \"dateTime\": \"2024-01-01T17:00:00\",\n",
      "            \"timeZone\": \"America/Fortaleza\"\n",
      "        },\n",
      "        \"attendees\": []\n",
      "    },\n",
      "    {\n",
      "        \"calendar_id\": \"primary\",\n",
      "        \"summary\": \"Jantar em restaurante regional em Ponta Negra + Árvore de Natal (ou bar/música ao vivo se chover)\",\n",
      "        \"location\": \"Ponta Negra, Natal/RN\",\n",
      "        \"description\": \"Jantar em restaurante regional com vista para o mar em Ponta Negra (a definir).  Após, Árvore de Natal de Ponta Negra (verificar programação). Alternativa: bar/restaurante com música ao vivo caso chova.\",\n",
      "        \"start\": {\n",
      "            \"dateTime\": \"2024-01-01T18:00:00\",\n",
      "            \"timeZone\": \"America/Fortaleza\"\n",
      "        },\n",
      "        \"end\": {\n",
      "            \"dateTime\": \"2024-01-01T22:00:00\",\n",
      "            \"timeZone\": \"America/Fortaleza\"\n",
      "        },\n",
      "        \"attendees\": []\n",
      "    },\n",
      "    {\n",
      "        \"calendar_id\": \"primary\",\n",
      "        \"summary\": \"Parque das Dunas (ou museu/centro cultural se chover)\",\n",
      "        \"location\": \"Parque das Dunas, Natal/RN\",\n",
      "        \"description\": \"Visita ao Parque das Dunas. Alternativa: museu ou centro cultural em Natal caso chova.\",\n",
      "        \"start\": {\n",
      "            \"dateTime\": \"2024-01-02T08:00:00\",\n",
      "            \"timeZone\": \"America/Fortaleza\"\n",
      "        },\n",
      "        \"end\": {\n",
      "            \"dateTime\": \"2024-01-02T12:00:00\",\n",
      "            \"timeZone\": \"America/Fortaleza\"\n",
      "        },\n",
      "        \"attendees\": []\n",
      "    },\n",
      "    {\n",
      "        \"calendar_id\": \"primary\",\n",
      "        \"summary\": \"Almoço em restaurante regional + Praia da Redinha e Mercado Público (ou artesanato se chover)\",\n",
      "        \"location\": \"Natal/RN\",\n",
      "        \"description\": \"Almoço em restaurante regional (a definir). À tarde, Praia da Redinha e Mercado Público. Alternativa: lojas de artesanato local caso chova.\",\n",
      "        \"start\": {\n",
      "            \"dateTime\": \"2024-01-02T13:00:00\",\n",
      "            \"timeZone\": \"America/Fortaleza\"\n",
      "        },\n",
      "        \"end\": {\n",
      "            \"dateTime\": \"2024-01-02T17:00:00\",\n",
      "            \"timeZone\": \"America/Fortaleza\"\n",
      "        },\n",
      "        \"attendees\": []\n",
      "    },\n",
      "    {\n",
      "        \"calendar_id\": \"primary\",\n",
      "        \"\u001b[0m\u001b[36;1m\u001b[1;3mOcorreu um erro geral: name 'ast' is not defined\u001b[0m"
     ]
    },
    {
     "name": "stderr",
     "output_type": "stream",
     "text": [
      "c:\\Users\\Tales\\Python\\AgenteTuristico\\.venv\\lib\\site-packages\\langchain_google_genai\\chat_models.py:310: UserWarning: Convert_system_message_to_human will be deprecated!\n",
      "  warnings.warn(\"Convert_system_message_to_human will be deprecated!\")\n"
     ]
    },
    {
     "name": "stdout",
     "output_type": "stream",
     "text": [
      "\u001b[32;1m\u001b[1;3m```tool_code\n",
      "Thought: Do I need to use a tool? Yes\n",
      "Action: Insert Calendar Event\n",
      "Action Input: [\n",
      "    {\n",
      "        \"calendar_id\": \"primary\",\n",
      "        \"summary\": \"Praia de Ponta Negra (ou Aquário Natal se chover)\",\n",
      "        \"location\": \"Ponta Negra, Natal/RN\",\n",
      "        \"description\": \"Visita à Praia de Ponta Negra. Alternativa: Aquário Natal na Praia da Redinha caso chova.\",\n",
      "        \"start\": {\n",
      "            \"dateTime\": \"2024-01-01T08:00:00\",\n",
      "            \"timeZone\": \"America/Fortaleza\"\n",
      "        },\n",
      "        \"end\": {\n",
      "            \"dateTime\": \"2024-01-01T12:00:00\",\n",
      "            \"timeZone\": \"America/Fortaleza\"\n",
      "        },\n",
      "        \"attendees\": []\n",
      "    },\n",
      "    {\n",
      "        \"calendar_id\": \"primary\",\n",
      "        \"summary\": \"Almoço em restaurante regional em Ponta Negra + Praia do Meio (ou Centro Histórico se chover)\",\n",
      "        \"location\": \"Ponta Negra, Natal/RN\",\n",
      "        \"description\": \"Almoço em restaurante regional em Ponta Negra (a definir). À tarde, Praia do Meio. Alternativa: Centro Histórico de Natal e Igreja de Nossa Senhora dos Navegantes caso chova.\",\n",
      "        \"start\": {\n",
      "            \"dateTime\": \"2024-01-01T13:00:00\",\n",
      "            \"timeZone\": \"America/Fortaleza\"\n",
      "        },\n",
      "        \"end\": {\n",
      "            \"dateTime\": \"2024-01-01T17:00:00\",\n",
      "            \"timeZone\": \"America/Fortaleza\"\n",
      "        },\n",
      "        \"attendees\": []\n",
      "    },\n",
      "    {\n",
      "        \"calendar_id\": \"primary\",\n",
      "        \"summary\": \"Jantar em restaurante regional em Ponta Negra + Árvore de Natal (ou bar/música ao vivo se chover)\",\n",
      "        \"location\": \"Ponta Negra, Natal/RN\",\n",
      "        \"description\": \"Jantar em restaurante regional com vista para o mar em Ponta Negra (a definir).  Após, Árvore de Natal de Ponta Negra (verificar programação). Alternativa: bar/restaurante com música ao vivo caso chova.\",\n",
      "        \"start\": {\n",
      "            \"dateTime\": \"2024-01-01T18:00:00\",\n",
      "            \"timeZone\": \"America/Fortaleza\"\n",
      "        },\n",
      "        \"end\": {\n",
      "            \"dateTime\": \"2024-01-01T22:00:00\",\n",
      "            \"timeZone\": \"America/Fortaleza\"\n",
      "        },\n",
      "        \"attendees\": []\n",
      "    },\n",
      "    {\n",
      "        \"calendar_id\": \"primary\",\n",
      "        \"summary\": \"Parque das Dunas (ou museu/centro cultural se chover)\",\n",
      "        \"location\": \"Parque das Dunas, Natal/RN\",\n",
      "        \"description\": \"Visita ao Parque das Dunas. Alternativa: museu ou centro cultural em Natal caso chova.\",\n",
      "        \"start\": {\n",
      "            \"dateTime\": \"2024-01-02T08:00:00\",\n",
      "            \"timeZone\": \"America/Fortaleza\"\n",
      "        },\n",
      "        \"end\": {\n",
      "            \"dateTime\": \"2024-01-02T12:00:00\",\n",
      "            \"timeZone\": \"America/Fortaleza\"\n",
      "        },\n",
      "        \"attendees\": []\n",
      "    },\n",
      "    {\n",
      "        \"calendar_id\": \"primary\",\n",
      "        \"summary\": \"Almoço em restaurante regional + Praia da Redinha e Mercado Público (ou artesanato se chover)\",\n",
      "        \"location\": \"Natal/RN\",\n",
      "        \"description\": \"Almoço em restaurante regional (a definir). À tarde, Praia da Redinha e Mercado Público. Alternativa: lojas de artesanato local caso chova.\",\n",
      "        \"start\": {\n",
      "            \"dateTime\": \"2024-01-02T13:00:00\",\n",
      "            \"timeZone\": \"America/Fortaleza\"\n",
      "        },\n",
      "        \"end\": {\n",
      "            \"dateTime\": \"2024-01-02T17:00:00\",\n",
      "            \"timeZone\": \"America/Fortaleza\"\n",
      "        },\n",
      "        \"attendees\": []\n",
      "    },\n",
      "    {\n",
      "        \"calendar_id\": \"primary\",\n",
      "        \"\u001b[0m\u001b[36;1m\u001b[1;3mOcorreu um erro geral: name 'ast' is not defined\u001b[0m"
     ]
    },
    {
     "name": "stderr",
     "output_type": "stream",
     "text": [
      "c:\\Users\\Tales\\Python\\AgenteTuristico\\.venv\\lib\\site-packages\\langchain_google_genai\\chat_models.py:310: UserWarning: Convert_system_message_to_human will be deprecated!\n",
      "  warnings.warn(\"Convert_system_message_to_human will be deprecated!\")\n"
     ]
    },
    {
     "ename": "KeyboardInterrupt",
     "evalue": "",
     "output_type": "error",
     "traceback": [
      "\u001b[1;31m---------------------------------------------------------------------------\u001b[0m",
      "\u001b[1;31mKeyboardInterrupt\u001b[0m                         Traceback (most recent call last)",
      "Cell \u001b[1;32mIn[20], line 1\u001b[0m\n\u001b[1;32m----> 1\u001b[0m response \u001b[38;5;241m=\u001b[39m \u001b[43mtravel_agent_executor\u001b[49m\u001b[38;5;241;43m.\u001b[39;49m\u001b[43minvoke\u001b[49m\u001b[43m(\u001b[49m\u001b[43m{\u001b[49m\u001b[38;5;124;43m\"\u001b[39;49m\u001b[38;5;124;43minput\u001b[39;49m\u001b[38;5;124;43m\"\u001b[39;49m\u001b[43m:\u001b[49m\u001b[43m \u001b[49m\u001b[38;5;124;43m'\u001b[39;49m\u001b[38;5;124;43mEu quero que você salve os eventos sugeridos no meu calendário google\u001b[39;49m\u001b[38;5;124;43m'\u001b[39;49m\u001b[43m}\u001b[49m\u001b[43m)\u001b[49m\n\u001b[0;32m      3\u001b[0m \u001b[38;5;28mprint\u001b[39m(response[\u001b[38;5;124m\"\u001b[39m\u001b[38;5;124moutput\u001b[39m\u001b[38;5;124m\"\u001b[39m])\n",
      "File \u001b[1;32mc:\\Users\\Tales\\Python\\AgenteTuristico\\.venv\\lib\\site-packages\\langchain\\chains\\base.py:170\u001b[0m, in \u001b[0;36mChain.invoke\u001b[1;34m(self, input, config, **kwargs)\u001b[0m\n\u001b[0;32m    168\u001b[0m \u001b[38;5;28;01mexcept\u001b[39;00m \u001b[38;5;167;01mBaseException\u001b[39;00m \u001b[38;5;28;01mas\u001b[39;00m e:\n\u001b[0;32m    169\u001b[0m     run_manager\u001b[38;5;241m.\u001b[39mon_chain_error(e)\n\u001b[1;32m--> 170\u001b[0m     \u001b[38;5;28;01mraise\u001b[39;00m e\n\u001b[0;32m    171\u001b[0m run_manager\u001b[38;5;241m.\u001b[39mon_chain_end(outputs)\n\u001b[0;32m    173\u001b[0m \u001b[38;5;28;01mif\u001b[39;00m include_run_info:\n",
      "File \u001b[1;32mc:\\Users\\Tales\\Python\\AgenteTuristico\\.venv\\lib\\site-packages\\langchain\\chains\\base.py:160\u001b[0m, in \u001b[0;36mChain.invoke\u001b[1;34m(self, input, config, **kwargs)\u001b[0m\n\u001b[0;32m    157\u001b[0m \u001b[38;5;28;01mtry\u001b[39;00m:\n\u001b[0;32m    158\u001b[0m     \u001b[38;5;28mself\u001b[39m\u001b[38;5;241m.\u001b[39m_validate_inputs(inputs)\n\u001b[0;32m    159\u001b[0m     outputs \u001b[38;5;241m=\u001b[39m (\n\u001b[1;32m--> 160\u001b[0m         \u001b[38;5;28;43mself\u001b[39;49m\u001b[38;5;241;43m.\u001b[39;49m\u001b[43m_call\u001b[49m\u001b[43m(\u001b[49m\u001b[43minputs\u001b[49m\u001b[43m,\u001b[49m\u001b[43m \u001b[49m\u001b[43mrun_manager\u001b[49m\u001b[38;5;241;43m=\u001b[39;49m\u001b[43mrun_manager\u001b[49m\u001b[43m)\u001b[49m\n\u001b[0;32m    161\u001b[0m         \u001b[38;5;28;01mif\u001b[39;00m new_arg_supported\n\u001b[0;32m    162\u001b[0m         \u001b[38;5;28;01melse\u001b[39;00m \u001b[38;5;28mself\u001b[39m\u001b[38;5;241m.\u001b[39m_call(inputs)\n\u001b[0;32m    163\u001b[0m     )\n\u001b[0;32m    165\u001b[0m     final_outputs: Dict[\u001b[38;5;28mstr\u001b[39m, Any] \u001b[38;5;241m=\u001b[39m \u001b[38;5;28mself\u001b[39m\u001b[38;5;241m.\u001b[39mprep_outputs(\n\u001b[0;32m    166\u001b[0m         inputs, outputs, return_only_outputs\n\u001b[0;32m    167\u001b[0m     )\n\u001b[0;32m    168\u001b[0m \u001b[38;5;28;01mexcept\u001b[39;00m \u001b[38;5;167;01mBaseException\u001b[39;00m \u001b[38;5;28;01mas\u001b[39;00m e:\n",
      "File \u001b[1;32mc:\\Users\\Tales\\Python\\AgenteTuristico\\.venv\\lib\\site-packages\\langchain\\agents\\agent.py:1624\u001b[0m, in \u001b[0;36mAgentExecutor._call\u001b[1;34m(self, inputs, run_manager)\u001b[0m\n\u001b[0;32m   1622\u001b[0m \u001b[38;5;66;03m# We now enter the agent loop (until it returns something).\u001b[39;00m\n\u001b[0;32m   1623\u001b[0m \u001b[38;5;28;01mwhile\u001b[39;00m \u001b[38;5;28mself\u001b[39m\u001b[38;5;241m.\u001b[39m_should_continue(iterations, time_elapsed):\n\u001b[1;32m-> 1624\u001b[0m     next_step_output \u001b[38;5;241m=\u001b[39m \u001b[38;5;28;43mself\u001b[39;49m\u001b[38;5;241;43m.\u001b[39;49m\u001b[43m_take_next_step\u001b[49m\u001b[43m(\u001b[49m\n\u001b[0;32m   1625\u001b[0m \u001b[43m        \u001b[49m\u001b[43mname_to_tool_map\u001b[49m\u001b[43m,\u001b[49m\n\u001b[0;32m   1626\u001b[0m \u001b[43m        \u001b[49m\u001b[43mcolor_mapping\u001b[49m\u001b[43m,\u001b[49m\n\u001b[0;32m   1627\u001b[0m \u001b[43m        \u001b[49m\u001b[43minputs\u001b[49m\u001b[43m,\u001b[49m\n\u001b[0;32m   1628\u001b[0m \u001b[43m        \u001b[49m\u001b[43mintermediate_steps\u001b[49m\u001b[43m,\u001b[49m\n\u001b[0;32m   1629\u001b[0m \u001b[43m        \u001b[49m\u001b[43mrun_manager\u001b[49m\u001b[38;5;241;43m=\u001b[39;49m\u001b[43mrun_manager\u001b[49m\u001b[43m,\u001b[49m\n\u001b[0;32m   1630\u001b[0m \u001b[43m    \u001b[49m\u001b[43m)\u001b[49m\n\u001b[0;32m   1631\u001b[0m     \u001b[38;5;28;01mif\u001b[39;00m \u001b[38;5;28misinstance\u001b[39m(next_step_output, AgentFinish):\n\u001b[0;32m   1632\u001b[0m         \u001b[38;5;28;01mreturn\u001b[39;00m \u001b[38;5;28mself\u001b[39m\u001b[38;5;241m.\u001b[39m_return(\n\u001b[0;32m   1633\u001b[0m             next_step_output, intermediate_steps, run_manager\u001b[38;5;241m=\u001b[39mrun_manager\n\u001b[0;32m   1634\u001b[0m         )\n",
      "File \u001b[1;32mc:\\Users\\Tales\\Python\\AgenteTuristico\\.venv\\lib\\site-packages\\langchain\\agents\\agent.py:1330\u001b[0m, in \u001b[0;36mAgentExecutor._take_next_step\u001b[1;34m(self, name_to_tool_map, color_mapping, inputs, intermediate_steps, run_manager)\u001b[0m\n\u001b[0;32m   1321\u001b[0m \u001b[38;5;28;01mdef\u001b[39;00m \u001b[38;5;21m_take_next_step\u001b[39m(\n\u001b[0;32m   1322\u001b[0m     \u001b[38;5;28mself\u001b[39m,\n\u001b[0;32m   1323\u001b[0m     name_to_tool_map: Dict[\u001b[38;5;28mstr\u001b[39m, BaseTool],\n\u001b[1;32m   (...)\u001b[0m\n\u001b[0;32m   1327\u001b[0m     run_manager: Optional[CallbackManagerForChainRun] \u001b[38;5;241m=\u001b[39m \u001b[38;5;28;01mNone\u001b[39;00m,\n\u001b[0;32m   1328\u001b[0m ) \u001b[38;5;241m-\u001b[39m\u001b[38;5;241m>\u001b[39m Union[AgentFinish, List[Tuple[AgentAction, \u001b[38;5;28mstr\u001b[39m]]]:\n\u001b[0;32m   1329\u001b[0m     \u001b[38;5;28;01mreturn\u001b[39;00m \u001b[38;5;28mself\u001b[39m\u001b[38;5;241m.\u001b[39m_consume_next_step(\n\u001b[1;32m-> 1330\u001b[0m         [\n\u001b[0;32m   1331\u001b[0m             a\n\u001b[0;32m   1332\u001b[0m             \u001b[38;5;28;01mfor\u001b[39;00m a \u001b[38;5;129;01min\u001b[39;00m \u001b[38;5;28mself\u001b[39m\u001b[38;5;241m.\u001b[39m_iter_next_step(\n\u001b[0;32m   1333\u001b[0m                 name_to_tool_map,\n\u001b[0;32m   1334\u001b[0m                 color_mapping,\n\u001b[0;32m   1335\u001b[0m                 inputs,\n\u001b[0;32m   1336\u001b[0m                 intermediate_steps,\n\u001b[0;32m   1337\u001b[0m                 run_manager,\n\u001b[0;32m   1338\u001b[0m             )\n\u001b[0;32m   1339\u001b[0m         ]\n\u001b[0;32m   1340\u001b[0m     )\n",
      "File \u001b[1;32mc:\\Users\\Tales\\Python\\AgenteTuristico\\.venv\\lib\\site-packages\\langchain\\agents\\agent.py:1330\u001b[0m, in \u001b[0;36m<listcomp>\u001b[1;34m(.0)\u001b[0m\n\u001b[0;32m   1321\u001b[0m \u001b[38;5;28;01mdef\u001b[39;00m \u001b[38;5;21m_take_next_step\u001b[39m(\n\u001b[0;32m   1322\u001b[0m     \u001b[38;5;28mself\u001b[39m,\n\u001b[0;32m   1323\u001b[0m     name_to_tool_map: Dict[\u001b[38;5;28mstr\u001b[39m, BaseTool],\n\u001b[1;32m   (...)\u001b[0m\n\u001b[0;32m   1327\u001b[0m     run_manager: Optional[CallbackManagerForChainRun] \u001b[38;5;241m=\u001b[39m \u001b[38;5;28;01mNone\u001b[39;00m,\n\u001b[0;32m   1328\u001b[0m ) \u001b[38;5;241m-\u001b[39m\u001b[38;5;241m>\u001b[39m Union[AgentFinish, List[Tuple[AgentAction, \u001b[38;5;28mstr\u001b[39m]]]:\n\u001b[0;32m   1329\u001b[0m     \u001b[38;5;28;01mreturn\u001b[39;00m \u001b[38;5;28mself\u001b[39m\u001b[38;5;241m.\u001b[39m_consume_next_step(\n\u001b[1;32m-> 1330\u001b[0m         [\n\u001b[0;32m   1331\u001b[0m             a\n\u001b[0;32m   1332\u001b[0m             \u001b[38;5;28;01mfor\u001b[39;00m a \u001b[38;5;129;01min\u001b[39;00m \u001b[38;5;28mself\u001b[39m\u001b[38;5;241m.\u001b[39m_iter_next_step(\n\u001b[0;32m   1333\u001b[0m                 name_to_tool_map,\n\u001b[0;32m   1334\u001b[0m                 color_mapping,\n\u001b[0;32m   1335\u001b[0m                 inputs,\n\u001b[0;32m   1336\u001b[0m                 intermediate_steps,\n\u001b[0;32m   1337\u001b[0m                 run_manager,\n\u001b[0;32m   1338\u001b[0m             )\n\u001b[0;32m   1339\u001b[0m         ]\n\u001b[0;32m   1340\u001b[0m     )\n",
      "File \u001b[1;32mc:\\Users\\Tales\\Python\\AgenteTuristico\\.venv\\lib\\site-packages\\langchain\\agents\\agent.py:1415\u001b[0m, in \u001b[0;36mAgentExecutor._iter_next_step\u001b[1;34m(self, name_to_tool_map, color_mapping, inputs, intermediate_steps, run_manager)\u001b[0m\n\u001b[0;32m   1413\u001b[0m     \u001b[38;5;28;01myield\u001b[39;00m agent_action\n\u001b[0;32m   1414\u001b[0m \u001b[38;5;28;01mfor\u001b[39;00m agent_action \u001b[38;5;129;01min\u001b[39;00m actions:\n\u001b[1;32m-> 1415\u001b[0m     \u001b[38;5;28;01myield\u001b[39;00m \u001b[38;5;28;43mself\u001b[39;49m\u001b[38;5;241;43m.\u001b[39;49m\u001b[43m_perform_agent_action\u001b[49m\u001b[43m(\u001b[49m\n\u001b[0;32m   1416\u001b[0m \u001b[43m        \u001b[49m\u001b[43mname_to_tool_map\u001b[49m\u001b[43m,\u001b[49m\u001b[43m \u001b[49m\u001b[43mcolor_mapping\u001b[49m\u001b[43m,\u001b[49m\u001b[43m \u001b[49m\u001b[43magent_action\u001b[49m\u001b[43m,\u001b[49m\u001b[43m \u001b[49m\u001b[43mrun_manager\u001b[49m\n\u001b[0;32m   1417\u001b[0m \u001b[43m    \u001b[49m\u001b[43m)\u001b[49m\n",
      "File \u001b[1;32mc:\\Users\\Tales\\Python\\AgenteTuristico\\.venv\\lib\\site-packages\\langchain\\agents\\agent.py:1437\u001b[0m, in \u001b[0;36mAgentExecutor._perform_agent_action\u001b[1;34m(self, name_to_tool_map, color_mapping, agent_action, run_manager)\u001b[0m\n\u001b[0;32m   1435\u001b[0m         tool_run_kwargs[\u001b[38;5;124m\"\u001b[39m\u001b[38;5;124mllm_prefix\u001b[39m\u001b[38;5;124m\"\u001b[39m] \u001b[38;5;241m=\u001b[39m \u001b[38;5;124m\"\u001b[39m\u001b[38;5;124m\"\u001b[39m\n\u001b[0;32m   1436\u001b[0m     \u001b[38;5;66;03m# We then call the tool on the tool input to get an observation\u001b[39;00m\n\u001b[1;32m-> 1437\u001b[0m     observation \u001b[38;5;241m=\u001b[39m tool\u001b[38;5;241m.\u001b[39mrun(\n\u001b[0;32m   1438\u001b[0m         agent_action\u001b[38;5;241m.\u001b[39mtool_input,\n\u001b[0;32m   1439\u001b[0m         verbose\u001b[38;5;241m=\u001b[39m\u001b[38;5;28mself\u001b[39m\u001b[38;5;241m.\u001b[39mverbose,\n\u001b[0;32m   1440\u001b[0m         color\u001b[38;5;241m=\u001b[39mcolor,\n\u001b[0;32m   1441\u001b[0m         callbacks\u001b[38;5;241m=\u001b[39mrun_manager\u001b[38;5;241m.\u001b[39mget_child() \u001b[38;5;28;01mif\u001b[39;00m run_manager \u001b[38;5;28;01melse\u001b[39;00m \u001b[38;5;28;01mNone\u001b[39;00m,\n\u001b[0;32m   1442\u001b[0m         \u001b[38;5;241m*\u001b[39m\u001b[38;5;241m*\u001b[39mtool_run_kwargs,\n\u001b[0;32m   1443\u001b[0m     )\n\u001b[0;32m   1444\u001b[0m \u001b[38;5;28;01melse\u001b[39;00m:\n\u001b[0;32m   1445\u001b[0m     tool_run_kwargs \u001b[38;5;241m=\u001b[39m \u001b[38;5;28mself\u001b[39m\u001b[38;5;241m.\u001b[39m_action_agent\u001b[38;5;241m.\u001b[39mtool_run_logging_kwargs()\n",
      "File \u001b[1;32mc:\\Users\\Tales\\Python\\AgenteTuristico\\.venv\\lib\\site-packages\\langchain_core\\tools\\base.py:725\u001b[0m, in \u001b[0;36mBaseTool.run\u001b[1;34m(self, tool_input, verbose, start_color, color, callbacks, tags, metadata, run_name, run_id, config, tool_call_id, **kwargs)\u001b[0m\n\u001b[0;32m    723\u001b[0m \u001b[38;5;28;01mif\u001b[39;00m error_to_raise:\n\u001b[0;32m    724\u001b[0m     run_manager\u001b[38;5;241m.\u001b[39mon_tool_error(error_to_raise)\n\u001b[1;32m--> 725\u001b[0m     \u001b[38;5;28;01mraise\u001b[39;00m error_to_raise\n\u001b[0;32m    726\u001b[0m output \u001b[38;5;241m=\u001b[39m _format_output(content, artifact, tool_call_id, \u001b[38;5;28mself\u001b[39m\u001b[38;5;241m.\u001b[39mname, status)\n\u001b[0;32m    727\u001b[0m run_manager\u001b[38;5;241m.\u001b[39mon_tool_end(output, color\u001b[38;5;241m=\u001b[39mcolor, name\u001b[38;5;241m=\u001b[39m\u001b[38;5;28mself\u001b[39m\u001b[38;5;241m.\u001b[39mname, \u001b[38;5;241m*\u001b[39m\u001b[38;5;241m*\u001b[39mkwargs)\n",
      "File \u001b[1;32mc:\\Users\\Tales\\Python\\AgenteTuristico\\.venv\\lib\\site-packages\\langchain_core\\tools\\base.py:693\u001b[0m, in \u001b[0;36mBaseTool.run\u001b[1;34m(self, tool_input, verbose, start_color, color, callbacks, tags, metadata, run_name, run_id, config, tool_call_id, **kwargs)\u001b[0m\n\u001b[0;32m    691\u001b[0m \u001b[38;5;28;01mif\u001b[39;00m config_param \u001b[38;5;241m:=\u001b[39m _get_runnable_config_param(\u001b[38;5;28mself\u001b[39m\u001b[38;5;241m.\u001b[39m_run):\n\u001b[0;32m    692\u001b[0m     tool_kwargs \u001b[38;5;241m=\u001b[39m tool_kwargs \u001b[38;5;241m|\u001b[39m {config_param: config}\n\u001b[1;32m--> 693\u001b[0m response \u001b[38;5;241m=\u001b[39m context\u001b[38;5;241m.\u001b[39mrun(\u001b[38;5;28mself\u001b[39m\u001b[38;5;241m.\u001b[39m_run, \u001b[38;5;241m*\u001b[39mtool_args, \u001b[38;5;241m*\u001b[39m\u001b[38;5;241m*\u001b[39mtool_kwargs)\n\u001b[0;32m    694\u001b[0m \u001b[38;5;28;01mif\u001b[39;00m \u001b[38;5;28mself\u001b[39m\u001b[38;5;241m.\u001b[39mresponse_format \u001b[38;5;241m==\u001b[39m \u001b[38;5;124m\"\u001b[39m\u001b[38;5;124mcontent_and_artifact\u001b[39m\u001b[38;5;124m\"\u001b[39m:\n\u001b[0;32m    695\u001b[0m     \u001b[38;5;28;01mif\u001b[39;00m \u001b[38;5;129;01mnot\u001b[39;00m \u001b[38;5;28misinstance\u001b[39m(response, \u001b[38;5;28mtuple\u001b[39m) \u001b[38;5;129;01mor\u001b[39;00m \u001b[38;5;28mlen\u001b[39m(response) \u001b[38;5;241m!=\u001b[39m \u001b[38;5;241m2\u001b[39m:\n",
      "File \u001b[1;32mc:\\Users\\Tales\\Python\\AgenteTuristico\\.venv\\lib\\site-packages\\langchain_core\\tools\\simple.py:94\u001b[0m, in \u001b[0;36mTool._run\u001b[1;34m(self, config, run_manager, *args, **kwargs)\u001b[0m\n\u001b[0;32m     92\u001b[0m     \u001b[38;5;28;01mif\u001b[39;00m config_param \u001b[38;5;241m:=\u001b[39m _get_runnable_config_param(\u001b[38;5;28mself\u001b[39m\u001b[38;5;241m.\u001b[39mfunc):\n\u001b[0;32m     93\u001b[0m         kwargs[config_param] \u001b[38;5;241m=\u001b[39m config\n\u001b[1;32m---> 94\u001b[0m     \u001b[38;5;28;01mreturn\u001b[39;00m \u001b[38;5;28mself\u001b[39m\u001b[38;5;241m.\u001b[39mfunc(\u001b[38;5;241m*\u001b[39margs, \u001b[38;5;241m*\u001b[39m\u001b[38;5;241m*\u001b[39mkwargs)\n\u001b[0;32m     95\u001b[0m msg \u001b[38;5;241m=\u001b[39m \u001b[38;5;124m\"\u001b[39m\u001b[38;5;124mTool does not support sync invocation.\u001b[39m\u001b[38;5;124m\"\u001b[39m\n\u001b[0;32m     96\u001b[0m \u001b[38;5;28;01mraise\u001b[39;00m \u001b[38;5;167;01mNotImplementedError\u001b[39;00m(msg)\n",
      "Cell \u001b[1;32mIn[5], line 2\u001b[0m, in \u001b[0;36mtransfer_to_calendar_agent\u001b[1;34m(input_str)\u001b[0m\n\u001b[0;32m      1\u001b[0m \u001b[38;5;28;01mdef\u001b[39;00m \u001b[38;5;21mtransfer_to_calendar_agent\u001b[39m(input_str):\n\u001b[1;32m----> 2\u001b[0m     \u001b[38;5;28;01mreturn\u001b[39;00m \u001b[43mcalendar_agent_executor\u001b[49m\u001b[38;5;241;43m.\u001b[39;49m\u001b[43minvoke\u001b[49m\u001b[43m(\u001b[49m\u001b[43m{\u001b[49m\u001b[38;5;124;43m\"\u001b[39;49m\u001b[38;5;124;43minput\u001b[39;49m\u001b[38;5;124;43m\"\u001b[39;49m\u001b[43m:\u001b[49m\u001b[43m \u001b[49m\u001b[43minput_str\u001b[49m\u001b[43m}\u001b[49m\u001b[43m)\u001b[49m\n",
      "File \u001b[1;32mc:\\Users\\Tales\\Python\\AgenteTuristico\\.venv\\lib\\site-packages\\langchain\\chains\\base.py:170\u001b[0m, in \u001b[0;36mChain.invoke\u001b[1;34m(self, input, config, **kwargs)\u001b[0m\n\u001b[0;32m    168\u001b[0m \u001b[38;5;28;01mexcept\u001b[39;00m \u001b[38;5;167;01mBaseException\u001b[39;00m \u001b[38;5;28;01mas\u001b[39;00m e:\n\u001b[0;32m    169\u001b[0m     run_manager\u001b[38;5;241m.\u001b[39mon_chain_error(e)\n\u001b[1;32m--> 170\u001b[0m     \u001b[38;5;28;01mraise\u001b[39;00m e\n\u001b[0;32m    171\u001b[0m run_manager\u001b[38;5;241m.\u001b[39mon_chain_end(outputs)\n\u001b[0;32m    173\u001b[0m \u001b[38;5;28;01mif\u001b[39;00m include_run_info:\n",
      "File \u001b[1;32mc:\\Users\\Tales\\Python\\AgenteTuristico\\.venv\\lib\\site-packages\\langchain\\chains\\base.py:160\u001b[0m, in \u001b[0;36mChain.invoke\u001b[1;34m(self, input, config, **kwargs)\u001b[0m\n\u001b[0;32m    157\u001b[0m \u001b[38;5;28;01mtry\u001b[39;00m:\n\u001b[0;32m    158\u001b[0m     \u001b[38;5;28mself\u001b[39m\u001b[38;5;241m.\u001b[39m_validate_inputs(inputs)\n\u001b[0;32m    159\u001b[0m     outputs \u001b[38;5;241m=\u001b[39m (\n\u001b[1;32m--> 160\u001b[0m         \u001b[38;5;28;43mself\u001b[39;49m\u001b[38;5;241;43m.\u001b[39;49m\u001b[43m_call\u001b[49m\u001b[43m(\u001b[49m\u001b[43minputs\u001b[49m\u001b[43m,\u001b[49m\u001b[43m \u001b[49m\u001b[43mrun_manager\u001b[49m\u001b[38;5;241;43m=\u001b[39;49m\u001b[43mrun_manager\u001b[49m\u001b[43m)\u001b[49m\n\u001b[0;32m    161\u001b[0m         \u001b[38;5;28;01mif\u001b[39;00m new_arg_supported\n\u001b[0;32m    162\u001b[0m         \u001b[38;5;28;01melse\u001b[39;00m \u001b[38;5;28mself\u001b[39m\u001b[38;5;241m.\u001b[39m_call(inputs)\n\u001b[0;32m    163\u001b[0m     )\n\u001b[0;32m    165\u001b[0m     final_outputs: Dict[\u001b[38;5;28mstr\u001b[39m, Any] \u001b[38;5;241m=\u001b[39m \u001b[38;5;28mself\u001b[39m\u001b[38;5;241m.\u001b[39mprep_outputs(\n\u001b[0;32m    166\u001b[0m         inputs, outputs, return_only_outputs\n\u001b[0;32m    167\u001b[0m     )\n\u001b[0;32m    168\u001b[0m \u001b[38;5;28;01mexcept\u001b[39;00m \u001b[38;5;167;01mBaseException\u001b[39;00m \u001b[38;5;28;01mas\u001b[39;00m e:\n",
      "File \u001b[1;32mc:\\Users\\Tales\\Python\\AgenteTuristico\\.venv\\lib\\site-packages\\langchain\\agents\\agent.py:1624\u001b[0m, in \u001b[0;36mAgentExecutor._call\u001b[1;34m(self, inputs, run_manager)\u001b[0m\n\u001b[0;32m   1622\u001b[0m \u001b[38;5;66;03m# We now enter the agent loop (until it returns something).\u001b[39;00m\n\u001b[0;32m   1623\u001b[0m \u001b[38;5;28;01mwhile\u001b[39;00m \u001b[38;5;28mself\u001b[39m\u001b[38;5;241m.\u001b[39m_should_continue(iterations, time_elapsed):\n\u001b[1;32m-> 1624\u001b[0m     next_step_output \u001b[38;5;241m=\u001b[39m \u001b[38;5;28;43mself\u001b[39;49m\u001b[38;5;241;43m.\u001b[39;49m\u001b[43m_take_next_step\u001b[49m\u001b[43m(\u001b[49m\n\u001b[0;32m   1625\u001b[0m \u001b[43m        \u001b[49m\u001b[43mname_to_tool_map\u001b[49m\u001b[43m,\u001b[49m\n\u001b[0;32m   1626\u001b[0m \u001b[43m        \u001b[49m\u001b[43mcolor_mapping\u001b[49m\u001b[43m,\u001b[49m\n\u001b[0;32m   1627\u001b[0m \u001b[43m        \u001b[49m\u001b[43minputs\u001b[49m\u001b[43m,\u001b[49m\n\u001b[0;32m   1628\u001b[0m \u001b[43m        \u001b[49m\u001b[43mintermediate_steps\u001b[49m\u001b[43m,\u001b[49m\n\u001b[0;32m   1629\u001b[0m \u001b[43m        \u001b[49m\u001b[43mrun_manager\u001b[49m\u001b[38;5;241;43m=\u001b[39;49m\u001b[43mrun_manager\u001b[49m\u001b[43m,\u001b[49m\n\u001b[0;32m   1630\u001b[0m \u001b[43m    \u001b[49m\u001b[43m)\u001b[49m\n\u001b[0;32m   1631\u001b[0m     \u001b[38;5;28;01mif\u001b[39;00m \u001b[38;5;28misinstance\u001b[39m(next_step_output, AgentFinish):\n\u001b[0;32m   1632\u001b[0m         \u001b[38;5;28;01mreturn\u001b[39;00m \u001b[38;5;28mself\u001b[39m\u001b[38;5;241m.\u001b[39m_return(\n\u001b[0;32m   1633\u001b[0m             next_step_output, intermediate_steps, run_manager\u001b[38;5;241m=\u001b[39mrun_manager\n\u001b[0;32m   1634\u001b[0m         )\n",
      "File \u001b[1;32mc:\\Users\\Tales\\Python\\AgenteTuristico\\.venv\\lib\\site-packages\\langchain\\agents\\agent.py:1330\u001b[0m, in \u001b[0;36mAgentExecutor._take_next_step\u001b[1;34m(self, name_to_tool_map, color_mapping, inputs, intermediate_steps, run_manager)\u001b[0m\n\u001b[0;32m   1321\u001b[0m \u001b[38;5;28;01mdef\u001b[39;00m \u001b[38;5;21m_take_next_step\u001b[39m(\n\u001b[0;32m   1322\u001b[0m     \u001b[38;5;28mself\u001b[39m,\n\u001b[0;32m   1323\u001b[0m     name_to_tool_map: Dict[\u001b[38;5;28mstr\u001b[39m, BaseTool],\n\u001b[1;32m   (...)\u001b[0m\n\u001b[0;32m   1327\u001b[0m     run_manager: Optional[CallbackManagerForChainRun] \u001b[38;5;241m=\u001b[39m \u001b[38;5;28;01mNone\u001b[39;00m,\n\u001b[0;32m   1328\u001b[0m ) \u001b[38;5;241m-\u001b[39m\u001b[38;5;241m>\u001b[39m Union[AgentFinish, List[Tuple[AgentAction, \u001b[38;5;28mstr\u001b[39m]]]:\n\u001b[0;32m   1329\u001b[0m     \u001b[38;5;28;01mreturn\u001b[39;00m \u001b[38;5;28mself\u001b[39m\u001b[38;5;241m.\u001b[39m_consume_next_step(\n\u001b[1;32m-> 1330\u001b[0m         [\n\u001b[0;32m   1331\u001b[0m             a\n\u001b[0;32m   1332\u001b[0m             \u001b[38;5;28;01mfor\u001b[39;00m a \u001b[38;5;129;01min\u001b[39;00m \u001b[38;5;28mself\u001b[39m\u001b[38;5;241m.\u001b[39m_iter_next_step(\n\u001b[0;32m   1333\u001b[0m                 name_to_tool_map,\n\u001b[0;32m   1334\u001b[0m                 color_mapping,\n\u001b[0;32m   1335\u001b[0m                 inputs,\n\u001b[0;32m   1336\u001b[0m                 intermediate_steps,\n\u001b[0;32m   1337\u001b[0m                 run_manager,\n\u001b[0;32m   1338\u001b[0m             )\n\u001b[0;32m   1339\u001b[0m         ]\n\u001b[0;32m   1340\u001b[0m     )\n",
      "File \u001b[1;32mc:\\Users\\Tales\\Python\\AgenteTuristico\\.venv\\lib\\site-packages\\langchain\\agents\\agent.py:1330\u001b[0m, in \u001b[0;36m<listcomp>\u001b[1;34m(.0)\u001b[0m\n\u001b[0;32m   1321\u001b[0m \u001b[38;5;28;01mdef\u001b[39;00m \u001b[38;5;21m_take_next_step\u001b[39m(\n\u001b[0;32m   1322\u001b[0m     \u001b[38;5;28mself\u001b[39m,\n\u001b[0;32m   1323\u001b[0m     name_to_tool_map: Dict[\u001b[38;5;28mstr\u001b[39m, BaseTool],\n\u001b[1;32m   (...)\u001b[0m\n\u001b[0;32m   1327\u001b[0m     run_manager: Optional[CallbackManagerForChainRun] \u001b[38;5;241m=\u001b[39m \u001b[38;5;28;01mNone\u001b[39;00m,\n\u001b[0;32m   1328\u001b[0m ) \u001b[38;5;241m-\u001b[39m\u001b[38;5;241m>\u001b[39m Union[AgentFinish, List[Tuple[AgentAction, \u001b[38;5;28mstr\u001b[39m]]]:\n\u001b[0;32m   1329\u001b[0m     \u001b[38;5;28;01mreturn\u001b[39;00m \u001b[38;5;28mself\u001b[39m\u001b[38;5;241m.\u001b[39m_consume_next_step(\n\u001b[1;32m-> 1330\u001b[0m         [\n\u001b[0;32m   1331\u001b[0m             a\n\u001b[0;32m   1332\u001b[0m             \u001b[38;5;28;01mfor\u001b[39;00m a \u001b[38;5;129;01min\u001b[39;00m \u001b[38;5;28mself\u001b[39m\u001b[38;5;241m.\u001b[39m_iter_next_step(\n\u001b[0;32m   1333\u001b[0m                 name_to_tool_map,\n\u001b[0;32m   1334\u001b[0m                 color_mapping,\n\u001b[0;32m   1335\u001b[0m                 inputs,\n\u001b[0;32m   1336\u001b[0m                 intermediate_steps,\n\u001b[0;32m   1337\u001b[0m                 run_manager,\n\u001b[0;32m   1338\u001b[0m             )\n\u001b[0;32m   1339\u001b[0m         ]\n\u001b[0;32m   1340\u001b[0m     )\n",
      "File \u001b[1;32mc:\\Users\\Tales\\Python\\AgenteTuristico\\.venv\\lib\\site-packages\\langchain\\agents\\agent.py:1358\u001b[0m, in \u001b[0;36mAgentExecutor._iter_next_step\u001b[1;34m(self, name_to_tool_map, color_mapping, inputs, intermediate_steps, run_manager)\u001b[0m\n\u001b[0;32m   1355\u001b[0m     intermediate_steps \u001b[38;5;241m=\u001b[39m \u001b[38;5;28mself\u001b[39m\u001b[38;5;241m.\u001b[39m_prepare_intermediate_steps(intermediate_steps)\n\u001b[0;32m   1357\u001b[0m     \u001b[38;5;66;03m# Call the LLM to see what to do.\u001b[39;00m\n\u001b[1;32m-> 1358\u001b[0m     output \u001b[38;5;241m=\u001b[39m \u001b[38;5;28mself\u001b[39m\u001b[38;5;241m.\u001b[39m_action_agent\u001b[38;5;241m.\u001b[39mplan(\n\u001b[0;32m   1359\u001b[0m         intermediate_steps,\n\u001b[0;32m   1360\u001b[0m         callbacks\u001b[38;5;241m=\u001b[39mrun_manager\u001b[38;5;241m.\u001b[39mget_child() \u001b[38;5;28;01mif\u001b[39;00m run_manager \u001b[38;5;28;01melse\u001b[39;00m \u001b[38;5;28;01mNone\u001b[39;00m,\n\u001b[0;32m   1361\u001b[0m         \u001b[38;5;241m*\u001b[39m\u001b[38;5;241m*\u001b[39minputs,\n\u001b[0;32m   1362\u001b[0m     )\n\u001b[0;32m   1363\u001b[0m \u001b[38;5;28;01mexcept\u001b[39;00m OutputParserException \u001b[38;5;28;01mas\u001b[39;00m e:\n\u001b[0;32m   1364\u001b[0m     \u001b[38;5;28;01mif\u001b[39;00m \u001b[38;5;28misinstance\u001b[39m(\u001b[38;5;28mself\u001b[39m\u001b[38;5;241m.\u001b[39mhandle_parsing_errors, \u001b[38;5;28mbool\u001b[39m):\n",
      "File \u001b[1;32mc:\\Users\\Tales\\Python\\AgenteTuristico\\.venv\\lib\\site-packages\\langchain\\agents\\agent.py:465\u001b[0m, in \u001b[0;36mRunnableAgent.plan\u001b[1;34m(self, intermediate_steps, callbacks, **kwargs)\u001b[0m\n\u001b[0;32m    457\u001b[0m final_output: Any \u001b[38;5;241m=\u001b[39m \u001b[38;5;28;01mNone\u001b[39;00m\n\u001b[0;32m    458\u001b[0m \u001b[38;5;28;01mif\u001b[39;00m \u001b[38;5;28mself\u001b[39m\u001b[38;5;241m.\u001b[39mstream_runnable:\n\u001b[0;32m    459\u001b[0m     \u001b[38;5;66;03m# Use streaming to make sure that the underlying LLM is invoked in a\u001b[39;00m\n\u001b[0;32m    460\u001b[0m     \u001b[38;5;66;03m# streaming\u001b[39;00m\n\u001b[1;32m   (...)\u001b[0m\n\u001b[0;32m    463\u001b[0m     \u001b[38;5;66;03m# Because the response from the plan is not a generator, we need to\u001b[39;00m\n\u001b[0;32m    464\u001b[0m     \u001b[38;5;66;03m# accumulate the output into final output and return that.\u001b[39;00m\n\u001b[1;32m--> 465\u001b[0m     \u001b[38;5;28;01mfor\u001b[39;00m chunk \u001b[38;5;129;01min\u001b[39;00m \u001b[38;5;28mself\u001b[39m\u001b[38;5;241m.\u001b[39mrunnable\u001b[38;5;241m.\u001b[39mstream(inputs, config\u001b[38;5;241m=\u001b[39m{\u001b[38;5;124m\"\u001b[39m\u001b[38;5;124mcallbacks\u001b[39m\u001b[38;5;124m\"\u001b[39m: callbacks}):\n\u001b[0;32m    466\u001b[0m         \u001b[38;5;28;01mif\u001b[39;00m final_output \u001b[38;5;129;01mis\u001b[39;00m \u001b[38;5;28;01mNone\u001b[39;00m:\n\u001b[0;32m    467\u001b[0m             final_output \u001b[38;5;241m=\u001b[39m chunk\n",
      "File \u001b[1;32mc:\\Users\\Tales\\Python\\AgenteTuristico\\.venv\\lib\\site-packages\\langchain_core\\runnables\\base.py:3407\u001b[0m, in \u001b[0;36mRunnableSequence.stream\u001b[1;34m(self, input, config, **kwargs)\u001b[0m\n\u001b[0;32m   3401\u001b[0m \u001b[38;5;28;01mdef\u001b[39;00m \u001b[38;5;21mstream\u001b[39m(\n\u001b[0;32m   3402\u001b[0m     \u001b[38;5;28mself\u001b[39m,\n\u001b[0;32m   3403\u001b[0m     \u001b[38;5;28minput\u001b[39m: Input,\n\u001b[0;32m   3404\u001b[0m     config: Optional[RunnableConfig] \u001b[38;5;241m=\u001b[39m \u001b[38;5;28;01mNone\u001b[39;00m,\n\u001b[0;32m   3405\u001b[0m     \u001b[38;5;241m*\u001b[39m\u001b[38;5;241m*\u001b[39mkwargs: Optional[Any],\n\u001b[0;32m   3406\u001b[0m ) \u001b[38;5;241m-\u001b[39m\u001b[38;5;241m>\u001b[39m Iterator[Output]:\n\u001b[1;32m-> 3407\u001b[0m     \u001b[38;5;28;01myield from\u001b[39;00m \u001b[38;5;28mself\u001b[39m\u001b[38;5;241m.\u001b[39mtransform(\u001b[38;5;28miter\u001b[39m([\u001b[38;5;28minput\u001b[39m]), config, \u001b[38;5;241m*\u001b[39m\u001b[38;5;241m*\u001b[39mkwargs)\n",
      "File \u001b[1;32mc:\\Users\\Tales\\Python\\AgenteTuristico\\.venv\\lib\\site-packages\\langchain_core\\runnables\\base.py:3394\u001b[0m, in \u001b[0;36mRunnableSequence.transform\u001b[1;34m(self, input, config, **kwargs)\u001b[0m\n\u001b[0;32m   3388\u001b[0m \u001b[38;5;28;01mdef\u001b[39;00m \u001b[38;5;21mtransform\u001b[39m(\n\u001b[0;32m   3389\u001b[0m     \u001b[38;5;28mself\u001b[39m,\n\u001b[0;32m   3390\u001b[0m     \u001b[38;5;28minput\u001b[39m: Iterator[Input],\n\u001b[0;32m   3391\u001b[0m     config: Optional[RunnableConfig] \u001b[38;5;241m=\u001b[39m \u001b[38;5;28;01mNone\u001b[39;00m,\n\u001b[0;32m   3392\u001b[0m     \u001b[38;5;241m*\u001b[39m\u001b[38;5;241m*\u001b[39mkwargs: Optional[Any],\n\u001b[0;32m   3393\u001b[0m ) \u001b[38;5;241m-\u001b[39m\u001b[38;5;241m>\u001b[39m Iterator[Output]:\n\u001b[1;32m-> 3394\u001b[0m     \u001b[38;5;28;01myield from\u001b[39;00m \u001b[38;5;28mself\u001b[39m\u001b[38;5;241m.\u001b[39m_transform_stream_with_config(\n\u001b[0;32m   3395\u001b[0m         \u001b[38;5;28minput\u001b[39m,\n\u001b[0;32m   3396\u001b[0m         \u001b[38;5;28mself\u001b[39m\u001b[38;5;241m.\u001b[39m_transform,\n\u001b[0;32m   3397\u001b[0m         patch_config(config, run_name\u001b[38;5;241m=\u001b[39m(config \u001b[38;5;129;01mor\u001b[39;00m {})\u001b[38;5;241m.\u001b[39mget(\u001b[38;5;124m\"\u001b[39m\u001b[38;5;124mrun_name\u001b[39m\u001b[38;5;124m\"\u001b[39m) \u001b[38;5;129;01mor\u001b[39;00m \u001b[38;5;28mself\u001b[39m\u001b[38;5;241m.\u001b[39mname),\n\u001b[0;32m   3398\u001b[0m         \u001b[38;5;241m*\u001b[39m\u001b[38;5;241m*\u001b[39mkwargs,\n\u001b[0;32m   3399\u001b[0m     )\n",
      "File \u001b[1;32mc:\\Users\\Tales\\Python\\AgenteTuristico\\.venv\\lib\\site-packages\\langchain_core\\runnables\\base.py:2197\u001b[0m, in \u001b[0;36mRunnable._transform_stream_with_config\u001b[1;34m(self, input, transformer, config, run_type, **kwargs)\u001b[0m\n\u001b[0;32m   2195\u001b[0m \u001b[38;5;28;01mtry\u001b[39;00m:\n\u001b[0;32m   2196\u001b[0m     \u001b[38;5;28;01mwhile\u001b[39;00m \u001b[38;5;28;01mTrue\u001b[39;00m:\n\u001b[1;32m-> 2197\u001b[0m         chunk: Output \u001b[38;5;241m=\u001b[39m \u001b[43mcontext\u001b[49m\u001b[38;5;241;43m.\u001b[39;49m\u001b[43mrun\u001b[49m\u001b[43m(\u001b[49m\u001b[38;5;28;43mnext\u001b[39;49m\u001b[43m,\u001b[49m\u001b[43m \u001b[49m\u001b[43miterator\u001b[49m\u001b[43m)\u001b[49m  \u001b[38;5;66;03m# type: ignore\u001b[39;00m\n\u001b[0;32m   2198\u001b[0m         \u001b[38;5;28;01myield\u001b[39;00m chunk\n\u001b[0;32m   2199\u001b[0m         \u001b[38;5;28;01mif\u001b[39;00m final_output_supported:\n",
      "File \u001b[1;32mc:\\Users\\Tales\\Python\\AgenteTuristico\\.venv\\lib\\site-packages\\langchain_core\\runnables\\base.py:3357\u001b[0m, in \u001b[0;36mRunnableSequence._transform\u001b[1;34m(self, input, run_manager, config, **kwargs)\u001b[0m\n\u001b[0;32m   3354\u001b[0m     \u001b[38;5;28;01melse\u001b[39;00m:\n\u001b[0;32m   3355\u001b[0m         final_pipeline \u001b[38;5;241m=\u001b[39m step\u001b[38;5;241m.\u001b[39mtransform(final_pipeline, config)\n\u001b[1;32m-> 3357\u001b[0m \u001b[38;5;28;01myield from\u001b[39;00m final_pipeline\n",
      "File \u001b[1;32mc:\\Users\\Tales\\Python\\AgenteTuristico\\.venv\\lib\\site-packages\\langchain_core\\runnables\\base.py:1413\u001b[0m, in \u001b[0;36mRunnable.transform\u001b[1;34m(self, input, config, **kwargs)\u001b[0m\n\u001b[0;32m   1410\u001b[0m final: Input\n\u001b[0;32m   1411\u001b[0m got_first_val \u001b[38;5;241m=\u001b[39m \u001b[38;5;28;01mFalse\u001b[39;00m\n\u001b[1;32m-> 1413\u001b[0m \u001b[38;5;28;01mfor\u001b[39;00m ichunk \u001b[38;5;129;01min\u001b[39;00m \u001b[38;5;28minput\u001b[39m:\n\u001b[0;32m   1414\u001b[0m     \u001b[38;5;66;03m# The default implementation of transform is to buffer input and\u001b[39;00m\n\u001b[0;32m   1415\u001b[0m     \u001b[38;5;66;03m# then call stream.\u001b[39;00m\n\u001b[0;32m   1416\u001b[0m     \u001b[38;5;66;03m# It'll attempt to gather all input into a single chunk using\u001b[39;00m\n\u001b[0;32m   1417\u001b[0m     \u001b[38;5;66;03m# the `+` operator.\u001b[39;00m\n\u001b[0;32m   1418\u001b[0m     \u001b[38;5;66;03m# If the input is not addable, then we'll assume that we can\u001b[39;00m\n\u001b[0;32m   1419\u001b[0m     \u001b[38;5;66;03m# only operate on the last chunk,\u001b[39;00m\n\u001b[0;32m   1420\u001b[0m     \u001b[38;5;66;03m# and we'll iterate until we get to the last chunk.\u001b[39;00m\n\u001b[0;32m   1421\u001b[0m     \u001b[38;5;28;01mif\u001b[39;00m \u001b[38;5;129;01mnot\u001b[39;00m got_first_val:\n\u001b[0;32m   1422\u001b[0m         final \u001b[38;5;241m=\u001b[39m ichunk\n",
      "File \u001b[1;32mc:\\Users\\Tales\\Python\\AgenteTuristico\\.venv\\lib\\site-packages\\langchain_core\\runnables\\base.py:5561\u001b[0m, in \u001b[0;36mRunnableBindingBase.transform\u001b[1;34m(self, input, config, **kwargs)\u001b[0m\n\u001b[0;32m   5555\u001b[0m \u001b[38;5;28;01mdef\u001b[39;00m \u001b[38;5;21mtransform\u001b[39m(\n\u001b[0;32m   5556\u001b[0m     \u001b[38;5;28mself\u001b[39m,\n\u001b[0;32m   5557\u001b[0m     \u001b[38;5;28minput\u001b[39m: Iterator[Input],\n\u001b[0;32m   5558\u001b[0m     config: Optional[RunnableConfig] \u001b[38;5;241m=\u001b[39m \u001b[38;5;28;01mNone\u001b[39;00m,\n\u001b[0;32m   5559\u001b[0m     \u001b[38;5;241m*\u001b[39m\u001b[38;5;241m*\u001b[39mkwargs: Any,\n\u001b[0;32m   5560\u001b[0m ) \u001b[38;5;241m-\u001b[39m\u001b[38;5;241m>\u001b[39m Iterator[Output]:\n\u001b[1;32m-> 5561\u001b[0m     \u001b[38;5;28;01myield from\u001b[39;00m \u001b[38;5;28mself\u001b[39m\u001b[38;5;241m.\u001b[39mbound\u001b[38;5;241m.\u001b[39mtransform(\n\u001b[0;32m   5562\u001b[0m         \u001b[38;5;28minput\u001b[39m,\n\u001b[0;32m   5563\u001b[0m         \u001b[38;5;28mself\u001b[39m\u001b[38;5;241m.\u001b[39m_merge_configs(config),\n\u001b[0;32m   5564\u001b[0m         \u001b[38;5;241m*\u001b[39m\u001b[38;5;241m*\u001b[39m{\u001b[38;5;241m*\u001b[39m\u001b[38;5;241m*\u001b[39m\u001b[38;5;28mself\u001b[39m\u001b[38;5;241m.\u001b[39mkwargs, \u001b[38;5;241m*\u001b[39m\u001b[38;5;241m*\u001b[39mkwargs},\n\u001b[0;32m   5565\u001b[0m     )\n",
      "File \u001b[1;32mc:\\Users\\Tales\\Python\\AgenteTuristico\\.venv\\lib\\site-packages\\langchain_core\\runnables\\base.py:1431\u001b[0m, in \u001b[0;36mRunnable.transform\u001b[1;34m(self, input, config, **kwargs)\u001b[0m\n\u001b[0;32m   1428\u001b[0m             final \u001b[38;5;241m=\u001b[39m ichunk\n\u001b[0;32m   1430\u001b[0m \u001b[38;5;28;01mif\u001b[39;00m got_first_val:\n\u001b[1;32m-> 1431\u001b[0m     \u001b[38;5;28;01myield from\u001b[39;00m \u001b[38;5;28mself\u001b[39m\u001b[38;5;241m.\u001b[39mstream(final, config, \u001b[38;5;241m*\u001b[39m\u001b[38;5;241m*\u001b[39mkwargs)\n",
      "File \u001b[1;32mc:\\Users\\Tales\\Python\\AgenteTuristico\\.venv\\lib\\site-packages\\langchain_core\\language_models\\chat_models.py:420\u001b[0m, in \u001b[0;36mBaseChatModel.stream\u001b[1;34m(self, input, config, stop, **kwargs)\u001b[0m\n\u001b[0;32m    413\u001b[0m \u001b[38;5;28;01mexcept\u001b[39;00m \u001b[38;5;167;01mBaseException\u001b[39;00m \u001b[38;5;28;01mas\u001b[39;00m e:\n\u001b[0;32m    414\u001b[0m     run_manager\u001b[38;5;241m.\u001b[39mon_llm_error(\n\u001b[0;32m    415\u001b[0m         e,\n\u001b[0;32m    416\u001b[0m         response\u001b[38;5;241m=\u001b[39mLLMResult(\n\u001b[0;32m    417\u001b[0m             generations\u001b[38;5;241m=\u001b[39m[[generation]] \u001b[38;5;28;01mif\u001b[39;00m generation \u001b[38;5;28;01melse\u001b[39;00m []\n\u001b[0;32m    418\u001b[0m         ),\n\u001b[0;32m    419\u001b[0m     )\n\u001b[1;32m--> 420\u001b[0m     \u001b[38;5;28;01mraise\u001b[39;00m e\n\u001b[0;32m    421\u001b[0m \u001b[38;5;28;01melse\u001b[39;00m:\n\u001b[0;32m    422\u001b[0m     run_manager\u001b[38;5;241m.\u001b[39mon_llm_end(LLMResult(generations\u001b[38;5;241m=\u001b[39m[[generation]]))\n",
      "File \u001b[1;32mc:\\Users\\Tales\\Python\\AgenteTuristico\\.venv\\lib\\site-packages\\langchain_core\\language_models\\chat_models.py:400\u001b[0m, in \u001b[0;36mBaseChatModel.stream\u001b[1;34m(self, input, config, stop, **kwargs)\u001b[0m\n\u001b[0;32m    397\u001b[0m     \u001b[38;5;28mself\u001b[39m\u001b[38;5;241m.\u001b[39mrate_limiter\u001b[38;5;241m.\u001b[39macquire(blocking\u001b[38;5;241m=\u001b[39m\u001b[38;5;28;01mTrue\u001b[39;00m)\n\u001b[0;32m    399\u001b[0m \u001b[38;5;28;01mtry\u001b[39;00m:\n\u001b[1;32m--> 400\u001b[0m     \u001b[38;5;28;01mfor\u001b[39;00m chunk \u001b[38;5;129;01min\u001b[39;00m \u001b[38;5;28mself\u001b[39m\u001b[38;5;241m.\u001b[39m_stream(messages, stop\u001b[38;5;241m=\u001b[39mstop, \u001b[38;5;241m*\u001b[39m\u001b[38;5;241m*\u001b[39mkwargs):\n\u001b[0;32m    401\u001b[0m         \u001b[38;5;28;01mif\u001b[39;00m chunk\u001b[38;5;241m.\u001b[39mmessage\u001b[38;5;241m.\u001b[39mid \u001b[38;5;129;01mis\u001b[39;00m \u001b[38;5;28;01mNone\u001b[39;00m:\n\u001b[0;32m    402\u001b[0m             chunk\u001b[38;5;241m.\u001b[39mmessage\u001b[38;5;241m.\u001b[39mid \u001b[38;5;241m=\u001b[39m \u001b[38;5;124mf\u001b[39m\u001b[38;5;124m\"\u001b[39m\u001b[38;5;124mrun-\u001b[39m\u001b[38;5;132;01m{\u001b[39;00mrun_manager\u001b[38;5;241m.\u001b[39mrun_id\u001b[38;5;132;01m}\u001b[39;00m\u001b[38;5;124m\"\u001b[39m\n",
      "File \u001b[1;32mc:\\Users\\Tales\\Python\\AgenteTuristico\\.venv\\lib\\site-packages\\langchain_google_genai\\chat_models.py:1037\u001b[0m, in \u001b[0;36mChatGoogleGenerativeAI._stream\u001b[1;34m(self, messages, stop, run_manager, tools, functions, safety_settings, tool_config, generation_config, cached_content, tool_choice, **kwargs)\u001b[0m\n\u001b[0;32m   1029\u001b[0m response: GenerateContentResponse \u001b[38;5;241m=\u001b[39m _chat_with_retry(\n\u001b[0;32m   1030\u001b[0m     request\u001b[38;5;241m=\u001b[39mrequest,\n\u001b[0;32m   1031\u001b[0m     generation_method\u001b[38;5;241m=\u001b[39m\u001b[38;5;28mself\u001b[39m\u001b[38;5;241m.\u001b[39mclient\u001b[38;5;241m.\u001b[39mstream_generate_content,\n\u001b[0;32m   1032\u001b[0m     \u001b[38;5;241m*\u001b[39m\u001b[38;5;241m*\u001b[39mkwargs,\n\u001b[0;32m   1033\u001b[0m     metadata\u001b[38;5;241m=\u001b[39m\u001b[38;5;28mself\u001b[39m\u001b[38;5;241m.\u001b[39mdefault_metadata,\n\u001b[0;32m   1034\u001b[0m )\n\u001b[0;32m   1036\u001b[0m prev_usage_metadata: UsageMetadata \u001b[38;5;241m|\u001b[39m \u001b[38;5;28;01mNone\u001b[39;00m \u001b[38;5;241m=\u001b[39m \u001b[38;5;28;01mNone\u001b[39;00m\n\u001b[1;32m-> 1037\u001b[0m \u001b[38;5;28;01mfor\u001b[39;00m chunk \u001b[38;5;129;01min\u001b[39;00m response:\n\u001b[0;32m   1038\u001b[0m     _chat_result \u001b[38;5;241m=\u001b[39m _response_to_result(\n\u001b[0;32m   1039\u001b[0m         chunk, stream\u001b[38;5;241m=\u001b[39m\u001b[38;5;28;01mTrue\u001b[39;00m, prev_usage\u001b[38;5;241m=\u001b[39mprev_usage_metadata\n\u001b[0;32m   1040\u001b[0m     )\n\u001b[0;32m   1041\u001b[0m     gen \u001b[38;5;241m=\u001b[39m cast(ChatGenerationChunk, _chat_result\u001b[38;5;241m.\u001b[39mgenerations[\u001b[38;5;241m0\u001b[39m])\n",
      "File \u001b[1;32mc:\\Users\\Tales\\Python\\AgenteTuristico\\.venv\\lib\\site-packages\\google\\api_core\\grpc_helpers.py:116\u001b[0m, in \u001b[0;36m_StreamingResponseIterator.__next__\u001b[1;34m(self)\u001b[0m\n\u001b[0;32m    114\u001b[0m         \u001b[38;5;28;01mdel\u001b[39;00m \u001b[38;5;28mself\u001b[39m\u001b[38;5;241m.\u001b[39m_stored_first_result\n\u001b[0;32m    115\u001b[0m         \u001b[38;5;28;01mreturn\u001b[39;00m result\n\u001b[1;32m--> 116\u001b[0m     \u001b[38;5;28;01mreturn\u001b[39;00m \u001b[38;5;28;43mnext\u001b[39;49m\u001b[43m(\u001b[49m\u001b[38;5;28;43mself\u001b[39;49m\u001b[38;5;241;43m.\u001b[39;49m\u001b[43m_wrapped\u001b[49m\u001b[43m)\u001b[49m\n\u001b[0;32m    117\u001b[0m \u001b[38;5;28;01mexcept\u001b[39;00m grpc\u001b[38;5;241m.\u001b[39mRpcError \u001b[38;5;28;01mas\u001b[39;00m exc:\n\u001b[0;32m    118\u001b[0m     \u001b[38;5;66;03m# If the stream has already returned data, we cannot recover here.\u001b[39;00m\n\u001b[0;32m    119\u001b[0m     \u001b[38;5;28;01mraise\u001b[39;00m exceptions\u001b[38;5;241m.\u001b[39mfrom_grpc_error(exc) \u001b[38;5;28;01mfrom\u001b[39;00m \u001b[38;5;21;01mexc\u001b[39;00m\n",
      "File \u001b[1;32mc:\\Users\\Tales\\Python\\AgenteTuristico\\.venv\\lib\\site-packages\\grpc\\_channel.py:543\u001b[0m, in \u001b[0;36m_Rendezvous.__next__\u001b[1;34m(self)\u001b[0m\n\u001b[0;32m    542\u001b[0m \u001b[38;5;28;01mdef\u001b[39;00m \u001b[38;5;21m__next__\u001b[39m(\u001b[38;5;28mself\u001b[39m):\n\u001b[1;32m--> 543\u001b[0m     \u001b[38;5;28;01mreturn\u001b[39;00m \u001b[38;5;28;43mself\u001b[39;49m\u001b[38;5;241;43m.\u001b[39;49m\u001b[43m_next\u001b[49m\u001b[43m(\u001b[49m\u001b[43m)\u001b[49m\n",
      "File \u001b[1;32mc:\\Users\\Tales\\Python\\AgenteTuristico\\.venv\\lib\\site-packages\\grpc\\_channel.py:960\u001b[0m, in \u001b[0;36m_MultiThreadedRendezvous._next\u001b[1;34m(self)\u001b[0m\n\u001b[0;32m    954\u001b[0m \u001b[38;5;28;01mdef\u001b[39;00m \u001b[38;5;21m_response_ready\u001b[39m():\n\u001b[0;32m    955\u001b[0m     \u001b[38;5;28;01mreturn\u001b[39;00m \u001b[38;5;28mself\u001b[39m\u001b[38;5;241m.\u001b[39m_state\u001b[38;5;241m.\u001b[39mresponse \u001b[38;5;129;01mis\u001b[39;00m \u001b[38;5;129;01mnot\u001b[39;00m \u001b[38;5;28;01mNone\u001b[39;00m \u001b[38;5;129;01mor\u001b[39;00m (\n\u001b[0;32m    956\u001b[0m         cygrpc\u001b[38;5;241m.\u001b[39mOperationType\u001b[38;5;241m.\u001b[39mreceive_message \u001b[38;5;129;01mnot\u001b[39;00m \u001b[38;5;129;01min\u001b[39;00m \u001b[38;5;28mself\u001b[39m\u001b[38;5;241m.\u001b[39m_state\u001b[38;5;241m.\u001b[39mdue\n\u001b[0;32m    957\u001b[0m         \u001b[38;5;129;01mand\u001b[39;00m \u001b[38;5;28mself\u001b[39m\u001b[38;5;241m.\u001b[39m_state\u001b[38;5;241m.\u001b[39mcode \u001b[38;5;129;01mis\u001b[39;00m \u001b[38;5;129;01mnot\u001b[39;00m \u001b[38;5;28;01mNone\u001b[39;00m\n\u001b[0;32m    958\u001b[0m     )\n\u001b[1;32m--> 960\u001b[0m \u001b[43m_common\u001b[49m\u001b[38;5;241;43m.\u001b[39;49m\u001b[43mwait\u001b[49m\u001b[43m(\u001b[49m\u001b[38;5;28;43mself\u001b[39;49m\u001b[38;5;241;43m.\u001b[39;49m\u001b[43m_state\u001b[49m\u001b[38;5;241;43m.\u001b[39;49m\u001b[43mcondition\u001b[49m\u001b[38;5;241;43m.\u001b[39;49m\u001b[43mwait\u001b[49m\u001b[43m,\u001b[49m\u001b[43m \u001b[49m\u001b[43m_response_ready\u001b[49m\u001b[43m)\u001b[49m\n\u001b[0;32m    961\u001b[0m \u001b[38;5;28;01mif\u001b[39;00m \u001b[38;5;28mself\u001b[39m\u001b[38;5;241m.\u001b[39m_state\u001b[38;5;241m.\u001b[39mresponse \u001b[38;5;129;01mis\u001b[39;00m \u001b[38;5;129;01mnot\u001b[39;00m \u001b[38;5;28;01mNone\u001b[39;00m:\n\u001b[0;32m    962\u001b[0m     response \u001b[38;5;241m=\u001b[39m \u001b[38;5;28mself\u001b[39m\u001b[38;5;241m.\u001b[39m_state\u001b[38;5;241m.\u001b[39mresponse\n",
      "File \u001b[1;32mc:\\Users\\Tales\\Python\\AgenteTuristico\\.venv\\lib\\site-packages\\grpc\\_common.py:156\u001b[0m, in \u001b[0;36mwait\u001b[1;34m(wait_fn, wait_complete_fn, timeout, spin_cb)\u001b[0m\n\u001b[0;32m    154\u001b[0m \u001b[38;5;28;01mif\u001b[39;00m timeout \u001b[38;5;129;01mis\u001b[39;00m \u001b[38;5;28;01mNone\u001b[39;00m:\n\u001b[0;32m    155\u001b[0m     \u001b[38;5;28;01mwhile\u001b[39;00m \u001b[38;5;129;01mnot\u001b[39;00m wait_complete_fn():\n\u001b[1;32m--> 156\u001b[0m         \u001b[43m_wait_once\u001b[49m\u001b[43m(\u001b[49m\u001b[43mwait_fn\u001b[49m\u001b[43m,\u001b[49m\u001b[43m \u001b[49m\u001b[43mMAXIMUM_WAIT_TIMEOUT\u001b[49m\u001b[43m,\u001b[49m\u001b[43m \u001b[49m\u001b[43mspin_cb\u001b[49m\u001b[43m)\u001b[49m\n\u001b[0;32m    157\u001b[0m \u001b[38;5;28;01melse\u001b[39;00m:\n\u001b[0;32m    158\u001b[0m     end \u001b[38;5;241m=\u001b[39m time\u001b[38;5;241m.\u001b[39mtime() \u001b[38;5;241m+\u001b[39m timeout\n",
      "File \u001b[1;32mc:\\Users\\Tales\\Python\\AgenteTuristico\\.venv\\lib\\site-packages\\grpc\\_common.py:116\u001b[0m, in \u001b[0;36m_wait_once\u001b[1;34m(wait_fn, timeout, spin_cb)\u001b[0m\n\u001b[0;32m    111\u001b[0m \u001b[38;5;28;01mdef\u001b[39;00m \u001b[38;5;21m_wait_once\u001b[39m(\n\u001b[0;32m    112\u001b[0m     wait_fn: Callable[\u001b[38;5;241m.\u001b[39m\u001b[38;5;241m.\u001b[39m\u001b[38;5;241m.\u001b[39m, \u001b[38;5;28mbool\u001b[39m],\n\u001b[0;32m    113\u001b[0m     timeout: \u001b[38;5;28mfloat\u001b[39m,\n\u001b[0;32m    114\u001b[0m     spin_cb: Optional[Callable[[], \u001b[38;5;28;01mNone\u001b[39;00m]],\n\u001b[0;32m    115\u001b[0m ):\n\u001b[1;32m--> 116\u001b[0m     \u001b[43mwait_fn\u001b[49m\u001b[43m(\u001b[49m\u001b[43mtimeout\u001b[49m\u001b[38;5;241;43m=\u001b[39;49m\u001b[43mtimeout\u001b[49m\u001b[43m)\u001b[49m\n\u001b[0;32m    117\u001b[0m     \u001b[38;5;28;01mif\u001b[39;00m spin_cb \u001b[38;5;129;01mis\u001b[39;00m \u001b[38;5;129;01mnot\u001b[39;00m \u001b[38;5;28;01mNone\u001b[39;00m:\n\u001b[0;32m    118\u001b[0m         spin_cb()\n",
      "File \u001b[1;32m~\\AppData\\Local\\Programs\\Python\\Python310\\lib\\threading.py:324\u001b[0m, in \u001b[0;36mCondition.wait\u001b[1;34m(self, timeout)\u001b[0m\n\u001b[0;32m    322\u001b[0m \u001b[38;5;28;01melse\u001b[39;00m:\n\u001b[0;32m    323\u001b[0m     \u001b[38;5;28;01mif\u001b[39;00m timeout \u001b[38;5;241m>\u001b[39m \u001b[38;5;241m0\u001b[39m:\n\u001b[1;32m--> 324\u001b[0m         gotit \u001b[38;5;241m=\u001b[39m \u001b[43mwaiter\u001b[49m\u001b[38;5;241;43m.\u001b[39;49m\u001b[43macquire\u001b[49m\u001b[43m(\u001b[49m\u001b[38;5;28;43;01mTrue\u001b[39;49;00m\u001b[43m,\u001b[49m\u001b[43m \u001b[49m\u001b[43mtimeout\u001b[49m\u001b[43m)\u001b[49m\n\u001b[0;32m    325\u001b[0m     \u001b[38;5;28;01melse\u001b[39;00m:\n\u001b[0;32m    326\u001b[0m         gotit \u001b[38;5;241m=\u001b[39m waiter\u001b[38;5;241m.\u001b[39macquire(\u001b[38;5;28;01mFalse\u001b[39;00m)\n",
      "\u001b[1;31mKeyboardInterrupt\u001b[0m: "
     ]
    }
   ],
   "source": [
    "response = travel_agent_executor.invoke({\"input\": 'Eu quero que você salve os eventos sugeridos no meu calendário google'})\n",
    "\n",
    "print(response[\"output\"])"
   ]
  },
  {
   "cell_type": "code",
   "execution_count": null,
   "metadata": {},
   "outputs": [],
   "source": [
    "response = travel_agent_executor.invoke({\"input\": f\"\"\"\n",
    "                                  Sim. Eu gostaria de salvar esses eventos no meu Calendário Google\n",
    "                                  \"\"\"})\n",
    "\n",
    "print(response[\"output\"])"
   ]
  },
  {
   "cell_type": "code",
   "execution_count": null,
   "metadata": {},
   "outputs": [],
   "source": [
    "response = travel_agent_executor.invoke({\"input\": f\"\"\"\n",
    "                                  Eu gostei bastante não precisa alterar\n",
    "                                  \"\"\"})\n",
    "\n",
    "print(response[\"output\"])"
   ]
  },
  {
   "cell_type": "code",
   "execution_count": null,
   "metadata": {},
   "outputs": [],
   "source": [
    "print(response[\"chat_history\"])"
   ]
  }
 ],
 "metadata": {
  "colab": {
   "provenance": []
  },
  "kernelspec": {
   "display_name": ".venv",
   "language": "python",
   "name": "python3"
  },
  "language_info": {
   "codemirror_mode": {
    "name": "ipython",
    "version": 3
   },
   "file_extension": ".py",
   "mimetype": "text/x-python",
   "name": "python",
   "nbconvert_exporter": "python",
   "pygments_lexer": "ipython3",
   "version": "3.10.11"
  }
 },
 "nbformat": 4,
 "nbformat_minor": 0
}
