{
 "cells": [
  {
   "cell_type": "code",
   "execution_count": 1,
   "metadata": {
    "colab": {
     "base_uri": "https://localhost:8080/"
    },
    "id": "4gIXtYDb4o3o",
    "outputId": "b74b0d76-37d0-427c-c8fd-fb9a9337d061"
   },
   "outputs": [],
   "source": [
    "import os\n",
    "import getpass\n",
    "\n",
    "from langchain.agents import Tool\n",
    "from langchain.memory import ChatMessageHistory, ConversationBufferWindowMemory\n",
    "from langchain_google_genai import (\n",
    "    ChatGoogleGenerativeAI,\n",
    "    HarmBlockThreshold,\n",
    "    HarmCategory,\n",
    ")\n",
    "from langchain.utilities import DuckDuckGoSearchAPIWrapper\n",
    "from langchain.agents import AgentExecutor\n",
    "from langchain import hub\n",
    "from langchain.agents.format_scratchpad import format_log_to_str\n",
    "from langchain.agents.output_parsers import ReActSingleInputOutputParser\n",
    "from langchain.tools.render import render_text_description\n",
    "\n",
    "from langchain_chroma import Chroma"
   ]
  },
  {
   "cell_type": "code",
   "execution_count": 2,
   "metadata": {
    "id": "oRYlHV3fy_Iq"
   },
   "outputs": [],
   "source": [
    "#(https://makersuite.google.com/)\n",
    "from dotenv import load_dotenv\n",
    "import os\n",
    "\n",
    "load_dotenv()\n",
    "os.environ[\"GOOGLE_API_KEY\"] = os.getenv('GEMINI_API_KEY')"
   ]
  },
  {
   "cell_type": "code",
   "execution_count": 3,
   "metadata": {
    "id": "FEDgMFo84iGY"
   },
   "outputs": [],
   "source": [
    "llm = ChatGoogleGenerativeAI(\n",
    "    model=\"gemini-1.5-flash\",\n",
    "    convert_system_message_to_human=True,\n",
    "    handle_parsing_errors=True,\n",
    "    temperature=0.6,\n",
    "    max_tokens= 1000,\n",
    "    safety_settings = {\n",
    "        HarmCategory.HARM_CATEGORY_HARASSMENT: HarmBlockThreshold.BLOCK_ONLY_HIGH,\n",
    "        HarmCategory.HARM_CATEGORY_HATE_SPEECH: HarmBlockThreshold.BLOCK_ONLY_HIGH,\n",
    "        HarmCategory.HARM_CATEGORY_SEXUALLY_EXPLICIT: HarmBlockThreshold.BLOCK_ONLY_HIGH,\n",
    "        HarmCategory.HARM_CATEGORY_DANGEROUS_CONTENT: HarmBlockThreshold.BLOCK_ONLY_HIGH,\n",
    "    },\n",
    ")\n",
    "\n",
    "# Caso queira utilizar uma LLM local com o Ollama\n",
    "# from langchain_ollama.llms import OllamaLLM\n",
    "# llm = OllamaLLM(model=\"llama3.2\", temperature=0.6, max_tokens=200)"
   ]
  },
  {
   "cell_type": "code",
   "execution_count": 4,
   "metadata": {},
   "outputs": [],
   "source": [
    "from get_embedding_function import get_embedding_function\n",
    "CHROMA_PATH = \"chroma\"\n",
    "\n",
    "def query_rag(query_text):\n",
    "    embedding_function = get_embedding_function()\n",
    "    db = Chroma(persist_directory=CHROMA_PATH, embedding_function=embedding_function)\n",
    "\n",
    "    # Search the DB.\n",
    "    results = db.similarity_search_with_score(query_text, k=5)\n",
    "\n",
    "    context_text = \"\\n\\n---\\n\\n\".join([doc.page_content for doc, _score in results])\n",
    "    return context_text\n",
    "\n",
    "def query_rag_tool(query_text: str) -> str:\n",
    "    return query_rag(query_text)"
   ]
  },
  {
   "cell_type": "code",
   "execution_count": 5,
   "metadata": {
    "id": "EY14yxCD4OzY"
   },
   "outputs": [],
   "source": [
    "ddg_search = DuckDuckGoSearchAPIWrapper()\n",
    "\n",
    "tools = [\n",
    "    Tool(\n",
    "        name=\"DuckDuckGo Search\",\n",
    "        func=ddg_search.run,\n",
    "        description=\"Use esta ferramenta para buscar informações recentes e responda ao usuário com os resultados encontrados. É importante que a resposta contenha o que foi recuperado da pesquisa.\"\n",
    "    ),\n",
    "    Tool(\n",
    "        name=\"Query RAG\",\n",
    "        func=query_rag_tool,\n",
    "        description=\"A perguntas relacionadas ao turismo da cidade de Natal no Rio Grande do Norte. Se as informações não forem suficientes no Query RAG para responder ao usuário utilize a ferramenta do DuckDuckGo Search\"\n",
    "    )\n",
    "]"
   ]
  },
  {
   "cell_type": "code",
   "execution_count": 6,
   "metadata": {
    "colab": {
     "base_uri": "https://localhost:8080/",
     "height": 209
    },
    "id": "FP7Q3SBS5qb3",
    "outputId": "005c96da-55f7-401c-b00a-4a053dcebaf8"
   },
   "outputs": [],
   "source": [
    "agent_prompt = hub.pull(\"tales/teste\")"
   ]
  },
  {
   "cell_type": "code",
   "execution_count": 7,
   "metadata": {},
   "outputs": [
    {
     "name": "stdout",
     "output_type": "stream",
     "text": [
      "input_variables=['agent_scratchpad', 'chat_history', 'input', 'tool_names', 'tools'] input_types={} partial_variables={} metadata={'lc_hub_owner': 'tales', 'lc_hub_repo': 'teste', 'lc_hub_commit_hash': 'a1e1087ebc41da363133b3624e8466fc4a2d480c7ce1157e303b4b0c5e3d7c3d'} template='Seu nome é \"Sofia\". Você é uma assistente pessoal de inteligência artificial de classe mundial. Você é altamente avançada e inteligente, muito útil e eficiente em fornecer informações e resolver problemas dos usuários. Sofia é um modelo AELM (Modelo de Linguagem de Execução Automática).\\n\\n\\xa0 \\xa0 \"Sofia\" foi projetado para ajudar com uma ampla gama de tarefas, desde responder perguntas simples até fornecer explicações aprofundadas e discussões sobre diversos tópicos. Como um modelo de linguagem, \"Sofia\" é capaz de gerar texto semelhante ao humano com base nas entradas que recebe, permitindo que se envolva em conversas naturais e forneça respostas coerentes e relevantes ao tema discutido.\\n\\n\\xa0 \\xa0 \"Sofia\" está em constante aprendizado e aprimoramento, e suas capacidades estão sempre evoluindo. Ela é capaz de processar e entender grandes volumes de texto e pode usar esse conhecimento para fornecer respostas precisas e informativas a uma variedade de perguntas. Além disso, \"Sofia\" pode gerar seu próprio texto com base nas entradas que recebe, permitindo que se envolva em discussões, forneça explicações e descreva uma ampla gama de assuntos.\\n\\n\\xa0 \\xa0 Em resumo, \"Sofia\" é uma ferramenta poderosa que pode ajudar em diversas tarefas e oferecer informações e insights valiosos sobre muitos tópicos. Seja para responder uma pergunta específica ou apenas para conversar sobre um assunto, \"Sofia\" está aqui para ajudar.\\n\\nTOOLS:\\n------\\n\\nAssistant has access to the following tools:\\n\\n{tools}\\n\\nTo use a tool, please use the following format:\\n\\n```\\nThought: Do I need to use a tool? Yes\\nAction: the action to take, should be one of [{tool_names}]\\nAction Input: the input to the action\\nObservation: the result of the action\\n```\\n\\nWhen you have a response to say to the Human, or if you do not need to use a tool, you MUST use the format:\\n\\n```\\nThought: Do I need to use a tool? No\\nFinal Answer: [your response here]\\n```\\n\\nBegin!\\n\\nPrevious conversation history:\\n{chat_history}\\n\\nNew input: {input}\\n{agent_scratchpad}'\n"
     ]
    }
   ],
   "source": [
    "print(agent_prompt)"
   ]
  },
  {
   "cell_type": "code",
   "execution_count": 8,
   "metadata": {
    "id": "MuPTv06R8EOH"
   },
   "outputs": [],
   "source": [
    "prompt = agent_prompt.partial(\n",
    "    tools=render_text_description(tools),\n",
    "    tool_names=\", \".join([t.name for t in tools]),\n",
    ")\n",
    "llm_with_stop = llm.bind(stop=[\"\\nObservation\"])"
   ]
  },
  {
   "cell_type": "code",
   "execution_count": 9,
   "metadata": {
    "colab": {
     "base_uri": "https://localhost:8080/"
    },
    "id": "LHGz2W5g4cSx",
    "outputId": "fe5fbb96-6f6d-48ce-ba79-63d1b9a732d1"
   },
   "outputs": [
    {
     "name": "stderr",
     "output_type": "stream",
     "text": [
      "C:\\Users\\Tales\\AppData\\Local\\Temp\\ipykernel_23004\\582812787.py:2: LangChainDeprecationWarning: Please see the migration guide at: https://python.langchain.com/docs/versions/migrating_memory/\n",
      "  memory = ConversationBufferWindowMemory(k=5, chat_memory=history, memory_key=\"chat_history\")\n"
     ]
    }
   ],
   "source": [
    "history = ChatMessageHistory()\n",
    "memory = ConversationBufferWindowMemory(k=5, chat_memory=history, memory_key=\"chat_history\")"
   ]
  },
  {
   "cell_type": "code",
   "execution_count": 10,
   "metadata": {
    "id": "zuQgO-EM9mdE"
   },
   "outputs": [],
   "source": [
    "agent = (\n",
    "    {\n",
    "        \"input\": lambda x: x[\"input\"],\n",
    "        \"agent_scratchpad\": lambda x: format_log_to_str(x[\"intermediate_steps\"]),\n",
    "        \"chat_history\": lambda x: x[\"chat_history\"],\n",
    "    }\n",
    "    | prompt\n",
    "    | llm_with_stop\n",
    "    | ReActSingleInputOutputParser()\n",
    ")\n",
    "\n",
    "agent_executor = AgentExecutor(agent=agent, tools=tools, verbose=True, memory=memory)"
   ]
  },
  {
   "cell_type": "code",
   "execution_count": 11,
   "metadata": {},
   "outputs": [
    {
     "name": "stdout",
     "output_type": "stream",
     "text": [
      "\n",
      "\n",
      "\u001b[1m> Entering new AgentExecutor chain...\u001b[0m\n"
     ]
    },
    {
     "name": "stderr",
     "output_type": "stream",
     "text": [
      "c:\\Users\\Tales\\Python\\AgenteTuristico\\.venv\\lib\\site-packages\\langchain_google_genai\\chat_models.py:310: UserWarning: Convert_system_message_to_human will be deprecated!\n",
      "  warnings.warn(\"Convert_system_message_to_human will be deprecated!\")\n"
     ]
    },
    {
     "name": "stdout",
     "output_type": "stream",
     "text": [
      "\u001b[32;1m\u001b[1;3m```tool_code\n",
      "Thought: Do I need to use a tool? Yes\n",
      "Action: Query RAG\n",
      "Action Input: Planejar viagem de três dias a Natal (RN) visitando praias famosas e restaurantes regionais baratos entre sexta e domingo.\u001b[0m\u001b[33;1m\u001b[1;3m8 DIAS (7 NOITES) \n",
      "6º Dia Você descobre por que o Rio \n",
      "Grande do Norte é a terra do camarão na \n",
      "Barra do Cunhaú, grande produtora do \n",
      "crustáceo e local de praias desertas.\n",
      "7º Dia Feche sua viagem na Baía Formosa, \n",
      "onde você pode fazer um passeio opcional \n",
      "de bugue até a divisa com a Paraíba, \n",
      "parando na Lagoa da Coca-Cola.\n",
      "8º Dia Hora de voltar para casa.\n",
      "DICAS DE ROTEIROS\n",
      "Os passeios destacados na sugestão abaixo estão nas páginas 10 a 13\n",
      "4 DIAS (3 NOITES)\n",
      "1º Dia: Chegada à cidade. Almoce no \n",
      "Restaurante Farofa d’Água, em Ponta \n",
      "Negra, para se encantar logo de cara \n",
      "com a vista do Morro do Careca.\n",
      "2º Dia: Faça o Passeio Panorâmico \n",
      "para descobrir o melhor de Natal \n",
      "e curtir a Praia de Porto Mirim, \n",
      "onde você pode fazer um passeio \n",
      "opcional de bugue, com brincadeiras\n",
      "\n",
      "---\n",
      "\n",
      "PRAIA DA PIPA\n",
      "Você passa o dia no vilarejo, \n",
      "que fica a 85 km de Natal e tem \n",
      "praias cercadas por falésias e \n",
      "vegetação exuberante. Lá pode \n",
      "tomar banho de mar, aproveitar \n",
      "o agito das barracas, almoçar \n",
      "em um restaurante panorâmico, \n",
      "avistar golfinhos, comprar \n",
      "artesanato nas lojas da vila, \n",
      "passear de lancha na Lagoa de \n",
      "Guarairas e ir de trenzinho até \n",
      "o Chapadão, uma linda falésia \n",
      "com vista para a Praia do Amor. \n",
      "Inclui: transporte de ida e volta ao \n",
      "hotel e guia. Duração: dia inteiro. \n",
      "PASSEIOS\n",
      "CURTA VÁRIOS PASSEIOS COM ECONOMIA\n",
      "Nossos especialistas, disponíveis para te dar total assistência no destino, criaram passeios \n",
      "incríveis, que podem ser parcelados e comprados em combos (veja pág. 14).\n",
      "BARRA DO CUNHAÚ\n",
      "A 90 km de Natal, esta praia do município vizinho de Canguaretama é\n",
      "\n",
      "---\n",
      "\n",
      "são para charretes, e não para carros. Inclui: transporte de ida e volta ao hotel, guia e \n",
      "passeio de barco. Duração: dia inteiro. \n",
      "RIO DO FOGO\n",
      "Na vila de pescadores situada a  \n",
      "85 km de Natal, você passa o dia  \n",
      "na Praia de Perobas, onde \n",
      "mergulha em águas cristalinas, \n",
      "aproveita um restaurante pé na \n",
      "areia e pode fazer um passeio \n",
      "opcional de lancha aos parrachos. \n",
      "Inclui: transporte de ida e volta ao \n",
      "hotel e guia. Duração: dia inteiro.\n",
      "PASSEIOS\n",
      "BARRA DO PUNAÚ \n",
      "Durante o trajeto de 70 km até a Barra \n",
      "do Rio Punaú, você visita o Aquário \n",
      "Natal, que é o maior do Nordeste \n",
      "(ingresso pago no local). Na chegada a \n",
      "Punaú, pode aproveitar as águas mornas \n",
      "do rio e fazer um passeio opcional de \n",
      "helicóptero. Inclui: transporte de ida e \n",
      "volta ao hotel, guia e entrada na Fazenda\n",
      "\n",
      "---\n",
      "\n",
      "PRAIA A PRAIA\n",
      "A orla urbana de Natal é marcada por completa estrutura \n",
      "hoteleira, com quiosques atendendo à beira-mar. Da movimentada \n",
      "Ponta Negra à tradicional Redinha, tem praia para todos os gostos!\n",
      "VIA COSTEIRA\n",
      "A continuação da Praia de Ponta Negra acompanha a famosa Via Costeira, principal \n",
      "avenida da cidade. Nessa faixa de areia, ficam os incríveis resorts da cidade, com \n",
      "estrutura completa de lazer e gastronomia. A bela paisagem da região é pontuada por \n",
      "dunas, trechos de Mata Atlântica e também lindas praias desertas.\n",
      "PONTA NEGRA\n",
      "O Morro do Careca é o marco principal da Praia de Ponta Negra e cartão-postal de \n",
      "Natal. Emoldurada por vegetação, a duna de 107 m de altura domina a paisagem – \n",
      "mas é proibido subir nela por questões ambientais. A praia em si é supermovimentada,\n",
      "\n",
      "---\n",
      "\n",
      "PRAIA DA REDINHA\n",
      "A última praia ao norte de Natal é uma antiga vila de pescadores, cujo destaque é o \n",
      "Mercado Público. A tradição ali é comer a ginga com tapioca (peixe frito que vem no \n",
      "palito, dentro de uma tapioca). A Igreja de Nossa Senhora dos Navegantes, construída \n",
      "com pedras dos arrecifes, e o Aquário Natal são outros pontos de interesse.\n",
      "PRAIA DO MEIO\n",
      "Situada entre a Praia do Forte \n",
      "e a Praia dos Artistas, sedia \n",
      "anualmente, durante o Réveillon, \n",
      "a tradicional festa de Iemanjá. Era \n",
      "considerada a praia mais turística \n",
      "da cidade até os anos 1980, \n",
      "devido às formações de piscinas \n",
      "naturais da região.\n",
      "PRAIA DOS ARTISTAS\n",
      "A 5 km do centro de Natal, é uma  \n",
      "das mais agitadas da cidade. Suas \n",
      "ondas altas são ótimas para surfe \n",
      "e outros esportes náuticos. Com\u001b[0m"
     ]
    },
    {
     "name": "stderr",
     "output_type": "stream",
     "text": [
      "c:\\Users\\Tales\\Python\\AgenteTuristico\\.venv\\lib\\site-packages\\langchain_google_genai\\chat_models.py:310: UserWarning: Convert_system_message_to_human will be deprecated!\n",
      "  warnings.warn(\"Convert_system_message_to_human will be deprecated!\")\n"
     ]
    },
    {
     "name": "stdout",
     "output_type": "stream",
     "text": [
      "\u001b[32;1m\u001b[1;3m```tool_code\n",
      "Thought: Do I need to use a tool? Yes\n",
      "Action: DuckDuckGo Search\n",
      "Action Input: melhores restaurantes baratos comida regional Natal RN\u001b[0m\u001b[36;1m\u001b[1;3mAs melhores dicas de onde comer em Natal - RN! Recomendamos desde restaurantes clássicos e sofisticados até os alternativos e mais baratos =) ... A comida é regional, tanto do sertão quanto da costa. Então tem muito camarão, frutos do mar, carne de sol, queijo coalho, mandioca - dá para comer um pouco de tudo. ... Restaurante Beira-Mar ... Uma ótima opção de churrascaria dentre os melhores restaurantes em Natal é o Sal e Brasa. Além de uma enorme variedade de cortes de carne, com mais de 25 opções diferentes no rodízio, o restaurante também conta com o buffet, além de servir massas, sobremesas, frutos-do-mar e até mesmo comida japonesa, com sushis e sashimis. O Sal e ... Descubra os principais restaurantes em Natal para viver experiências gastronômicas inesquecíveis com pratos e ambientes de tirar o fôlego. ... tornando-o uma excelente escolha para apreciadores de boa comida. Avenida Engenheiro Roberto Freire, 3846 Av. Miguel Castro, 2627 - Lagoa Nova, Av. Engenheiro Roberto Freire, 3846 - Ponta Negra ... Estou em busca de restaurantes com preços baixos em Natal. @NayaneGoncalves, considere aqui algumas opções de restaurantes, que fui com preços acessíveis em Natal que você pode considerar para refeições:. Pizzaria do Gago. Este local é conhecido por suas pizzas deliciosas e acessíveis, além das pizzas, você também pode encontrar opções de massas e outros pratos italianos a ... Melhores bares e restaurantes em Natal. Então, se você deseja ter uma excelente experiência gastronômica pelo Rio Grande do Norte, saiba que temos ótimas recomendações para você! Afinal de contas, nós conhecemos alguns dos restaurantes de Natal e eles são realmente muito bons. Por isso, confira as melhores opções a seguir!\u001b[0m"
     ]
    },
    {
     "name": "stderr",
     "output_type": "stream",
     "text": [
      "c:\\Users\\Tales\\Python\\AgenteTuristico\\.venv\\lib\\site-packages\\langchain_google_genai\\chat_models.py:310: UserWarning: Convert_system_message_to_human will be deprecated!\n",
      "  warnings.warn(\"Convert_system_message_to_human will be deprecated!\")\n"
     ]
    },
    {
     "name": "stdout",
     "output_type": "stream",
     "text": [
      "\u001b[32;1m\u001b[1;3m```tool_code\n",
      "Thought: Do I need to use a tool? No\n",
      "Final Answer: Para planejar sua viagem de três dias a Natal entre sexta e domingo, focando em praias famosas e restaurantes regionais baratos, sugiro o seguinte roteiro:\n",
      "\n",
      "**Sexta-feira:**\n",
      "\n",
      "* Chegada em Natal e check-in no hotel.  Considere hotéis em Ponta Negra para fácil acesso à praia e restaurantes.\n",
      "* À tarde, visite a Praia de Ponta Negra, famosa pelo Morro do Careca.  Aproveite para dar um mergulho e relaxar.\n",
      "* À noite, procure por restaurantes na região de Ponta Negra com comida regional.  A pesquisa no DuckDuckGo me mostrou diversas opções, mas para garantir preços acessíveis, recomendo procurar por avaliações e menus online antes de escolher.  Procure por locais com pratos típicos como camarão, peixes e frutos do mar.\n",
      "\n",
      "**Sábado:**\n",
      "\n",
      "* Dia dedicado às praias.  Você pode escolher entre ir à Praia da Redinha (conhecida pelo Mercado Público e a ginga com tapioca) ou a Praia de Pirangi (famosa pela maior cajueiro do mundo).  Ambas oferecem opções mais tranquilas que Ponta Negra.\n",
      "* Para o almoço, explore os restaurantes próximos à praia escolhida.  Novamente, pesquise online por opções mais econômicas com comida regional.\n",
      "* À tarde, retorne para Ponta Negra para aproveitar o pôr do sol.\n",
      "\n",
      "**Domingo:**\n",
      "\n",
      "* Visite a Praia de Genipabu, conhecida pelas dunas e passeios de buggy.  Este passeio pode ser um pouco mais caro, então considere seu orçamento.\n",
      "* Almoço em um restaurante próximo a Genipabu ou em Ponta Negra antes de partir.\n",
      "* À tarde, dependendo do seu horário de partida, você pode aproveitar um pouco mais da praia ou fazer compras de lembrancinhas.\n",
      "\n",
      "\n",
      "**Dicas importantes:**\n",
      "\n",
      "* **Transporte:** Utilize aplicativos de transporte como Uber ou 99 para se locomover pela cidade.  Os ônibus também são uma opção mais econômica, mas podem ser menos convenientes dependendo da sua localização.\n",
      "* **Restaurantes:**  Pesquise bastante online antes de escolher os restaurantes para garantir que eles se encaixam no seu orçamento e oferecem a comida regional que você deseja.  Sites de avaliação como TripAdvisor podem ser úteis.\n",
      "* **Passeios:**  Os passeios de buggy em Genipabu podem ser negociados, tente barganhar o preço.\n",
      "\n",
      "\n",
      "Este é um roteiro sugerido, você pode adaptá-lo de acordo com suas preferências e orçamento. Lembre-se de verificar as condições climáticas e planejar sua viagem com antecedência.  Divirta-se em Natal!\n",
      "```\n",
      "\u001b[0m\n",
      "\n",
      "\u001b[1m> Finished chain.\u001b[0m\n",
      "Para planejar sua viagem de três dias a Natal entre sexta e domingo, focando em praias famosas e restaurantes regionais baratos, sugiro o seguinte roteiro:\n",
      "\n",
      "**Sexta-feira:**\n",
      "\n",
      "* Chegada em Natal e check-in no hotel.  Considere hotéis em Ponta Negra para fácil acesso à praia e restaurantes.\n",
      "* À tarde, visite a Praia de Ponta Negra, famosa pelo Morro do Careca.  Aproveite para dar um mergulho e relaxar.\n",
      "* À noite, procure por restaurantes na região de Ponta Negra com comida regional.  A pesquisa no DuckDuckGo me mostrou diversas opções, mas para garantir preços acessíveis, recomendo procurar por avaliações e menus online antes de escolher.  Procure por locais com pratos típicos como camarão, peixes e frutos do mar.\n",
      "\n",
      "**Sábado:**\n",
      "\n",
      "* Dia dedicado às praias.  Você pode escolher entre ir à Praia da Redinha (conhecida pelo Mercado Público e a ginga com tapioca) ou a Praia de Pirangi (famosa pela maior cajueiro do mundo).  Ambas oferecem opções mais tranquilas que Ponta Negra.\n",
      "* Para o almoço, explore os restaurantes próximos à praia escolhida.  Novamente, pesquise online por opções mais econômicas com comida regional.\n",
      "* À tarde, retorne para Ponta Negra para aproveitar o pôr do sol.\n",
      "\n",
      "**Domingo:**\n",
      "\n",
      "* Visite a Praia de Genipabu, conhecida pelas dunas e passeios de buggy.  Este passeio pode ser um pouco mais caro, então considere seu orçamento.\n",
      "* Almoço em um restaurante próximo a Genipabu ou em Ponta Negra antes de partir.\n",
      "* À tarde, dependendo do seu horário de partida, você pode aproveitar um pouco mais da praia ou fazer compras de lembrancinhas.\n",
      "\n",
      "\n",
      "**Dicas importantes:**\n",
      "\n",
      "* **Transporte:** Utilize aplicativos de transporte como Uber ou 99 para se locomover pela cidade.  Os ônibus também são uma opção mais econômica, mas podem ser menos convenientes dependendo da sua localização.\n",
      "* **Restaurantes:**  Pesquise bastante online antes de escolher os restaurantes para garantir que eles se encaixam no seu orçamento e oferecem a comida regional que você deseja.  Sites de avaliação como TripAdvisor podem ser úteis.\n",
      "* **Passeios:**  Os passeios de buggy em Genipabu podem ser negociados, tente barganhar o preço.\n",
      "\n",
      "\n",
      "Este é um roteiro sugerido, você pode adaptá-lo de acordo com suas preferências e orçamento. Lembre-se de verificar as condições climáticas e planejar sua viagem com antecedência.  Divirta-se em Natal!\n",
      "```\n"
     ]
    }
   ],
   "source": [
    "response = agent_executor.invoke({\"input\": \"\"\"\n",
    "                                  Você poderia me ajudar a planejar a minha viagem a cidade de Natal? Eu vou passar três dias entre a sexta e o domingo.\n",
    "                                  Eu gostaria de visitar as praias mais famosas e comer em restaurantes com uma boa comida regional que não sejam muito caros.\n",
    "                                  \"\"\"})\n",
    "\n",
    "print(response[\"output\"])\n"
   ]
  },
  {
   "cell_type": "code",
   "execution_count": 12,
   "metadata": {},
   "outputs": [
    {
     "name": "stdout",
     "output_type": "stream",
     "text": [
      "\n"
     ]
    }
   ],
   "source": [
    "print(response[\"chat_history\"])"
   ]
  }
 ],
 "metadata": {
  "colab": {
   "provenance": []
  },
  "kernelspec": {
   "display_name": ".venv",
   "language": "python",
   "name": "python3"
  },
  "language_info": {
   "codemirror_mode": {
    "name": "ipython",
    "version": 3
   },
   "file_extension": ".py",
   "mimetype": "text/x-python",
   "name": "python",
   "nbconvert_exporter": "python",
   "pygments_lexer": "ipython3",
   "version": "3.10.11"
  }
 },
 "nbformat": 4,
 "nbformat_minor": 0
}
