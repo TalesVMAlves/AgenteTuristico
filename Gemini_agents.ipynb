{
 "cells": [
  {
   "cell_type": "code",
   "execution_count": 1,
   "metadata": {
    "colab": {
     "base_uri": "https://localhost:8080/"
    },
    "id": "4gIXtYDb4o3o",
    "outputId": "b74b0d76-37d0-427c-c8fd-fb9a9337d061"
   },
   "outputs": [
    {
     "name": "stderr",
     "output_type": "stream",
     "text": [
      "c:\\Users\\Tales\\Python\\AgenteTuristico\\.venv\\lib\\site-packages\\tqdm\\auto.py:21: TqdmWarning: IProgress not found. Please update jupyter and ipywidgets. See https://ipywidgets.readthedocs.io/en/stable/user_install.html\n",
      "  from .autonotebook import tqdm as notebook_tqdm\n"
     ]
    }
   ],
   "source": [
    "import os\n",
    "\n",
    "from langchain.agents import Tool\n",
    "from langchain.memory import ChatMessageHistory, ConversationBufferWindowMemory\n",
    "from langchain_google_genai import (\n",
    "    ChatGoogleGenerativeAI,\n",
    "    HarmBlockThreshold,\n",
    "    HarmCategory,\n",
    ")\n",
    "from langchain.utilities import DuckDuckGoSearchAPIWrapper\n",
    "from langchain.agents import AgentExecutor\n",
    "from langchain import hub\n",
    "from langchain.agents.format_scratchpad import format_log_to_str\n",
    "from langchain.agents.output_parsers import ReActSingleInputOutputParser\n",
    "from langchain.tools.render import render_text_description\n",
    "from datetime import datetime\n",
    "from dotenv import load_dotenv"
   ]
  },
  {
   "cell_type": "code",
   "execution_count": 2,
   "metadata": {},
   "outputs": [],
   "source": [
    "hoje = datetime.today()\n",
    "\n",
    "data_formatada = hoje.strftime(\"%Y/%m/%d\")\n",
    "# Pega o dia da semana em inglês\n",
    "dia_da_semana_ingles = hoje.strftime(\"%A\")\n",
    "\n",
    "# Dicionário para mapear os dias da semana de inglês para português\n",
    "dias_da_semana_pt = {\n",
    "    \"Monday\": \"segunda-feira\",\n",
    "    \"Tuesday\": \"terça-feira\",\n",
    "    \"Wednesday\": \"quarta-feira\",\n",
    "    \"Thursday\": \"quinta-feira\",\n",
    "    \"Friday\": \"sexta-feira\",\n",
    "    \"Saturday\": \"sábado\",\n",
    "    \"Sunday\": \"domingo\"\n",
    "}\n",
    "\n",
    "# Traduz o dia da semana para português\n",
    "dia_da_semana_pt = dias_da_semana_pt.get(dia_da_semana_ingles, dia_da_semana_ingles)\n",
    "\n",
    "# Formata a data para utilizar no prompt\n",
    "data_atual = f\"{dia_da_semana_pt}, {data_formatada}\""
   ]
  },
  {
   "cell_type": "code",
   "execution_count": 3,
   "metadata": {
    "id": "oRYlHV3fy_Iq"
   },
   "outputs": [],
   "source": [
    "#(https://makersuite.google.com/)\n",
    "\n",
    "load_dotenv()\n",
    "os.environ[\"GOOGLE_API_KEY\"] = os.getenv('GOOGLE_API_KEY')\n",
    "os.environ[\"LANGCHAIN_API_KEY\"] = os.getenv('LANGCHAIN_API_KEY')"
   ]
  },
  {
   "cell_type": "code",
   "execution_count": 4,
   "metadata": {
    "id": "FEDgMFo84iGY"
   },
   "outputs": [],
   "source": [
    "llm = ChatGoogleGenerativeAI(\n",
    "    model=\"gemini-1.5-flash\",\n",
    "    convert_system_message_to_human=True,\n",
    "    handle_parsing_errors=True,\n",
    "    temperature=0.6,\n",
    "    max_tokens= 1000,\n",
    "    safety_settings = {\n",
    "        HarmCategory.HARM_CATEGORY_HARASSMENT: HarmBlockThreshold.BLOCK_ONLY_HIGH,\n",
    "        HarmCategory.HARM_CATEGORY_HATE_SPEECH: HarmBlockThreshold.BLOCK_ONLY_HIGH,\n",
    "        HarmCategory.HARM_CATEGORY_SEXUALLY_EXPLICIT: HarmBlockThreshold.BLOCK_ONLY_HIGH,\n",
    "        HarmCategory.HARM_CATEGORY_DANGEROUS_CONTENT: HarmBlockThreshold.BLOCK_ONLY_HIGH,\n",
    "    },\n",
    ")"
   ]
  },
  {
   "cell_type": "code",
   "execution_count": 5,
   "metadata": {},
   "outputs": [],
   "source": [
    "def transfer_to_calendar_agent(input_str):\n",
    "    return calendar_agent_executor.invoke({\"input\": input_str})\n",
    "def transfer_to_travel_agent(input_str):\n",
    "    return travel_agent_executor.invoke({\"input\": input_str})"
   ]
  },
  {
   "cell_type": "code",
   "execution_count": null,
   "metadata": {
    "id": "EY14yxCD4OzY"
   },
   "outputs": [],
   "source": [
    "from planing_tools import weatherapi_forecast_periods, query_rag\n",
    "ddg_search = DuckDuckGoSearchAPIWrapper()\n",
    "\n",
    "travel_planing_tools = [\n",
    "    Tool(\n",
    "        name=\"DuckDuckGo Search\",\n",
    "        func=ddg_search.run,\n",
    "        description=\"\"\"Essa ferramenta DEVE ser utilizada para buscar eventos relevantes no período fornecido pelo usuário. \n",
    "        Ela é útil para obter informações sobre eventos ou atividades especiais que estão acontecendo na cidade de destino nas datas que o usuário informou. \n",
    "        O modelo deve usá-la para complementar as sugestões de atividades.\"\"\"\n",
    "    ),\n",
    "    Tool(\n",
    "        name=\"Weather Forecast\",\n",
    "        func=weatherapi_forecast_periods,\n",
    "        description=\"\"\"Essa ferramenta DEVE ser usada *antes* de gerar o roteiro turístico, após o modelo coletar todas as informações necessárias do usuário, incluindo as datas exatas. \n",
    "        O modelo deve consultar o clima separadamente para um dia de cada vez no período informado, garantindo que as atividades do roteiro sejam planejadas de acordo com as condições climáticas. \n",
    "        A previsão do tempo é um passo obrigatório quando é um fator relevante para o planejamento.\"\"\"\n",
    "        ),\n",
    "    Tool(\n",
    "        name=\"Query RAG\",\n",
    "        func=query_rag,\n",
    "        description=\"\"\"Esta ferramenta deve ser usada quando o modelo souber a cidade de destino e os interesses do usuário, com o objetivo de fornecer informações sobre pontos turísticos e atrações que se alinham com esses interesses. \n",
    "        O modelo deve utilizar essa ferramenta para sugerir atividades e lugares específicos a visitar, baseados na cidade e nos interesses fornecidos.\"\"\"\n",
    "    ),\n",
    "    Tool(\n",
    "        name=\"Calendar Agent\",\n",
    "        func=transfer_to_calendar_agent,\n",
    "        description=\"Esse agente lida com tudo relacionado ao calendário. As mensagens enviadas a ele devem estar em Português.\"\n",
    "    ),\n",
    "]"
   ]
  },
  {
   "cell_type": "code",
   "execution_count": 7,
   "metadata": {},
   "outputs": [
    {
     "name": "stdout",
     "output_type": "stream",
     "text": [
      "calendar v3 service created successfully\n"
     ]
    }
   ],
   "source": [
    "from calendar_tools import list_calendar_list, list_calendar_events, insert_calendar_event, create_calendar\n",
    "\n",
    "google_calendar_tools = [\n",
    "    Tool(\n",
    "        name=\"Create Calendar List\",\n",
    "        func=create_calendar,\n",
    "        description=\"\"\"\n",
    "        Use a função create_calendar_list para criar um novo calendário.\n",
    "        Forneça o resumo (título) do calendário que você deseja criar.\n",
    "        - Exemplo de uso: 'Meu Calendário de Viagens'\n",
    "        - Essa função vai criar um novo calendário com o resumo fornecido.\n",
    "        \"\"\"\n",
    "    ),\n",
    "    Tool(\n",
    "        name=\"List Calendar List\",\n",
    "        func=list_calendar_list,\n",
    "        description=\"\"\"\n",
    "        Use a função list_calendar_list para obter a lista dos seus calendários disponíveis no Google Calendar.\n",
    "        Se você quiser limitar o número de calendários retornados, forneça o número máximo desejado.\n",
    "        - Exemplo de uso: Forneça o número máximo de calendários a serem listados, como 50. Se não quiser um limite, apenas diga para listar 200 o máximo por padrão.\n",
    "        \"\"\"\n",
    "    ),\n",
    "    Tool(\n",
    "        name=\"List Calendar Events\",\n",
    "        func=list_calendar_events,\n",
    "        description=\"\"\"\n",
    "        Use a função list_calendar_events para obter a lista de eventos de um calendário específico.\n",
    "        Você precisa fornecer o ID do calendário e, opcionalmente, o número máximo de eventos a serem listados.\n",
    "        - Exemplo de uso para o calendário principal: forneça 'primary' como o ID do calendário.\n",
    "        - Exemplo de uso com limite: forneça o ID do calendário e o número máximo de eventos, como 'primary', 20.\n",
    "        - Para listar eventos de um calendário específico, primeiro liste seus calendários para encontrar o ID correto.\n",
    "        \"\"\"\n",
    "    ),\n",
    "    Tool(\n",
    "    name=\"Insert Calendar Event\",\n",
    "    func=insert_calendar_event,\n",
    "    description=\"\"\"\n",
    "        Use a função Insert Calendar Event para adicionar **um único evento** a um calendário Google.\n",
    "        Esta função deve ser chamada **uma vez para cada evento** que precisa ser agendado.\n",
    "\n",
    "        A entrada para esta função deve ser uma descrição clara e completa de **um único evento**\n",
    "        em linguagem natural, contendo todas as informações necessárias para agendá-lo individualmente.\n",
    "\n",
    "        Se o usuário pediu para criar um novo calendário, você DEVE utilizar o calendar_id desse novo calendário para a inserção dos eventos. \n",
    "        \n",
    "        **Formato de entrada esperado:**\n",
    "\n",
    "        **Descrição em Linguagem Natural (obrigatório):**\n",
    "        Forneça uma descrição textual detalhada para **um único evento**. Inclua o calendar_id (se fornecido pelo usuário), o que será feito,\n",
    "        quando (data e hora específicas), onde (local exato) e quaisquer detalhes adicionais relevantes\n",
    "        para esse evento em particular.\n",
    "\n",
    "        **Exemplos de descrições de eventos individuais:**\n",
    "        - \"Agendar almoço com a Maria na sexta-feira ao meio-dia no restaurante X.\"\n",
    "        - \"Criar um compromisso para pagar as contas no dia 10 de janeiro às 9h da manhã.\"\n",
    "        - \"Bloquear minha agenda para foco no projeto Y na próxima segunda-feira, das 14h às 17h, na minha mesa.\"\n",
    "\n",
    "        **Como usar esta função corretamente:**\n",
    "\n",
    "        1. **Identifique cada evento individualmente:** Se a intenção é agendar múltiplos eventos,\n",
    "           trate cada um como uma chamada separada para esta função.\n",
    "        2. **Obtenha o ID do calendário (se necessário):** Se o usuário mencionar um nome de\n",
    "           calendário específico, use a função 'list_calendar_list' **primeiro** para obter\n",
    "           o 'calendar_id' correspondente.\n",
    "        3. **Chame esta função com a descrição de um único evento:** Forneça a descrição completa\n",
    "           em linguagem natural para o evento específico que você deseja agendar.\n",
    "\n",
    "        **Informações essenciais para cada descrição de evento:**\n",
    "        - **O que:** Uma descrição concisa do evento (ex: \"Reunião de equipe\", \"Consulta médica\").\n",
    "        - **Quando:** A data e hora de início e fim **precisas** do evento.\n",
    "        - **Onde:** O local **específico** do evento.\n",
    "        - **Fuso Horário (opcional):** Se aplicável, mencione o fuso horário se for diferente\n",
    "          de \"America/Fortaleza\".\n",
    "\n",
    "        **Exemplo de uso**\n",
    "\n",
    "        *Usuário: Agendar visita ao Aquário Natal sábado das 9h às 12h.*\n",
    "        *Agente:* (Chama 'Insert Calendar Event' com a Action Input: \"Agendar visita ao Aquário Natal sábado das 9h às 12h.\")\n",
    "\n",
    "        **Observação IMPORTANTE:** Esta função **NÃO** deve ser usada para criar múltiplos eventos\n",
    "        com uma única chamada. Cada chamada deve corresponder a **um único evento**.\n",
    "\n",
    "        Ao final da execução desta função, você DEVE fornecer ao usuário a confirmação do agendamento\n",
    "        desse evento específico, incluindo o título, data, hora.\n",
    "\n",
    "        No final forneça o link para o calendário google: [https://www.google.com/calendar]\n",
    "    \"\"\"\n",
    "    )\n",
    "]"
   ]
  },
  {
   "cell_type": "code",
   "execution_count": 8,
   "metadata": {
    "colab": {
     "base_uri": "https://localhost:8080/",
     "height": 209
    },
    "id": "FP7Q3SBS5qb3",
    "outputId": "005c96da-55f7-401c-b00a-4a053dcebaf8"
   },
   "outputs": [],
   "source": [
    "travel_planing_prompt = hub.pull(\"tales/agente_turismo\")\n",
    "google_calendar_prompt = hub.pull(\"tales/agente_calendario\")"
   ]
  },
  {
   "cell_type": "code",
   "execution_count": 9,
   "metadata": {
    "id": "MuPTv06R8EOH"
   },
   "outputs": [],
   "source": [
    "llm_with_stop = llm.bind(stop=[\"\\nObservation\"])\n",
    "planing_prompt = travel_planing_prompt.partial(\n",
    "    tools=render_text_description(travel_planing_tools),\n",
    "    tool_names=\", \".join([t.name for t in travel_planing_tools]),\n",
    ")"
   ]
  },
  {
   "cell_type": "code",
   "execution_count": 10,
   "metadata": {},
   "outputs": [],
   "source": [
    "calendar_prompt = google_calendar_prompt.partial(\n",
    "    tools=render_text_description(google_calendar_tools),\n",
    "    tool_names=\", \".join([t.name for t in google_calendar_tools]),\n",
    ")"
   ]
  },
  {
   "cell_type": "code",
   "execution_count": 11,
   "metadata": {
    "colab": {
     "base_uri": "https://localhost:8080/"
    },
    "id": "LHGz2W5g4cSx",
    "outputId": "fe5fbb96-6f6d-48ce-ba79-63d1b9a732d1"
   },
   "outputs": [
    {
     "name": "stderr",
     "output_type": "stream",
     "text": [
      "C:\\Users\\Tales\\AppData\\Local\\Temp\\ipykernel_64596\\275711510.py:2: LangChainDeprecationWarning: Please see the migration guide at: https://python.langchain.com/docs/versions/migrating_memory/\n",
      "  memory = ConversationBufferWindowMemory(k=20, chat_memory=history, memory_key=\"chat_history\")\n"
     ]
    }
   ],
   "source": [
    "history = ChatMessageHistory()\n",
    "memory = ConversationBufferWindowMemory(k=20, chat_memory=history, memory_key=\"chat_history\")"
   ]
  },
  {
   "cell_type": "code",
   "execution_count": 12,
   "metadata": {
    "id": "zuQgO-EM9mdE"
   },
   "outputs": [],
   "source": [
    "travel_planing_agent = (\n",
    "    {\n",
    "        \"input\": lambda x: x[\"input\"],\n",
    "        \"agent_scratchpad\": lambda x: format_log_to_str(x[\"intermediate_steps\"]),\n",
    "        \"chat_history\": lambda x: x[\"chat_history\"],\n",
    "        \"data_atual\": lambda x: data_atual,\n",
    "    }\n",
    "    | planing_prompt\n",
    "    | llm_with_stop\n",
    "    | ReActSingleInputOutputParser()\n",
    ")\n",
    "\n",
    "travel_agent_executor = AgentExecutor(agent=travel_planing_agent, tools=travel_planing_tools, verbose=True, memory=memory)"
   ]
  },
  {
   "cell_type": "code",
   "execution_count": 13,
   "metadata": {},
   "outputs": [],
   "source": [
    "google_calendar_agent = (\n",
    "    {\n",
    "        \"input\": lambda x: x[\"input\"],\n",
    "        \"agent_scratchpad\": lambda x: format_log_to_str(x[\"intermediate_steps\"]),\n",
    "        \"chat_history\": lambda x: x[\"chat_history\"],\n",
    "        \"data_atual\": lambda x: data_atual,\n",
    "    }\n",
    "    | calendar_prompt\n",
    "    | llm_with_stop\n",
    "    | ReActSingleInputOutputParser()\n",
    ")\n",
    "\n",
    "calendar_agent_executor = AgentExecutor(agent=google_calendar_agent, tools=google_calendar_tools, verbose=True, memory=memory)"
   ]
  },
  {
   "cell_type": "code",
   "execution_count": 14,
   "metadata": {},
   "outputs": [
    {
     "name": "stderr",
     "output_type": "stream",
     "text": [
      "c:\\Users\\Tales\\Python\\AgenteTuristico\\.venv\\lib\\site-packages\\langchain_google_genai\\chat_models.py:310: UserWarning: Convert_system_message_to_human will be deprecated!\n",
      "  warnings.warn(\"Convert_system_message_to_human will be deprecated!\")\n"
     ]
    },
    {
     "name": "stdout",
     "output_type": "stream",
     "text": [
      "\n",
      "\n",
      "\u001b[1m> Entering new AgentExecutor chain...\u001b[0m\n",
      "\u001b[32;1m\u001b[1;3mThought: Do I need to use a tool? No\n",
      "Final Answer: Boa noite! Para onde você está planejando viajar?\n",
      "\u001b[0m\n",
      "\n",
      "\u001b[1m> Finished chain.\u001b[0m\n",
      "Boa noite! Para onde você está planejando viajar?\n"
     ]
    }
   ],
   "source": [
    "response = travel_agent_executor.invoke({\"input\": 'Boa noite'})\n",
    "\n",
    "print(response[\"output\"])"
   ]
  },
  {
   "cell_type": "code",
   "execution_count": 15,
   "metadata": {},
   "outputs": [
    {
     "name": "stdout",
     "output_type": "stream",
     "text": [
      "\n",
      "\n",
      "\u001b[1m> Entering new AgentExecutor chain...\u001b[0m\n"
     ]
    },
    {
     "name": "stderr",
     "output_type": "stream",
     "text": [
      "c:\\Users\\Tales\\Python\\AgenteTuristico\\.venv\\lib\\site-packages\\langchain_google_genai\\chat_models.py:310: UserWarning: Convert_system_message_to_human will be deprecated!\n",
      "  warnings.warn(\"Convert_system_message_to_human will be deprecated!\")\n"
     ]
    },
    {
     "name": "stdout",
     "output_type": "stream",
     "text": [
      "\u001b[32;1m\u001b[1;3mThought: Do I need to use a tool? No\n",
      "Final Answer: Ótimo! Natal é uma excelente escolha.  Quais atividades ou experiências você está buscando nessa viagem? Por exemplo, prefere explorar praias, restaurantes, eventos, museus, história, cultura, vida noturna, natureza, ou algo mais?\n",
      "\u001b[0m\n",
      "\n",
      "\u001b[1m> Finished chain.\u001b[0m\n",
      "Ótimo! Natal é uma excelente escolha.  Quais atividades ou experiências você está buscando nessa viagem? Por exemplo, prefere explorar praias, restaurantes, eventos, museus, história, cultura, vida noturna, natureza, ou algo mais?\n"
     ]
    }
   ],
   "source": [
    "response = travel_agent_executor.invoke({\"input\": 'Eu estou planejando visitar Natal no Rio Grande do Norte'})\n",
    "\n",
    "print(response[\"output\"])"
   ]
  },
  {
   "cell_type": "code",
   "execution_count": 16,
   "metadata": {},
   "outputs": [
    {
     "name": "stdout",
     "output_type": "stream",
     "text": [
      "\n",
      "\n",
      "\u001b[1m> Entering new AgentExecutor chain...\u001b[0m\n"
     ]
    },
    {
     "name": "stderr",
     "output_type": "stream",
     "text": [
      "c:\\Users\\Tales\\Python\\AgenteTuristico\\.venv\\lib\\site-packages\\langchain_google_genai\\chat_models.py:310: UserWarning: Convert_system_message_to_human will be deprecated!\n",
      "  warnings.warn(\"Convert_system_message_to_human will be deprecated!\")\n"
     ]
    },
    {
     "name": "stdout",
     "output_type": "stream",
     "text": [
      "\u001b[32;1m\u001b[1;3mThought: Do I need to use a tool? No\n",
      "Final Answer: Perfeito! Praias e restaurantes regionais são ótimos planos para Natal.  Tem um orçamento em mente ou um limite de gastos que gostaria de seguir durante a viagem?\n",
      "\u001b[0m\n",
      "\n",
      "\u001b[1m> Finished chain.\u001b[0m\n",
      "Perfeito! Praias e restaurantes regionais são ótimos planos para Natal.  Tem um orçamento em mente ou um limite de gastos que gostaria de seguir durante a viagem?\n"
     ]
    }
   ],
   "source": [
    "response = travel_agent_executor.invoke({\"input\": 'Eu planejo visitar praias e restaurantes regionais'})\n",
    "\n",
    "print(response[\"output\"])"
   ]
  },
  {
   "cell_type": "code",
   "execution_count": 17,
   "metadata": {},
   "outputs": [
    {
     "name": "stdout",
     "output_type": "stream",
     "text": [
      "\n",
      "\n",
      "\u001b[1m> Entering new AgentExecutor chain...\u001b[0m\n"
     ]
    },
    {
     "name": "stderr",
     "output_type": "stream",
     "text": [
      "c:\\Users\\Tales\\Python\\AgenteTuristico\\.venv\\lib\\site-packages\\langchain_google_genai\\chat_models.py:310: UserWarning: Convert_system_message_to_human will be deprecated!\n",
      "  warnings.warn(\"Convert_system_message_to_human will be deprecated!\")\n"
     ]
    },
    {
     "name": "stdout",
     "output_type": "stream",
     "text": [
      "\u001b[32;1m\u001b[1;3m```tool_code\n",
      "Thought: Do I need to use a tool? No\n",
      "Final Answer: Tudo bem! Sem problemas.  Você segue alguma dieta específica ou tem restrições alimentares, como alergias, que devo levar em consideração?\n",
      "```\n",
      "\u001b[0m\n",
      "\n",
      "\u001b[1m> Finished chain.\u001b[0m\n",
      "Tudo bem! Sem problemas.  Você segue alguma dieta específica ou tem restrições alimentares, como alergias, que devo levar em consideração?\n",
      "```\n"
     ]
    }
   ],
   "source": [
    "response = travel_agent_executor.invoke({\"input\": 'Eu ainda não sei'})\n",
    "\n",
    "print(response[\"output\"])"
   ]
  },
  {
   "cell_type": "code",
   "execution_count": 18,
   "metadata": {},
   "outputs": [
    {
     "name": "stdout",
     "output_type": "stream",
     "text": [
      "\n",
      "\n",
      "\u001b[1m> Entering new AgentExecutor chain...\u001b[0m\n"
     ]
    },
    {
     "name": "stderr",
     "output_type": "stream",
     "text": [
      "c:\\Users\\Tales\\Python\\AgenteTuristico\\.venv\\lib\\site-packages\\langchain_google_genai\\chat_models.py:310: UserWarning: Convert_system_message_to_human will be deprecated!\n",
      "  warnings.warn(\"Convert_system_message_to_human will be deprecated!\")\n"
     ]
    },
    {
     "name": "stdout",
     "output_type": "stream",
     "text": [
      "\u001b[32;1m\u001b[1;3m```tool_code\n",
      "Thought: Do I need to use a tool? No\n",
      "Final Answer: Ok! Sem restrições alimentares, ótimo. Quantos dias você pretende passar em Natal?\n",
      "```\n",
      "\u001b[0m\n",
      "\n",
      "\u001b[1m> Finished chain.\u001b[0m\n",
      "Ok! Sem restrições alimentares, ótimo. Quantos dias você pretende passar em Natal?\n",
      "```\n"
     ]
    }
   ],
   "source": [
    "response = travel_agent_executor.invoke({\"input\": 'Não possuo nenhuma restrição alimentar.'})\n",
    "\n",
    "print(response[\"output\"])"
   ]
  },
  {
   "cell_type": "code",
   "execution_count": 19,
   "metadata": {},
   "outputs": [
    {
     "name": "stdout",
     "output_type": "stream",
     "text": [
      "\n",
      "\n",
      "\u001b[1m> Entering new AgentExecutor chain...\u001b[0m\n"
     ]
    },
    {
     "name": "stderr",
     "output_type": "stream",
     "text": [
      "c:\\Users\\Tales\\Python\\AgenteTuristico\\.venv\\lib\\site-packages\\langchain_google_genai\\chat_models.py:310: UserWarning: Convert_system_message_to_human will be deprecated!\n",
      "  warnings.warn(\"Convert_system_message_to_human will be deprecated!\")\n"
     ]
    },
    {
     "name": "stdout",
     "output_type": "stream",
     "text": [
      "\u001b[32;1m\u001b[1;3m```tool_code\n",
      "Thought: Do I need to use a tool? Yes\n",
      "Action: Weather Forecast\n",
      "Action Input: 2025/01/25\u001b[0m\u001b[33;1m\u001b[1;3mPrevisão para 2025/01/25 em Natal:\n",
      "\n",
      "Manhã:\n",
      "Hora: 05:00 - Temp: 25.7°C, Condição: Aguaceiros fracos, Chance de chuva: 100%, Umidade: 80%\n",
      "Hora: 06:00 - Temp: 26.6°C, Condição: Aguaceiros fracos, Chance de chuva: 100%, Umidade: 75%\n",
      "Hora: 07:00 - Temp: 27.5°C, Condição: Aguaceiros fracos, Chance de chuva: 100%, Umidade: 71%\n",
      "Hora: 08:00 - Temp: 28.4°C, Condição: Aguaceiros fracos, Chance de chuva: 100%, Umidade: 67%\n",
      "Hora: 09:00 - Temp: 29.1°C, Condição: Possibilidade de chuva irregular, Chance de chuva: 100%, Umidade: 64%\n",
      "Hora: 10:00 - Temp: 29.8°C, Condição: Aguaceiros fracos, Chance de chuva: 100%, Umidade: 61%\n",
      "Hora: 11:00 - Temp: 30.4°C, Condição: Possibilidade de chuva irregular, Chance de chuva: 89%, Umidade: 57%\n",
      "\n",
      "Tarde:\n",
      "Hora: 13:00 - Temp: 29.9°C, Condição: Possibilidade de chuva irregular, Chance de chuva: 30%, Umidade: 59%\n",
      "Hora: 14:00 - Temp: 29.7°C, Condição: Sol, Chance de chuva: 0%, Umidade: 60%\n",
      "Hora: 15:00 - Temp: 28.8°C, Condição: Possibilidade de chuva irregular, Chance de chuva: 29%, Umidade: 65%\n",
      "Hora: 16:00 - Temp: 27.9°C, Condição: Sol, Chance de chuva: 57%, Umidade: 69%\n",
      "Hora: 17:00 - Temp: 27.0°C, Condição: Possibilidade de chuva irregular, Chance de chuva: 86%, Umidade: 74%\n",
      "\n",
      "Noite:\n",
      "Hora: 18:00 - Temp: 26.8°C, Condição: Parcialmente nublado, Chance de chuva: 57%, Umidade: 75%\n",
      "Hora: 19:00 - Temp: 26.7°C, Condição: Possibilidade de chuva irregular, Chance de chuva: 29%, Umidade: 76%\n",
      "Hora: 20:00 - Temp: 26.5°C, Condição: Parcialmente nublado, Chance de chuva: 0%, Umidade: 77%\n",
      "Hora: 21:00 - Temp: 26.2°C, Condição: Possibilidade de chuva irregular, Chance de chuva: 29%, Umidade: 78%\n",
      "Hora: 22:00 - Temp: 26.0°C, Condição: Parcialmente nublado, Chance de chuva: 100%, Umidade: 79%\n",
      "Hora: 23:00 - Temp: 25.8°C, Condição: Possibilidade de chuva irregular, Chance de chuva: 100%, Umidade: 81%\n",
      "\u001b[0m"
     ]
    },
    {
     "name": "stderr",
     "output_type": "stream",
     "text": [
      "c:\\Users\\Tales\\Python\\AgenteTuristico\\.venv\\lib\\site-packages\\langchain_google_genai\\chat_models.py:310: UserWarning: Convert_system_message_to_human will be deprecated!\n",
      "  warnings.warn(\"Convert_system_message_to_human will be deprecated!\")\n"
     ]
    },
    {
     "name": "stdout",
     "output_type": "stream",
     "text": [
      "\u001b[32;1m\u001b[1;3m```tool_code\n",
      "Thought: Do I need to use a tool? Yes\n",
      "Action: Weather Forecast\n",
      "Action Input: 2025/01/26\u001b[0m\u001b[33;1m\u001b[1;3mPrevisão para 2025/01/26 em Natal:\n",
      "\n",
      "Manhã:\n",
      "Hora: 05:00 - Temp: 25.2°C, Condição: Possibilidade de chuva irregular, Chance de chuva: 100%, Umidade: 83%\n",
      "Hora: 06:00 - Temp: 26.3°C, Condição: Possibilidade de chuva irregular, Chance de chuva: 100%, Umidade: 77%\n",
      "Hora: 07:00 - Temp: 27.4°C, Condição: Possibilidade de chuva irregular, Chance de chuva: 100%, Umidade: 71%\n",
      "Hora: 08:00 - Temp: 28.6°C, Condição: Possibilidade de chuva irregular, Chance de chuva: 100%, Umidade: 65%\n",
      "Hora: 09:00 - Temp: 29.0°C, Condição: Possibilidade de chuva irregular, Chance de chuva: 100%, Umidade: 64%\n",
      "Hora: 10:00 - Temp: 29.4°C, Condição: Possibilidade de chuva irregular, Chance de chuva: 100%, Umidade: 62%\n",
      "Hora: 11:00 - Temp: 29.8°C, Condição: Possibilidade de chuva irregular, Chance de chuva: 100%, Umidade: 60%\n",
      "\n",
      "Tarde:\n",
      "Hora: 13:00 - Temp: 29.3°C, Condição: Possibilidade de chuva irregular, Chance de chuva: 100%, Umidade: 61%\n",
      "Hora: 14:00 - Temp: 29.1°C, Condição: Possibilidade de chuva irregular, Chance de chuva: 100%, Umidade: 62%\n",
      "Hora: 15:00 - Temp: 28.5°C, Condição: Nublado, Chance de chuva: 100%, Umidade: 65%\n",
      "Hora: 16:00 - Temp: 27.9°C, Condição: Possibilidade de chuva irregular, Chance de chuva: 100%, Umidade: 67%\n",
      "Hora: 17:00 - Temp: 27.3°C, Condição: Nublado, Chance de chuva: 0%, Umidade: 70%\n",
      "\n",
      "Noite:\n",
      "Hora: 18:00 - Temp: 27.1°C, Condição: Nublado, Chance de chuva: 0%, Umidade: 71%\n",
      "Hora: 19:00 - Temp: 26.9°C, Condição: Nublado, Chance de chuva: 0%, Umidade: 72%\n",
      "Hora: 20:00 - Temp: 26.8°C, Condição: Nublado, Chance de chuva: 0%, Umidade: 73%\n",
      "Hora: 21:00 - Temp: 26.5°C, Condição: Possibilidade de chuva irregular, Chance de chuva: 27%, Umidade: 75%\n",
      "Hora: 22:00 - Temp: 26.2°C, Condição: Nublado, Chance de chuva: 55%, Umidade: 77%\n",
      "Hora: 23:00 - Temp: 25.9°C, Condição: Possibilidade de chuva irregular, Chance de chuva: 82%, Umidade: 78%\n",
      "\u001b[0m"
     ]
    },
    {
     "name": "stderr",
     "output_type": "stream",
     "text": [
      "c:\\Users\\Tales\\Python\\AgenteTuristico\\.venv\\lib\\site-packages\\langchain_google_genai\\chat_models.py:310: UserWarning: Convert_system_message_to_human will be deprecated!\n",
      "  warnings.warn(\"Convert_system_message_to_human will be deprecated!\")\n"
     ]
    },
    {
     "name": "stdout",
     "output_type": "stream",
     "text": [
      "\u001b[32;1m\u001b[1;3m```tool_code\n",
      "Thought: Do I need to use a tool? Yes\n",
      "Action: Query RAG\n",
      "Action Input: Atrações turísticas em Natal, Rio Grande do Norte, focadas em praias e restaurantes regionais.\u001b[0m\u001b[38;5;200m\u001b[1;3mATRAÇÕES\n",
      "Em Natal, a vida além da \n",
      "praia garante aquário, museus, \n",
      "parque aquático, cajueiro \n",
      "gigante e estádio de futebol\n",
      "PARQUE  \n",
      "DAS DUNAS\n",
      "Um dos grandes \n",
      "charmes do gigantesco \n",
      "parque é o Bosque dos \n",
      "Namorados, que tem \n",
      "área de piquenique, \n",
      "playground, restaurante e \n",
      "centro de visitantes. Vale \n",
      "a pena também percorrer \n",
      "as trilhas guiadas do \n",
      "parque, com vegetação \n",
      "exuberante. Embora \n",
      "não tenha praia, oferece \n",
      "mirantes com lindas vistas \n",
      "panorâmicas para o mar.\n",
      "FOTOS: SHUTTERSTOCK\n",
      "AQUÁRIO NATAL\n",
      "Na Praia da Redinha, já no \n",
      "caminho para Genipabu, \n",
      "possui cerca de 60 \n",
      "espécies de animais, como \n",
      "moreias, peixes de corais, \n",
      "cavalos-marinhos, jacarés e \n",
      "até mesmo mamíferos, como \n",
      "hipopótamos e jaguatiricas. \n",
      "Você pode passar a mão \n",
      "nas costas dos tubarões e \n",
      "chegar perto dos pinguins.\n",
      "\n",
      "---\n",
      "\n",
      "PRAIA A PRAIA\n",
      "A orla urbana de Natal é marcada por completa estrutura \n",
      "hoteleira, com quiosques atendendo à beira-mar. Da movimentada \n",
      "Ponta Negra à tradicional Redinha, tem praia para todos os gostos!\n",
      "VIA COSTEIRA\n",
      "A continuação da Praia de Ponta Negra acompanha a famosa Via Costeira, principal \n",
      "avenida da cidade. Nessa faixa de areia, ficam os incríveis resorts da cidade, com \n",
      "estrutura completa de lazer e gastronomia. A bela paisagem da região é pontuada por \n",
      "dunas, trechos de Mata Atlântica e também lindas praias desertas.\n",
      "PONTA NEGRA\n",
      "O Morro do Careca é o marco principal da Praia de Ponta Negra e cartão-postal de \n",
      "Natal. Emoldurada por vegetação, a duna de 107 m de altura domina a paisagem – \n",
      "mas é proibido subir nela por questões ambientais. A praia em si é supermovimentada,\n",
      "\n",
      "---\n",
      "\n",
      "PRAIA DA REDINHA\n",
      "A última praia ao norte de Natal é uma antiga vila de pescadores, cujo destaque é o \n",
      "Mercado Público. A tradição ali é comer a ginga com tapioca (peixe frito que vem no \n",
      "palito, dentro de uma tapioca). A Igreja de Nossa Senhora dos Navegantes, construída \n",
      "com pedras dos arrecifes, e o Aquário Natal são outros pontos de interesse.\n",
      "PRAIA DO MEIO\n",
      "Situada entre a Praia do Forte \n",
      "e a Praia dos Artistas, sedia \n",
      "anualmente, durante o Réveillon, \n",
      "a tradicional festa de Iemanjá. Era \n",
      "considerada a praia mais turística \n",
      "da cidade até os anos 1980, \n",
      "devido às formações de piscinas \n",
      "naturais da região.\n",
      "PRAIA DOS ARTISTAS\n",
      "A 5 km do centro de Natal, é uma  \n",
      "das mais agitadas da cidade. Suas \n",
      "ondas altas são ótimas para surfe \n",
      "e outros esportes náuticos. Com\n",
      "\n",
      "---\n",
      "\n",
      "rico de Natal (2010) e Turismo cultural no \n",
      "centro histórico de Natal (2011).\n",
      "Em 2012, alguns acontecimentos \n",
      "vieram a possibilitar a ampliação das \n",
      "ações: a parceria com o Iphan/RN, no \n",
      "projeto de extensão “Formação de tu-\n",
      "tores em educação patrimonial”, a pes-\n",
      "quisa atrelada às bolsas de iniciação tec-\n",
      "nológica intitulada “Estudando o centro \n",
      "histórico de Natal e suas possibilidades \n",
      "para o turismo”, bem como as atividades \n",
      "desenvolvidas pelo “Grupo de Pesquisa \n",
      "Redes Criativas e Colaborativas no Setor \n",
      "Cultural”.\n",
      "Entende-se que, apesar de não ser \n",
      "suficiente, um guia com um roteiro de \n",
      "visitação é essencial para que o centro \n",
      "histórico de Natal dê-se a conhecer, e que \n",
      "este seja um importante passo rumo à \n",
      "preservação do nosso patrimônio cultu-\n",
      "ral. Foi construído com a ideia de que,\n",
      "\n",
      "---\n",
      "\n",
      "EMERENCIANO, João Gothardo Dantas (org.). Natal não – há – \n",
      "tal: aspectos da história da cidade do Natal. Natal: Departamento \n",
      "de Informação, Pesquisa e Estatística/SEMURB/Prefeitura Munici-\n",
      "pal do Natal, 2009.\n",
      "FERRAZ, Valéria de Souza. Mapeando “esquisitices” no centro \n",
      "antigo de Natal, RN. In: V SEMINÁRIO DE PESQUISA EM TURIS-\n",
      "MO DO MERCOSUL – SeminTUR. Turismo: Inovações da Pesquisa \n",
      "na América Latina. Caxias do Sul, 2008. Anais... Disponível em: \n",
      "<http://www.usp.br/fau/depprojeto/labcom/produtos/2008_fer-\n",
      "raz_semintur.pdf>. Acesso em 05  jun. 2012.\n",
      "__________. Turismo Cultural na ZEPH-Ribeira: possibilidades e \n",
      "limitações. Dissertação (Mestrado em Arquitetura e Urbanismo). \n",
      "Universidade Federal do Rio Grande do Norte, Centro de Tecno-\u001b[0m"
     ]
    },
    {
     "name": "stderr",
     "output_type": "stream",
     "text": [
      "c:\\Users\\Tales\\Python\\AgenteTuristico\\.venv\\lib\\site-packages\\langchain_google_genai\\chat_models.py:310: UserWarning: Convert_system_message_to_human will be deprecated!\n",
      "  warnings.warn(\"Convert_system_message_to_human will be deprecated!\")\n"
     ]
    },
    {
     "name": "stdout",
     "output_type": "stream",
     "text": [
      "\u001b[32;1m\u001b[1;3m```tool_code\n",
      "Thought: Do I need to use a tool? No\n",
      "Final Answer: Ótimo! Com base nas informações que você me forneceu, preparei um roteiro para sua viagem a Natal entre os dias 25 e 26 de janeiro de 2025, focado em praias e restaurantes regionais, considerando a previsão do tempo.  Como a previsão indica chuva em grande parte dos dias, incluí opções de atividades internas caso necessário.\n",
      "\n",
      "**Roteiro de Viagem para Natal - 25 e 26 de Janeiro de 2025**\n",
      "\n",
      "**Sábado, 25 de Janeiro de 2025:**\n",
      "\n",
      "* **Manhã (08:00 - 12:00):**  Considerando a alta probabilidade de chuva pela manhã, sugiro começar o dia com uma visita ao Aquário Natal, na Praia da Redinha.  É uma ótima opção para se proteger da chuva e aprender sobre a vida marinha da região.  Após a visita, caso a chuva cesse, você pode caminhar pela Praia da Redinha e observar os pescadores.\n",
      "* **Tarde (13:00 - 17:00):**  A previsão indica uma pequena melhora no tempo à tarde. Aproveite para ir à Praia de Ponta Negra.  Mesmo com possibilidade de chuva, você pode apreciar o Morro do Careca e o ambiente da praia.  Caso chova, visite o Parque das Dunas, que oferece trilhas e um bosque com área de piquenique.\n",
      "* **Noite (18:00 - 22:00):**  Para o jantar, sugiro um restaurante regional em Ponta Negra.  Há diversas opções com frutos do mar e pratos típicos da culinária potiguar.  Após o jantar, você pode aproveitar para caminhar pela orla de Ponta Negra, se o tempo permitir.\n",
      "\n",
      "\n",
      "**Domingo, 26 de Janeiro de 2025:**\n",
      "\n",
      "* **Manhã (08:00 - 12:00):**  A previsão indica chuva pela manhã.  Uma boa opção é visitar o Centro Histórico de Natal, com seus museus e igrejas. Isso permite uma atividade cultural e abrigada da chuva.\n",
      "* **Tarde (13:00 - 17:00):**  A previsão de chuva continua, mas com menor intensidade.  Considere uma visita ao Mercado Público da Praia da Redinha para experimentar a ginga com tapioca, um prato típico da região. Se o tempo melhorar, aproveite para relaxar em uma das praias mais abrigadas, como a Praia do Meio.\n",
      "* **Noite (18:00 - 22:00):**  Para o jantar, explore restaurantes regionais no Centro Histórico ou próximo à sua hospedagem.  Após o jantar, você pode aproveitar para uma última caminhada pela área onde estiver hospedado, se o tempo permitir.\n",
      "\n",
      "**Observações:**\n",
      "\n",
      "Este roteiro é uma sugestão e pode ser adaptado de acordo com suas preferências e as condições climáticas reais.  Lembre-se de que a previsão do tempo pode mudar, então é importante ficar atento às atualizações.\n",
      "\n",
      "Gostaria de salvar esses eventos no seu Calendário Google?\n",
      "```\n",
      "\u001b[0m\n",
      "\n",
      "\u001b[1m> Finished chain.\u001b[0m\n",
      "Ótimo! Com base nas informações que você me forneceu, preparei um roteiro para sua viagem a Natal entre os dias 25 e 26 de janeiro de 2025, focado em praias e restaurantes regionais, considerando a previsão do tempo.  Como a previsão indica chuva em grande parte dos dias, incluí opções de atividades internas caso necessário.\n",
      "\n",
      "**Roteiro de Viagem para Natal - 25 e 26 de Janeiro de 2025**\n",
      "\n",
      "**Sábado, 25 de Janeiro de 2025:**\n",
      "\n",
      "* **Manhã (08:00 - 12:00):**  Considerando a alta probabilidade de chuva pela manhã, sugiro começar o dia com uma visita ao Aquário Natal, na Praia da Redinha.  É uma ótima opção para se proteger da chuva e aprender sobre a vida marinha da região.  Após a visita, caso a chuva cesse, você pode caminhar pela Praia da Redinha e observar os pescadores.\n",
      "* **Tarde (13:00 - 17:00):**  A previsão indica uma pequena melhora no tempo à tarde. Aproveite para ir à Praia de Ponta Negra.  Mesmo com possibilidade de chuva, você pode apreciar o Morro do Careca e o ambiente da praia.  Caso chova, visite o Parque das Dunas, que oferece trilhas e um bosque com área de piquenique.\n",
      "* **Noite (18:00 - 22:00):**  Para o jantar, sugiro um restaurante regional em Ponta Negra.  Há diversas opções com frutos do mar e pratos típicos da culinária potiguar.  Após o jantar, você pode aproveitar para caminhar pela orla de Ponta Negra, se o tempo permitir.\n",
      "\n",
      "\n",
      "**Domingo, 26 de Janeiro de 2025:**\n",
      "\n",
      "* **Manhã (08:00 - 12:00):**  A previsão indica chuva pela manhã.  Uma boa opção é visitar o Centro Histórico de Natal, com seus museus e igrejas. Isso permite uma atividade cultural e abrigada da chuva.\n",
      "* **Tarde (13:00 - 17:00):**  A previsão de chuva continua, mas com menor intensidade.  Considere uma visita ao Mercado Público da Praia da Redinha para experimentar a ginga com tapioca, um prato típico da região. Se o tempo melhorar, aproveite para relaxar em uma das praias mais abrigadas, como a Praia do Meio.\n",
      "* **Noite (18:00 - 22:00):**  Para o jantar, explore restaurantes regionais no Centro Histórico ou próximo à sua hospedagem.  Após o jantar, você pode aproveitar para uma última caminhada pela área onde estiver hospedado, se o tempo permitir.\n",
      "\n",
      "**Observações:**\n",
      "\n",
      "Este roteiro é uma sugestão e pode ser adaptado de acordo com suas preferências e as condições climáticas reais.  Lembre-se de que a previsão do tempo pode mudar, então é importante ficar atento às atualizações.\n",
      "\n",
      "Gostaria de salvar esses eventos no seu Calendário Google?\n",
      "```\n"
     ]
    }
   ],
   "source": [
    "response = travel_agent_executor.invoke({\"input\": 'Eu planejo passar 2 dias da sábado dia 25 de janeiro ao domingo dia 26'})\n",
    "\n",
    "print(response[\"output\"])"
   ]
  },
  {
   "cell_type": "code",
   "execution_count": 20,
   "metadata": {},
   "outputs": [
    {
     "name": "stdout",
     "output_type": "stream",
     "text": [
      "\n",
      "\n",
      "\u001b[1m> Entering new AgentExecutor chain...\u001b[0m\n"
     ]
    },
    {
     "name": "stderr",
     "output_type": "stream",
     "text": [
      "c:\\Users\\Tales\\Python\\AgenteTuristico\\.venv\\lib\\site-packages\\langchain_google_genai\\chat_models.py:310: UserWarning: Convert_system_message_to_human will be deprecated!\n",
      "  warnings.warn(\"Convert_system_message_to_human will be deprecated!\")\n"
     ]
    },
    {
     "name": "stdout",
     "output_type": "stream",
     "text": [
      "\u001b[32;1m\u001b[1;3m```tool_code\n",
      "Thought: Do I need to use a tool? Yes\n",
      "Action: Calendar Agent\n",
      "Action Input: Por favor, crie um novo calendário no Google Calendar chamado \"Janeiro em Natal 2025\" e adicione os seguintes eventos:\n",
      "\n",
      "**Sábado, 25 de Janeiro de 2025:**\n",
      "\n",
      "* **Manhã (08:00 - 12:00):** Visita ao Aquário Natal (Praia da Redinha).  Alternativa: Caminhada na Praia da Redinha (dependendo do tempo).\n",
      "* **Tarde (13:00 - 17:00):** Praia de Ponta Negra. Alternativa: Parque das Dunas.\n",
      "* **Noite (18:00 - 22:00):** Jantar em restaurante regional em Ponta Negra.  Alternativa: Caminhada na orla de Ponta Negra (dependendo do tempo).\n",
      "\n",
      "\n",
      "**Domingo, 26 de Janeiro de 2025:**\n",
      "\n",
      "* **Manhã (08:00 - 12:00):** Visita ao Centro Histórico de Natal (museus e igrejas).\n",
      "* **Tarde (13:00 - 17:00):** Mercado Público da Praia da Redinha (experimente ginga com tapioca). Alternativa: Praia do Meio (dependendo do tempo).\n",
      "* **Noite (18:00 - 22:00):** Jantar em restaurante regional no Centro Histórico ou próximo à hospedagem. Alternativa: Caminhada pela área da hospedagem (dependendo do tempo).\n",
      "\n",
      "Por favor, me informe se os eventos foram adicionados com sucesso.\u001b[0m\n",
      "\n",
      "\u001b[1m> Entering new AgentExecutor chain...\u001b[0m\n"
     ]
    },
    {
     "name": "stderr",
     "output_type": "stream",
     "text": [
      "c:\\Users\\Tales\\Python\\AgenteTuristico\\.venv\\lib\\site-packages\\langchain_google_genai\\chat_models.py:310: UserWarning: Convert_system_message_to_human will be deprecated!\n",
      "  warnings.warn(\"Convert_system_message_to_human will be deprecated!\")\n"
     ]
    },
    {
     "name": "stdout",
     "output_type": "stream",
     "text": [
      "\u001b[32;1m\u001b[1;3m```tool_code\n",
      "Thought: Do I need to use a tool? Yes\n",
      "Action: Create Calendar List\n",
      "Action Input: Janeiro em Natal 2025\u001b[0m\u001b[36;1m\u001b[1;3m{'kind': 'calendar#calendar', 'etag': '\"KvIJaBXh0pJHTctqT64toffNYps\"', 'id': 'a258385c9ce84f151edb2fe6eaf8844e2e9e4d100496d0c8c5dd7d97d214f487@group.calendar.google.com', 'summary': 'Janeiro em Natal 2025', 'timeZone': 'UTC', 'conferenceProperties': {'allowedConferenceSolutionTypes': ['hangoutsMeet']}}\u001b[0m"
     ]
    },
    {
     "name": "stderr",
     "output_type": "stream",
     "text": [
      "c:\\Users\\Tales\\Python\\AgenteTuristico\\.venv\\lib\\site-packages\\langchain_google_genai\\chat_models.py:310: UserWarning: Convert_system_message_to_human will be deprecated!\n",
      "  warnings.warn(\"Convert_system_message_to_human will be deprecated!\")\n"
     ]
    },
    {
     "name": "stdout",
     "output_type": "stream",
     "text": [
      "\u001b[32;1m\u001b[1;3m```tool_code\n",
      "Do I need to use a tool? Yes\n",
      "Action: Insert Calendar Event\n",
      "Action Input: Agendar visita ao Aquário Natal no sábado, 25 de janeiro de 2025, das 8h às 12h, na Praia da Redinha.  Alternativa: Caminhada na Praia da Redinha (dependendo do tempo).  calendar_id: a258385c9ce84f151edb2fe6eaf8844e2e9e4d100496d0c8c5dd7d97d214f487@group.calendar.google.com\u001b[0m"
     ]
    },
    {
     "name": "stderr",
     "output_type": "stream",
     "text": [
      "c:\\Users\\Tales\\Python\\AgenteTuristico\\.venv\\lib\\site-packages\\langchain_google_genai\\chat_models.py:310: UserWarning: Convert_system_message_to_human will be deprecated!\n",
      "  warnings.warn(\"Convert_system_message_to_human will be deprecated!\")\n"
     ]
    },
    {
     "name": "stdout",
     "output_type": "stream",
     "text": [
      "\u001b[36;1m\u001b[1;3m{'kind': 'calendar#event', 'etag': '\"3474312156140000\"', 'id': '1eeg50i0jun3hevbnei1jhvrg0', 'status': 'confirmed', 'htmlLink': 'https://www.google.com/calendar/event?eid=MWVlZzUwaTBqdW4zaGV2Ym5laTFqaHZyZzAgYTI1ODM4NWM5Y2U4NGYxNTFlZGIyZmU2ZWFmODg0NGUyZTllNGQxMDA0OTZkMGM4YzVkZDdkOTdkMjE0ZjQ4N0Bn', 'created': '2025-01-17T23:21:18.000Z', 'updated': '2025-01-17T23:21:18.070Z', 'summary': 'Visita ao Aquário Natal', 'description': 'Visita ao Aquário Natal na Praia da Redinha. Alternativa: Caminhada na Praia da Redinha (dependendo do tempo).', 'location': 'Praia da Redinha', 'creator': {'email': 'tales.v.m.alves@gmail.com'}, 'organizer': {'email': 'a258385c9ce84f151edb2fe6eaf8844e2e9e4d100496d0c8c5dd7d97d214f487@group.calendar.google.com', 'displayName': 'Janeiro em Natal 2025', 'self': True}, 'start': {'dateTime': '2025-01-25T11:00:00Z', 'timeZone': 'America/Fortaleza'}, 'end': {'dateTime': '2025-01-25T15:00:00Z', 'timeZone': 'America/Fortaleza'}, 'iCalUID': '1eeg50i0jun3hevbnei1jhvrg0@google.com', 'sequence': 0, 'reminders': {'useDefault': True}, 'eventType': 'default'}\u001b[0m"
     ]
    },
    {
     "name": "stderr",
     "output_type": "stream",
     "text": [
      "c:\\Users\\Tales\\Python\\AgenteTuristico\\.venv\\lib\\site-packages\\langchain_google_genai\\chat_models.py:310: UserWarning: Convert_system_message_to_human will be deprecated!\n",
      "  warnings.warn(\"Convert_system_message_to_human will be deprecated!\")\n"
     ]
    },
    {
     "name": "stdout",
     "output_type": "stream",
     "text": [
      "\u001b[32;1m\u001b[1;3m```tool_code\n",
      "Do I need to use a tool? Yes\n",
      "Action: Insert Calendar Event\n",
      "Action Input: Agendar Praia de Ponta Negra no sábado, 25 de janeiro de 2025, das 13h às 17h. Alternativa: Parque das Dunas. calendar_id: a258385c9ce84f151edb2fe6eaf8844e2e9e4d100496d0c8c5dd7d97d214f487@group.calendar.google.com\u001b[0m"
     ]
    },
    {
     "name": "stderr",
     "output_type": "stream",
     "text": [
      "c:\\Users\\Tales\\Python\\AgenteTuristico\\.venv\\lib\\site-packages\\langchain_google_genai\\chat_models.py:310: UserWarning: Convert_system_message_to_human will be deprecated!\n",
      "  warnings.warn(\"Convert_system_message_to_human will be deprecated!\")\n"
     ]
    },
    {
     "name": "stdout",
     "output_type": "stream",
     "text": [
      "\u001b[36;1m\u001b[1;3m{'kind': 'calendar#event', 'etag': '\"3474312167288000\"', 'id': 'spaluehn8t5ppvrk4pr5hcb65s', 'status': 'confirmed', 'htmlLink': 'https://www.google.com/calendar/event?eid=c3BhbHVlaG44dDVwcHZyazRwcjVoY2I2NXMgYTI1ODM4NWM5Y2U4NGYxNTFlZGIyZmU2ZWFmODg0NGUyZTllNGQxMDA0OTZkMGM4YzVkZDdkOTdkMjE0ZjQ4N0Bn', 'created': '2025-01-17T23:21:23.000Z', 'updated': '2025-01-17T23:21:23.644Z', 'summary': 'Praia de Ponta Negra', 'description': 'Alternativa: Parque das Dunas', 'location': 'Praia de Ponta Negra', 'creator': {'email': 'tales.v.m.alves@gmail.com'}, 'organizer': {'email': 'a258385c9ce84f151edb2fe6eaf8844e2e9e4d100496d0c8c5dd7d97d214f487@group.calendar.google.com', 'displayName': 'Janeiro em Natal 2025', 'self': True}, 'start': {'dateTime': '2025-01-25T16:00:00Z', 'timeZone': 'America/Fortaleza'}, 'end': {'dateTime': '2025-01-25T20:00:00Z', 'timeZone': 'America/Fortaleza'}, 'iCalUID': 'spaluehn8t5ppvrk4pr5hcb65s@google.com', 'sequence': 0, 'reminders': {'useDefault': True}, 'eventType': 'default'}\u001b[0m"
     ]
    },
    {
     "name": "stderr",
     "output_type": "stream",
     "text": [
      "c:\\Users\\Tales\\Python\\AgenteTuristico\\.venv\\lib\\site-packages\\langchain_google_genai\\chat_models.py:310: UserWarning: Convert_system_message_to_human will be deprecated!\n",
      "  warnings.warn(\"Convert_system_message_to_human will be deprecated!\")\n"
     ]
    },
    {
     "name": "stdout",
     "output_type": "stream",
     "text": [
      "\u001b[32;1m\u001b[1;3m```tool_code\n",
      "Do I need to use a tool? Yes\n",
      "Action: Insert Calendar Event\n",
      "Action Input: Agendar Jantar em restaurante regional em Ponta Negra no sábado, 25 de janeiro de 2025, das 18h às 22h. Alternativa: Caminhada na orla de Ponta Negra (dependendo do tempo). calendar_id: a258385c9ce84f151edb2fe6eaf8844e2e9e4d100496d0c8c5dd7d97d214f487@group.calendar.google.com\u001b[0m"
     ]
    },
    {
     "name": "stderr",
     "output_type": "stream",
     "text": [
      "c:\\Users\\Tales\\Python\\AgenteTuristico\\.venv\\lib\\site-packages\\langchain_google_genai\\chat_models.py:310: UserWarning: Convert_system_message_to_human will be deprecated!\n",
      "  warnings.warn(\"Convert_system_message_to_human will be deprecated!\")\n"
     ]
    },
    {
     "name": "stdout",
     "output_type": "stream",
     "text": [
      "\u001b[36;1m\u001b[1;3m{'kind': 'calendar#event', 'etag': '\"3474312179174000\"', 'id': '6njtoa3brcs2mr2av99ool8evo', 'status': 'confirmed', 'htmlLink': 'https://www.google.com/calendar/event?eid=Nm5qdG9hM2JyY3MybXIyYXY5OW9vbDhldm8gYTI1ODM4NWM5Y2U4NGYxNTFlZGIyZmU2ZWFmODg0NGUyZTllNGQxMDA0OTZkMGM4YzVkZDdkOTdkMjE0ZjQ4N0Bn', 'created': '2025-01-17T23:21:29.000Z', 'updated': '2025-01-17T23:21:29.587Z', 'summary': 'Jantar em restaurante regional em Ponta Negra', 'description': 'Jantar em restaurante regional em Ponta Negra. Alternativa: Caminhada na orla de Ponta Negra (dependendo do tempo).', 'location': 'Ponta Negra', 'creator': {'email': 'tales.v.m.alves@gmail.com'}, 'organizer': {'email': 'a258385c9ce84f151edb2fe6eaf8844e2e9e4d100496d0c8c5dd7d97d214f487@group.calendar.google.com', 'displayName': 'Janeiro em Natal 2025', 'self': True}, 'start': {'dateTime': '2025-01-25T21:00:00Z', 'timeZone': 'America/Fortaleza'}, 'end': {'dateTime': '2025-01-26T01:00:00Z', 'timeZone': 'America/Fortaleza'}, 'iCalUID': '6njtoa3brcs2mr2av99ool8evo@google.com', 'sequence': 0, 'reminders': {'useDefault': True}, 'eventType': 'default'}\u001b[0m"
     ]
    },
    {
     "name": "stderr",
     "output_type": "stream",
     "text": [
      "c:\\Users\\Tales\\Python\\AgenteTuristico\\.venv\\lib\\site-packages\\langchain_google_genai\\chat_models.py:310: UserWarning: Convert_system_message_to_human will be deprecated!\n",
      "  warnings.warn(\"Convert_system_message_to_human will be deprecated!\")\n"
     ]
    },
    {
     "name": "stdout",
     "output_type": "stream",
     "text": [
      "\u001b[32;1m\u001b[1;3m```tool_code\n",
      "Do I need to use a tool? Yes\n",
      "Action: Insert Calendar Event\n",
      "Action Input: Agendar Visita ao Centro Histórico de Natal no domingo, 26 de janeiro de 2025, das 8h às 12h. calendar_id: a258385c9ce84f151edb2fe6eaf8844e2e9e4d100496d0c8c5dd7d97d214f487@group.calendar.google.com\u001b[0m"
     ]
    },
    {
     "name": "stderr",
     "output_type": "stream",
     "text": [
      "c:\\Users\\Tales\\Python\\AgenteTuristico\\.venv\\lib\\site-packages\\langchain_google_genai\\chat_models.py:310: UserWarning: Convert_system_message_to_human will be deprecated!\n",
      "  warnings.warn(\"Convert_system_message_to_human will be deprecated!\")\n"
     ]
    },
    {
     "name": "stdout",
     "output_type": "stream",
     "text": [
      "\u001b[36;1m\u001b[1;3m{'kind': 'calendar#event', 'etag': '\"3474312189746000\"', 'id': 't8pk3q5t5hfb2g9h20d6ja76js', 'status': 'confirmed', 'htmlLink': 'https://www.google.com/calendar/event?eid=dDhwazNxNXQ1aGZiMmc5aDIwZDZqYTc2anMgYTI1ODM4NWM5Y2U4NGYxNTFlZGIyZmU2ZWFmODg0NGUyZTllNGQxMDA0OTZkMGM4YzVkZDdkOTdkMjE0ZjQ4N0Bn', 'created': '2025-01-17T23:21:34.000Z', 'updated': '2025-01-17T23:21:34.873Z', 'summary': 'Visita ao Centro Histórico de Natal', 'location': 'Centro Histórico de Natal', 'creator': {'email': 'tales.v.m.alves@gmail.com'}, 'organizer': {'email': 'a258385c9ce84f151edb2fe6eaf8844e2e9e4d100496d0c8c5dd7d97d214f487@group.calendar.google.com', 'displayName': 'Janeiro em Natal 2025', 'self': True}, 'start': {'dateTime': '2025-01-26T11:00:00Z', 'timeZone': 'America/Fortaleza'}, 'end': {'dateTime': '2025-01-26T15:00:00Z', 'timeZone': 'America/Fortaleza'}, 'iCalUID': 't8pk3q5t5hfb2g9h20d6ja76js@google.com', 'sequence': 0, 'reminders': {'useDefault': True}, 'eventType': 'default'}\u001b[0m"
     ]
    },
    {
     "name": "stderr",
     "output_type": "stream",
     "text": [
      "c:\\Users\\Tales\\Python\\AgenteTuristico\\.venv\\lib\\site-packages\\langchain_google_genai\\chat_models.py:310: UserWarning: Convert_system_message_to_human will be deprecated!\n",
      "  warnings.warn(\"Convert_system_message_to_human will be deprecated!\")\n"
     ]
    },
    {
     "name": "stdout",
     "output_type": "stream",
     "text": [
      "\u001b[32;1m\u001b[1;3m```tool_code\n",
      "Do I need to use a tool? Yes\n",
      "Action: Insert Calendar Event\n",
      "Action Input: Agendar Mercado Público da Praia da Redinha no domingo, 26 de janeiro de 2025, das 13h às 17h. Experimente ginga com tapioca. Alternativa: Praia do Meio (dependendo do tempo). calendar_id: a258385c9ce84f151edb2fe6eaf8844e2e9e4d100496d0c8c5dd7d97d214f487@group.calendar.google.com\u001b[0m"
     ]
    },
    {
     "name": "stderr",
     "output_type": "stream",
     "text": [
      "c:\\Users\\Tales\\Python\\AgenteTuristico\\.venv\\lib\\site-packages\\langchain_google_genai\\chat_models.py:310: UserWarning: Convert_system_message_to_human will be deprecated!\n",
      "  warnings.warn(\"Convert_system_message_to_human will be deprecated!\")\n"
     ]
    },
    {
     "name": "stdout",
     "output_type": "stream",
     "text": [
      "\u001b[36;1m\u001b[1;3m{'kind': 'calendar#event', 'etag': '\"3474312201642000\"', 'id': 'ltfn95vi3t08ctsv8qihqlvakg', 'status': 'confirmed', 'htmlLink': 'https://www.google.com/calendar/event?eid=bHRmbjk1dmkzdDA4Y3RzdjhxaWhxbHZha2cgYTI1ODM4NWM5Y2U4NGYxNTFlZGIyZmU2ZWFmODg0NGUyZTllNGQxMDA0OTZkMGM4YzVkZDdkOTdkMjE0ZjQ4N0Bn', 'created': '2025-01-17T23:21:40.000Z', 'updated': '2025-01-17T23:21:40.821Z', 'summary': 'Mercado Público da Praia da Redinha', 'description': 'Experimente ginga com tapioca.', 'location': 'Praia da Redinha (Alternativa: Praia do Meio, dependendo do tempo)', 'creator': {'email': 'tales.v.m.alves@gmail.com'}, 'organizer': {'email': 'a258385c9ce84f151edb2fe6eaf8844e2e9e4d100496d0c8c5dd7d97d214f487@group.calendar.google.com', 'displayName': 'Janeiro em Natal 2025', 'self': True}, 'start': {'dateTime': '2025-01-26T16:00:00Z', 'timeZone': 'America/Fortaleza'}, 'end': {'dateTime': '2025-01-26T20:00:00Z', 'timeZone': 'America/Fortaleza'}, 'iCalUID': 'ltfn95vi3t08ctsv8qihqlvakg@google.com', 'sequence': 0, 'reminders': {'useDefault': True}, 'eventType': 'default'}\u001b[0m"
     ]
    },
    {
     "name": "stderr",
     "output_type": "stream",
     "text": [
      "c:\\Users\\Tales\\Python\\AgenteTuristico\\.venv\\lib\\site-packages\\langchain_google_genai\\chat_models.py:310: UserWarning: Convert_system_message_to_human will be deprecated!\n",
      "  warnings.warn(\"Convert_system_message_to_human will be deprecated!\")\n"
     ]
    },
    {
     "name": "stdout",
     "output_type": "stream",
     "text": [
      "\u001b[32;1m\u001b[1;3m```tool_code\n",
      "Do I need to use a tool? Yes\n",
      "Action: Insert Calendar Event\n",
      "Action Input: Agendar Jantar em restaurante regional no Centro Histórico ou próximo à hospedagem no domingo, 26 de janeiro de 2025, das 18h às 22h. Alternativa: Caminhada pela área da hospedagem (dependendo do tempo). calendar_id: a258385c9ce84f151edb2fe6eaf8844e2e9e4d100496d0c8c5dd7d97d214f487@group.calendar.google.com\u001b[0m"
     ]
    },
    {
     "name": "stderr",
     "output_type": "stream",
     "text": [
      "c:\\Users\\Tales\\Python\\AgenteTuristico\\.venv\\lib\\site-packages\\langchain_google_genai\\chat_models.py:310: UserWarning: Convert_system_message_to_human will be deprecated!\n",
      "  warnings.warn(\"Convert_system_message_to_human will be deprecated!\")\n",
      "c:\\Users\\Tales\\Python\\AgenteTuristico\\.venv\\lib\\site-packages\\langchain_google_genai\\chat_models.py:310: UserWarning: Convert_system_message_to_human will be deprecated!\n",
      "  warnings.warn(\"Convert_system_message_to_human will be deprecated!\")\n"
     ]
    },
    {
     "name": "stdout",
     "output_type": "stream",
     "text": [
      "\u001b[36;1m\u001b[1;3m{'kind': 'calendar#event', 'etag': '\"3474312213664000\"', 'id': 'd18fqfbn4jam2nsi81q6ohhqdg', 'status': 'confirmed', 'htmlLink': 'https://www.google.com/calendar/event?eid=ZDE4ZnFmYm40amFtMm5zaTgxcTZvaGhxZGcgYTI1ODM4NWM5Y2U4NGYxNTFlZGIyZmU2ZWFmODg0NGUyZTllNGQxMDA0OTZkMGM4YzVkZDdkOTdkMjE0ZjQ4N0Bn', 'created': '2025-01-17T23:21:46.000Z', 'updated': '2025-01-17T23:21:46.832Z', 'summary': 'Jantar em restaurante regional', 'description': 'Jantar em restaurante regional no Centro Histórico ou próximo à hospedagem. Alternativa: Caminhada pela área da hospedagem (dependendo do tempo).', 'location': 'Centro Histórico ou próximo à hospedagem', 'creator': {'email': 'tales.v.m.alves@gmail.com'}, 'organizer': {'email': 'a258385c9ce84f151edb2fe6eaf8844e2e9e4d100496d0c8c5dd7d97d214f487@group.calendar.google.com', 'displayName': 'Janeiro em Natal 2025', 'self': True}, 'start': {'dateTime': '2025-01-26T21:00:00Z', 'timeZone': 'America/Fortaleza'}, 'end': {'dateTime': '2025-01-27T01:00:00Z', 'timeZone': 'America/Fortaleza'}, 'iCalUID': 'd18fqfbn4jam2nsi81q6ohhqdg@google.com', 'sequence': 0, 'reminders': {'useDefault': True}, 'eventType': 'default'}\u001b[0m\u001b[32;1m\u001b[1;3m```tool_code\n",
      "Do I need to use a tool? No\n",
      "Final Answer: Os eventos foram adicionados com sucesso ao calendário \"Janeiro em Natal 2025\".  Você pode acessá-lo através do link: [https://www.google.com/calendar]\n",
      "```\n",
      "\u001b[0m\n",
      "\n",
      "\u001b[1m> Finished chain.\u001b[0m\n",
      "\u001b[36;1m\u001b[1;3m{'input': 'Por favor, crie um novo calendário no Google Calendar chamado \"Janeiro em Natal 2025\" e adicione os seguintes eventos:\\n\\n**Sábado, 25 de Janeiro de 2025:**\\n\\n* **Manhã (08:00 - 12:00):** Visita ao Aquário Natal (Praia da Redinha).  Alternativa: Caminhada na Praia da Redinha (dependendo do tempo).\\n* **Tarde (13:00 - 17:00):** Praia de Ponta Negra. Alternativa: Parque das Dunas.\\n* **Noite (18:00 - 22:00):** Jantar em restaurante regional em Ponta Negra.  Alternativa: Caminhada na orla de Ponta Negra (dependendo do tempo).\\n\\n\\n**Domingo, 26 de Janeiro de 2025:**\\n\\n* **Manhã (08:00 - 12:00):** Visita ao Centro Histórico de Natal (museus e igrejas).\\n* **Tarde (13:00 - 17:00):** Mercado Público da Praia da Redinha (experimente ginga com tapioca). Alternativa: Praia do Meio (dependendo do tempo).\\n* **Noite (18:00 - 22:00):** Jantar em restaurante regional no Centro Histórico ou próximo à hospedagem. Alternativa: Caminhada pela área da hospedagem (dependendo do tempo).\\n\\nPor favor, me informe se os eventos foram adicionados com sucesso.', 'chat_history': 'Human: Boa noite\\nAI: Boa noite! Para onde você está planejando viajar?\\nHuman: Eu estou planejando visitar Natal no Rio Grande do Norte\\nAI: Ótimo! Natal é uma excelente escolha.  Quais atividades ou experiências você está buscando nessa viagem? Por exemplo, prefere explorar praias, restaurantes, eventos, museus, história, cultura, vida noturna, natureza, ou algo mais?\\nHuman: Eu planejo visitar praias e restaurantes regionais\\nAI: Perfeito! Praias e restaurantes regionais são ótimos planos para Natal.  Tem um orçamento em mente ou um limite de gastos que gostaria de seguir durante a viagem?\\nHuman: Eu ainda não sei\\nAI: Tudo bem! Sem problemas.  Você segue alguma dieta específica ou tem restrições alimentares, como alergias, que devo levar em consideração?\\n```\\nHuman: Não possuo nenhuma restrição alimentar.\\nAI: Ok! Sem restrições alimentares, ótimo. Quantos dias você pretende passar em Natal?\\n```\\nHuman: Eu planejo passar 2 dias da sábado dia 25 de janeiro ao domingo dia 26\\nAI: Ótimo! Com base nas informações que você me forneceu, preparei um roteiro para sua viagem a Natal entre os dias 25 e 26 de janeiro de 2025, focado em praias e restaurantes regionais, considerando a previsão do tempo.  Como a previsão indica chuva em grande parte dos dias, incluí opções de atividades internas caso necessário.\\n\\n**Roteiro de Viagem para Natal - 25 e 26 de Janeiro de 2025**\\n\\n**Sábado, 25 de Janeiro de 2025:**\\n\\n* **Manhã (08:00 - 12:00):**  Considerando a alta probabilidade de chuva pela manhã, sugiro começar o dia com uma visita ao Aquário Natal, na Praia da Redinha.  É uma ótima opção para se proteger da chuva e aprender sobre a vida marinha da região.  Após a visita, caso a chuva cesse, você pode caminhar pela Praia da Redinha e observar os pescadores.\\n* **Tarde (13:00 - 17:00):**  A previsão indica uma pequena melhora no tempo à tarde. Aproveite para ir à Praia de Ponta Negra.  Mesmo com possibilidade de chuva, você pode apreciar o Morro do Careca e o ambiente da praia.  Caso chova, visite o Parque das Dunas, que oferece trilhas e um bosque com área de piquenique.\\n* **Noite (18:00 - 22:00):**  Para o jantar, sugiro um restaurante regional em Ponta Negra.  Há diversas opções com frutos do mar e pratos típicos da culinária potiguar.  Após o jantar, você pode aproveitar para caminhar pela orla de Ponta Negra, se o tempo permitir.\\n\\n\\n**Domingo, 26 de Janeiro de 2025:**\\n\\n* **Manhã (08:00 - 12:00):**  A previsão indica chuva pela manhã.  Uma boa opção é visitar o Centro Histórico de Natal, com seus museus e igrejas. Isso permite uma atividade cultural e abrigada da chuva.\\n* **Tarde (13:00 - 17:00):**  A previsão de chuva continua, mas com menor intensidade.  Considere uma visita ao Mercado Público da Praia da Redinha para experimentar a ginga com tapioca, um prato típico da região. Se o tempo melhorar, aproveite para relaxar em uma das praias mais abrigadas, como a Praia do Meio.\\n* **Noite (18:00 - 22:00):**  Para o jantar, explore restaurantes regionais no Centro Histórico ou próximo à sua hospedagem.  Após o jantar, você pode aproveitar para uma última caminhada pela área onde estiver hospedado, se o tempo permitir.\\n\\n**Observações:**\\n\\nEste roteiro é uma sugestão e pode ser adaptado de acordo com suas preferências e as condições climáticas reais.  Lembre-se de que a previsão do tempo pode mudar, então é importante ficar atento às atualizações.\\n\\nGostaria de salvar esses eventos no seu Calendário Google?\\n```', 'output': 'Os eventos foram adicionados com sucesso ao calendário \"Janeiro em Natal 2025\".  Você pode acessá-lo através do link: [https://www.google.com/calendar]\\n```'}\u001b[0m"
     ]
    },
    {
     "name": "stderr",
     "output_type": "stream",
     "text": [
      "c:\\Users\\Tales\\Python\\AgenteTuristico\\.venv\\lib\\site-packages\\langchain_google_genai\\chat_models.py:310: UserWarning: Convert_system_message_to_human will be deprecated!\n",
      "  warnings.warn(\"Convert_system_message_to_human will be deprecated!\")\n"
     ]
    },
    {
     "name": "stdout",
     "output_type": "stream",
     "text": [
      "\u001b[32;1m\u001b[1;3mThought: Do I need to use a tool? No\n",
      "Final Answer: Ótimo!  Os eventos foram adicionados ao seu Calendário Google.  Aproveite sua viagem a Natal!  Se precisar de mais alguma coisa, é só me avisar.\n",
      "\u001b[0m\n",
      "\n",
      "\u001b[1m> Finished chain.\u001b[0m\n",
      "Ótimo!  Os eventos foram adicionados ao seu Calendário Google.  Aproveite sua viagem a Natal!  Se precisar de mais alguma coisa, é só me avisar.\n"
     ]
    }
   ],
   "source": [
    "response = travel_agent_executor.invoke({\"input\": 'Eu quero que você salve os eventos sugeridos no meu calendário google, no novo calendário chamado Janeiro em Natal 2025.'})\n",
    "\n",
    "print(response[\"output\"])"
   ]
  },
  {
   "cell_type": "code",
   "execution_count": null,
   "metadata": {},
   "outputs": [],
   "source": [
    "print(response[\"chat_history\"])"
   ]
  }
 ],
 "metadata": {
  "colab": {
   "provenance": []
  },
  "kernelspec": {
   "display_name": ".venv",
   "language": "python",
   "name": "python3"
  },
  "language_info": {
   "codemirror_mode": {
    "name": "ipython",
    "version": 3
   },
   "file_extension": ".py",
   "mimetype": "text/x-python",
   "name": "python",
   "nbconvert_exporter": "python",
   "pygments_lexer": "ipython3",
   "version": "3.10.11"
  }
 },
 "nbformat": 4,
 "nbformat_minor": 0
}
