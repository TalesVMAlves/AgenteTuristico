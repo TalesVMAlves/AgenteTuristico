{
 "cells": [
  {
   "cell_type": "code",
   "execution_count": 1,
   "metadata": {
    "colab": {
     "base_uri": "https://localhost:8080/"
    },
    "id": "4gIXtYDb4o3o",
    "outputId": "b74b0d76-37d0-427c-c8fd-fb9a9337d061"
   },
   "outputs": [
    {
     "name": "stderr",
     "output_type": "stream",
     "text": [
      "c:\\Users\\Tales\\Python\\AgenteTuristico\\.venv\\lib\\site-packages\\tqdm\\auto.py:21: TqdmWarning: IProgress not found. Please update jupyter and ipywidgets. See https://ipywidgets.readthedocs.io/en/stable/user_install.html\n",
      "  from .autonotebook import tqdm as notebook_tqdm\n"
     ]
    }
   ],
   "source": [
    "import os\n",
    "\n",
    "from langchain.agents import Tool\n",
    "from langchain.memory import ChatMessageHistory, ConversationBufferWindowMemory\n",
    "from langchain_google_genai import (\n",
    "    ChatGoogleGenerativeAI,\n",
    "    HarmBlockThreshold,\n",
    "    HarmCategory,\n",
    ")\n",
    "from langchain.utilities import DuckDuckGoSearchAPIWrapper\n",
    "from langchain.agents import AgentExecutor\n",
    "from langchain import hub\n",
    "from langchain.agents.format_scratchpad import format_log_to_str\n",
    "from langchain.agents.output_parsers import ReActSingleInputOutputParser\n",
    "from langchain.tools.render import render_text_description"
   ]
  },
  {
   "cell_type": "code",
   "execution_count": 2,
   "metadata": {},
   "outputs": [],
   "source": [
    "from datetime import datetime\n",
    "hoje = datetime.today()\n",
    "\n",
    "data_formatada = hoje.strftime(\"%Y/%m/%d\")\n",
    "# Pega o dia da semana em inglês\n",
    "dia_da_semana_ingles = hoje.strftime(\"%A\")\n",
    "\n",
    "# Dicionário para mapear os dias da semana de inglês para português\n",
    "dias_da_semana_pt = {\n",
    "    \"Monday\": \"segunda-feira\",\n",
    "    \"Tuesday\": \"terça-feira\",\n",
    "    \"Wednesday\": \"quarta-feira\",\n",
    "    \"Thursday\": \"quinta-feira\",\n",
    "    \"Friday\": \"sexta-feira\",\n",
    "    \"Saturday\": \"sábado\",\n",
    "    \"Sunday\": \"domingo\"\n",
    "}\n",
    "\n",
    "# Traduz o dia da semana para português\n",
    "dia_da_semana_pt = dias_da_semana_pt.get(dia_da_semana_ingles, dia_da_semana_ingles)\n",
    "\n",
    "# Formata a data para utilizar no prompt\n",
    "data_atual = f\"{dia_da_semana_pt}, {data_formatada}\""
   ]
  },
  {
   "cell_type": "code",
   "execution_count": 3,
   "metadata": {
    "id": "oRYlHV3fy_Iq"
   },
   "outputs": [],
   "source": [
    "#(https://makersuite.google.com/)\n",
    "from dotenv import load_dotenv\n",
    "\n",
    "load_dotenv()\n",
    "os.environ[\"GOOGLE_API_KEY\"] = os.getenv('GENERATIVE_LANGUAGE_API_KEY')\n",
    "os.environ[\"LANGCHAIN_API_KEY\"] = os.getenv('LANGCHAIN_API_KEY')"
   ]
  },
  {
   "cell_type": "code",
   "execution_count": 4,
   "metadata": {
    "id": "FEDgMFo84iGY"
   },
   "outputs": [],
   "source": [
    "llm = ChatGoogleGenerativeAI(\n",
    "    model=\"gemini-1.5-flash\",\n",
    "    convert_system_message_to_human=True,\n",
    "    handle_parsing_errors=True,\n",
    "    temperature=0.6,\n",
    "    max_tokens= 1000,\n",
    "    safety_settings = {\n",
    "        HarmCategory.HARM_CATEGORY_HARASSMENT: HarmBlockThreshold.BLOCK_ONLY_HIGH,\n",
    "        HarmCategory.HARM_CATEGORY_HATE_SPEECH: HarmBlockThreshold.BLOCK_ONLY_HIGH,\n",
    "        HarmCategory.HARM_CATEGORY_SEXUALLY_EXPLICIT: HarmBlockThreshold.BLOCK_ONLY_HIGH,\n",
    "        HarmCategory.HARM_CATEGORY_DANGEROUS_CONTENT: HarmBlockThreshold.BLOCK_ONLY_HIGH,\n",
    "    },\n",
    ")"
   ]
  },
  {
   "cell_type": "code",
   "execution_count": 5,
   "metadata": {
    "id": "EY14yxCD4OzY"
   },
   "outputs": [],
   "source": [
    "from planing_tools import weatherapi_forecast_periods, query_rag\n",
    "ddg_search = DuckDuckGoSearchAPIWrapper()\n",
    "\n",
    "travel_planing_tools = [\n",
    "    Tool(\n",
    "        name=\"DuckDuckGo Search\",\n",
    "        func=ddg_search.run,\n",
    "        description=\"\"\"Essa ferramenta DEVE ser utilizada para buscar eventos relevantes no período fornecido pelo usuário. \n",
    "        Ela é útil para obter informações sobre eventos ou atividades especiais que estão acontecendo na cidade de destino nas datas que o usuário informou. \n",
    "        O modelo deve usá-la para complementar as sugestões de atividades.\"\"\"\n",
    "    ),\n",
    "    Tool(\n",
    "        name=\"Weather Forecast\",\n",
    "        func=weatherapi_forecast_periods,\n",
    "        description=\"\"\"Essa ferramenta deve ser usada apenas quando o modelo já tiver todas as informações necessárias para gerar o roteiro e o usuário já tiver fornecido as datas exatas. \n",
    "        Se o usuário pedir informações para um período de tempo, o modelo deve consultar o clima separadamente para cada dia desse período. \n",
    "        Ela deve ser usada quando a previsão do tempo for um fator importante para o planejamento, mas apenas depois que o modelo tiver claro os detalhes do itinerário.\"\"\"\n",
    "    ),\n",
    "    Tool(\n",
    "        name=\"Query RAG\",\n",
    "        func=query_rag,\n",
    "        description=\"\"\"Esta ferramenta deve ser usada quando o modelo souber a cidade de destino e os interesses do usuário, com o objetivo de fornecer informações sobre pontos turísticos e atrações que se alinham com esses interesses. \n",
    "        O modelo deve utilizar essa ferramenta para sugerir atividades e lugares específicos a visitar, baseados na cidade e nos interesses fornecidos.\"\"\"\n",
    "    )\n",
    "]"
   ]
  },
  {
   "cell_type": "code",
   "execution_count": 6,
   "metadata": {},
   "outputs": [
    {
     "name": "stdout",
     "output_type": "stream",
     "text": [
      "calendar v3 service created successfully\n"
     ]
    }
   ],
   "source": [
    "from calendar_tools import list_calendar_list, list_calendar_events, insert_calendar_event, create_calendar\n",
    "\n",
    "google_calendar_tools = [\n",
    "    Tool(\n",
    "        name=\"Create Calendar List\",\n",
    "        func=create_calendar,\n",
    "        description=\"\"\"\n",
    "        Use a função create_calendar_list para criar um novo calendário.\n",
    "        Forneça o resumo (título) do calendário que você deseja criar.\n",
    "        - Exemplo de uso: 'Meu Calendário de Viagens'\n",
    "        - Essa função vai criar um novo calendário com o resumo fornecido.\n",
    "        \"\"\"\n",
    "    ),\n",
    "    Tool(\n",
    "        name=\"List Calendar List\",\n",
    "        func=list_calendar_list,\n",
    "        description=\"\"\"\n",
    "        Use a função list_calendar_list para obter a lista dos seus calendários disponíveis no Google Calendar.\n",
    "        Se você quiser limitar o número de calendários retornados, forneça o número máximo desejado.\n",
    "        - Exemplo de uso: Forneça o número máximo de calendários a serem listados, como 50. Se não quiser um limite, apenas diga para listar 200 o máximo por padrão.\n",
    "        \"\"\"\n",
    "    ),\n",
    "    Tool(\n",
    "        name=\"List Calendar Events\",\n",
    "        func=list_calendar_events,\n",
    "        description=\"\"\"\n",
    "        Use a função list_calendar_events para obter a lista de eventos de um calendário específico.\n",
    "        Você precisa fornecer o ID do calendário e, opcionalmente, o número máximo de eventos a serem listados.\n",
    "        - Exemplo de uso para o calendário principal: forneça 'primary' como o ID do calendário.\n",
    "        - Exemplo de uso com limite: forneça o ID do calendário e o número máximo de eventos, como 'primary', 20.\n",
    "        - Para listar eventos de um calendário específico, primeiro liste seus calendários para encontrar o ID correto.\n",
    "        \"\"\"\n",
    "    ),\n",
    "    Tool(\n",
    "        name=\"Insert Calendar Event\",\n",
    "        func=insert_calendar_event,  # Use o novo wrapper aqui\n",
    "        description=\"\"\"\n",
    "        Use a função Insert Calendar Event para adicionar um evento a um calendário.\n",
    "        Você precisa fornecer um objeto JSON contendo os detalhes do evento.\n",
    "        Se o timezone não for mencionado utilize \"America/Fortaleza\"\n",
    "        Se o usuário informar o nome do calendário para inserir o evento chame a função list_calendar_list primeiro para adquirir a informação de calendar_id\n",
    "        O objeto JSON deve ter a seguinte estrutura:\n",
    "        ```json\n",
    "        {\n",
    "        \"calendar_id\": \"primary\", # Utilize primary \n",
    "        \"summary\": \"Dormir\",\n",
    "        \"location\": \"Cama\",\n",
    "        \"description\": \"\",\n",
    "        \"start\": {\n",
    "            \"dateTime\": \"2024-12-29T21:00:00\",\n",
    "            \"timeZone\": \"America/Fortaleza\"\n",
    "        },\n",
    "        \"end\": {\n",
    "            \"dateTime\": \"2024-12-29T22:00:00\",\n",
    "            \"timeZone\": \"America/Fortaleza\"\n",
    "        },\n",
    "        \"attendees\": []\n",
    "        }\n",
    "        ```\n",
    "\n",
    "        Exemplo de uso: Forneça o objeto JSON completo com os detalhes do evento e o ID do calendário.\n",
    "        \"\"\"\n",
    "    )\n",
    "]"
   ]
  },
  {
   "cell_type": "code",
   "execution_count": 7,
   "metadata": {
    "colab": {
     "base_uri": "https://localhost:8080/",
     "height": 209
    },
    "id": "FP7Q3SBS5qb3",
    "outputId": "005c96da-55f7-401c-b00a-4a053dcebaf8"
   },
   "outputs": [],
   "source": [
    "travel_planing_prompt = hub.pull(\"tales/agente_turismo\")\n",
    "google_calendar_prompt = hub.pull(\"tales/agente_calendario\")"
   ]
  },
  {
   "cell_type": "code",
   "execution_count": 8,
   "metadata": {},
   "outputs": [
    {
     "name": "stdout",
     "output_type": "stream",
     "text": [
      "input_variables=['agent_scratchpad', 'chat_history', 'data_atual', 'input', 'tool_names', 'tools'] input_types={} partial_variables={} metadata={'lc_hub_owner': 'tales', 'lc_hub_repo': 'agente_calendario', 'lc_hub_commit_hash': '43471ac6b7b30a9dcee36d1e8d2e36315bf430823d5dea0f7190ea60afc27fa5'} template='Você é um agente equipado com diversos funções relacionadas a conta do Calendário Google para ajudar a gerenciar o Calendário Google do usuário.\\n\\nSempre se lembre de utilizar a sintaxe do Python quando chamar as funções, já que o código utilizou essa linguagem. Por exemplo true DEVE ser True.\\n\\nHoje é **{data_atual}**. Use essa informação para auxiliar o planejamento de eventos e sugerir ajustes conforme necessário.\\n\\nTOOLS:\\n------\\n\\nO assistente tem acesso às seguintes ferramentas:\\n\\n{tools}\\n\\nPara usar uma ferramenta, siga este formato:\\n\\n```\\nThought: Do I need to use a tool? Yes\\nAction: the action to take, should be one of [{tool_names}]\\nAction Input: the input to the action\\nObservation: the result of the action\\n```\\n\\nQuando você tiver uma resposta para o Humano, ou se você não precisar usar uma ferramenta, você DEVE usar o formato:\\n\\n```\\nThought: Do I need to use a tool? No\\nFinal Answer: [your response here]\\n```\\n\\nComece!\\n\\nConversas anteriores:\\n{chat_history}\\n\\nNova entrada: {input}\\n{agent_scratchpad}'\n"
     ]
    }
   ],
   "source": [
    "print(google_calendar_prompt)"
   ]
  },
  {
   "cell_type": "code",
   "execution_count": 9,
   "metadata": {
    "id": "MuPTv06R8EOH"
   },
   "outputs": [],
   "source": [
    "# planing_prompt = travel_planing_prompt.partial(\n",
    "#     tools=render_text_description(travel_planing_tools),\n",
    "#     tool_names=\", \".join([t.name for t in travel_planing_tools]),\n",
    "# )\n",
    "# llm_with_stop = llm.bind(stop=[\"\\nObservation\"])"
   ]
  },
  {
   "cell_type": "code",
   "execution_count": 10,
   "metadata": {},
   "outputs": [],
   "source": [
    "calendar_prompt = google_calendar_prompt.partial(\n",
    "    tools=render_text_description(google_calendar_tools),\n",
    "    tool_names=\", \".join([t.name for t in google_calendar_tools]),\n",
    ")\n",
    "llm_with_stop = llm.bind(stop=[\"\\nObservation\"])"
   ]
  },
  {
   "cell_type": "code",
   "execution_count": 11,
   "metadata": {
    "colab": {
     "base_uri": "https://localhost:8080/"
    },
    "id": "LHGz2W5g4cSx",
    "outputId": "fe5fbb96-6f6d-48ce-ba79-63d1b9a732d1"
   },
   "outputs": [
    {
     "name": "stderr",
     "output_type": "stream",
     "text": [
      "C:\\Users\\Tales\\AppData\\Local\\Temp\\ipykernel_19544\\275711510.py:2: LangChainDeprecationWarning: Please see the migration guide at: https://python.langchain.com/docs/versions/migrating_memory/\n",
      "  memory = ConversationBufferWindowMemory(k=20, chat_memory=history, memory_key=\"chat_history\")\n"
     ]
    }
   ],
   "source": [
    "history = ChatMessageHistory()\n",
    "memory = ConversationBufferWindowMemory(k=20, chat_memory=history, memory_key=\"chat_history\")"
   ]
  },
  {
   "cell_type": "code",
   "execution_count": 12,
   "metadata": {
    "id": "zuQgO-EM9mdE"
   },
   "outputs": [],
   "source": [
    "# travel_planing_agent = (\n",
    "#     {\n",
    "#         \"input\": lambda x: x[\"input\"],\n",
    "#         \"agent_scratchpad\": lambda x: format_log_to_str(x[\"intermediate_steps\"]),\n",
    "#         \"chat_history\": lambda x: x[\"chat_history\"],\n",
    "#         \"data_atual\": lambda x: data_atual,\n",
    "#     }\n",
    "#     | planing_prompt\n",
    "#     | llm_with_stop\n",
    "#     | ReActSingleInputOutputParser()\n",
    "# )\n",
    "\n",
    "# travel_agent_executor = AgentExecutor(agent=travel_planing_agent, tools=travel_planing_tools, verbose=True, memory=memory)"
   ]
  },
  {
   "cell_type": "code",
   "execution_count": 13,
   "metadata": {},
   "outputs": [],
   "source": [
    "google_calendar_agent = (\n",
    "    {\n",
    "        \"input\": lambda x: x[\"input\"],\n",
    "        \"agent_scratchpad\": lambda x: format_log_to_str(x[\"intermediate_steps\"]),\n",
    "        \"chat_history\": lambda x: x[\"chat_history\"],\n",
    "        \"data_atual\": lambda x: data_atual,\n",
    "    }\n",
    "    | calendar_prompt\n",
    "    | llm_with_stop\n",
    "    | ReActSingleInputOutputParser()\n",
    ")\n",
    "\n",
    "calendar_agent_executor = AgentExecutor(agent=google_calendar_agent, tools=google_calendar_tools, verbose=True, memory=memory)"
   ]
  },
  {
   "cell_type": "code",
   "execution_count": 14,
   "metadata": {},
   "outputs": [
    {
     "name": "stdout",
     "output_type": "stream",
     "text": [
      "\n",
      "\n",
      "\u001b[1m> Entering new AgentExecutor chain...\u001b[0m\n"
     ]
    },
    {
     "name": "stderr",
     "output_type": "stream",
     "text": [
      "c:\\Users\\Tales\\Python\\AgenteTuristico\\.venv\\lib\\site-packages\\langchain_google_genai\\chat_models.py:310: UserWarning: Convert_system_message_to_human will be deprecated!\n",
      "  warnings.warn(\"Convert_system_message_to_human will be deprecated!\")\n"
     ]
    },
    {
     "name": "stdout",
     "output_type": "stream",
     "text": [
      "\u001b[32;1m\u001b[1;3m```tool_code\n",
      "Thought: Do I need to use a tool? Yes\n",
      "Action: List Calendar List\n",
      "Action Input: 200\u001b[0m\u001b[33;1m\u001b[1;3m[{'id': 'addressbook#contacts@group.v.calendar.google.com', 'name': 'Aniversários', 'description': 'Mostra aniversários, datas comemorativas e outros eventos de pessoas no Contatos do Google.'}, {'id': '23a8bf709131ca92793738f86020bf528f56e15a5cf122b6827df2b5c46b7fbc@group.calendar.google.com', 'name': 'Teste-29-12', 'description': ''}, {'id': 'tales.v.m.alves@gmail.com', 'name': 'tales.v.m.alves@gmail.com', 'description': ''}, {'id': 'pt-br.brazilian#holiday@group.v.calendar.google.com', 'name': 'Feriados no Brasil', 'description': 'Feriados e datas comemorativas no Brasil'}]\u001b[0m"
     ]
    },
    {
     "name": "stderr",
     "output_type": "stream",
     "text": [
      "c:\\Users\\Tales\\Python\\AgenteTuristico\\.venv\\lib\\site-packages\\langchain_google_genai\\chat_models.py:310: UserWarning: Convert_system_message_to_human will be deprecated!\n",
      "  warnings.warn(\"Convert_system_message_to_human will be deprecated!\")\n"
     ]
    },
    {
     "name": "stdout",
     "output_type": "stream",
     "text": [
      "\u001b[32;1m\u001b[1;3m```tool_code\n",
      "Do I need to use a tool? Yes\n",
      "Action: Insert Calendar Event\n",
      "Action Input: {\n",
      "  \"calendar_id\": \"23a8bf709131ca92793738f86020bf528f56e15a5cf122b6827df2b5c46b7fbc@group.calendar.google.com\",\n",
      "  \"summary\": \"Consulta Médica\",\n",
      "  \"location\": \"Hospital Central\",\n",
      "  \"description\": \"\",\n",
      "  \"start\": {\n",
      "    \"dateTime\": \"2024-12-29T18:00:00\",\n",
      "    \"timeZone\": \"America/Fortaleza\"\n",
      "  },\n",
      "  \"end\": {\n",
      "    \"dateTime\": \"2024-12-29T19:00:00\",\n",
      "    \"timeZone\": \"America/Fortaleza\"\n",
      "  },\n",
      "  \"attendees\": []\n",
      "}\u001b[0m\u001b[36;1m\u001b[1;3m{'kind': 'calendar#event', 'etag': '\"3471020994168000\"', 'id': '1hs4jor9drj0o6h56uriul18ok', 'status': 'confirmed', 'htmlLink': 'https://www.google.com/calendar/event?eid=MWhzNGpvcjlkcmowbzZoNTZ1cml1bDE4b2sgMjNhOGJmNzA5MTMxY2E5Mjc5MzczOGY4NjAyMGJmNTI4ZjU2ZTE1YTVjZjEyMmI2ODI3ZGYyYjVjNDZiN2ZiY0Bn', 'created': '2024-12-29T22:14:57.000Z', 'updated': '2024-12-29T22:14:57.084Z', 'summary': 'Consulta Médica', 'location': 'Hospital Central', 'creator': {'email': 'tales.v.m.alves@gmail.com'}, 'organizer': {'email': '23a8bf709131ca92793738f86020bf528f56e15a5cf122b6827df2b5c46b7fbc@group.calendar.google.com', 'displayName': 'Teste-29-12', 'self': True}, 'start': {'dateTime': '2024-12-29T21:00:00Z', 'timeZone': 'America/Fortaleza'}, 'end': {'dateTime': '2024-12-29T22:00:00Z', 'timeZone': 'America/Fortaleza'}, 'iCalUID': '1hs4jor9drj0o6h56uriul18ok@google.com', 'sequence': 0, 'reminders': {'useDefault': True}, 'eventType': 'default'}\u001b[0m"
     ]
    },
    {
     "name": "stderr",
     "output_type": "stream",
     "text": [
      "c:\\Users\\Tales\\Python\\AgenteTuristico\\.venv\\lib\\site-packages\\langchain_google_genai\\chat_models.py:310: UserWarning: Convert_system_message_to_human will be deprecated!\n",
      "  warnings.warn(\"Convert_system_message_to_human will be deprecated!\")\n"
     ]
    },
    {
     "name": "stdout",
     "output_type": "stream",
     "text": [
      "\u001b[32;1m\u001b[1;3m```tool_code\n",
      "Do I need to use a tool? No\n",
      "Final Answer: Evento \"Consulta Médica\" criado no calendário \"Teste-29-12\" para hoje, 29/12/2024, às 18:00 no Hospital Central.\n",
      "```\n",
      "\u001b[0m\n",
      "\n",
      "\u001b[1m> Finished chain.\u001b[0m\n",
      "Evento \"Consulta Médica\" criado no calendário \"Teste-29-12\" para hoje, 29/12/2024, às 18:00 no Hospital Central.\n",
      "```\n"
     ]
    }
   ],
   "source": [
    "response = calendar_agent_executor.invoke({\"input\": f\"\"\"\n",
    "                                  Marque no meu calendário Teste-29-12 para hoje às 18:00h, um compromisso chamado 'Consulta Médica' no 'Hospital Central'\n",
    "                                  \"\"\"})\n",
    "\n",
    "print(response[\"output\"])"
   ]
  },
  {
   "cell_type": "code",
   "execution_count": 14,
   "metadata": {},
   "outputs": [
    {
     "name": "stdout",
     "output_type": "stream",
     "text": [
      "\n",
      "\n",
      "\u001b[1m> Entering new AgentExecutor chain...\u001b[0m\n"
     ]
    },
    {
     "name": "stderr",
     "output_type": "stream",
     "text": [
      "c:\\Users\\Tales\\Python\\AgenteTuristico\\.venv\\lib\\site-packages\\langchain_google_genai\\chat_models.py:310: UserWarning: Convert_system_message_to_human will be deprecated!\n",
      "  warnings.warn(\"Convert_system_message_to_human will be deprecated!\")\n"
     ]
    },
    {
     "name": "stdout",
     "output_type": "stream",
     "text": [
      "\u001b[32;1m\u001b[1;3mThought: Do I need to use a tool? Yes\n",
      "Action: Create Calendar List\n",
      "Action Input: 'Teste-29-12'\u001b[0m\u001b[36;1m\u001b[1;3m{'kind': 'calendar#calendar', 'etag': '\"3jxDgHTXkTGCqi8rfpu1SVSANnY\"', 'id': '23a8bf709131ca92793738f86020bf528f56e15a5cf122b6827df2b5c46b7fbc@group.calendar.google.com', 'summary': 'Teste-29-12', 'timeZone': 'UTC', 'conferenceProperties': {'allowedConferenceSolutionTypes': ['hangoutsMeet']}}\u001b[0m"
     ]
    },
    {
     "name": "stderr",
     "output_type": "stream",
     "text": [
      "c:\\Users\\Tales\\Python\\AgenteTuristico\\.venv\\lib\\site-packages\\langchain_google_genai\\chat_models.py:310: UserWarning: Convert_system_message_to_human will be deprecated!\n",
      "  warnings.warn(\"Convert_system_message_to_human will be deprecated!\")\n"
     ]
    },
    {
     "name": "stdout",
     "output_type": "stream",
     "text": [
      "\u001b[32;1m\u001b[1;3mDo I need to use a tool? No\n",
      "Final Answer: Calendário \"Teste-29-12\" criado com sucesso! O ID do calendário é: `23a8bf709131ca92793738f86020bf528f56e15a5cf122b6827df2b5c46b7fbc@group.calendar.google.com`.  Você pode agora adicionar eventos a ele usando a função `Insert Calendar Event`.\n",
      "\u001b[0m\n",
      "\n",
      "\u001b[1m> Finished chain.\u001b[0m\n",
      "Calendário \"Teste-29-12\" criado com sucesso! O ID do calendário é: `23a8bf709131ca92793738f86020bf528f56e15a5cf122b6827df2b5c46b7fbc@group.calendar.google.com`.  Você pode agora adicionar eventos a ele usando a função `Insert Calendar Event`.\n"
     ]
    }
   ],
   "source": [
    "response = calendar_agent_executor.invoke({\"input\": f\"\"\"\n",
    "                                  Crie um calendário chamado Teste-29-12\n",
    "                                  \"\"\"})\n",
    "\n",
    "print(response[\"output\"])"
   ]
  },
  {
   "cell_type": "code",
   "execution_count": 15,
   "metadata": {},
   "outputs": [
    {
     "name": "stdout",
     "output_type": "stream",
     "text": [
      "\n",
      "\n",
      "\u001b[1m> Entering new AgentExecutor chain...\u001b[0m\n"
     ]
    },
    {
     "name": "stderr",
     "output_type": "stream",
     "text": [
      "c:\\Users\\Tales\\Python\\AgenteTuristico\\.venv\\lib\\site-packages\\langchain_google_genai\\chat_models.py:310: UserWarning: Convert_system_message_to_human will be deprecated!\n",
      "  warnings.warn(\"Convert_system_message_to_human will be deprecated!\")\n"
     ]
    },
    {
     "name": "stdout",
     "output_type": "stream",
     "text": [
      "\u001b[32;1m\u001b[1;3m```tool_code\n",
      "Thought: Do I need to use a tool? Yes\n",
      "Action: List Calendar List\n",
      "Action Input: 200\u001b[0m\u001b[33;1m\u001b[1;3m[{'id': 'addressbook#contacts@group.v.calendar.google.com', 'name': 'Aniversários', 'description': 'Mostra aniversários, datas comemorativas e outros eventos de pessoas no Contatos do Google.'}, {'id': 'pt-br.brazilian#holiday@group.v.calendar.google.com', 'name': 'Feriados no Brasil', 'description': 'Feriados e datas comemorativas no Brasil'}, {'id': 'tales.v.m.alves@gmail.com', 'name': 'tales.v.m.alves@gmail.com', 'description': ''}, {'id': 'ed44b535d9e3b857a66c5f89cc05bef36c9ebf9d4d5256f00f16d3acc95641cd@group.calendar.google.com', 'name': \"'Teste-29-12'\", 'description': ''}, {'id': '23a8bf709131ca92793738f86020bf528f56e15a5cf122b6827df2b5c46b7fbc@group.calendar.google.com', 'name': 'Teste-29-12', 'description': ''}]\u001b[0m"
     ]
    },
    {
     "name": "stderr",
     "output_type": "stream",
     "text": [
      "c:\\Users\\Tales\\Python\\AgenteTuristico\\.venv\\lib\\site-packages\\langchain_google_genai\\chat_models.py:310: UserWarning: Convert_system_message_to_human will be deprecated!\n",
      "  warnings.warn(\"Convert_system_message_to_human will be deprecated!\")\n"
     ]
    },
    {
     "name": "stdout",
     "output_type": "stream",
     "text": [
      "\u001b[32;1m\u001b[1;3m```tool_code\n",
      "Do I need to use a tool? No\n",
      "Final Answer: Seus calendários são: Aniversários, Feriados no Brasil, tales.v.m.alves@gmail.com, 'Teste-29-12', e Teste-29-12.  Note que \"Teste-29-12\" aparece duas vezes, possivelmente devido a um erro de criação ou duplicação.  Você pode querer verificar e remover a duplicata.\n",
      "```\n",
      "\u001b[0m\n",
      "\n",
      "\u001b[1m> Finished chain.\u001b[0m\n",
      "Seus calendários são: Aniversários, Feriados no Brasil, tales.v.m.alves@gmail.com, 'Teste-29-12', e Teste-29-12.  Note que \"Teste-29-12\" aparece duas vezes, possivelmente devido a um erro de criação ou duplicação.  Você pode querer verificar e remover a duplicata.\n",
      "```\n"
     ]
    }
   ],
   "source": [
    "response = calendar_agent_executor.invoke({\"input\": f\"\"\"\n",
    "                                  Liste os meus calendários\n",
    "                                  \"\"\"})\n",
    "\n",
    "print(response[\"output\"])"
   ]
  },
  {
   "cell_type": "code",
   "execution_count": null,
   "metadata": {},
   "outputs": [],
   "source": [
    "response = travel_agent_executor.invoke({\"input\": f\"\"\"\n",
    "                                  Boa noite\n",
    "                                  \"\"\"})\n",
    "\n",
    "print(response[\"output\"])"
   ]
  },
  {
   "cell_type": "code",
   "execution_count": null,
   "metadata": {},
   "outputs": [],
   "source": [
    "response = travel_agent_executor.invoke({\"input\": f\"\"\"\n",
    "                                  Eu estou planejando visitar Natal no Rio Grande do Norte\n",
    "                                  \"\"\"})\n",
    "\n",
    "print(response[\"output\"])"
   ]
  },
  {
   "cell_type": "code",
   "execution_count": null,
   "metadata": {},
   "outputs": [],
   "source": [
    "response = travel_agent_executor.invoke({\"input\": f\"\"\"\n",
    "                                  Eu planejo passar da quarta dia 01 de janeiro até o domingo\n",
    "                                  \"\"\"})\n",
    "\n",
    "print(response[\"output\"])"
   ]
  },
  {
   "cell_type": "code",
   "execution_count": null,
   "metadata": {},
   "outputs": [],
   "source": [
    "response = travel_agent_executor.invoke({\"input\": f\"\"\"\n",
    "                                  Eu planejo visitar praias e restaurantes regionais\n",
    "                                  \"\"\"})\n",
    "\n",
    "print(response[\"output\"])"
   ]
  },
  {
   "cell_type": "code",
   "execution_count": null,
   "metadata": {},
   "outputs": [],
   "source": [
    "response = travel_agent_executor.invoke({\"input\": f\"\"\"\n",
    "                                  Sem incluir Hóteis pretendo gastar no máximo 600 reais\n",
    "                                  \"\"\"})\n",
    "\n",
    "print(response[\"output\"])"
   ]
  },
  {
   "cell_type": "code",
   "execution_count": null,
   "metadata": {},
   "outputs": [],
   "source": [
    "response = travel_agent_executor.invoke({\"input\": f\"\"\"\n",
    "                                  Eu não possuo nenhuma alergia\n",
    "                                  \"\"\"})\n",
    "\n",
    "print(response[\"output\"])"
   ]
  },
  {
   "cell_type": "code",
   "execution_count": null,
   "metadata": {},
   "outputs": [],
   "source": [
    "response = travel_agent_executor.invoke({\"input\": f\"\"\"\n",
    "                                  Agitada.\n",
    "                                  \"\"\"})\n",
    "\n",
    "print(response[\"output\"])"
   ]
  },
  {
   "cell_type": "code",
   "execution_count": null,
   "metadata": {},
   "outputs": [],
   "source": [
    "print(response[\"chat_history\"])"
   ]
  }
 ],
 "metadata": {
  "colab": {
   "provenance": []
  },
  "kernelspec": {
   "display_name": ".venv",
   "language": "python",
   "name": "python3"
  },
  "language_info": {
   "codemirror_mode": {
    "name": "ipython",
    "version": 3
   },
   "file_extension": ".py",
   "mimetype": "text/x-python",
   "name": "python",
   "nbconvert_exporter": "python",
   "pygments_lexer": "ipython3",
   "version": "3.10.11"
  }
 },
 "nbformat": 4,
 "nbformat_minor": 0
}
