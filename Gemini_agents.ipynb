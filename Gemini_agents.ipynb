{
 "cells": [
  {
   "cell_type": "code",
   "execution_count": 17,
   "metadata": {
    "colab": {
     "base_uri": "https://localhost:8080/"
    },
    "id": "4gIXtYDb4o3o",
    "outputId": "b74b0d76-37d0-427c-c8fd-fb9a9337d061"
   },
   "outputs": [],
   "source": [
    "import os\n",
    "import getpass\n",
    "\n",
    "from langchain.agents import Tool\n",
    "from langchain.memory import ChatMessageHistory, ConversationBufferWindowMemory\n",
    "from langchain_google_genai import (\n",
    "    ChatGoogleGenerativeAI,\n",
    "    HarmBlockThreshold,\n",
    "    HarmCategory,\n",
    ")\n",
    "from langchain.utilities import DuckDuckGoSearchAPIWrapper\n",
    "from langchain_community.utilities import OpenWeatherMapAPIWrapper\n",
    "from langchain.agents import AgentExecutor\n",
    "from langchain import hub\n",
    "from langchain.agents.format_scratchpad import format_log_to_str\n",
    "from langchain.agents.output_parsers import ReActSingleInputOutputParser\n",
    "from langchain.tools.render import render_text_description\n",
    "\n",
    "from langchain_chroma import Chroma\n",
    "\n",
    "from datetime import datetime, timedelta\n",
    "import requests"
   ]
  },
  {
   "cell_type": "code",
   "execution_count": 18,
   "metadata": {
    "id": "oRYlHV3fy_Iq"
   },
   "outputs": [],
   "source": [
    "#(https://makersuite.google.com/)\n",
    "from dotenv import load_dotenv\n",
    "import os\n",
    "\n",
    "load_dotenv()\n",
    "os.environ[\"GOOGLE_API_KEY\"] = os.getenv('GEMINI_API_KEY')\n",
    "os.environ[\"LANGCHAIN_API_KEY\"] = os.getenv('LANGCHAIN_API_KEY')\n",
    "WEATHER_API = os.getenv('WEATHER_API')\n",
    "BASE_URL = \"http://api.weatherapi.com/v1/forecast.json\""
   ]
  },
  {
   "cell_type": "code",
   "execution_count": 19,
   "metadata": {},
   "outputs": [],
   "source": [
    "def get_date_for_day(day_name):\n",
    "    \"\"\"\n",
    "    Função para construir a data para um dia da semana específico.\n",
    "    \"\"\"\n",
    "    today = datetime.today()\n",
    "    today_weekday = today.weekday()\n",
    "\n",
    "    days_of_week = [\"Monday\", \"Tuesday\", \"Wednesday\", \"Thursday\", \"Friday\", \"Saturday\", \"Sunday\"]\n",
    "    try:\n",
    "        requested_weekday = days_of_week.index(day_name)\n",
    "    except ValueError:\n",
    "        return None\n",
    "\n",
    "    if requested_weekday == today_weekday:\n",
    "       return today.strftime(\"%Y-%m-%d\")\n",
    "    \n",
    "    days_until_requested = (requested_weekday - today_weekday + 7) % 7\n",
    "    target_date = today + timedelta(days=days_until_requested)\n",
    "    print(target_date)\n",
    "    return target_date.strftime(\"%Y-%m-%d\")"
   ]
  },
  {
   "cell_type": "code",
   "execution_count": 20,
   "metadata": {},
   "outputs": [],
   "source": [
    "def weatherapi_forecast(date_string: str) -> str:\n",
    "    \"\"\"\n",
    "    Ferramenta customizada que usa a WeatherAPI para obter a previsão do tempo\n",
    "    para a cidade de Natal em uma data específica usando a biblioteca requests.\n",
    "\n",
    "    Args:\n",
    "        date_string (str): Uma string contendo a data no formato yyyy-mm-dd.\n",
    "\n",
    "    Returns:\n",
    "        str: Uma string contendo a previsão do tempo para a data especificada.\n",
    "    \"\"\"\n",
    "\n",
    "    try:\n",
    "        params = {\n",
    "            \"key\": WEATHER_API,\n",
    "            \"q\": 'Natal',\n",
    "            \"dt\": date_string,\n",
    "            \"aqi\": \"no\",\n",
    "            \"alerts\": \"no\"\n",
    "        }\n",
    "        response = requests.get(BASE_URL, params=params)\n",
    "        response.raise_for_status()  # Lança um erro para códigos de status HTTP ruins (4xx ou 5xx)\n",
    "        data = response.json()\n",
    "\n",
    "        if data and data.get(\"forecast\") and data[\"forecast\"].get(\"forecastday\"):\n",
    "             forecast_data = data[\"forecast\"][\"forecastday\"][0]\n",
    "             return (\n",
    "                 f\"Previsão para {date_string}:\\n\"\n",
    "                 f\"  Temperatura média: {forecast_data['day']['avgtemp_c']}°C\\n\"\n",
    "                 f\"  Condição: {forecast_data['day']['condition']['text']}\\n\"\n",
    "                 f\"  Chance de chuva: {forecast_data['day']['daily_chance_of_rain']}%\\n\"\n",
    "                 f\"  Umidade média: {forecast_data['day']['avghumidity']}%\\n\"\n",
    "                 f\"  Velocidade média do vento: {forecast_data['day']['maxwind_kph']} km/h\"\n",
    "            )\n",
    "        else:\n",
    "            return \"Previsão não encontrada para essa data.\"\n",
    "    except requests.exceptions.RequestException as e:\n",
    "        return f\"Erro ao buscar informações meteorológicas: {str(e)}\"\n",
    "    except Exception as e:\n",
    "        return f\"Erro inesperado: {str(e)}\""
   ]
  },
  {
   "cell_type": "code",
   "execution_count": 21,
   "metadata": {
    "id": "FEDgMFo84iGY"
   },
   "outputs": [],
   "source": [
    "llm = ChatGoogleGenerativeAI(\n",
    "    model=\"gemini-1.5-flash\",\n",
    "    convert_system_message_to_human=True,\n",
    "    handle_parsing_errors=True,\n",
    "    temperature=0.6,\n",
    "    max_tokens= 1000,\n",
    "    safety_settings = {\n",
    "        HarmCategory.HARM_CATEGORY_HARASSMENT: HarmBlockThreshold.BLOCK_ONLY_HIGH,\n",
    "        HarmCategory.HARM_CATEGORY_HATE_SPEECH: HarmBlockThreshold.BLOCK_ONLY_HIGH,\n",
    "        HarmCategory.HARM_CATEGORY_SEXUALLY_EXPLICIT: HarmBlockThreshold.BLOCK_ONLY_HIGH,\n",
    "        HarmCategory.HARM_CATEGORY_DANGEROUS_CONTENT: HarmBlockThreshold.BLOCK_ONLY_HIGH,\n",
    "    },\n",
    ")\n",
    "\n",
    "# Caso queira utilizar uma LLM local com o Ollama\n",
    "# from langchain_ollama.llms import OllamaLLM\n",
    "# llm = OllamaLLM(model=\"llama3.2\", temperature=0.6, max_tokens=200)"
   ]
  },
  {
   "cell_type": "code",
   "execution_count": 22,
   "metadata": {},
   "outputs": [],
   "source": [
    "from get_embedding_function import get_embedding_function\n",
    "CHROMA_PATH = \"chroma\"\n",
    "\n",
    "def query_rag(query_text):\n",
    "    embedding_function = get_embedding_function()\n",
    "    db = Chroma(persist_directory=CHROMA_PATH, embedding_function=embedding_function)\n",
    "\n",
    "    # Search the DB.\n",
    "    results = db.similarity_search_with_score(query_text, k=5)\n",
    "\n",
    "    context_text = \"\\n\\n---\\n\\n\".join([doc.page_content for doc, _score in results])\n",
    "    return context_text\n",
    "\n",
    "def query_rag_tool(query_text: str) -> str:\n",
    "    return query_rag(query_text)"
   ]
  },
  {
   "cell_type": "code",
   "execution_count": 23,
   "metadata": {
    "id": "EY14yxCD4OzY"
   },
   "outputs": [],
   "source": [
    "ddg_search = DuckDuckGoSearchAPIWrapper()\n",
    "\n",
    "tools = [\n",
    "    Tool(\n",
    "        name=\"DuckDuckGo Search\",\n",
    "        func=ddg_search.run,\n",
    "        description=\"Use esta ferramenta para buscar informações recentes e responda ao usuário com os resultados encontrados. É importante que a resposta contenha o que foi recuperado da pesquisa.\"\n",
    "    ),\n",
    "    Tool(\n",
    "        name=\"Weather Forecast\",\n",
    "        func=weatherapi_forecast,\n",
    "        description=\"Você deve utilizar essa ferramenta quando o usuário solicitar informações sobre o clima. Se o usuário pedir informações para um período de tempo (por exemplo, 'de sexta a domingo'), você DEVE usar a ferramenta separadamente para cada dia desse período e depois combinar os resultados na resposta final. Se o usuário fornecer apenas uma data, use a ferramenta apenas uma vez.\"\n",
    "    ),\n",
    "    Tool(\n",
    "        name=\"Query RAG\",\n",
    "        func=query_rag_tool,\n",
    "        description=\"A perguntas relacionadas ao turismo da cidade de Natal no Rio Grande do Norte. Se as informações não forem suficientes no Query RAG para responder ao usuário utilize a ferramenta do DuckDuckGo Search\"\n",
    "    )\n",
    "]"
   ]
  },
  {
   "cell_type": "code",
   "execution_count": 24,
   "metadata": {
    "colab": {
     "base_uri": "https://localhost:8080/",
     "height": 209
    },
    "id": "FP7Q3SBS5qb3",
    "outputId": "005c96da-55f7-401c-b00a-4a053dcebaf8"
   },
   "outputs": [],
   "source": [
    "agent_prompt = hub.pull(\"tales/agente_turismo\")"
   ]
  },
  {
   "cell_type": "code",
   "execution_count": 25,
   "metadata": {},
   "outputs": [
    {
     "name": "stdout",
     "output_type": "stream",
     "text": [
      "input_variables=['agent_scratchpad', 'chat_history', 'input', 'tool_names', 'tools'] input_types={} partial_variables={} metadata={'lc_hub_owner': 'tales', 'lc_hub_repo': 'agente_turismo', 'lc_hub_commit_hash': '1d6e0d27fef04a2f607c898605995de73bc5225f42e5d0002716e37614e7a904'} template='Seu nome é Sofia. Você é uma assistente pessoal de inteligência artificial de classe mundial, especializada em viagens e turismo. Você é altamente avançada e inteligente, muito útil e eficiente em fornecer informações, planejar roteiros personalizados e resolver problemas relacionados a viagens. Sofia é um modelo AELM (Modelo de Linguagem de Execução Automática) com foco em planejamento de viagens.\\n\\n\"Sofia\" foi projetada para auxiliar usuários em todas as etapas de suas aventuras, desde a escolha do destino até a criação de itinerários detalhados e dicas práticas. Como modelo de linguagem, \"Sofia\" é capaz de gerar texto semelhante ao humano com base nas informações fornecidas pelos usuários, permitindo que se envolva em conversas naturais e compreenda as preferências individuais de cada viajante. Ela utiliza esse conhecimento para criar roteiros personalizados e coerentes, que atendam às necessidades e interesses específicos de cada pessoa.\\n\\n\"Sofia\" está em constante aprendizado, explorando novos destinos, culturas e atrações. Suas habilidades incluem pesquisar informações atualizadas atividades e pontos turísticos, além de considerar fatores como clima, orçamento e restrições de tempo. Ela é capaz de processar e entender grandes volumes de dados, utilizando esse conhecimento para fornecer recomendações precisas e personalizadas, que vão além do óbvio. Além disso, \"Sofia\" pode gerar descrições detalhadas de destinos, roteiros dia a dia e dicas úteis para tornar cada viagem inesquecível.\\n\\nEm resumo, \"Sofia\" é uma ferramenta poderosa que auxilia na criação de experiências de viagem únicas e memoráveis. Seja para planejar uma escapada de fim de semana ou uma expedição ao redor do mundo, \"Sofia\" está aqui para inspirar, guiar e ajudar os usuários a explorarem o mundo de forma inteligente e planejada. Ela pode gerar roteiros completos, sugerir alternativas, encontrar os melhores preços e oferecer insights valiosos para todos os tipos de viajantes.\\n\\nAo criar um roteiro de viagem, você deve organizar as atividades diárias separando-as por período: manhã, tarde e noite. Para cada dia, liste as atividades planejadas para cada um desses períodos, incluindo sugestões de locais para visitar, restaurantes para comer e atividades para fazer.  Quando o usuário solicitar informações sobre o clima, você deve utilizar a ferramenta do clima para cada dia da viagem.\\n\\n\\nTOOLS:\\n------\\n\\nO assistente tem acesso as seguintes ferramentas:\\n\\n{tools}\\n\\nPara usar uma ferramenta, siga este formato:\\n\\n```\\nThought: Do I need to use a tool? Yes\\nAction: the action to take, should be one of [{tool_names}]\\nAction Input: the input to the action\\nObservation: the result of the action\\n```\\n\\nQuando você tiver uma resposta para o Humano, ou se você não precisar usar uma ferramenta, você DEVE usar o formato:\\n\\n```\\nThought: Do I need to use a tool? No\\nFinal Answer: [your response here]\\n```\\n\\nComece!\\n\\nConversas anteriores:\\n{chat_history}\\n\\nNova entrada: {input}\\n{agent_scratchpad}'\n"
     ]
    }
   ],
   "source": [
    "print(agent_prompt)"
   ]
  },
  {
   "cell_type": "code",
   "execution_count": 26,
   "metadata": {
    "id": "MuPTv06R8EOH"
   },
   "outputs": [],
   "source": [
    "prompt = agent_prompt.partial(\n",
    "    tools=render_text_description(tools),\n",
    "    tool_names=\", \".join([t.name for t in tools]),\n",
    ")\n",
    "llm_with_stop = llm.bind(stop=[\"\\nObservation\"])"
   ]
  },
  {
   "cell_type": "code",
   "execution_count": 27,
   "metadata": {
    "colab": {
     "base_uri": "https://localhost:8080/"
    },
    "id": "LHGz2W5g4cSx",
    "outputId": "fe5fbb96-6f6d-48ce-ba79-63d1b9a732d1"
   },
   "outputs": [],
   "source": [
    "history = ChatMessageHistory()\n",
    "memory = ConversationBufferWindowMemory(k=5, chat_memory=history, memory_key=\"chat_history\")"
   ]
  },
  {
   "cell_type": "code",
   "execution_count": 28,
   "metadata": {
    "id": "zuQgO-EM9mdE"
   },
   "outputs": [],
   "source": [
    "agent = (\n",
    "    {\n",
    "        \"input\": lambda x: x[\"input\"],\n",
    "        \"agent_scratchpad\": lambda x: format_log_to_str(x[\"intermediate_steps\"]),\n",
    "        \"chat_history\": lambda x: x[\"chat_history\"],\n",
    "    }\n",
    "    | prompt\n",
    "    | llm_with_stop\n",
    "    | ReActSingleInputOutputParser()\n",
    ")\n",
    "\n",
    "agent_executor = AgentExecutor(agent=agent, tools=tools, verbose=True, memory=memory)"
   ]
  },
  {
   "cell_type": "code",
   "execution_count": 29,
   "metadata": {},
   "outputs": [],
   "source": [
    "hoje = datetime.today()\n",
    "\n",
    "data_formatada = hoje.strftime(\"%Y/%m/%d\")\n",
    "# Pega o dia da semana em inglês\n",
    "dia_da_semana_ingles = hoje.strftime(\"%A\")\n",
    "\n",
    "# Dicionário para mapear os dias da semana de inglês para português\n",
    "dias_da_semana_pt = {\n",
    "    \"Monday\": \"segunda-feira\",\n",
    "    \"Tuesday\": \"terça-feira\",\n",
    "    \"Wednesday\": \"quarta-feira\",\n",
    "    \"Thursday\": \"quinta-feira\",\n",
    "    \"Friday\": \"sexta-feira\",\n",
    "    \"Saturday\": \"sábado\",\n",
    "    \"Sunday\": \"domingo\"\n",
    "}\n",
    "\n",
    "# Traduz o dia da semana para português\n",
    "dia_da_semana_pt = dias_da_semana_pt.get(dia_da_semana_ingles, dia_da_semana_ingles)\n",
    "\n",
    "# Formata a data para utilizar no prompt\n",
    "data_para_prompt = f\"{dia_da_semana_pt}, {data_formatada}\""
   ]
  },
  {
   "cell_type": "code",
   "execution_count": 30,
   "metadata": {},
   "outputs": [
    {
     "name": "stdout",
     "output_type": "stream",
     "text": [
      "domingo, 2024/12/22\n"
     ]
    }
   ],
   "source": [
    "print(data_para_prompt)"
   ]
  },
  {
   "cell_type": "code",
   "execution_count": 31,
   "metadata": {},
   "outputs": [
    {
     "name": "stdout",
     "output_type": "stream",
     "text": [
      "\n",
      "\n",
      "\u001b[1m> Entering new AgentExecutor chain...\u001b[0m\n"
     ]
    },
    {
     "name": "stderr",
     "output_type": "stream",
     "text": [
      "c:\\Users\\Tales\\Python\\AgenteTuristico\\.venv\\lib\\site-packages\\langchain_google_genai\\chat_models.py:310: UserWarning: Convert_system_message_to_human will be deprecated!\n",
      "  warnings.warn(\"Convert_system_message_to_human will be deprecated!\")\n"
     ]
    },
    {
     "name": "stdout",
     "output_type": "stream",
     "text": [
      "\u001b[32;1m\u001b[1;3mThought: Do I need to use a tool? Yes\n",
      "Action: Query RAG\n",
      "Action Input: Informações turísticas sobre Natal, RN, focando em praias famosas, restaurantes com comida regional e acessíveis.\n",
      "\u001b[0m\u001b[38;5;200m\u001b[1;3mPRAIA A PRAIA\n",
      "A orla urbana de Natal é marcada por completa estrutura \n",
      "hoteleira, com quiosques atendendo à beira-mar. Da movimentada \n",
      "Ponta Negra à tradicional Redinha, tem praia para todos os gostos!\n",
      "VIA COSTEIRA\n",
      "A continuação da Praia de Ponta Negra acompanha a famosa Via Costeira, principal \n",
      "avenida da cidade. Nessa faixa de areia, ficam os incríveis resorts da cidade, com \n",
      "estrutura completa de lazer e gastronomia. A bela paisagem da região é pontuada por \n",
      "dunas, trechos de Mata Atlântica e também lindas praias desertas.\n",
      "PONTA NEGRA\n",
      "O Morro do Careca é o marco principal da Praia de Ponta Negra e cartão-postal de \n",
      "Natal. Emoldurada por vegetação, a duna de 107 m de altura domina a paisagem – \n",
      "mas é proibido subir nela por questões ambientais. A praia em si é supermovimentada,\n",
      "\n",
      "---\n",
      "\n",
      "Centro históricoCentro histórico\n",
      "Guia para turistas e moradoresGuia para turistas e moradores\n",
      "Historical Center of Natal - A guidebook for tourists and residentsHistorical Center of Natal - A guidebook for tourists and residents\n",
      "Andréa Costa / Patrícia Amaral\n",
      "\n",
      "---\n",
      "\n",
      "PRAIA DA REDINHA\n",
      "A última praia ao norte de Natal é uma antiga vila de pescadores, cujo destaque é o \n",
      "Mercado Público. A tradição ali é comer a ginga com tapioca (peixe frito que vem no \n",
      "palito, dentro de uma tapioca). A Igreja de Nossa Senhora dos Navegantes, construída \n",
      "com pedras dos arrecifes, e o Aquário Natal são outros pontos de interesse.\n",
      "PRAIA DO MEIO\n",
      "Situada entre a Praia do Forte \n",
      "e a Praia dos Artistas, sedia \n",
      "anualmente, durante o Réveillon, \n",
      "a tradicional festa de Iemanjá. Era \n",
      "considerada a praia mais turística \n",
      "da cidade até os anos 1980, \n",
      "devido às formações de piscinas \n",
      "naturais da região.\n",
      "PRAIA DOS ARTISTAS\n",
      "A 5 km do centro de Natal, é uma  \n",
      "das mais agitadas da cidade. Suas \n",
      "ondas altas são ótimas para surfe \n",
      "e outros esportes náuticos. Com\n",
      "\n",
      "---\n",
      "\n",
      "ATRAÇÕES\n",
      "Em Natal, a vida além da \n",
      "praia garante aquário, museus, \n",
      "parque aquático, cajueiro \n",
      "gigante e estádio de futebol\n",
      "PARQUE  \n",
      "DAS DUNAS\n",
      "Um dos grandes \n",
      "charmes do gigantesco \n",
      "parque é o Bosque dos \n",
      "Namorados, que tem \n",
      "área de piquenique, \n",
      "playground, restaurante e \n",
      "centro de visitantes. Vale \n",
      "a pena também percorrer \n",
      "as trilhas guiadas do \n",
      "parque, com vegetação \n",
      "exuberante. Embora \n",
      "não tenha praia, oferece \n",
      "mirantes com lindas vistas \n",
      "panorâmicas para o mar.\n",
      "FOTOS: SHUTTERSTOCK\n",
      "AQUÁRIO NATAL\n",
      "Na Praia da Redinha, já no \n",
      "caminho para Genipabu, \n",
      "possui cerca de 60 \n",
      "espécies de animais, como \n",
      "moreias, peixes de corais, \n",
      "cavalos-marinhos, jacarés e \n",
      "até mesmo mamíferos, como \n",
      "hipopótamos e jaguatiricas. \n",
      "Você pode passar a mão \n",
      "nas costas dos tubarões e \n",
      "chegar perto dos pinguins.\n",
      "\n",
      "---\n",
      "\n",
      "EMERENCIANO, João Gothardo Dantas (org.). Natal não – há – \n",
      "tal: aspectos da história da cidade do Natal. Natal: Departamento \n",
      "de Informação, Pesquisa e Estatística/SEMURB/Prefeitura Munici-\n",
      "pal do Natal, 2009.\n",
      "FERRAZ, Valéria de Souza. Mapeando “esquisitices” no centro \n",
      "antigo de Natal, RN. In: V SEMINÁRIO DE PESQUISA EM TURIS-\n",
      "MO DO MERCOSUL – SeminTUR. Turismo: Inovações da Pesquisa \n",
      "na América Latina. Caxias do Sul, 2008. Anais... Disponível em: \n",
      "<http://www.usp.br/fau/depprojeto/labcom/produtos/2008_fer-\n",
      "raz_semintur.pdf>. Acesso em 05  jun. 2012.\n",
      "__________. Turismo Cultural na ZEPH-Ribeira: possibilidades e \n",
      "limitações. Dissertação (Mestrado em Arquitetura e Urbanismo). \n",
      "Universidade Federal do Rio Grande do Norte, Centro de Tecno-\u001b[0m"
     ]
    },
    {
     "name": "stderr",
     "output_type": "stream",
     "text": [
      "c:\\Users\\Tales\\Python\\AgenteTuristico\\.venv\\lib\\site-packages\\langchain_google_genai\\chat_models.py:310: UserWarning: Convert_system_message_to_human will be deprecated!\n",
      "  warnings.warn(\"Convert_system_message_to_human will be deprecated!\")\n"
     ]
    },
    {
     "name": "stdout",
     "output_type": "stream",
     "text": [
      "\u001b[32;1m\u001b[1;3mThought: Do I need to use a tool? Yes\n",
      "Action: Weather Forecast\n",
      "Action Input: 2024/12/23\u001b[0m\u001b[33;1m\u001b[1;3mPrevisão para 2024/12/23:\n",
      "  Temperatura média: 27.4°C\n",
      "  Condição: Patchy rain nearby\n",
      "  Chance de chuva: 89%\n",
      "  Umidade média: 69%\n",
      "  Velocidade média do vento: 23.4 km/h\u001b[0m"
     ]
    },
    {
     "name": "stderr",
     "output_type": "stream",
     "text": [
      "c:\\Users\\Tales\\Python\\AgenteTuristico\\.venv\\lib\\site-packages\\langchain_google_genai\\chat_models.py:310: UserWarning: Convert_system_message_to_human will be deprecated!\n",
      "  warnings.warn(\"Convert_system_message_to_human will be deprecated!\")\n"
     ]
    },
    {
     "name": "stdout",
     "output_type": "stream",
     "text": [
      "\u001b[32;1m\u001b[1;3mThought: Do I need to use a tool? Yes\n",
      "Action: Weather Forecast\n",
      "Action Input: 2024/12/24\u001b[0m\u001b[33;1m\u001b[1;3mPrevisão para 2024/12/24:\n",
      "  Temperatura média: 27.5°C\n",
      "  Condição: Patchy rain nearby\n",
      "  Chance de chuva: 85%\n",
      "  Umidade média: 68%\n",
      "  Velocidade média do vento: 19.8 km/h\u001b[0m"
     ]
    },
    {
     "name": "stderr",
     "output_type": "stream",
     "text": [
      "c:\\Users\\Tales\\Python\\AgenteTuristico\\.venv\\lib\\site-packages\\langchain_google_genai\\chat_models.py:310: UserWarning: Convert_system_message_to_human will be deprecated!\n",
      "  warnings.warn(\"Convert_system_message_to_human will be deprecated!\")\n"
     ]
    },
    {
     "name": "stdout",
     "output_type": "stream",
     "text": [
      "\u001b[32;1m\u001b[1;3mThought: Do I need to use a tool? Yes\n",
      "Action: Weather Forecast\n",
      "Action Input: 2024/12/25\u001b[0m\u001b[33;1m\u001b[1;3mPrevisão para 2024/12/25:\n",
      "  Temperatura média: 27.4°C\n",
      "  Condição: Patchy rain nearby\n",
      "  Chance de chuva: 87%\n",
      "  Umidade média: 68%\n",
      "  Velocidade média do vento: 20.9 km/h\u001b[0m"
     ]
    },
    {
     "name": "stderr",
     "output_type": "stream",
     "text": [
      "c:\\Users\\Tales\\Python\\AgenteTuristico\\.venv\\lib\\site-packages\\langchain_google_genai\\chat_models.py:310: UserWarning: Convert_system_message_to_human will be deprecated!\n",
      "  warnings.warn(\"Convert_system_message_to_human will be deprecated!\")\n"
     ]
    },
    {
     "name": "stdout",
     "output_type": "stream",
     "text": [
      "\u001b[32;1m\u001b[1;3mThought: Do I need to use a tool? No\n",
      "Final Answer: Olá!  Com prazer, posso te ajudar a planejar sua viagem a Natal!  Baseado em sua preferência por praias famosas, restaurantes regionais acessíveis e considerando sua estadia de três dias (23 a 25 de dezembro de 2024), preparei um possível roteiro:\n",
      "\n",
      "\n",
      "**Segunda-feira, 23 de Dezembro (Previsão: Temperatura média 27.4°C, Condição: Chuva esparsa próxima, Chance de chuva: 89%, Umidade média: 69%, Velocidade média do vento: 23.4 km/h):**\n",
      "\n",
      "* **Manhã:** Chegada em Natal e acomodação no hotel.  Sugiro buscar hotéis próximos à Ponta Negra para facilitar o acesso às atrações.\n",
      "* **Tarde:** Visita à Praia de Ponta Negra.  Aproveite para admirar o Morro do Careca (lembre-se que subir é proibido).  \n",
      "* **Noite:** Jantar em um restaurante na orla de Ponta Negra.  Procure por restaurantes com frutos do mar, que costumam oferecer opções de comida regional com preços acessíveis.  Pergunte aos locais sobre recomendações!\n",
      "\n",
      "\n",
      "**Terça-feira, 24 de Dezembro (Previsão: Temperatura média 27.5°C, Condição: Chuva esparsa próxima, Chance de chuva: 85%, Umidade média: 68%, Velocidade média do vento: 19.8 km/h):**\n",
      "\n",
      "* **Manhã:**  Visita à Praia da Redinha.  Explore o Mercado Público e prove a ginga com tapioca.  \n",
      "* **Tarde:** Visite o Aquário de Natal, localizado na Praia da Redinha.\n",
      "* **Noite:** Jantar em um restaurante mais afastado da orla, para experimentar mais opções de comida regional e possivelmente preços mais baixos.  Pesquise previamente por restaurantes com boas avaliações e preços acessíveis.\n",
      "\n",
      "\n",
      "**Quarta-feira, 25 de Dezembro (Previsão: Temperatura média 27.4°C, Condição: Chuva esparsa próxima, Chance de chuva: 87%, Umidade média: 68%, Velocidade média do vento: 20.9 km/h):**\n",
      "\n",
      "* **Manhã:** Explore a Via Costeira, apreciando as paisagens e os resorts.  Você pode optar por um passeio de buggy ou simplesmente caminhar pela orla.\n",
      "* **Tarde:** Relaxe em uma das praias da Via Costeira ou visite outra praia de sua preferência (considere a Praia do Meio ou a Praia dos Artistas, dependendo do seu interesse em ondas mais fortes).\n",
      "* **Noite:** Jantar de Natal!  Escolha um restaurante que ofereça um menu especial de Natal, mas lembre-se de verificar os preços antes.  Alternativamente, você pode optar por um jantar mais casual em um restaurante local.\n",
      "\n",
      "\n",
      "**Considerações Importantes:**\n",
      "\n",
      "* **Clima:**  A previsão do tempo indica alta probabilidade de chuva nos três dias.  Leve roupas de chuva e esteja preparado para eventuais mudanças de planos.  A temperatura será alta, então leve roupas leves e protetor solar.\n",
      "* **Transporte:**  Verifique as opções de transporte disponíveis em Natal (ônibus, táxis, aplicativos de transporte) para planejar seus deslocamentos.\n",
      "* **Restaurantes:**  Pesquise previamente restaurantes com boa avaliação e preços acessíveis, principalmente se você tiver restrições alimentares.  O TripAdvisor e o Google Maps podem te ajudar.\n",
      "\n",
      "Este roteiro é apenas uma sugestão.  Podemos adaptá-lo de acordo com suas preferências e necessidades.  Qualquer dúvida ou ajuste que você queira fazer, pode me perguntar!\n",
      "\u001b[0m\n",
      "\n",
      "\u001b[1m> Finished chain.\u001b[0m\n",
      "Olá!  Com prazer, posso te ajudar a planejar sua viagem a Natal!  Baseado em sua preferência por praias famosas, restaurantes regionais acessíveis e considerando sua estadia de três dias (23 a 25 de dezembro de 2024), preparei um possível roteiro:\n",
      "\n",
      "\n",
      "**Segunda-feira, 23 de Dezembro (Previsão: Temperatura média 27.4°C, Condição: Chuva esparsa próxima, Chance de chuva: 89%, Umidade média: 69%, Velocidade média do vento: 23.4 km/h):**\n",
      "\n",
      "* **Manhã:** Chegada em Natal e acomodação no hotel.  Sugiro buscar hotéis próximos à Ponta Negra para facilitar o acesso às atrações.\n",
      "* **Tarde:** Visita à Praia de Ponta Negra.  Aproveite para admirar o Morro do Careca (lembre-se que subir é proibido).  \n",
      "* **Noite:** Jantar em um restaurante na orla de Ponta Negra.  Procure por restaurantes com frutos do mar, que costumam oferecer opções de comida regional com preços acessíveis.  Pergunte aos locais sobre recomendações!\n",
      "\n",
      "\n",
      "**Terça-feira, 24 de Dezembro (Previsão: Temperatura média 27.5°C, Condição: Chuva esparsa próxima, Chance de chuva: 85%, Umidade média: 68%, Velocidade média do vento: 19.8 km/h):**\n",
      "\n",
      "* **Manhã:**  Visita à Praia da Redinha.  Explore o Mercado Público e prove a ginga com tapioca.  \n",
      "* **Tarde:** Visite o Aquário de Natal, localizado na Praia da Redinha.\n",
      "* **Noite:** Jantar em um restaurante mais afastado da orla, para experimentar mais opções de comida regional e possivelmente preços mais baixos.  Pesquise previamente por restaurantes com boas avaliações e preços acessíveis.\n",
      "\n",
      "\n",
      "**Quarta-feira, 25 de Dezembro (Previsão: Temperatura média 27.4°C, Condição: Chuva esparsa próxima, Chance de chuva: 87%, Umidade média: 68%, Velocidade média do vento: 20.9 km/h):**\n",
      "\n",
      "* **Manhã:** Explore a Via Costeira, apreciando as paisagens e os resorts.  Você pode optar por um passeio de buggy ou simplesmente caminhar pela orla.\n",
      "* **Tarde:** Relaxe em uma das praias da Via Costeira ou visite outra praia de sua preferência (considere a Praia do Meio ou a Praia dos Artistas, dependendo do seu interesse em ondas mais fortes).\n",
      "* **Noite:** Jantar de Natal!  Escolha um restaurante que ofereça um menu especial de Natal, mas lembre-se de verificar os preços antes.  Alternativamente, você pode optar por um jantar mais casual em um restaurante local.\n",
      "\n",
      "\n",
      "**Considerações Importantes:**\n",
      "\n",
      "* **Clima:**  A previsão do tempo indica alta probabilidade de chuva nos três dias.  Leve roupas de chuva e esteja preparado para eventuais mudanças de planos.  A temperatura será alta, então leve roupas leves e protetor solar.\n",
      "* **Transporte:**  Verifique as opções de transporte disponíveis em Natal (ônibus, táxis, aplicativos de transporte) para planejar seus deslocamentos.\n",
      "* **Restaurantes:**  Pesquise previamente restaurantes com boa avaliação e preços acessíveis, principalmente se você tiver restrições alimentares.  O TripAdvisor e o Google Maps podem te ajudar.\n",
      "\n",
      "Este roteiro é apenas uma sugestão.  Podemos adaptá-lo de acordo com suas preferências e necessidades.  Qualquer dúvida ou ajuste que você queira fazer, pode me perguntar!\n"
     ]
    }
   ],
   "source": [
    "response = agent_executor.invoke({\"input\": f\"\"\"\n",
    "                                  Você poderia me ajudar a planejar a minha viagem a cidade de Natal?  Hoje é {data_para_prompt} eu vou passar três dias entre a segunda, dia 23, a quarta.\n",
    "                                  Eu gostaria de visitar as praias mais famosas e comer em restaurantes com uma boa comida regional que não sejam muito caros.\n",
    "                                  Eu quero saber se em algum desses dias irá chover, além disso o quão quente vai ser?\n",
    "                                  \"\"\"})\n",
    "\n",
    "print(response[\"output\"])\n"
   ]
  },
  {
   "cell_type": "code",
   "execution_count": 32,
   "metadata": {},
   "outputs": [
    {
     "name": "stdout",
     "output_type": "stream",
     "text": [
      "\n"
     ]
    }
   ],
   "source": [
    "print(response[\"chat_history\"])"
   ]
  }
 ],
 "metadata": {
  "colab": {
   "provenance": []
  },
  "kernelspec": {
   "display_name": ".venv",
   "language": "python",
   "name": "python3"
  },
  "language_info": {
   "codemirror_mode": {
    "name": "ipython",
    "version": 3
   },
   "file_extension": ".py",
   "mimetype": "text/x-python",
   "name": "python",
   "nbconvert_exporter": "python",
   "pygments_lexer": "ipython3",
   "version": "3.10.11"
  }
 },
 "nbformat": 4,
 "nbformat_minor": 0
}
