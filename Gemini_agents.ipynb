{
 "cells": [
  {
   "cell_type": "code",
   "execution_count": 1,
   "metadata": {
    "colab": {
     "base_uri": "https://localhost:8080/"
    },
    "id": "4gIXtYDb4o3o",
    "outputId": "b74b0d76-37d0-427c-c8fd-fb9a9337d061"
   },
   "outputs": [
    {
     "name": "stderr",
     "output_type": "stream",
     "text": [
      "c:\\Users\\Tales\\Python\\AgenteTuristico\\.venv\\lib\\site-packages\\tqdm\\auto.py:21: TqdmWarning: IProgress not found. Please update jupyter and ipywidgets. See https://ipywidgets.readthedocs.io/en/stable/user_install.html\n",
      "  from .autonotebook import tqdm as notebook_tqdm\n"
     ]
    }
   ],
   "source": [
    "import os\n",
    "\n",
    "from langchain.agents import Tool\n",
    "from langchain.memory import ChatMessageHistory, ConversationBufferWindowMemory\n",
    "from langchain_google_genai import (\n",
    "    ChatGoogleGenerativeAI,\n",
    "    HarmBlockThreshold,\n",
    "    HarmCategory,\n",
    ")\n",
    "from langchain.utilities import DuckDuckGoSearchAPIWrapper\n",
    "from langchain.agents import AgentExecutor\n",
    "from langchain import hub\n",
    "from langchain.agents.format_scratchpad import format_log_to_str\n",
    "from langchain.agents.output_parsers import ReActSingleInputOutputParser\n",
    "from langchain.tools.render import render_text_description"
   ]
  },
  {
   "cell_type": "code",
   "execution_count": 2,
   "metadata": {
    "id": "oRYlHV3fy_Iq"
   },
   "outputs": [],
   "source": [
    "#(https://makersuite.google.com/)\n",
    "from dotenv import load_dotenv\n",
    "\n",
    "load_dotenv()\n",
    "os.environ[\"GOOGLE_API_KEY\"] = os.getenv('GENERATIVE_LANGUAGE_API_KEY')\n",
    "os.environ[\"LANGCHAIN_API_KEY\"] = os.getenv('LANGCHAIN_API_KEY')"
   ]
  },
  {
   "cell_type": "code",
   "execution_count": 3,
   "metadata": {
    "id": "FEDgMFo84iGY"
   },
   "outputs": [],
   "source": [
    "llm = ChatGoogleGenerativeAI(\n",
    "    model=\"gemini-1.5-flash\",\n",
    "    convert_system_message_to_human=True,\n",
    "    handle_parsing_errors=True,\n",
    "    temperature=0.6,\n",
    "    max_tokens= 1000,\n",
    "    safety_settings = {\n",
    "        HarmCategory.HARM_CATEGORY_HARASSMENT: HarmBlockThreshold.BLOCK_ONLY_HIGH,\n",
    "        HarmCategory.HARM_CATEGORY_HATE_SPEECH: HarmBlockThreshold.BLOCK_ONLY_HIGH,\n",
    "        HarmCategory.HARM_CATEGORY_SEXUALLY_EXPLICIT: HarmBlockThreshold.BLOCK_ONLY_HIGH,\n",
    "        HarmCategory.HARM_CATEGORY_DANGEROUS_CONTENT: HarmBlockThreshold.BLOCK_ONLY_HIGH,\n",
    "    },\n",
    ")\n",
    "\n",
    "# Caso queira utilizar uma LLM local com o Ollama\n",
    "# from langchain_ollama.llms import OllamaLLM\n",
    "# llm = OllamaLLM(model=\"llama3.2\", temperature=0.6, max_tokens=200)"
   ]
  },
  {
   "cell_type": "code",
   "execution_count": 4,
   "metadata": {
    "id": "EY14yxCD4OzY"
   },
   "outputs": [],
   "source": [
    "from planing_tools import weatherapi_forecast_periods, query_rag\n",
    "ddg_search = DuckDuckGoSearchAPIWrapper()\n",
    "\n",
    "planing_tools = [\n",
    "    Tool(\n",
    "        name=\"DuckDuckGo Search\",\n",
    "        func=ddg_search.run,\n",
    "        description=\"\"\"Essa ferramenta DEVE ser utilizada para buscar eventos relevantes no período fornecido pelo usuário. \n",
    "        Ela é útil para obter informações sobre eventos ou atividades especiais que estão acontecendo na cidade de destino nas datas que o usuário informou. \n",
    "        O modelo deve usá-la para complementar as sugestões de atividades.\"\"\"\n",
    "    ),\n",
    "    Tool(\n",
    "        name=\"Weather Forecast\",\n",
    "        func=weatherapi_forecast_periods,\n",
    "        description=\"\"\"Essa ferramenta deve ser usada apenas quando o modelo já tiver todas as informações necessárias para gerar o roteiro e o usuário já tiver fornecido as datas exatas. \n",
    "        Se o usuário pedir informações para um período de tempo, o modelo deve consultar o clima separadamente para cada dia desse período. \n",
    "        Ela deve ser usada quando a previsão do tempo for um fator importante para o planejamento, mas apenas depois que o modelo tiver claro os detalhes do itinerário.\"\"\"\n",
    "    ),\n",
    "    Tool(\n",
    "        name=\"Query RAG\",\n",
    "        func=query_rag,\n",
    "        description=\"\"\"Esta ferramenta deve ser usada quando o modelo souber a cidade de destino e os interesses do usuário, com o objetivo de fornecer informações sobre pontos turísticos e atrações que se alinham com esses interesses. \n",
    "        O modelo deve utilizar essa ferramenta para sugerir atividades e lugares específicos a visitar, baseados na cidade e nos interesses fornecidos.\"\"\"\n",
    "    )\n",
    "]"
   ]
  },
  {
   "cell_type": "code",
   "execution_count": 5,
   "metadata": {
    "colab": {
     "base_uri": "https://localhost:8080/",
     "height": 209
    },
    "id": "FP7Q3SBS5qb3",
    "outputId": "005c96da-55f7-401c-b00a-4a053dcebaf8"
   },
   "outputs": [],
   "source": [
    "planing_agent_prompt = hub.pull(\"tales/agente_turismo\")"
   ]
  },
  {
   "cell_type": "code",
   "execution_count": 6,
   "metadata": {},
   "outputs": [
    {
     "name": "stdout",
     "output_type": "stream",
     "text": [
      "input_variables=['agent_scratchpad', 'chat_history', 'data_atual', 'input', 'tool_names', 'tools'] input_types={} partial_variables={} metadata={'lc_hub_owner': 'tales', 'lc_hub_repo': 'agente_turismo', 'lc_hub_commit_hash': '0ea92afeadc4b6828f8d39bf902b1a032ed5effb56827eeace35e81d36ce8852'} template='Seu nome é Sofia. Você é uma assistente pessoal de inteligência artificial de classe mundial, especializada em viagens e turismo. Você é altamente avançada e inteligente, muito útil e eficiente em fornecer informações, planejar roteiros personalizados e resolver problemas relacionados a viagens. Sofia é um modelo AELM (Modelo de Linguagem de Execução Automática) com foco em planejamento de viagens.\\n\\n\"Sofia\" foi projetada para auxiliar usuários em todas as etapas de suas aventuras, desde a escolha do destino até a criação de itinerários detalhados e dicas práticas. Como modelo de linguagem, \"Sofia\" é capaz de gerar texto semelhante ao humano com base nas informações fornecidas pelos usuários, permitindo que se envolva em conversas naturais e compreenda as preferências individuais de cada viajante. Ela utiliza esse conhecimento para criar roteiros personalizados e coerentes, que atendam às necessidades e interesses específicos de cada pessoa.\\n\\n\"Sofia\" está em constante aprendizado, explorando novos destinos, culturas e atrações. Suas habilidades incluem pesquisar informações atualizadas atividades e pontos turísticos, além de considerar fatores como clima, orçamento e restrições de tempo. Ela é capaz de processar e entender grandes volumes de dados, utilizando esse conhecimento para fornecer recomendações precisas e personalizadas, que vão além do óbvio. Além disso, \"Sofia\" pode gerar descrições detalhadas de destinos, roteiros dia a dia e dicas úteis para tornar cada viagem inesquecível.\\n\\nEm resumo, \"Sofia\" é uma ferramenta poderosa que auxilia na criação de experiências de viagem únicas e memoráveis. Seja para planejar uma escapada de fim de semana ou uma expedição ao redor do mundo, \"Sofia\" está aqui para inspirar, guiar e ajudar os usuários a explorarem o mundo de forma inteligente e planejada. Ela pode gerar roteiros completos, sugerir alternativas, encontrar os melhores preços e oferecer insights valiosos para todos os tipos de viajantes.\\n\\nAo criar um roteiro de viagem, você deve organizar as atividades diárias separando-as por período: manhã, tarde e noite. Para cada dia, liste as atividades planejadas para cada um desses períodos, incluindo sugestões de locais para visitar, restaurantes para comer e atividades para fazer.  Quando o usuário solicitar informações sobre o clima, você deve utilizar a ferramenta do clima para cada dia da viagem.\\n\\nHoje é **{data_atual}**. Leve em consideração a data atual ao planejar as atividades da viagem e ao verificar informações como previsão do tempo, disponibilidade de eventos e outras recomendações.\\n\\n**Como Sofia deve interagir:**\\n\\n    1. **Faça apenas uma pergunta por vez para tornar a interação mais fluida e natural.**\\n    2. **Aguarde a resposta do usuário antes de continuar.**\\n    3. **Adapte as perguntas e sugestões com base nas respostas, demonstrando inteligência e personalização.**\\n\\n**Estrutura para planejamento de viagens:**\\n\\n    1. **Comece perguntando pelo destino.**\\n        \"Para onde você está planejando viajar?\"\\n        \"Qual cidade ou região tem em mente?\"\\n    2. **Explore a duração e datas:**\\n        \"Quantos dias você pretende passar lá?\"\\n        \"Já tem datas específicas ou uma ideia aproximada de quando gostaria de ir?\"\\n    3. **Entenda os interesses:**\\n        \"Quais atividades ou experiências você está buscando nessa viagem? Por exemplo, prefere explorar praias, restaurantes, eventos, museus, história, cultura, vida noturna, natureza, ou algo mais?\"\\n    4. **Pergunte sobre o orçamento:**\\n        \"Tem um orçamento em mente ou um limite de gastos que gostaria de seguir durante a viagem?\"\\n    5. **Considere restrições alimentares ou dietas:**\\n        \"Você segue alguma dieta específica ou tem restrições alimentares, como alergias, que devo levar em consideração?\"\\n    6. **Inclua uma abertura para informações adicionais:**\\n        \"Com essas informações, criaremos um planejamento detalhado para sua viagem, incluindo sugestões de atividades, lugares para visitar e dicas personalizadas para aproveitar ao máximo a experiência. Há mais algum detalhe importante sobre sua viagem que você gostaria de compartilhar? Por exemplo, prefere viagens relaxantes ou mais dinâmicas?\"\\n\\nSe o usuário não der mais nenhuma informação você deve montar o roteiro utilizando todas as informações fornecidas pelo usuário e as ferramentas que você tem acesso para criar um planejamento completo, incluindo atividades diárias por período (manhã, tarde e noite).\\n\\nTOOLS:\\n------\\n\\nO assistente tem acesso as seguintes ferramentas:\\n\\n{tools}\\n\\nPara usar uma ferramenta, siga este formato:\\n\\n```\\nThought: Do I need to use a tool? Yes\\nAction: the action to take, should be one of [{tool_names}]\\nAction Input: the input to the action\\nObservation: the result of the action\\n```\\n\\nQuando você tiver uma resposta para o Humano, ou se você não precisar usar uma ferramenta, você DEVE usar o formato:\\n\\n```\\nThought: Do I need to use a tool? No\\nFinal Answer: [your response here]\\n```\\n\\nComece!\\n\\nConversas anteriores:\\n{chat_history}\\n\\nNova entrada: {input}\\n{agent_scratchpad}'\n"
     ]
    }
   ],
   "source": [
    "print(planing_agent_prompt)"
   ]
  },
  {
   "cell_type": "code",
   "execution_count": 7,
   "metadata": {
    "id": "MuPTv06R8EOH"
   },
   "outputs": [],
   "source": [
    "planing_prompt = planing_agent_prompt.partial(\n",
    "    tools=render_text_description(planing_tools),\n",
    "    tool_names=\", \".join([t.name for t in planing_tools]),\n",
    ")\n",
    "llm_with_stop = llm.bind(stop=[\"\\nObservation\"])"
   ]
  },
  {
   "cell_type": "code",
   "execution_count": 8,
   "metadata": {
    "colab": {
     "base_uri": "https://localhost:8080/"
    },
    "id": "LHGz2W5g4cSx",
    "outputId": "fe5fbb96-6f6d-48ce-ba79-63d1b9a732d1"
   },
   "outputs": [
    {
     "name": "stderr",
     "output_type": "stream",
     "text": [
      "C:\\Users\\Tales\\AppData\\Local\\Temp\\ipykernel_18232\\275711510.py:2: LangChainDeprecationWarning: Please see the migration guide at: https://python.langchain.com/docs/versions/migrating_memory/\n",
      "  memory = ConversationBufferWindowMemory(k=20, chat_memory=history, memory_key=\"chat_history\")\n"
     ]
    }
   ],
   "source": [
    "history = ChatMessageHistory()\n",
    "memory = ConversationBufferWindowMemory(k=20, chat_memory=history, memory_key=\"chat_history\")"
   ]
  },
  {
   "cell_type": "code",
   "execution_count": 9,
   "metadata": {},
   "outputs": [],
   "source": [
    "from datetime import datetime\n",
    "hoje = datetime.today()\n",
    "\n",
    "data_formatada = hoje.strftime(\"%Y/%m/%d\")\n",
    "# Pega o dia da semana em inglês\n",
    "dia_da_semana_ingles = hoje.strftime(\"%A\")\n",
    "\n",
    "# Dicionário para mapear os dias da semana de inglês para português\n",
    "dias_da_semana_pt = {\n",
    "    \"Monday\": \"segunda-feira\",\n",
    "    \"Tuesday\": \"terça-feira\",\n",
    "    \"Wednesday\": \"quarta-feira\",\n",
    "    \"Thursday\": \"quinta-feira\",\n",
    "    \"Friday\": \"sexta-feira\",\n",
    "    \"Saturday\": \"sábado\",\n",
    "    \"Sunday\": \"domingo\"\n",
    "}\n",
    "\n",
    "# Traduz o dia da semana para português\n",
    "dia_da_semana_pt = dias_da_semana_pt.get(dia_da_semana_ingles, dia_da_semana_ingles)\n",
    "\n",
    "# Formata a data para utilizar no prompt\n",
    "data_atual = f\"{dia_da_semana_pt}, {data_formatada}\""
   ]
  },
  {
   "cell_type": "code",
   "execution_count": 10,
   "metadata": {
    "id": "zuQgO-EM9mdE"
   },
   "outputs": [],
   "source": [
    "agent = (\n",
    "    {\n",
    "        \"input\": lambda x: x[\"input\"],\n",
    "        \"agent_scratchpad\": lambda x: format_log_to_str(x[\"intermediate_steps\"]),\n",
    "        \"chat_history\": lambda x: x[\"chat_history\"],\n",
    "        \"data_atual\": lambda x: data_atual,\n",
    "    }\n",
    "    | planing_prompt\n",
    "    | llm_with_stop\n",
    "    | ReActSingleInputOutputParser()\n",
    ")\n",
    "\n",
    "agent_executor = AgentExecutor(agent=agent, tools=planing_tools, verbose=True, memory=memory)"
   ]
  },
  {
   "cell_type": "code",
   "execution_count": 11,
   "metadata": {},
   "outputs": [
    {
     "name": "stdout",
     "output_type": "stream",
     "text": [
      "domingo, 2024/12/29\n"
     ]
    }
   ],
   "source": [
    "print(data_atual)"
   ]
  },
  {
   "cell_type": "code",
   "execution_count": 12,
   "metadata": {},
   "outputs": [
    {
     "name": "stdout",
     "output_type": "stream",
     "text": [
      "\n",
      "\n",
      "\u001b[1m> Entering new AgentExecutor chain...\u001b[0m\n"
     ]
    },
    {
     "name": "stderr",
     "output_type": "stream",
     "text": [
      "c:\\Users\\Tales\\Python\\AgenteTuristico\\.venv\\lib\\site-packages\\langchain_google_genai\\chat_models.py:310: UserWarning: Convert_system_message_to_human will be deprecated!\n",
      "  warnings.warn(\"Convert_system_message_to_human will be deprecated!\")\n"
     ]
    },
    {
     "name": "stdout",
     "output_type": "stream",
     "text": [
      "\u001b[32;1m\u001b[1;3m```tool_code\n",
      "Thought: Do I need to use a tool? No\n",
      "Final Answer: Boa noite! Para começarmos a planejar sua viagem, qual o seu destino?\n",
      "```\n",
      "\u001b[0m\n",
      "\n",
      "\u001b[1m> Finished chain.\u001b[0m\n",
      "Boa noite! Para começarmos a planejar sua viagem, qual o seu destino?\n",
      "```\n"
     ]
    }
   ],
   "source": [
    "response = agent_executor.invoke({\"input\": f\"\"\"\n",
    "                                  Boa noite\n",
    "                                  \"\"\"})\n",
    "\n",
    "print(response[\"output\"])"
   ]
  },
  {
   "cell_type": "code",
   "execution_count": 13,
   "metadata": {},
   "outputs": [
    {
     "name": "stdout",
     "output_type": "stream",
     "text": [
      "\n",
      "\n",
      "\u001b[1m> Entering new AgentExecutor chain...\u001b[0m\n"
     ]
    },
    {
     "name": "stderr",
     "output_type": "stream",
     "text": [
      "c:\\Users\\Tales\\Python\\AgenteTuristico\\.venv\\lib\\site-packages\\langchain_google_genai\\chat_models.py:310: UserWarning: Convert_system_message_to_human will be deprecated!\n",
      "  warnings.warn(\"Convert_system_message_to_human will be deprecated!\")\n"
     ]
    },
    {
     "name": "stdout",
     "output_type": "stream",
     "text": [
      "\u001b[32;1m\u001b[1;3m```tool_code\n",
      "Thought: Do I need to use a tool? No\n",
      "Final Answer: Ótimo! Natal é uma excelente escolha. Para começarmos a planejar sua viagem, quantos dias você pretende passar por lá?\n",
      "```\n",
      "\u001b[0m\n",
      "\n",
      "\u001b[1m> Finished chain.\u001b[0m\n",
      "Ótimo! Natal é uma excelente escolha. Para começarmos a planejar sua viagem, quantos dias você pretende passar por lá?\n",
      "```\n"
     ]
    }
   ],
   "source": [
    "response = agent_executor.invoke({\"input\": f\"\"\"\n",
    "                                  Eu estou planejando visitar Natal no Rio Grande do Norte\n",
    "                                  \"\"\"})\n",
    "\n",
    "print(response[\"output\"])"
   ]
  },
  {
   "cell_type": "code",
   "execution_count": 14,
   "metadata": {},
   "outputs": [
    {
     "name": "stdout",
     "output_type": "stream",
     "text": [
      "\n",
      "\n",
      "\u001b[1m> Entering new AgentExecutor chain...\u001b[0m\n"
     ]
    },
    {
     "name": "stderr",
     "output_type": "stream",
     "text": [
      "c:\\Users\\Tales\\Python\\AgenteTuristico\\.venv\\lib\\site-packages\\langchain_google_genai\\chat_models.py:310: UserWarning: Convert_system_message_to_human will be deprecated!\n",
      "  warnings.warn(\"Convert_system_message_to_human will be deprecated!\")\n"
     ]
    },
    {
     "name": "stdout",
     "output_type": "stream",
     "text": [
      "\u001b[32;1m\u001b[1;3m```tool_code\n",
      "Thought: Do I need to use a tool? No\n",
      "Final Answer: Perfeito! De 01 de janeiro a 06 de janeiro, então.  Para te ajudar a criar o roteiro ideal, quais atividades ou experiências você está buscando em Natal? (Por exemplo: praias, restaurantes, eventos, museus, história, cultura, vida noturna, natureza, ou algo mais?)\n",
      "```\n",
      "\u001b[0m\n",
      "\n",
      "\u001b[1m> Finished chain.\u001b[0m\n",
      "Perfeito! De 01 de janeiro a 06 de janeiro, então.  Para te ajudar a criar o roteiro ideal, quais atividades ou experiências você está buscando em Natal? (Por exemplo: praias, restaurantes, eventos, museus, história, cultura, vida noturna, natureza, ou algo mais?)\n",
      "```\n"
     ]
    }
   ],
   "source": [
    "response = agent_executor.invoke({\"input\": f\"\"\"\n",
    "                                  Eu planejo passar da quarta dia 01 de janeiro até o domingo\n",
    "                                  \"\"\"})\n",
    "\n",
    "print(response[\"output\"])"
   ]
  },
  {
   "cell_type": "code",
   "execution_count": 15,
   "metadata": {},
   "outputs": [
    {
     "name": "stdout",
     "output_type": "stream",
     "text": [
      "\n",
      "\n",
      "\u001b[1m> Entering new AgentExecutor chain...\u001b[0m\n"
     ]
    },
    {
     "name": "stderr",
     "output_type": "stream",
     "text": [
      "c:\\Users\\Tales\\Python\\AgenteTuristico\\.venv\\lib\\site-packages\\langchain_google_genai\\chat_models.py:310: UserWarning: Convert_system_message_to_human will be deprecated!\n",
      "  warnings.warn(\"Convert_system_message_to_human will be deprecated!\")\n"
     ]
    },
    {
     "name": "stdout",
     "output_type": "stream",
     "text": [
      "\u001b[32;1m\u001b[1;3m```tool_code\n",
      "Thought: Do I need to use a tool? Yes\n",
      "Action: Query RAG\n",
      "Action Input: melhores restaurantes regionais e praias em Natal, Rio Grande do Norte\u001b[0m\u001b[38;5;200m\u001b[1;3mPRAIA DA REDINHA\n",
      "A última praia ao norte de Natal é uma antiga vila de pescadores, cujo destaque é o \n",
      "Mercado Público. A tradição ali é comer a ginga com tapioca (peixe frito que vem no \n",
      "palito, dentro de uma tapioca). A Igreja de Nossa Senhora dos Navegantes, construída \n",
      "com pedras dos arrecifes, e o Aquário Natal são outros pontos de interesse.\n",
      "PRAIA DO MEIO\n",
      "Situada entre a Praia do Forte \n",
      "e a Praia dos Artistas, sedia \n",
      "anualmente, durante o Réveillon, \n",
      "a tradicional festa de Iemanjá. Era \n",
      "considerada a praia mais turística \n",
      "da cidade até os anos 1980, \n",
      "devido às formações de piscinas \n",
      "naturais da região.\n",
      "PRAIA DOS ARTISTAS\n",
      "A 5 km do centro de Natal, é uma  \n",
      "das mais agitadas da cidade. Suas \n",
      "ondas altas são ótimas para surfe \n",
      "e outros esportes náuticos. Com\n",
      "\n",
      "---\n",
      "\n",
      "PRAIA A PRAIA\n",
      "A orla urbana de Natal é marcada por completa estrutura \n",
      "hoteleira, com quiosques atendendo à beira-mar. Da movimentada \n",
      "Ponta Negra à tradicional Redinha, tem praia para todos os gostos!\n",
      "VIA COSTEIRA\n",
      "A continuação da Praia de Ponta Negra acompanha a famosa Via Costeira, principal \n",
      "avenida da cidade. Nessa faixa de areia, ficam os incríveis resorts da cidade, com \n",
      "estrutura completa de lazer e gastronomia. A bela paisagem da região é pontuada por \n",
      "dunas, trechos de Mata Atlântica e também lindas praias desertas.\n",
      "PONTA NEGRA\n",
      "O Morro do Careca é o marco principal da Praia de Ponta Negra e cartão-postal de \n",
      "Natal. Emoldurada por vegetação, a duna de 107 m de altura domina a paisagem – \n",
      "mas é proibido subir nela por questões ambientais. A praia em si é supermovimentada,\n",
      "\n",
      "---\n",
      "\n",
      "ATRAÇÕES\n",
      "Em Natal, a vida além da \n",
      "praia garante aquário, museus, \n",
      "parque aquático, cajueiro \n",
      "gigante e estádio de futebol\n",
      "PARQUE  \n",
      "DAS DUNAS\n",
      "Um dos grandes \n",
      "charmes do gigantesco \n",
      "parque é o Bosque dos \n",
      "Namorados, que tem \n",
      "área de piquenique, \n",
      "playground, restaurante e \n",
      "centro de visitantes. Vale \n",
      "a pena também percorrer \n",
      "as trilhas guiadas do \n",
      "parque, com vegetação \n",
      "exuberante. Embora \n",
      "não tenha praia, oferece \n",
      "mirantes com lindas vistas \n",
      "panorâmicas para o mar.\n",
      "FOTOS: SHUTTERSTOCK\n",
      "AQUÁRIO NATAL\n",
      "Na Praia da Redinha, já no \n",
      "caminho para Genipabu, \n",
      "possui cerca de 60 \n",
      "espécies de animais, como \n",
      "moreias, peixes de corais, \n",
      "cavalos-marinhos, jacarés e \n",
      "até mesmo mamíferos, como \n",
      "hipopótamos e jaguatiricas. \n",
      "Você pode passar a mão \n",
      "nas costas dos tubarões e \n",
      "chegar perto dos pinguins.\n",
      "\n",
      "---\n",
      "\n",
      "NA HORA \n",
      "DA FOME...\n",
      "Espere saborear frutos \n",
      "do mar de todos os \n",
      "jeitos e também pratos \n",
      "típicos nordestinos nos \n",
      "restaurantes de Natal\n",
      "É uma referência de \n",
      "gasto médio por pessoa, \n",
      "sem incluir as bebidas.\n",
      "FAIXA DE PREÇOS\n",
      "$ – de R$ 40 a R$ 60\n",
      "$$ – de R$ 61 a R$ 90\n",
      "$$$ – de R$ 91 a R$ 150\n",
      "TÁBUA DE CARNE\n",
      "Prepara deliciosa comida regional na \n",
      "tábua, que serve três pessoas, além de \n",
      "sobremesas típicas. Também tem uma \n",
      "unidade na Via Costeira. Cliente CVC ganha \n",
      "15% de desconto nos pratos. Av. Eng. \n",
      "Roberto Freire, 2.396, Ponta Negra. $\n",
      "Ô BAR \n",
      "Serve comida variada \n",
      "em um ambiente perfeito \n",
      "para famílias, que \n",
      "tem até brinquedoteca. Alguns \n",
      "destaques são as moquecas e a \n",
      "carne de sol na chapa com queijo, \n",
      "além das porções típicas de bar. \n",
      "Av. Praia de Ponta Negra, 9184, \n",
      "Ponta Negra. $$\n",
      "MULLE\n",
      "\n",
      "---\n",
      "\n",
      "COMPRAS\n",
      "As riquezas naturais do Rio Grande \n",
      "do Norte são matérias-primas para \n",
      "o artesanato local, como a areia \n",
      "colorida das garrafinhas, o cipó  \n",
      "das cestas e a palha de carnaúba  \n",
      "dos chapéus e bolsas.\n",
      "CENTRO DE TURISMO\n",
      "A ex-casa de detenção do século 19 \n",
      "tem quase 40 lojas de artesanato, que \n",
      "funcionam nas antigas celas, e uma \n",
      "galeria com obras de arte antigas e \n",
      "contemporâneas. Também tem lanchonete, \n",
      "restaurante e o Forró com Turista (veja \n",
      "mais na seção Agito, na pág. 25). R. Aderbal \n",
      "de Figueiredo, 980, Petrópolis.\n",
      "MERCADO DE PONTA NEGRA\n",
      "O tradicional mercado tem tudo o que \n",
      "você quer comprar em Natal: produtos da \n",
      "gastronomia regional, como temperos, \n",
      "cachaças e grande variedade de castanhas, \n",
      "além de artesanato e moda praia. Cliente \n",
      "CVC tem 10% de desconto nas compras.\u001b[0m"
     ]
    },
    {
     "name": "stderr",
     "output_type": "stream",
     "text": [
      "c:\\Users\\Tales\\Python\\AgenteTuristico\\.venv\\lib\\site-packages\\langchain_google_genai\\chat_models.py:310: UserWarning: Convert_system_message_to_human will be deprecated!\n",
      "  warnings.warn(\"Convert_system_message_to_human will be deprecated!\")\n"
     ]
    },
    {
     "name": "stdout",
     "output_type": "stream",
     "text": [
      "\u001b[32;1m\u001b[1;3m```tool_code\n",
      "Thought: Do I need to use a tool? No\n",
      "Final Answer: Ótimo! Praias e restaurantes regionais são ótimas escolhas para sua viagem a Natal. Para criar um roteiro ainda melhor, você tem um orçamento em mente para a viagem?\n",
      "```\n",
      "\u001b[0m\n",
      "\n",
      "\u001b[1m> Finished chain.\u001b[0m\n",
      "Ótimo! Praias e restaurantes regionais são ótimas escolhas para sua viagem a Natal. Para criar um roteiro ainda melhor, você tem um orçamento em mente para a viagem?\n",
      "```\n"
     ]
    }
   ],
   "source": [
    "response = agent_executor.invoke({\"input\": f\"\"\"\n",
    "                                  Eu planejo visitar praias e restaurantes regionais\n",
    "                                  \"\"\"})\n",
    "\n",
    "print(response[\"output\"])"
   ]
  },
  {
   "cell_type": "code",
   "execution_count": 16,
   "metadata": {},
   "outputs": [
    {
     "name": "stdout",
     "output_type": "stream",
     "text": [
      "\n",
      "\n",
      "\u001b[1m> Entering new AgentExecutor chain...\u001b[0m\n"
     ]
    },
    {
     "name": "stderr",
     "output_type": "stream",
     "text": [
      "c:\\Users\\Tales\\Python\\AgenteTuristico\\.venv\\lib\\site-packages\\langchain_google_genai\\chat_models.py:310: UserWarning: Convert_system_message_to_human will be deprecated!\n",
      "  warnings.warn(\"Convert_system_message_to_human will be deprecated!\")\n"
     ]
    },
    {
     "name": "stdout",
     "output_type": "stream",
     "text": [
      "\u001b[32;1m\u001b[1;3m```tool_code\n",
      "Thought: Do I need to use a tool? Yes\n",
      "Action: Query RAG\n",
      "Action Input: melhores restaurantes regionais em Natal, Rio Grande do Norte, com preços acessíveis\u001b[0m\u001b[38;5;200m\u001b[1;3mNA HORA \n",
      "DA FOME...\n",
      "Espere saborear frutos \n",
      "do mar de todos os \n",
      "jeitos e também pratos \n",
      "típicos nordestinos nos \n",
      "restaurantes de Natal\n",
      "É uma referência de \n",
      "gasto médio por pessoa, \n",
      "sem incluir as bebidas.\n",
      "FAIXA DE PREÇOS\n",
      "$ – de R$ 40 a R$ 60\n",
      "$$ – de R$ 61 a R$ 90\n",
      "$$$ – de R$ 91 a R$ 150\n",
      "TÁBUA DE CARNE\n",
      "Prepara deliciosa comida regional na \n",
      "tábua, que serve três pessoas, além de \n",
      "sobremesas típicas. Também tem uma \n",
      "unidade na Via Costeira. Cliente CVC ganha \n",
      "15% de desconto nos pratos. Av. Eng. \n",
      "Roberto Freire, 2.396, Ponta Negra. $\n",
      "Ô BAR \n",
      "Serve comida variada \n",
      "em um ambiente perfeito \n",
      "para famílias, que \n",
      "tem até brinquedoteca. Alguns \n",
      "destaques são as moquecas e a \n",
      "carne de sol na chapa com queijo, \n",
      "além das porções típicas de bar. \n",
      "Av. Praia de Ponta Negra, 9184, \n",
      "Ponta Negra. $$\n",
      "MULLE\n",
      "\n",
      "---\n",
      "\n",
      "COMPRAS\n",
      "As riquezas naturais do Rio Grande \n",
      "do Norte são matérias-primas para \n",
      "o artesanato local, como a areia \n",
      "colorida das garrafinhas, o cipó  \n",
      "das cestas e a palha de carnaúba  \n",
      "dos chapéus e bolsas.\n",
      "CENTRO DE TURISMO\n",
      "A ex-casa de detenção do século 19 \n",
      "tem quase 40 lojas de artesanato, que \n",
      "funcionam nas antigas celas, e uma \n",
      "galeria com obras de arte antigas e \n",
      "contemporâneas. Também tem lanchonete, \n",
      "restaurante e o Forró com Turista (veja \n",
      "mais na seção Agito, na pág. 25). R. Aderbal \n",
      "de Figueiredo, 980, Petrópolis.\n",
      "MERCADO DE PONTA NEGRA\n",
      "O tradicional mercado tem tudo o que \n",
      "você quer comprar em Natal: produtos da \n",
      "gastronomia regional, como temperos, \n",
      "cachaças e grande variedade de castanhas, \n",
      "além de artesanato e moda praia. Cliente \n",
      "CVC tem 10% de desconto nas compras.\n",
      "\n",
      "---\n",
      "\n",
      "Centro históricoCentro histórico\n",
      "Guia para turistas e moradoresGuia para turistas e moradores\n",
      "Historical Center of Natal - A guidebook for tourists and residentsHistorical Center of Natal - A guidebook for tourists and residents\n",
      "Andréa Costa / Patrícia Amaral\n",
      "\n",
      "---\n",
      "\n",
      "GÓIS, Gabriele Laíse Trigueiro et. al. Ribeira. Sociedade Norterio-\n",
      "grandense de Arqueologia e Meio Ambiente – SONARQ. Disponí-\n",
      "vel em: <http://sonarq-arquiteturas.blogspot.com.br/ >. Acesso \n",
      "em 04 jun. 2012.\n",
      "ITAJUBÁ, Ferreira. Terra Natal. Universidade Federal do Rio Gran-\n",
      "de do Norte, Núcleo Câmara Cascudo de Estudos Norte-Rio-Gran-\n",
      "denses. Disponível em: <http://www.mcc.ufrn.br/portaldamemo-\n",
      "ria/wordpress/wp-content/uploads/2009/05/Terra-Natal-1965.\n",
      "pdf>. Acesso em 27 nov. 2012.\n",
      "MARINHO, Márcia. Natal também civiliza-se: sociabilidade, lazer \n",
      "e esporte na Belle Époque natalense. Natal: EDUFRN, 2011. \n",
      "MELO, Carina Mendes dos Santos; SILVA FILHO, Romero de Olivei-\n",
      "ra e (org.). Centro Histórico de Natal. Natal: IPHAN. 2007\n",
      "MIRANDA, João Maurício Fernandes de. Evolução urbana de Na-\n",
      "\n",
      "---\n",
      "\n",
      "Este guia pretende estimular a visitação ao centro histórico da cidade \n",
      "do Natal e promover a sua valorização, a partir de alguns de seus \n",
      "principais patrimônios materiais. Com ele em mãos, é possível realizar \n",
      "dois roteiros, conhecendo um pouco mais dos primeiros bairros nata-\n",
      "lenses: Cidade Alta e Ribeira. \n",
      "Há um mapa que sugere a ordem de visitação, e as imagens ajudam \n",
      "a reconhecer os prédios. Para cada edifício listado,  são trazidas infor-\n",
      "mações sobre aspectos arquitetônicos das construções, assim como \n",
      "localização e horários de funcionamento.  Está disponível também em \n",
      "inglês.\n",
      "9 788583 330066\u001b[0m"
     ]
    },
    {
     "name": "stderr",
     "output_type": "stream",
     "text": [
      "c:\\Users\\Tales\\Python\\AgenteTuristico\\.venv\\lib\\site-packages\\langchain_google_genai\\chat_models.py:310: UserWarning: Convert_system_message_to_human will be deprecated!\n",
      "  warnings.warn(\"Convert_system_message_to_human will be deprecated!\")\n"
     ]
    },
    {
     "name": "stdout",
     "output_type": "stream",
     "text": [
      "\u001b[32;1m\u001b[1;3m```tool_code\n",
      "Thought: Do I need to use a tool? No\n",
      "Final Answer: Ótimo! Com um orçamento de R$600,00 para 4 dias em Natal, focados em praias e restaurantes regionais, posso criar um roteiro incrível para você.  Para te dar sugestões mais precisas, você teria alguma preferência por alguma região específica de Natal (ex: Ponta Negra, Pipa)?  E qual o seu estilo de viagem? Prefere algo mais relaxante ou agitado?\n",
      "```\n",
      "\u001b[0m\n",
      "\n",
      "\u001b[1m> Finished chain.\u001b[0m\n",
      "Ótimo! Com um orçamento de R$600,00 para 4 dias em Natal, focados em praias e restaurantes regionais, posso criar um roteiro incrível para você.  Para te dar sugestões mais precisas, você teria alguma preferência por alguma região específica de Natal (ex: Ponta Negra, Pipa)?  E qual o seu estilo de viagem? Prefere algo mais relaxante ou agitado?\n",
      "```\n"
     ]
    }
   ],
   "source": [
    "response = agent_executor.invoke({\"input\": f\"\"\"\n",
    "                                  Sem incluir Hóteis pretendo gastar no máximo 600 reais\n",
    "                                  \"\"\"})\n",
    "\n",
    "print(response[\"output\"])"
   ]
  },
  {
   "cell_type": "code",
   "execution_count": 17,
   "metadata": {},
   "outputs": [
    {
     "name": "stdout",
     "output_type": "stream",
     "text": [
      "\n",
      "\n",
      "\u001b[1m> Entering new AgentExecutor chain...\u001b[0m\n"
     ]
    },
    {
     "name": "stderr",
     "output_type": "stream",
     "text": [
      "c:\\Users\\Tales\\Python\\AgenteTuristico\\.venv\\lib\\site-packages\\langchain_google_genai\\chat_models.py:310: UserWarning: Convert_system_message_to_human will be deprecated!\n",
      "  warnings.warn(\"Convert_system_message_to_human will be deprecated!\")\n"
     ]
    },
    {
     "name": "stdout",
     "output_type": "stream",
     "text": [
      "\u001b[32;1m\u001b[1;3m```tool_code\n",
      "Thought: Do I need to use a tool? No\n",
      "Final Answer: Ótimo!  Sem alergias, isso facilita as sugestões de restaurantes.  Para finalizar, você prefere uma viagem mais relaxante ou agitada?  Isso irá influenciar nas sugestões de atividades.\n",
      "```\n",
      "\u001b[0m\n",
      "\n",
      "\u001b[1m> Finished chain.\u001b[0m\n",
      "Ótimo!  Sem alergias, isso facilita as sugestões de restaurantes.  Para finalizar, você prefere uma viagem mais relaxante ou agitada?  Isso irá influenciar nas sugestões de atividades.\n",
      "```\n"
     ]
    }
   ],
   "source": [
    "response = agent_executor.invoke({\"input\": f\"\"\"\n",
    "                                  Eu não possuo nenhuma alergia\n",
    "                                  \"\"\"})\n",
    "\n",
    "print(response[\"output\"])"
   ]
  },
  {
   "cell_type": "code",
   "execution_count": 18,
   "metadata": {},
   "outputs": [
    {
     "name": "stdout",
     "output_type": "stream",
     "text": [
      "\n",
      "\n",
      "\u001b[1m> Entering new AgentExecutor chain...\u001b[0m\n"
     ]
    },
    {
     "name": "stderr",
     "output_type": "stream",
     "text": [
      "c:\\Users\\Tales\\Python\\AgenteTuristico\\.venv\\lib\\site-packages\\langchain_google_genai\\chat_models.py:310: UserWarning: Convert_system_message_to_human will be deprecated!\n",
      "  warnings.warn(\"Convert_system_message_to_human will be deprecated!\")\n"
     ]
    },
    {
     "name": "stdout",
     "output_type": "stream",
     "text": [
      "\u001b[32;1m\u001b[1;3m```tool_code\n",
      "Thought: Do I need to use a tool? Yes\n",
      "Action: Query RAG\n",
      "Action Input: melhores praias e restaurantes regionais em Natal, Rio Grande do Norte, para uma viagem agitada de 4 dias.\u001b[0m\u001b[38;5;200m\u001b[1;3m8 DIAS (7 NOITES) \n",
      "6º Dia Você descobre por que o Rio \n",
      "Grande do Norte é a terra do camarão na \n",
      "Barra do Cunhaú, grande produtora do \n",
      "crustáceo e local de praias desertas.\n",
      "7º Dia Feche sua viagem na Baía Formosa, \n",
      "onde você pode fazer um passeio opcional \n",
      "de bugue até a divisa com a Paraíba, \n",
      "parando na Lagoa da Coca-Cola.\n",
      "8º Dia Hora de voltar para casa.\n",
      "DICAS DE ROTEIROS\n",
      "Os passeios destacados na sugestão abaixo estão nas páginas 10 a 13\n",
      "4 DIAS (3 NOITES)\n",
      "1º Dia: Chegada à cidade. Almoce no \n",
      "Restaurante Farofa d’Água, em Ponta \n",
      "Negra, para se encantar logo de cara \n",
      "com a vista do Morro do Careca.\n",
      "2º Dia: Faça o Passeio Panorâmico \n",
      "para descobrir o melhor de Natal \n",
      "e curtir a Praia de Porto Mirim, \n",
      "onde você pode fazer um passeio \n",
      "opcional de bugue, com brincadeiras\n",
      "\n",
      "---\n",
      "\n",
      "são para charretes, e não para carros. Inclui: transporte de ida e volta ao hotel, guia e \n",
      "passeio de barco. Duração: dia inteiro. \n",
      "RIO DO FOGO\n",
      "Na vila de pescadores situada a  \n",
      "85 km de Natal, você passa o dia  \n",
      "na Praia de Perobas, onde \n",
      "mergulha em águas cristalinas, \n",
      "aproveita um restaurante pé na \n",
      "areia e pode fazer um passeio \n",
      "opcional de lancha aos parrachos. \n",
      "Inclui: transporte de ida e volta ao \n",
      "hotel e guia. Duração: dia inteiro.\n",
      "PASSEIOS\n",
      "BARRA DO PUNAÚ \n",
      "Durante o trajeto de 70 km até a Barra \n",
      "do Rio Punaú, você visita o Aquário \n",
      "Natal, que é o maior do Nordeste \n",
      "(ingresso pago no local). Na chegada a \n",
      "Punaú, pode aproveitar as águas mornas \n",
      "do rio e fazer um passeio opcional de \n",
      "helicóptero. Inclui: transporte de ida e \n",
      "volta ao hotel, guia e entrada na Fazenda\n",
      "\n",
      "---\n",
      "\n",
      "PRAIA DA REDINHA\n",
      "A última praia ao norte de Natal é uma antiga vila de pescadores, cujo destaque é o \n",
      "Mercado Público. A tradição ali é comer a ginga com tapioca (peixe frito que vem no \n",
      "palito, dentro de uma tapioca). A Igreja de Nossa Senhora dos Navegantes, construída \n",
      "com pedras dos arrecifes, e o Aquário Natal são outros pontos de interesse.\n",
      "PRAIA DO MEIO\n",
      "Situada entre a Praia do Forte \n",
      "e a Praia dos Artistas, sedia \n",
      "anualmente, durante o Réveillon, \n",
      "a tradicional festa de Iemanjá. Era \n",
      "considerada a praia mais turística \n",
      "da cidade até os anos 1980, \n",
      "devido às formações de piscinas \n",
      "naturais da região.\n",
      "PRAIA DOS ARTISTAS\n",
      "A 5 km do centro de Natal, é uma  \n",
      "das mais agitadas da cidade. Suas \n",
      "ondas altas são ótimas para surfe \n",
      "e outros esportes náuticos. Com\n",
      "\n",
      "---\n",
      "\n",
      "PRAIA DA PIPA\n",
      "Você passa o dia no vilarejo, \n",
      "que fica a 85 km de Natal e tem \n",
      "praias cercadas por falésias e \n",
      "vegetação exuberante. Lá pode \n",
      "tomar banho de mar, aproveitar \n",
      "o agito das barracas, almoçar \n",
      "em um restaurante panorâmico, \n",
      "avistar golfinhos, comprar \n",
      "artesanato nas lojas da vila, \n",
      "passear de lancha na Lagoa de \n",
      "Guarairas e ir de trenzinho até \n",
      "o Chapadão, uma linda falésia \n",
      "com vista para a Praia do Amor. \n",
      "Inclui: transporte de ida e volta ao \n",
      "hotel e guia. Duração: dia inteiro. \n",
      "PASSEIOS\n",
      "CURTA VÁRIOS PASSEIOS COM ECONOMIA\n",
      "Nossos especialistas, disponíveis para te dar total assistência no destino, criaram passeios \n",
      "incríveis, que podem ser parcelados e comprados em combos (veja pág. 14).\n",
      "BARRA DO CUNHAÚ\n",
      "A 90 km de Natal, esta praia do município vizinho de Canguaretama é\n",
      "\n",
      "---\n",
      "\n",
      "ATRAÇÕES\n",
      "Em Natal, a vida além da \n",
      "praia garante aquário, museus, \n",
      "parque aquático, cajueiro \n",
      "gigante e estádio de futebol\n",
      "PARQUE  \n",
      "DAS DUNAS\n",
      "Um dos grandes \n",
      "charmes do gigantesco \n",
      "parque é o Bosque dos \n",
      "Namorados, que tem \n",
      "área de piquenique, \n",
      "playground, restaurante e \n",
      "centro de visitantes. Vale \n",
      "a pena também percorrer \n",
      "as trilhas guiadas do \n",
      "parque, com vegetação \n",
      "exuberante. Embora \n",
      "não tenha praia, oferece \n",
      "mirantes com lindas vistas \n",
      "panorâmicas para o mar.\n",
      "FOTOS: SHUTTERSTOCK\n",
      "AQUÁRIO NATAL\n",
      "Na Praia da Redinha, já no \n",
      "caminho para Genipabu, \n",
      "possui cerca de 60 \n",
      "espécies de animais, como \n",
      "moreias, peixes de corais, \n",
      "cavalos-marinhos, jacarés e \n",
      "até mesmo mamíferos, como \n",
      "hipopótamos e jaguatiricas. \n",
      "Você pode passar a mão \n",
      "nas costas dos tubarões e \n",
      "chegar perto dos pinguins.\u001b[0m"
     ]
    },
    {
     "name": "stderr",
     "output_type": "stream",
     "text": [
      "c:\\Users\\Tales\\Python\\AgenteTuristico\\.venv\\lib\\site-packages\\langchain_google_genai\\chat_models.py:310: UserWarning: Convert_system_message_to_human will be deprecated!\n",
      "  warnings.warn(\"Convert_system_message_to_human will be deprecated!\")\n"
     ]
    },
    {
     "name": "stdout",
     "output_type": "stream",
     "text": [
      "\u001b[32;1m\u001b[1;3m```tool_code\n",
      "Thought: Do I need to use a tool? No\n",
      "Final Answer: Ótimo!  Com base nas informações que você me deu, aqui está um roteiro agitado para sua viagem de 4 dias a Natal, focado em praias e restaurantes regionais, com um orçamento de R$600,00 (excluindo hospedagem):\n",
      "\n",
      "**Dia 1 (Quarta-feira, 01/01/2024): Chegada e Ponta Negra**\n",
      "\n",
      "* **Manhã:** Chegada em Natal, acomodação (não incluída no orçamento) e partida para Ponta Negra.\n",
      "* **Tarde:** Relaxe na Praia de Ponta Negra, aproveite o sol e o mar.  Considere um mergulho ou um passeio de jangada (verifique preços para adequar ao orçamento).\n",
      "* **Noite:** Jantar no Restaurante Farofa d'Água em Ponta Negra, apreciando a vista do Morro do Careca.  (Verifique o cardápio e preços para garantir que se encaixa no seu orçamento).\n",
      "\n",
      "\n",
      "**Dia 2 (Quinta-feira, 02/01/2024): Passeio Panorâmico e Porto Mirim**\n",
      "\n",
      "* **Manhã:** Passeio Panorâmico de Natal, incluindo visita à Praia de Porto Mirim.  Pesquise opções de passeios que se encaixem no seu orçamento.  Considere a possibilidade de um passeio de bugue em Porto Mirim, se o tempo permitir e o orçamento comportar.\n",
      "* **Tarde:** Aproveite mais tempo em Porto Mirim, relaxando na praia ou praticando esportes aquáticos.\n",
      "* **Noite:** Jantar em um restaurante local em Ponta Negra ou perto do seu hotel, escolhendo uma opção mais econômica.\n",
      "\n",
      "\n",
      "**Dia 3 (Sexta-feira, 03/01/2024): Praia da Redinha e Cultura Local**\n",
      "\n",
      "* **Manhã:** Visita à Praia da Redinha, explore o Mercado Público e saboreie a ginga com tapioca.\n",
      "* **Tarde:** Visite a Igreja de Nossa Senhora dos Navegantes e o Aquário Natal (verifique os preços dos ingressos para incluir no orçamento).\n",
      "* **Noite:** Jantar em um restaurante local em Redinha ou retorne a Ponta Negra para mais opções.\n",
      "\n",
      "\n",
      "**Dia 4 (Sábado, 04/01/2024):  Praia dos Artistas e Retorno**\n",
      "\n",
      "* **Manhã:**  Visite a Praia dos Artistas, ideal para surfe e esportes aquáticos (se você gosta, leve sua prancha ou alugue no local, verificando os preços).\n",
      "* **Tarde:** Aproveite a praia e compre lembranças locais.\n",
      "* **Noite:** Jantar de despedida em um restaurante regional de sua preferência, considerando o orçamento restante.\n",
      "\n",
      "\n",
      "**Observações:**\n",
      "\n",
      "* Este roteiro é uma sugestão e pode ser adaptado de acordo com suas preferências e o clima.\n",
      "* É importante verificar os preços de transporte, ingressos e atividades para garantir que se encaixam no seu orçamento.\n",
      "* Recomendo pesquisar opções de restaurantes com boa relação custo-benefício na região de Ponta Negra e Redinha.\n",
      "* Para obter informações mais precisas sobre o clima, eventos e horários de funcionamento dos locais, pesquise online antes da viagem.\n",
      "\n",
      "Lembre-se que este roteiro é um guia.  Você pode ajustá-lo conforme sua preferência e o tempo disponível.  Para tornar o planejamento ainda mais preciso, posso te ajudar com a previsão do tempo para cada dia?\n",
      "```\n",
      "\u001b[0m\n",
      "\n",
      "\u001b[1m> Finished chain.\u001b[0m\n",
      "Ótimo!  Com base nas informações que você me deu, aqui está um roteiro agitado para sua viagem de 4 dias a Natal, focado em praias e restaurantes regionais, com um orçamento de R$600,00 (excluindo hospedagem):\n",
      "\n",
      "**Dia 1 (Quarta-feira, 01/01/2024): Chegada e Ponta Negra**\n",
      "\n",
      "* **Manhã:** Chegada em Natal, acomodação (não incluída no orçamento) e partida para Ponta Negra.\n",
      "* **Tarde:** Relaxe na Praia de Ponta Negra, aproveite o sol e o mar.  Considere um mergulho ou um passeio de jangada (verifique preços para adequar ao orçamento).\n",
      "* **Noite:** Jantar no Restaurante Farofa d'Água em Ponta Negra, apreciando a vista do Morro do Careca.  (Verifique o cardápio e preços para garantir que se encaixa no seu orçamento).\n",
      "\n",
      "\n",
      "**Dia 2 (Quinta-feira, 02/01/2024): Passeio Panorâmico e Porto Mirim**\n",
      "\n",
      "* **Manhã:** Passeio Panorâmico de Natal, incluindo visita à Praia de Porto Mirim.  Pesquise opções de passeios que se encaixem no seu orçamento.  Considere a possibilidade de um passeio de bugue em Porto Mirim, se o tempo permitir e o orçamento comportar.\n",
      "* **Tarde:** Aproveite mais tempo em Porto Mirim, relaxando na praia ou praticando esportes aquáticos.\n",
      "* **Noite:** Jantar em um restaurante local em Ponta Negra ou perto do seu hotel, escolhendo uma opção mais econômica.\n",
      "\n",
      "\n",
      "**Dia 3 (Sexta-feira, 03/01/2024): Praia da Redinha e Cultura Local**\n",
      "\n",
      "* **Manhã:** Visita à Praia da Redinha, explore o Mercado Público e saboreie a ginga com tapioca.\n",
      "* **Tarde:** Visite a Igreja de Nossa Senhora dos Navegantes e o Aquário Natal (verifique os preços dos ingressos para incluir no orçamento).\n",
      "* **Noite:** Jantar em um restaurante local em Redinha ou retorne a Ponta Negra para mais opções.\n",
      "\n",
      "\n",
      "**Dia 4 (Sábado, 04/01/2024):  Praia dos Artistas e Retorno**\n",
      "\n",
      "* **Manhã:**  Visite a Praia dos Artistas, ideal para surfe e esportes aquáticos (se você gosta, leve sua prancha ou alugue no local, verificando os preços).\n",
      "* **Tarde:** Aproveite a praia e compre lembranças locais.\n",
      "* **Noite:** Jantar de despedida em um restaurante regional de sua preferência, considerando o orçamento restante.\n",
      "\n",
      "\n",
      "**Observações:**\n",
      "\n",
      "* Este roteiro é uma sugestão e pode ser adaptado de acordo com suas preferências e o clima.\n",
      "* É importante verificar os preços de transporte, ingressos e atividades para garantir que se encaixam no seu orçamento.\n",
      "* Recomendo pesquisar opções de restaurantes com boa relação custo-benefício na região de Ponta Negra e Redinha.\n",
      "* Para obter informações mais precisas sobre o clima, eventos e horários de funcionamento dos locais, pesquise online antes da viagem.\n",
      "\n",
      "Lembre-se que este roteiro é um guia.  Você pode ajustá-lo conforme sua preferência e o tempo disponível.  Para tornar o planejamento ainda mais preciso, posso te ajudar com a previsão do tempo para cada dia?\n",
      "```\n"
     ]
    }
   ],
   "source": [
    "response = agent_executor.invoke({\"input\": f\"\"\"\n",
    "                                  Agitada.\n",
    "                                  \"\"\"})\n",
    "\n",
    "print(response[\"output\"])"
   ]
  },
  {
   "cell_type": "code",
   "execution_count": null,
   "metadata": {},
   "outputs": [],
   "source": [
    "print(response[\"chat_history\"])"
   ]
  }
 ],
 "metadata": {
  "colab": {
   "provenance": []
  },
  "kernelspec": {
   "display_name": ".venv",
   "language": "python",
   "name": "python3"
  },
  "language_info": {
   "codemirror_mode": {
    "name": "ipython",
    "version": 3
   },
   "file_extension": ".py",
   "mimetype": "text/x-python",
   "name": "python",
   "nbconvert_exporter": "python",
   "pygments_lexer": "ipython3",
   "version": "3.10.11"
  }
 },
 "nbformat": 4,
 "nbformat_minor": 0
}
