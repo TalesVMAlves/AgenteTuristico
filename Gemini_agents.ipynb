{
 "cells": [
  {
   "cell_type": "code",
   "execution_count": 1,
   "metadata": {
    "colab": {
     "base_uri": "https://localhost:8080/"
    },
    "id": "4gIXtYDb4o3o",
    "outputId": "b74b0d76-37d0-427c-c8fd-fb9a9337d061"
   },
   "outputs": [
    {
     "name": "stderr",
     "output_type": "stream",
     "text": [
      "c:\\Users\\Tales\\Python\\AgenteTuristico\\.venv\\lib\\site-packages\\tqdm\\auto.py:21: TqdmWarning: IProgress not found. Please update jupyter and ipywidgets. See https://ipywidgets.readthedocs.io/en/stable/user_install.html\n",
      "  from .autonotebook import tqdm as notebook_tqdm\n"
     ]
    }
   ],
   "source": [
    "import os\n",
    "\n",
    "from langchain.agents import Tool\n",
    "from langchain.memory import ChatMessageHistory, ConversationBufferWindowMemory\n",
    "from langchain_google_genai import (\n",
    "    ChatGoogleGenerativeAI,\n",
    "    HarmBlockThreshold,\n",
    "    HarmCategory,\n",
    ")\n",
    "from langchain.utilities import DuckDuckGoSearchAPIWrapper\n",
    "from langchain.agents import AgentExecutor\n",
    "from langchain import hub\n",
    "from langchain.agents.format_scratchpad import format_log_to_str\n",
    "from langchain.agents.output_parsers import ReActSingleInputOutputParser\n",
    "from langchain.tools.render import render_text_description"
   ]
  },
  {
   "cell_type": "code",
   "execution_count": 2,
   "metadata": {},
   "outputs": [],
   "source": [
    "from datetime import datetime\n",
    "hoje = datetime.today()\n",
    "\n",
    "data_formatada = hoje.strftime(\"%Y/%m/%d\")\n",
    "# Pega o dia da semana em inglês\n",
    "dia_da_semana_ingles = hoje.strftime(\"%A\")\n",
    "\n",
    "# Dicionário para mapear os dias da semana de inglês para português\n",
    "dias_da_semana_pt = {\n",
    "    \"Monday\": \"segunda-feira\",\n",
    "    \"Tuesday\": \"terça-feira\",\n",
    "    \"Wednesday\": \"quarta-feira\",\n",
    "    \"Thursday\": \"quinta-feira\",\n",
    "    \"Friday\": \"sexta-feira\",\n",
    "    \"Saturday\": \"sábado\",\n",
    "    \"Sunday\": \"domingo\"\n",
    "}\n",
    "\n",
    "# Traduz o dia da semana para português\n",
    "dia_da_semana_pt = dias_da_semana_pt.get(dia_da_semana_ingles, dia_da_semana_ingles)\n",
    "\n",
    "# Formata a data para utilizar no prompt\n",
    "data_atual = f\"{dia_da_semana_pt}, {data_formatada}\""
   ]
  },
  {
   "cell_type": "code",
   "execution_count": 3,
   "metadata": {
    "id": "oRYlHV3fy_Iq"
   },
   "outputs": [],
   "source": [
    "#(https://makersuite.google.com/)\n",
    "from dotenv import load_dotenv\n",
    "\n",
    "load_dotenv()\n",
    "os.environ[\"GOOGLE_API_KEY\"] = os.getenv('GOOGLE_API_KEY')\n",
    "os.environ[\"LANGCHAIN_API_KEY\"] = os.getenv('LANGCHAIN_API_KEY')"
   ]
  },
  {
   "cell_type": "code",
   "execution_count": 4,
   "metadata": {
    "id": "FEDgMFo84iGY"
   },
   "outputs": [],
   "source": [
    "llm = ChatGoogleGenerativeAI(\n",
    "    model=\"gemini-1.5-flash\",\n",
    "    convert_system_message_to_human=True,\n",
    "    handle_parsing_errors=True,\n",
    "    temperature=0.6,\n",
    "    max_tokens= 1000,\n",
    "    safety_settings = {\n",
    "        HarmCategory.HARM_CATEGORY_HARASSMENT: HarmBlockThreshold.BLOCK_ONLY_HIGH,\n",
    "        HarmCategory.HARM_CATEGORY_HATE_SPEECH: HarmBlockThreshold.BLOCK_ONLY_HIGH,\n",
    "        HarmCategory.HARM_CATEGORY_SEXUALLY_EXPLICIT: HarmBlockThreshold.BLOCK_ONLY_HIGH,\n",
    "        HarmCategory.HARM_CATEGORY_DANGEROUS_CONTENT: HarmBlockThreshold.BLOCK_ONLY_HIGH,\n",
    "    },\n",
    ")"
   ]
  },
  {
   "cell_type": "code",
   "execution_count": 5,
   "metadata": {},
   "outputs": [],
   "source": [
    "def transfer_to_calendar_agent(input_str):\n",
    "    return calendar_agent_executor.invoke({\"input\": input_str})\n",
    "def transfer_to_travel_agent(input_str):\n",
    "    return travel_agent_executor.invoke({\"input\": input_str})"
   ]
  },
  {
   "cell_type": "code",
   "execution_count": 6,
   "metadata": {},
   "outputs": [
    {
     "name": "stdout",
     "output_type": "stream",
     "text": [
      "calendar v3 service created successfully\n"
     ]
    },
    {
     "name": "stderr",
     "output_type": "stream",
     "text": [
      "c:\\Users\\Tales\\Python\\AgenteTuristico\\.venv\\lib\\site-packages\\langchain_google_genai\\chat_models.py:310: UserWarning: Convert_system_message_to_human will be deprecated!\n",
      "  warnings.warn(\"Convert_system_message_to_human will be deprecated!\")\n"
     ]
    },
    {
     "name": "stdout",
     "output_type": "stream",
     "text": [
      "{'kind': 'calendar#event', 'etag': '\"3473087252100000\"', 'id': 'tvvpd3nb2eroj7186oo133j6h4', 'status': 'confirmed', 'htmlLink': 'https://www.google.com/calendar/event?eid=dHZ2cGQzbmIyZXJvajcxODZvbzEzM2o2aDQgdGFsZXMudi5tLmFsdmVzQG0', 'created': '2025-01-10T21:13:46.000Z', 'updated': '2025-01-10T21:13:46.050Z', 'summary': 'Jantar e passeio em Natal', 'description': 'Jantar em um restaurante com culinária potiguar em Ponta Negra ou no centro de Natal. Após o jantar, passeio noturno pela orla de Ponta Negra.', 'location': 'Restaurante em Ponta Negra ou Centro de Natal + Orla de Ponta Negra', 'creator': {'email': 'tales.v.m.alves@gmail.com', 'self': True}, 'organizer': {'email': 'tales.v.m.alves@gmail.com', 'self': True}, 'start': {'dateTime': '2025-01-11T18:00:00-03:00', 'timeZone': 'America/Fortaleza'}, 'end': {'dateTime': '2025-01-11T22:00:00-03:00', 'timeZone': 'America/Fortaleza'}, 'iCalUID': 'tvvpd3nb2eroj7186oo133j6h4@google.com', 'sequence': 0, 'reminders': {'useDefault': True}, 'eventType': 'default'}\n"
     ]
    }
   ],
   "source": [
    "from calendar_tools import extract_event_parameters, insert_calendar_event\n",
    "print(insert_calendar_event(\"\"\"\n",
    "**Dia 11 de Janeiro de 2025 (Sexta-feira):**\n",
    "\n",
    "* **Noite (18:00 - 22:00):** Jantar em um restaurante com culinária potiguar.  Pesquise opções na região de Ponta Negra ou no centro de Natal. Após o jantar, aproveite para um passeio noturno pela orla de Ponta Negra.\n",
    "\"\"\"))"
   ]
  },
  {
   "cell_type": "code",
   "execution_count": 7,
   "metadata": {
    "id": "EY14yxCD4OzY"
   },
   "outputs": [],
   "source": [
    "from planing_tools import weatherapi_forecast_periods, query_rag\n",
    "ddg_search = DuckDuckGoSearchAPIWrapper()\n",
    "\n",
    "travel_planing_tools = [\n",
    "    Tool(\n",
    "        name=\"DuckDuckGo Search\",\n",
    "        func=ddg_search.run,\n",
    "        description=\"\"\"Essa ferramenta DEVE ser utilizada para buscar eventos relevantes no período fornecido pelo usuário. \n",
    "        Ela é útil para obter informações sobre eventos ou atividades especiais que estão acontecendo na cidade de destino nas datas que o usuário informou. \n",
    "        O modelo deve usá-la para complementar as sugestões de atividades.\"\"\"\n",
    "    ),\n",
    "    Tool(\n",
    "        name=\"Weather Forecast\",\n",
    "        func=weatherapi_forecast_periods,\n",
    "        description=\"\"\"Essa ferramenta DEVE ser usada *antes* de gerar o roteiro turístico, após o modelo coletar todas as informações necessárias do usuário, incluindo as datas exatas. \n",
    "    O modelo deve consultar o clima separadamente para cada dia do período informado, garantindo que as atividades do roteiro sejam planejadas de acordo com as condições climáticas. \n",
    "    A previsão do tempo é um passo obrigatório quando é um fator relevante para o planejamento.\"\"\"\n",
    "    ),\n",
    "    Tool(\n",
    "        name=\"Query RAG\",\n",
    "        func=query_rag,\n",
    "        description=\"\"\"Esta ferramenta deve ser usada quando o modelo souber a cidade de destino e os interesses do usuário, com o objetivo de fornecer informações sobre pontos turísticos e atrações que se alinham com esses interesses. \n",
    "        O modelo deve utilizar essa ferramenta para sugerir atividades e lugares específicos a visitar, baseados na cidade e nos interesses fornecidos.\"\"\"\n",
    "    ),\n",
    "    Tool(\n",
    "        name=\"Calendar Agent\",\n",
    "        func=transfer_to_calendar_agent,\n",
    "        description=\"Esse agente lida com tudo relacionado ao calendário.\"\n",
    "    ),\n",
    "]"
   ]
  },
  {
   "cell_type": "code",
   "execution_count": 8,
   "metadata": {},
   "outputs": [],
   "source": [
    "from calendar_tools import list_calendar_list, list_calendar_events, insert_calendar_event, create_calendar\n",
    "\n",
    "google_calendar_tools = [\n",
    "    Tool(\n",
    "        name=\"Create Calendar List\",\n",
    "        func=create_calendar,\n",
    "        description=\"\"\"\n",
    "        Use a função create_calendar_list para criar um novo calendário.\n",
    "        Forneça o resumo (título) do calendário que você deseja criar.\n",
    "        - Exemplo de uso: 'Meu Calendário de Viagens'\n",
    "        - Essa função vai criar um novo calendário com o resumo fornecido.\n",
    "        \"\"\"\n",
    "    ),\n",
    "    Tool(\n",
    "        name=\"List Calendar List\",\n",
    "        func=list_calendar_list,\n",
    "        description=\"\"\"\n",
    "        Use a função list_calendar_list para obter a lista dos seus calendários disponíveis no Google Calendar.\n",
    "        Se você quiser limitar o número de calendários retornados, forneça o número máximo desejado.\n",
    "        - Exemplo de uso: Forneça o número máximo de calendários a serem listados, como 50. Se não quiser um limite, apenas diga para listar 200 o máximo por padrão.\n",
    "        \"\"\"\n",
    "    ),\n",
    "    Tool(\n",
    "        name=\"List Calendar Events\",\n",
    "        func=list_calendar_events,\n",
    "        description=\"\"\"\n",
    "        Use a função list_calendar_events para obter a lista de eventos de um calendário específico.\n",
    "        Você precisa fornecer o ID do calendário e, opcionalmente, o número máximo de eventos a serem listados.\n",
    "        - Exemplo de uso para o calendário principal: forneça 'primary' como o ID do calendário.\n",
    "        - Exemplo de uso com limite: forneça o ID do calendário e o número máximo de eventos, como 'primary', 20.\n",
    "        - Para listar eventos de um calendário específico, primeiro liste seus calendários para encontrar o ID correto.\n",
    "        \"\"\"\n",
    "    ),\n",
    "    Tool(\n",
    "    name=\"Insert Calendar Event\",\n",
    "    func=insert_calendar_event,\n",
    "    description=\"\"\"\n",
    "        Use a função Insert Calendar Event para adicionar **um único evento** a um calendário Google.\n",
    "        Esta função deve ser chamada **uma vez para cada evento** que precisa ser agendado.\n",
    "\n",
    "        A entrada para esta função deve ser uma descrição clara e completa de **um único evento**\n",
    "        em linguagem natural, contendo todas as informações necessárias para agendá-lo individualmente.\n",
    "\n",
    "        Se o usuário especificar um calendário diferente do principal, você DEVE chamar\n",
    "        a função 'list_calendar_list' **antes de chamar esta função** para obter o 'calendar_id' correto.\n",
    "\n",
    "        **Formato de entrada esperado:**\n",
    "\n",
    "        **Descrição em Linguagem Natural (obrigatório):**\n",
    "        Forneça uma descrição textual detalhada para **um único evento**. Inclua o que será feito,\n",
    "        quando (data e hora específicas), onde (local exato) e quaisquer detalhes adicionais relevantes\n",
    "        para esse evento em particular.\n",
    "\n",
    "        **Exemplos de descrições de eventos individuais:**\n",
    "        - \"Agendar almoço com a Maria na sexta-feira ao meio-dia no restaurante X.\"\n",
    "        - \"Criar um compromisso para pagar as contas no dia 10 de janeiro às 9h da manhã.\"\n",
    "        - \"Bloquear minha agenda para foco no projeto Y na próxima segunda-feira, das 14h às 17h, na minha mesa.\"\n",
    "\n",
    "        **Como usar esta função corretamente:**\n",
    "\n",
    "        1. **Identifique cada evento individualmente:** Se a intenção é agendar múltiplos eventos,\n",
    "           trate cada um como uma chamada separada para esta função.\n",
    "        2. **Obtenha o ID do calendário (se necessário):** Se o usuário mencionar um nome de\n",
    "           calendário específico, use a função 'list_calendar_list' **primeiro** para obter\n",
    "           o 'calendar_id' correspondente.\n",
    "        3. **Chame esta função com a descrição de um único evento:** Forneça a descrição completa\n",
    "           em linguagem natural para o evento específico que você deseja agendar.\n",
    "\n",
    "        **Informações essenciais para cada descrição de evento:**\n",
    "        - **O que:** Uma descrição concisa do evento (ex: \"Reunião de equipe\", \"Consulta médica\").\n",
    "        - **Quando:** A data e hora de início e fim **precisas** do evento.\n",
    "        - **Onde:** O local **específico** do evento.\n",
    "        - **Fuso Horário (opcional):** Se aplicável, mencione o fuso horário se for diferente\n",
    "          de \"America/Fortaleza\".\n",
    "\n",
    "        **Exemplo de uso (para o agente):**\n",
    "\n",
    "        *Usuário: Agendar visita ao Aquário Natal sábado das 9h às 12h.*\n",
    "        *Agente:* (Chama 'Insert Calendar Event' com a Action Input: \"Agendar visita ao Aquário Natal sábado das 9h às 12h.\")\n",
    "\n",
    "        **Observação IMPORTANTE:** Esta função **NÃO** deve ser usada para criar múltiplos eventos\n",
    "        com uma única chamada. Cada chamada deve corresponder a **um único evento**.\n",
    "\n",
    "        Ao final da execução desta função, você DEVE fornecer ao usuário a confirmação do agendamento\n",
    "        desse evento específico, incluindo o título, data, hora e link do evento criado (se disponível).\n",
    "    \"\"\"\n",
    "    )\n",
    "]"
   ]
  },
  {
   "cell_type": "code",
   "execution_count": 9,
   "metadata": {
    "colab": {
     "base_uri": "https://localhost:8080/",
     "height": 209
    },
    "id": "FP7Q3SBS5qb3",
    "outputId": "005c96da-55f7-401c-b00a-4a053dcebaf8"
   },
   "outputs": [],
   "source": [
    "travel_planing_prompt = hub.pull(\"tales/agente_turismo\")\n",
    "google_calendar_prompt = hub.pull(\"tales/agente_calendario\")\n",
    "# main_agent_prompt = hub.pull(\"tales/agente_principal\")"
   ]
  },
  {
   "cell_type": "code",
   "execution_count": 10,
   "metadata": {
    "id": "MuPTv06R8EOH"
   },
   "outputs": [],
   "source": [
    "planing_prompt = travel_planing_prompt.partial(\n",
    "    tools=render_text_description(travel_planing_tools),\n",
    "    tool_names=\", \".join([t.name for t in travel_planing_tools]),\n",
    ")\n",
    "llm_with_stop = llm.bind(stop=[\"\\nObservation\"])"
   ]
  },
  {
   "cell_type": "code",
   "execution_count": 11,
   "metadata": {},
   "outputs": [],
   "source": [
    "calendar_prompt = google_calendar_prompt.partial(\n",
    "    tools=render_text_description(google_calendar_tools),\n",
    "    tool_names=\", \".join([t.name for t in google_calendar_tools]),\n",
    ")"
   ]
  },
  {
   "cell_type": "code",
   "execution_count": 12,
   "metadata": {
    "colab": {
     "base_uri": "https://localhost:8080/"
    },
    "id": "LHGz2W5g4cSx",
    "outputId": "fe5fbb96-6f6d-48ce-ba79-63d1b9a732d1"
   },
   "outputs": [
    {
     "name": "stderr",
     "output_type": "stream",
     "text": [
      "C:\\Users\\Tales\\AppData\\Local\\Temp\\ipykernel_5816\\275711510.py:2: LangChainDeprecationWarning: Please see the migration guide at: https://python.langchain.com/docs/versions/migrating_memory/\n",
      "  memory = ConversationBufferWindowMemory(k=20, chat_memory=history, memory_key=\"chat_history\")\n"
     ]
    }
   ],
   "source": [
    "history = ChatMessageHistory()\n",
    "memory = ConversationBufferWindowMemory(k=20, chat_memory=history, memory_key=\"chat_history\")"
   ]
  },
  {
   "cell_type": "code",
   "execution_count": 13,
   "metadata": {
    "id": "zuQgO-EM9mdE"
   },
   "outputs": [],
   "source": [
    "travel_planing_agent = (\n",
    "    {\n",
    "        \"input\": lambda x: x[\"input\"],\n",
    "        \"agent_scratchpad\": lambda x: format_log_to_str(x[\"intermediate_steps\"]),\n",
    "        \"chat_history\": lambda x: x[\"chat_history\"],\n",
    "        \"data_atual\": lambda x: data_atual,\n",
    "    }\n",
    "    | planing_prompt\n",
    "    | llm_with_stop\n",
    "    | ReActSingleInputOutputParser()\n",
    ")\n",
    "\n",
    "travel_agent_executor = AgentExecutor(agent=travel_planing_agent, tools=travel_planing_tools, verbose=True, memory=memory)"
   ]
  },
  {
   "cell_type": "code",
   "execution_count": 14,
   "metadata": {},
   "outputs": [],
   "source": [
    "google_calendar_agent = (\n",
    "    {\n",
    "        \"input\": lambda x: x[\"input\"],\n",
    "        \"agent_scratchpad\": lambda x: format_log_to_str(x[\"intermediate_steps\"]),\n",
    "        \"chat_history\": lambda x: x[\"chat_history\"],\n",
    "        \"data_atual\": lambda x: data_atual,\n",
    "    }\n",
    "    | calendar_prompt\n",
    "    | llm_with_stop\n",
    "    | ReActSingleInputOutputParser()\n",
    ")\n",
    "\n",
    "calendar_agent_executor = AgentExecutor(agent=google_calendar_agent, tools=google_calendar_tools, verbose=True, memory=memory)"
   ]
  },
  {
   "cell_type": "code",
   "execution_count": 15,
   "metadata": {},
   "outputs": [
    {
     "name": "stderr",
     "output_type": "stream",
     "text": [
      "c:\\Users\\Tales\\Python\\AgenteTuristico\\.venv\\lib\\site-packages\\langchain_google_genai\\chat_models.py:310: UserWarning: Convert_system_message_to_human will be deprecated!\n",
      "  warnings.warn(\"Convert_system_message_to_human will be deprecated!\")\n"
     ]
    },
    {
     "name": "stdout",
     "output_type": "stream",
     "text": [
      "\n",
      "\n",
      "\u001b[1m> Entering new AgentExecutor chain...\u001b[0m\n",
      "\u001b[32;1m\u001b[1;3mThought: Do I need to use a tool? No\n",
      "Final Answer: Boa noite!  Para começar a planejar sua viagem, preciso de algumas informações. Para onde você está planejando viajar?\n",
      "\u001b[0m\n",
      "\n",
      "\u001b[1m> Finished chain.\u001b[0m\n",
      "Boa noite!  Para começar a planejar sua viagem, preciso de algumas informações. Para onde você está planejando viajar?\n"
     ]
    }
   ],
   "source": [
    "response = travel_agent_executor.invoke({\"input\": 'Boa noite'})\n",
    "\n",
    "print(response[\"output\"])"
   ]
  },
  {
   "cell_type": "code",
   "execution_count": 16,
   "metadata": {},
   "outputs": [
    {
     "name": "stdout",
     "output_type": "stream",
     "text": [
      "\n",
      "\n",
      "\u001b[1m> Entering new AgentExecutor chain...\u001b[0m\n"
     ]
    },
    {
     "name": "stderr",
     "output_type": "stream",
     "text": [
      "c:\\Users\\Tales\\Python\\AgenteTuristico\\.venv\\lib\\site-packages\\langchain_google_genai\\chat_models.py:310: UserWarning: Convert_system_message_to_human will be deprecated!\n",
      "  warnings.warn(\"Convert_system_message_to_human will be deprecated!\")\n"
     ]
    },
    {
     "name": "stdout",
     "output_type": "stream",
     "text": [
      "\u001b[32;1m\u001b[1;3mThought: Do I need to use a tool? No\n",
      "Final Answer: Ótimo! Natal é uma excelente escolha.  Quantos dias você pretende passar lá?\n",
      "\u001b[0m\n",
      "\n",
      "\u001b[1m> Finished chain.\u001b[0m\n",
      "Ótimo! Natal é uma excelente escolha.  Quantos dias você pretende passar lá?\n"
     ]
    }
   ],
   "source": [
    "response = travel_agent_executor.invoke({\"input\": 'Eu estou planejando visitar Natal no Rio Grande do Norte'})\n",
    "\n",
    "print(response[\"output\"])"
   ]
  },
  {
   "cell_type": "code",
   "execution_count": 17,
   "metadata": {},
   "outputs": [
    {
     "name": "stdout",
     "output_type": "stream",
     "text": [
      "\n",
      "\n",
      "\u001b[1m> Entering new AgentExecutor chain...\u001b[0m\n"
     ]
    },
    {
     "name": "stderr",
     "output_type": "stream",
     "text": [
      "c:\\Users\\Tales\\Python\\AgenteTuristico\\.venv\\lib\\site-packages\\langchain_google_genai\\chat_models.py:310: UserWarning: Convert_system_message_to_human will be deprecated!\n",
      "  warnings.warn(\"Convert_system_message_to_human will be deprecated!\")\n"
     ]
    },
    {
     "name": "stdout",
     "output_type": "stream",
     "text": [
      "\u001b[32;1m\u001b[1;3mThought: Do I need to use a tool? No\n",
      "Final Answer: Perfeito! Dois dias em Natal.  Agora, para te ajudar a criar o roteiro ideal, preciso saber quais atividades ou experiências você está buscando nessa viagem? Por exemplo, prefere explorar praias, restaurantes, eventos, museus, história, cultura, vida noturna, natureza, ou algo mais?\n",
      "\u001b[0m\n",
      "\n",
      "\u001b[1m> Finished chain.\u001b[0m\n",
      "Perfeito! Dois dias em Natal.  Agora, para te ajudar a criar o roteiro ideal, preciso saber quais atividades ou experiências você está buscando nessa viagem? Por exemplo, prefere explorar praias, restaurantes, eventos, museus, história, cultura, vida noturna, natureza, ou algo mais?\n"
     ]
    }
   ],
   "source": [
    "response = travel_agent_executor.invoke({\"input\": 'Eu planejo passar 2 dias da sábado dia 11 de janeiro ao domingo dia 12'})\n",
    "\n",
    "print(response[\"output\"])"
   ]
  },
  {
   "cell_type": "code",
   "execution_count": 18,
   "metadata": {},
   "outputs": [
    {
     "name": "stdout",
     "output_type": "stream",
     "text": [
      "\n",
      "\n",
      "\u001b[1m> Entering new AgentExecutor chain...\u001b[0m\n"
     ]
    },
    {
     "name": "stderr",
     "output_type": "stream",
     "text": [
      "c:\\Users\\Tales\\Python\\AgenteTuristico\\.venv\\lib\\site-packages\\langchain_google_genai\\chat_models.py:310: UserWarning: Convert_system_message_to_human will be deprecated!\n",
      "  warnings.warn(\"Convert_system_message_to_human will be deprecated!\")\n"
     ]
    },
    {
     "name": "stdout",
     "output_type": "stream",
     "text": [
      "\u001b[32;1m\u001b[1;3mThought: Do I need to use a tool? No\n",
      "Final Answer: Entendido! Praias e restaurantes regionais em Natal.  Tem um orçamento em mente ou um limite de gastos que gostaria de seguir durante a viagem?\n",
      "\u001b[0m\n",
      "\n",
      "\u001b[1m> Finished chain.\u001b[0m\n",
      "Entendido! Praias e restaurantes regionais em Natal.  Tem um orçamento em mente ou um limite de gastos que gostaria de seguir durante a viagem?\n"
     ]
    }
   ],
   "source": [
    "response = travel_agent_executor.invoke({\"input\": 'Eu planejo visitar praias e restaurantes regionais'})\n",
    "\n",
    "print(response[\"output\"])"
   ]
  },
  {
   "cell_type": "code",
   "execution_count": 19,
   "metadata": {},
   "outputs": [
    {
     "name": "stdout",
     "output_type": "stream",
     "text": [
      "\n",
      "\n",
      "\u001b[1m> Entering new AgentExecutor chain...\u001b[0m\n"
     ]
    },
    {
     "name": "stderr",
     "output_type": "stream",
     "text": [
      "c:\\Users\\Tales\\Python\\AgenteTuristico\\.venv\\lib\\site-packages\\langchain_google_genai\\chat_models.py:310: UserWarning: Convert_system_message_to_human will be deprecated!\n",
      "  warnings.warn(\"Convert_system_message_to_human will be deprecated!\")\n"
     ]
    },
    {
     "name": "stdout",
     "output_type": "stream",
     "text": [
      "\u001b[32;1m\u001b[1;3mThought: Do I need to use a tool? No\n",
      "Final Answer: Tudo bem!  Vamos prosseguir sem um orçamento definido por enquanto.  Podemos ajustar o roteiro mais tarde, caso necessário. Você segue alguma dieta específica ou tem restrições alimentares, como alergias, que devo levar em consideração?\n",
      "\u001b[0m\n",
      "\n",
      "\u001b[1m> Finished chain.\u001b[0m\n",
      "Tudo bem!  Vamos prosseguir sem um orçamento definido por enquanto.  Podemos ajustar o roteiro mais tarde, caso necessário. Você segue alguma dieta específica ou tem restrições alimentares, como alergias, que devo levar em consideração?\n"
     ]
    }
   ],
   "source": [
    "response = travel_agent_executor.invoke({\"input\": 'Eu ainda não sei'})\n",
    "\n",
    "print(response[\"output\"])"
   ]
  },
  {
   "cell_type": "code",
   "execution_count": 20,
   "metadata": {},
   "outputs": [
    {
     "name": "stdout",
     "output_type": "stream",
     "text": [
      "\n",
      "\n",
      "\u001b[1m> Entering new AgentExecutor chain...\u001b[0m\n"
     ]
    },
    {
     "name": "stderr",
     "output_type": "stream",
     "text": [
      "c:\\Users\\Tales\\Python\\AgenteTuristico\\.venv\\lib\\site-packages\\langchain_google_genai\\chat_models.py:310: UserWarning: Convert_system_message_to_human will be deprecated!\n",
      "  warnings.warn(\"Convert_system_message_to_human will be deprecated!\")\n"
     ]
    },
    {
     "name": "stdout",
     "output_type": "stream",
     "text": [
      "\u001b[32;1m\u001b[1;3m```tool_code\n",
      "Thought: Do I need to use a tool? Yes\n",
      "Action: Weather Forecast\n",
      "Action Input: 2025/01/11, 2025/01/12\u001b[0m\u001b[33;1m\u001b[1;3mPrevisão para 2025/01/11, 2025/01/12 em Natal:\n",
      "\n",
      "Manhã:\n",
      "Hora: 05:00 - Temp: 26.2°C, Condição: Aguaceiros fracos, Chance de chuva: 100%, Umidade: 82%\n",
      "Hora: 06:00 - Temp: 27.4°C, Condição: Possibilidade de chuva irregular, Chance de chuva: 100%, Umidade: 75%\n",
      "Hora: 07:00 - Temp: 28.4°C, Condição: Possibilidade de chuva irregular, Chance de chuva: 81%, Umidade: 71%\n",
      "Hora: 08:00 - Temp: 29.4°C, Condição: Possibilidade de chuva irregular, Chance de chuva: 71%, Umidade: 66%\n",
      "Hora: 09:00 - Temp: 30.2°C, Condição: Possibilidade de chuva irregular, Chance de chuva: 100%, Umidade: 63%\n",
      "Hora: 10:00 - Temp: 30.4°C, Condição: Sol, Chance de chuva: 0%, Umidade: 61%\n",
      "Hora: 11:00 - Temp: 30.9°C, Condição: Sol, Chance de chuva: 0%, Umidade: 59%\n",
      "\n",
      "Tarde:\n",
      "Hora: 13:00 - Temp: 30.7°C, Condição: Sol, Chance de chuva: 0%, Umidade: 58%\n",
      "Hora: 14:00 - Temp: 30.1°C, Condição: Sol, Chance de chuva: 0%, Umidade: 61%\n",
      "Hora: 15:00 - Temp: 29.2°C, Condição: Sol, Chance de chuva: 0%, Umidade: 65%\n",
      "Hora: 16:00 - Temp: 28.3°C, Condição: Parcialmente nublado, Chance de chuva: 0%, Umidade: 70%\n",
      "Hora: 17:00 - Temp: 29.3°C, Condição: Parcialmente nublado, Chance de chuva: 0%, Umidade: 75%\n",
      "\n",
      "Noite:\n",
      "Hora: 18:00 - Temp: 27.1°C, Condição: Parcialmente nublado, Chance de chuva: 0%, Umidade: 78%\n",
      "Hora: 19:00 - Temp: 26.9°C, Condição: Possibilidade de chuva irregular, Chance de chuva: 66%, Umidade: 79%\n",
      "Hora: 20:00 - Temp: 26.8°C, Condição: Possibilidade de chuva irregular, Chance de chuva: 75%, Umidade: 80%\n",
      "Hora: 21:00 - Temp: 26.6°C, Condição: Possibilidade de chuva irregular, Chance de chuva: 62%, Umidade: 81%\n",
      "Hora: 22:00 - Temp: 26.4°C, Condição: Nublado, Chance de chuva: 0%, Umidade: 82%\n",
      "Hora: 23:00 - Temp: 26.2°C, Condição: Possibilidade de chuva irregular, Chance de chuva: 68%, Umidade: 83%\n",
      "\u001b[0m"
     ]
    },
    {
     "name": "stderr",
     "output_type": "stream",
     "text": [
      "c:\\Users\\Tales\\Python\\AgenteTuristico\\.venv\\lib\\site-packages\\langchain_google_genai\\chat_models.py:310: UserWarning: Convert_system_message_to_human will be deprecated!\n",
      "  warnings.warn(\"Convert_system_message_to_human will be deprecated!\")\n"
     ]
    },
    {
     "name": "stdout",
     "output_type": "stream",
     "text": [
      "\u001b[32;1m\u001b[1;3m```tool_code\n",
      "Thought: Do I need to use a tool? Yes\n",
      "Action: Query RAG\n",
      "Action Input: Atrações turísticas em Natal, Rio Grande do Norte, focadas em praias e restaurantes regionais.\u001b[0m\u001b[38;5;200m\u001b[1;3mATRAÇÕES\n",
      "Em Natal, a vida além da \n",
      "praia garante aquário, museus, \n",
      "parque aquático, cajueiro \n",
      "gigante e estádio de futebol\n",
      "PARQUE  \n",
      "DAS DUNAS\n",
      "Um dos grandes \n",
      "charmes do gigantesco \n",
      "parque é o Bosque dos \n",
      "Namorados, que tem \n",
      "área de piquenique, \n",
      "playground, restaurante e \n",
      "centro de visitantes. Vale \n",
      "a pena também percorrer \n",
      "as trilhas guiadas do \n",
      "parque, com vegetação \n",
      "exuberante. Embora \n",
      "não tenha praia, oferece \n",
      "mirantes com lindas vistas \n",
      "panorâmicas para o mar.\n",
      "FOTOS: SHUTTERSTOCK\n",
      "AQUÁRIO NATAL\n",
      "Na Praia da Redinha, já no \n",
      "caminho para Genipabu, \n",
      "possui cerca de 60 \n",
      "espécies de animais, como \n",
      "moreias, peixes de corais, \n",
      "cavalos-marinhos, jacarés e \n",
      "até mesmo mamíferos, como \n",
      "hipopótamos e jaguatiricas. \n",
      "Você pode passar a mão \n",
      "nas costas dos tubarões e \n",
      "chegar perto dos pinguins.\n",
      "\n",
      "---\n",
      "\n",
      "PRAIA A PRAIA\n",
      "A orla urbana de Natal é marcada por completa estrutura \n",
      "hoteleira, com quiosques atendendo à beira-mar. Da movimentada \n",
      "Ponta Negra à tradicional Redinha, tem praia para todos os gostos!\n",
      "VIA COSTEIRA\n",
      "A continuação da Praia de Ponta Negra acompanha a famosa Via Costeira, principal \n",
      "avenida da cidade. Nessa faixa de areia, ficam os incríveis resorts da cidade, com \n",
      "estrutura completa de lazer e gastronomia. A bela paisagem da região é pontuada por \n",
      "dunas, trechos de Mata Atlântica e também lindas praias desertas.\n",
      "PONTA NEGRA\n",
      "O Morro do Careca é o marco principal da Praia de Ponta Negra e cartão-postal de \n",
      "Natal. Emoldurada por vegetação, a duna de 107 m de altura domina a paisagem – \n",
      "mas é proibido subir nela por questões ambientais. A praia em si é supermovimentada,\n",
      "\n",
      "---\n",
      "\n",
      "PRAIA DA REDINHA\n",
      "A última praia ao norte de Natal é uma antiga vila de pescadores, cujo destaque é o \n",
      "Mercado Público. A tradição ali é comer a ginga com tapioca (peixe frito que vem no \n",
      "palito, dentro de uma tapioca). A Igreja de Nossa Senhora dos Navegantes, construída \n",
      "com pedras dos arrecifes, e o Aquário Natal são outros pontos de interesse.\n",
      "PRAIA DO MEIO\n",
      "Situada entre a Praia do Forte \n",
      "e a Praia dos Artistas, sedia \n",
      "anualmente, durante o Réveillon, \n",
      "a tradicional festa de Iemanjá. Era \n",
      "considerada a praia mais turística \n",
      "da cidade até os anos 1980, \n",
      "devido às formações de piscinas \n",
      "naturais da região.\n",
      "PRAIA DOS ARTISTAS\n",
      "A 5 km do centro de Natal, é uma  \n",
      "das mais agitadas da cidade. Suas \n",
      "ondas altas são ótimas para surfe \n",
      "e outros esportes náuticos. Com\n",
      "\n",
      "---\n",
      "\n",
      "rico de Natal (2010) e Turismo cultural no \n",
      "centro histórico de Natal (2011).\n",
      "Em 2012, alguns acontecimentos \n",
      "vieram a possibilitar a ampliação das \n",
      "ações: a parceria com o Iphan/RN, no \n",
      "projeto de extensão “Formação de tu-\n",
      "tores em educação patrimonial”, a pes-\n",
      "quisa atrelada às bolsas de iniciação tec-\n",
      "nológica intitulada “Estudando o centro \n",
      "histórico de Natal e suas possibilidades \n",
      "para o turismo”, bem como as atividades \n",
      "desenvolvidas pelo “Grupo de Pesquisa \n",
      "Redes Criativas e Colaborativas no Setor \n",
      "Cultural”.\n",
      "Entende-se que, apesar de não ser \n",
      "suficiente, um guia com um roteiro de \n",
      "visitação é essencial para que o centro \n",
      "histórico de Natal dê-se a conhecer, e que \n",
      "este seja um importante passo rumo à \n",
      "preservação do nosso patrimônio cultu-\n",
      "ral. Foi construído com a ideia de que,\n",
      "\n",
      "---\n",
      "\n",
      "EMERENCIANO, João Gothardo Dantas (org.). Natal não – há – \n",
      "tal: aspectos da história da cidade do Natal. Natal: Departamento \n",
      "de Informação, Pesquisa e Estatística/SEMURB/Prefeitura Munici-\n",
      "pal do Natal, 2009.\n",
      "FERRAZ, Valéria de Souza. Mapeando “esquisitices” no centro \n",
      "antigo de Natal, RN. In: V SEMINÁRIO DE PESQUISA EM TURIS-\n",
      "MO DO MERCOSUL – SeminTUR. Turismo: Inovações da Pesquisa \n",
      "na América Latina. Caxias do Sul, 2008. Anais... Disponível em: \n",
      "<http://www.usp.br/fau/depprojeto/labcom/produtos/2008_fer-\n",
      "raz_semintur.pdf>. Acesso em 05  jun. 2012.\n",
      "__________. Turismo Cultural na ZEPH-Ribeira: possibilidades e \n",
      "limitações. Dissertação (Mestrado em Arquitetura e Urbanismo). \n",
      "Universidade Federal do Rio Grande do Norte, Centro de Tecno-\u001b[0m"
     ]
    },
    {
     "name": "stderr",
     "output_type": "stream",
     "text": [
      "c:\\Users\\Tales\\Python\\AgenteTuristico\\.venv\\lib\\site-packages\\langchain_google_genai\\chat_models.py:310: UserWarning: Convert_system_message_to_human will be deprecated!\n",
      "  warnings.warn(\"Convert_system_message_to_human will be deprecated!\")\n"
     ]
    },
    {
     "name": "stdout",
     "output_type": "stream",
     "text": [
      "\u001b[32;1m\u001b[1;3m```tool_code\n",
      "Thought: Do I need to use a tool? Yes\n",
      "Action: DuckDuckGo Search\n",
      "Action Input: eventos em Natal RN 11 e 12 de janeiro de 2025\u001b[0m"
     ]
    },
    {
     "name": "stderr",
     "output_type": "stream",
     "text": [
      "c:\\Users\\Tales\\Python\\AgenteTuristico\\.venv\\lib\\site-packages\\langchain_community\\utilities\\duckduckgo_search.py:64: UserWarning: 'api' backend is deprecated, using backend='auto'\n",
      "  ddgs_gen = ddgs.text(\n"
     ]
    },
    {
     "name": "stdout",
     "output_type": "stream",
     "text": [
      "\u001b[36;1m\u001b[1;3mA programação cultural de janeiro 2025 em Natal será palco de grandes shows e eventos, garantindo diversão para moradores e turistas. Confira os destaques da programação cultural de janeiro 2025 em Natal e prepare-se para aproveitar o melhor da Cidade do Sol! No dia 11 de janeiro de 2025, a partir das 12h (meio-dia), o Rota 360 , realiza o evento Psy Sunset com várias atrações. Mais informações no perfil oficial @sigarota360. Encontre os melhores eventos no Brasil em 2025 na Sympla. Compre ingressos para shows, festas, teatros, congressos, eventos corporativos, esportivos, gastrônomicos, religiosos e mais! Descubra os melhores eventos em Natal, incluindo shows ao vivo, standups hilariantes, baladas animadas e muito mais. Fique por dentro de toda a diversão e entretenimento que Natal tem a oferecer. Acesse agora e planeje sua próxima experiência inesquecível na cidade! Compre ingressos para NUMANICE | NATAL em Natal dia 08/02. Confira os melhores eventos da Sympla!\u001b[0m"
     ]
    },
    {
     "name": "stderr",
     "output_type": "stream",
     "text": [
      "c:\\Users\\Tales\\Python\\AgenteTuristico\\.venv\\lib\\site-packages\\langchain_google_genai\\chat_models.py:310: UserWarning: Convert_system_message_to_human will be deprecated!\n",
      "  warnings.warn(\"Convert_system_message_to_human will be deprecated!\")\n"
     ]
    },
    {
     "name": "stdout",
     "output_type": "stream",
     "text": [
      "\u001b[32;1m\u001b[1;3m```tool_code\n",
      "Thought: Do I need to use a tool? No\n",
      "Final Answer: Olá! Com base nas informações que você me forneceu, preparei um roteiro para sua viagem a Natal nos dias 11 e 12 de janeiro de 2025, focando em praias e restaurantes regionais.  Lembre-se que a previsão do tempo indica possibilidade de chuva, principalmente na manhã do dia 11.  Sugiro verificar a previsão mais próxima da data da viagem para ter informações mais precisas.\n",
      "\n",
      "**Roteiro de Viagem - Natal (RN)**\n",
      "\n",
      "**Sábado, 11 de Janeiro de 2025**\n",
      "\n",
      "* **Manhã (08:00 - 12:00):**  Considerando a previsão de chuva pela manhã, sugiro começar o dia visitando o Aquário Natal na Praia da Redinha.  Assim, você pode aproveitar as atividades internas e se proteger da chuva. Após a visita ao aquário, aproveite para explorar o Mercado Público da Redinha e experimentar a ginga com tapioca.\n",
      "* **Tarde (13:00 - 17:00):**  Se o tempo estiver bom, aproveite a tarde na Praia de Ponta Negra.  Você pode relaxar na praia, tirar fotos do Morro do Careca (sem subir, por questões ambientais) e curtir o ambiente.  Caso a chuva persista, visite o Parque das Dunas, que oferece trilhas e um mirante com vista para o mar.\n",
      "* **Noite (18:00 - 22:00):**  Para o jantar, sugiro um restaurante regional em Ponta Negra, com opções de frutos do mar.  Após o jantar, você pode aproveitar a vida noturna da região, caso haja algum evento interessante, ou simplesmente relaxar no seu hotel.  Verifique se o evento Psy Sunset no Rota 360 está acontecendo e se te interessa.\n",
      "\n",
      "\n",
      "**Domingo, 12 de Janeiro de 2025**\n",
      "\n",
      "* **Manhã (09:00 - 12:00):**  Comece o dia visitando a Praia do Meio ou a Praia dos Artistas, dependendo do seu gosto.  A Praia do Meio é mais tranquila, enquanto a Praia dos Artistas é ideal para esportes aquáticos.\n",
      "* **Tarde (13:00 - 17:00):**  Explore a Via Costeira, apreciando a paisagem e os resorts luxuosos.  Você pode aproveitar para almoçar em um restaurante com vista para o mar na Via Costeira.\n",
      "* **Noite (18:00 - 22:00):**  Para o jantar, sugiro experimentar um restaurante regional em um bairro diferente de Ponta Negra, para ter uma experiência mais diversificada da gastronomia local.  Após o jantar, retorne ao seu hotel e prepare-se para a viagem de volta.\n",
      "\n",
      "\n",
      "**Observações:**\n",
      "\n",
      "* Este roteiro é uma sugestão e pode ser adaptado de acordo com suas preferências e o tempo disponível.\n",
      "* É importante verificar os horários de funcionamento dos locais e fazer reservas antecipadas, se necessário.\n",
      "* Recomendo consultar aplicativos de transporte ou táxis para se locomover entre os diferentes pontos turísticos.\n",
      "\n",
      "Gostaria de salvar esses eventos no seu Calendário Google?\n",
      "```\n",
      "\u001b[0m\n",
      "\n",
      "\u001b[1m> Finished chain.\u001b[0m\n",
      "Olá! Com base nas informações que você me forneceu, preparei um roteiro para sua viagem a Natal nos dias 11 e 12 de janeiro de 2025, focando em praias e restaurantes regionais.  Lembre-se que a previsão do tempo indica possibilidade de chuva, principalmente na manhã do dia 11.  Sugiro verificar a previsão mais próxima da data da viagem para ter informações mais precisas.\n",
      "\n",
      "**Roteiro de Viagem - Natal (RN)**\n",
      "\n",
      "**Sábado, 11 de Janeiro de 2025**\n",
      "\n",
      "* **Manhã (08:00 - 12:00):**  Considerando a previsão de chuva pela manhã, sugiro começar o dia visitando o Aquário Natal na Praia da Redinha.  Assim, você pode aproveitar as atividades internas e se proteger da chuva. Após a visita ao aquário, aproveite para explorar o Mercado Público da Redinha e experimentar a ginga com tapioca.\n",
      "* **Tarde (13:00 - 17:00):**  Se o tempo estiver bom, aproveite a tarde na Praia de Ponta Negra.  Você pode relaxar na praia, tirar fotos do Morro do Careca (sem subir, por questões ambientais) e curtir o ambiente.  Caso a chuva persista, visite o Parque das Dunas, que oferece trilhas e um mirante com vista para o mar.\n",
      "* **Noite (18:00 - 22:00):**  Para o jantar, sugiro um restaurante regional em Ponta Negra, com opções de frutos do mar.  Após o jantar, você pode aproveitar a vida noturna da região, caso haja algum evento interessante, ou simplesmente relaxar no seu hotel.  Verifique se o evento Psy Sunset no Rota 360 está acontecendo e se te interessa.\n",
      "\n",
      "\n",
      "**Domingo, 12 de Janeiro de 2025**\n",
      "\n",
      "* **Manhã (09:00 - 12:00):**  Comece o dia visitando a Praia do Meio ou a Praia dos Artistas, dependendo do seu gosto.  A Praia do Meio é mais tranquila, enquanto a Praia dos Artistas é ideal para esportes aquáticos.\n",
      "* **Tarde (13:00 - 17:00):**  Explore a Via Costeira, apreciando a paisagem e os resorts luxuosos.  Você pode aproveitar para almoçar em um restaurante com vista para o mar na Via Costeira.\n",
      "* **Noite (18:00 - 22:00):**  Para o jantar, sugiro experimentar um restaurante regional em um bairro diferente de Ponta Negra, para ter uma experiência mais diversificada da gastronomia local.  Após o jantar, retorne ao seu hotel e prepare-se para a viagem de volta.\n",
      "\n",
      "\n",
      "**Observações:**\n",
      "\n",
      "* Este roteiro é uma sugestão e pode ser adaptado de acordo com suas preferências e o tempo disponível.\n",
      "* É importante verificar os horários de funcionamento dos locais e fazer reservas antecipadas, se necessário.\n",
      "* Recomendo consultar aplicativos de transporte ou táxis para se locomover entre os diferentes pontos turísticos.\n",
      "\n",
      "Gostaria de salvar esses eventos no seu Calendário Google?\n",
      "```\n"
     ]
    }
   ],
   "source": [
    "response = travel_agent_executor.invoke({\"input\": 'Não possuo nenhuma restrição alimentar.'})\n",
    "\n",
    "print(response[\"output\"])"
   ]
  },
  {
   "cell_type": "code",
   "execution_count": 21,
   "metadata": {},
   "outputs": [
    {
     "name": "stdout",
     "output_type": "stream",
     "text": [
      "\n",
      "\n",
      "\u001b[1m> Entering new AgentExecutor chain...\u001b[0m\n"
     ]
    },
    {
     "name": "stderr",
     "output_type": "stream",
     "text": [
      "c:\\Users\\Tales\\Python\\AgenteTuristico\\.venv\\lib\\site-packages\\langchain_google_genai\\chat_models.py:310: UserWarning: Convert_system_message_to_human will be deprecated!\n",
      "  warnings.warn(\"Convert_system_message_to_human will be deprecated!\")\n"
     ]
    },
    {
     "name": "stdout",
     "output_type": "stream",
     "text": [
      "\u001b[32;1m\u001b[1;3m```tool_code\n",
      "Thought: Do I need to use a tool? Yes\n",
      "Action: Calendar Agent\n",
      "Action Input: Save the following events to my Google Calendar:\n",
      "\n",
      "**Saturday, January 11, 2025**\n",
      "\n",
      "* **Morning (8:00 AM - 12:00 PM):** Visit the Natal Aquarium in Redinha Beach. Afterwards, explore the Redinha Public Market and try tapioca with ginga.\n",
      "* **Afternoon (1:00 PM - 5:00 PM):** If the weather is good, relax at Ponta Negra Beach, take photos of Morro do Careca (from a distance), and enjoy the atmosphere. If it's raining, visit the Dunes Park, which offers trails and an ocean view.\n",
      "* **Evening (6:00 PM - 10:00 PM):** Have dinner at a regional restaurant in Ponta Negra, with seafood options. Afterwards, check for events or relax at your hotel.  Check if the Psy Sunset event at Rota 360 is happening and if it interests you.\n",
      "\n",
      "\n",
      "**Sunday, January 12, 2025**\n",
      "\n",
      "* **Morning (9:00 AM - 12:00 PM):** Visit either Meio Beach or Artists' Beach, depending on your preference. Meio Beach is quieter, while Artists' Beach is better for water sports.\n",
      "* **Afternoon (1:00 PM - 5:00 PM):** Explore Via Costeira, enjoying the scenery and luxurious resorts. Have lunch at a restaurant overlooking the sea on Via Costeira.\n",
      "* **Evening (6:00 PM - 10:00 PM):** Have dinner at a regional restaurant in a different neighborhood from Ponta Negra, for a more diverse culinary experience. Afterwards, return to your hotel and prepare for your trip back.\n",
      "\u001b[0m\n",
      "\n",
      "\u001b[1m> Entering new AgentExecutor chain...\u001b[0m\n"
     ]
    },
    {
     "name": "stderr",
     "output_type": "stream",
     "text": [
      "c:\\Users\\Tales\\Python\\AgenteTuristico\\.venv\\lib\\site-packages\\langchain_google_genai\\chat_models.py:310: UserWarning: Convert_system_message_to_human will be deprecated!\n",
      "  warnings.warn(\"Convert_system_message_to_human will be deprecated!\")\n"
     ]
    },
    {
     "name": "stdout",
     "output_type": "stream",
     "text": [
      "\u001b[32;1m\u001b[1;3m```tool_code\n",
      "Thought: Do I need to use a tool? Yes\n",
      "Action: Insert Calendar Event\n",
      "Action Input: \"Visita ao Aquário Natal e Mercado Público da Redinha - Sábado, 11 de Janeiro de 2025, 8h às 12h. Local: Aquário Natal, Praia da Redinha, Natal, RN.  Após o Aquário, explorar o Mercado Público da Redinha e experimentar tapioca com ginga.\"\u001b[0m"
     ]
    },
    {
     "name": "stderr",
     "output_type": "stream",
     "text": [
      "c:\\Users\\Tales\\Python\\AgenteTuristico\\.venv\\lib\\site-packages\\langchain_google_genai\\chat_models.py:310: UserWarning: Convert_system_message_to_human will be deprecated!\n",
      "  warnings.warn(\"Convert_system_message_to_human will be deprecated!\")\n"
     ]
    },
    {
     "name": "stdout",
     "output_type": "stream",
     "text": [
      "\u001b[36;1m\u001b[1;3m{'kind': 'calendar#event', 'etag': '\"3473087371608000\"', 'id': 'kghumsj6k6egbnuct0cm05nonk', 'status': 'confirmed', 'htmlLink': 'https://www.google.com/calendar/event?eid=a2dodW1zajZrNmVnYm51Y3QwY20wNW5vbmsgdGFsZXMudi5tLmFsdmVzQG0', 'created': '2025-01-10T21:14:45.000Z', 'updated': '2025-01-10T21:14:45.804Z', 'summary': 'Visita ao Aquário Natal e Mercado Público da Redinha', 'description': 'Visita ao Aquário Natal. Após o Aquário, explorar o Mercado Público da Redinha e experimentar tapioca com ginga.', 'location': 'Aquário Natal, Praia da Redinha, Natal, RN', 'creator': {'email': 'tales.v.m.alves@gmail.com', 'self': True}, 'organizer': {'email': 'tales.v.m.alves@gmail.com', 'self': True}, 'start': {'dateTime': '2025-01-11T08:00:00-03:00', 'timeZone': 'America/Fortaleza'}, 'end': {'dateTime': '2025-01-11T12:00:00-03:00', 'timeZone': 'America/Fortaleza'}, 'iCalUID': 'kghumsj6k6egbnuct0cm05nonk@google.com', 'sequence': 0, 'reminders': {'useDefault': True}, 'eventType': 'default'}\u001b[0m"
     ]
    },
    {
     "name": "stderr",
     "output_type": "stream",
     "text": [
      "c:\\Users\\Tales\\Python\\AgenteTuristico\\.venv\\lib\\site-packages\\langchain_google_genai\\chat_models.py:310: UserWarning: Convert_system_message_to_human will be deprecated!\n",
      "  warnings.warn(\"Convert_system_message_to_human will be deprecated!\")\n"
     ]
    },
    {
     "name": "stdout",
     "output_type": "stream",
     "text": [
      "\u001b[32;1m\u001b[1;3m```tool_code\n",
      "Thought: Do I need to use a tool? Yes\n",
      "Action: Insert Calendar Event\n",
      "Action Input: \"Relaxamento em Ponta Negra ou visita ao Parque das Dunas - Sábado, 11 de Janeiro de 2025, 13h às 17h. Local: Praia de Ponta Negra (se tempo bom), ou Parque das Dunas (se chuva). Natal, RN.\"\u001b[0m"
     ]
    },
    {
     "name": "stderr",
     "output_type": "stream",
     "text": [
      "c:\\Users\\Tales\\Python\\AgenteTuristico\\.venv\\lib\\site-packages\\langchain_google_genai\\chat_models.py:310: UserWarning: Convert_system_message_to_human will be deprecated!\n",
      "  warnings.warn(\"Convert_system_message_to_human will be deprecated!\")\n"
     ]
    },
    {
     "name": "stdout",
     "output_type": "stream",
     "text": [
      "\u001b[36;1m\u001b[1;3m{'kind': 'calendar#event', 'etag': '\"3473087378672000\"', 'id': 'orfsq16mmvrbmrjfqkgo4qoj60', 'status': 'confirmed', 'htmlLink': 'https://www.google.com/calendar/event?eid=b3Jmc3ExNm1tdnJibXJqZnFrZ280cW9qNjAgdGFsZXMudi5tLmFsdmVzQG0', 'created': '2025-01-10T21:14:49.000Z', 'updated': '2025-01-10T21:14:49.336Z', 'summary': 'Relaxamento em Ponta Negra ou visita ao Parque das Dunas', 'description': 'Relaxamento em Ponta Negra ou visita ao Parque das Dunas', 'location': 'Praia de Ponta Negra (se tempo bom), ou Parque das Dunas (se chuva). Natal, RN', 'creator': {'email': 'tales.v.m.alves@gmail.com', 'self': True}, 'organizer': {'email': 'tales.v.m.alves@gmail.com', 'self': True}, 'start': {'dateTime': '2025-01-11T13:00:00-03:00', 'timeZone': 'America/Fortaleza'}, 'end': {'dateTime': '2025-01-11T17:00:00-03:00', 'timeZone': 'America/Fortaleza'}, 'iCalUID': 'orfsq16mmvrbmrjfqkgo4qoj60@google.com', 'sequence': 0, 'reminders': {'useDefault': True}, 'eventType': 'default'}\u001b[0m"
     ]
    },
    {
     "name": "stderr",
     "output_type": "stream",
     "text": [
      "c:\\Users\\Tales\\Python\\AgenteTuristico\\.venv\\lib\\site-packages\\langchain_google_genai\\chat_models.py:310: UserWarning: Convert_system_message_to_human will be deprecated!\n",
      "  warnings.warn(\"Convert_system_message_to_human will be deprecated!\")\n",
      "c:\\Users\\Tales\\Python\\AgenteTuristico\\.venv\\lib\\site-packages\\langchain_google_genai\\chat_models.py:310: UserWarning: Convert_system_message_to_human will be deprecated!\n",
      "  warnings.warn(\"Convert_system_message_to_human will be deprecated!\")\n"
     ]
    },
    {
     "name": "stdout",
     "output_type": "stream",
     "text": [
      "\u001b[32;1m\u001b[1;3m```tool_code\n",
      "Thought: Do I need to use a tool? Yes\n",
      "Action: Insert Calendar Event\n",
      "Action Input: \"Jantar em restaurante regional em Ponta Negra e evento opcional - Sábado, 11 de Janeiro de 2025, 18h às 22h. Local: Restaurante regional em Ponta Negra, Natal, RN. Verificar evento Psy Sunset no Rota 360.\"\u001b[0m\u001b[36;1m\u001b[1;3m{'kind': 'calendar#event', 'etag': '\"3473087387298000\"', 'id': '344lce9gvcjlht32s1dad3g7m0', 'status': 'confirmed', 'htmlLink': 'https://www.google.com/calendar/event?eid=MzQ0bGNlOWd2Y2psaHQzMnMxZGFkM2c3bTAgdGFsZXMudi5tLmFsdmVzQG0', 'created': '2025-01-10T21:14:53.000Z', 'updated': '2025-01-10T21:14:53.649Z', 'summary': 'Jantar em restaurante regional em Ponta Negra', 'description': 'Jantar em restaurante regional em Ponta Negra e evento opcional - Verificar evento Psy Sunset no Rota 360.', 'location': 'Restaurante regional em Ponta Negra, Natal, RN', 'creator': {'email': 'tales.v.m.alves@gmail.com', 'self': True}, 'organizer': {'email': 'tales.v.m.alves@gmail.com', 'self': True}, 'start': {'dateTime': '2025-01-11T18:00:00-03:00', 'timeZone': 'America/Fortaleza'}, 'end': {'dateTime': '2025-01-11T22:00:00-03:00', 'timeZone': 'America/Fortaleza'}, 'iCalUID': '344lce9gvcjlht32s1dad3g7m0@google.com', 'sequence': 0, 'reminders': {'useDefault': True}, 'eventType': 'default'}\u001b[0m"
     ]
    },
    {
     "name": "stderr",
     "output_type": "stream",
     "text": [
      "c:\\Users\\Tales\\Python\\AgenteTuristico\\.venv\\lib\\site-packages\\langchain_google_genai\\chat_models.py:310: UserWarning: Convert_system_message_to_human will be deprecated!\n",
      "  warnings.warn(\"Convert_system_message_to_human will be deprecated!\")\n"
     ]
    },
    {
     "name": "stdout",
     "output_type": "stream",
     "text": [
      "\u001b[32;1m\u001b[1;3m```tool_code\n",
      "Thought: Do I need to use a tool? Yes\n",
      "Action: Insert Calendar Event\n",
      "Action Input: \"Visita à Praia do Meio ou Praia dos Artistas - Domingo, 12 de Janeiro de 2025, 9h às 12h. Local: Praia do Meio ou Praia dos Artistas, Natal, RN.\"\u001b[0m"
     ]
    },
    {
     "name": "stderr",
     "output_type": "stream",
     "text": [
      "c:\\Users\\Tales\\Python\\AgenteTuristico\\.venv\\lib\\site-packages\\langchain_google_genai\\chat_models.py:310: UserWarning: Convert_system_message_to_human will be deprecated!\n",
      "  warnings.warn(\"Convert_system_message_to_human will be deprecated!\")\n"
     ]
    },
    {
     "name": "stdout",
     "output_type": "stream",
     "text": [
      "\u001b[36;1m\u001b[1;3m{'kind': 'calendar#event', 'etag': '\"3473087395176000\"', 'id': '3os6ienjolnohrrv11jclu8e5k', 'status': 'confirmed', 'htmlLink': 'https://www.google.com/calendar/event?eid=M29zNmllbmpvbG5vaHJydjExamNsdThlNWsgdGFsZXMudi5tLmFsdmVzQG0', 'created': '2025-01-10T21:14:57.000Z', 'updated': '2025-01-10T21:14:57.588Z', 'summary': 'Visita à Praia do Meio ou Praia dos Artistas', 'location': 'Praia do Meio ou Praia dos Artistas, Natal, RN', 'creator': {'email': 'tales.v.m.alves@gmail.com', 'self': True}, 'organizer': {'email': 'tales.v.m.alves@gmail.com', 'self': True}, 'start': {'dateTime': '2025-01-12T09:00:00-03:00', 'timeZone': 'America/Fortaleza'}, 'end': {'dateTime': '2025-01-12T12:00:00-03:00', 'timeZone': 'America/Fortaleza'}, 'iCalUID': '3os6ienjolnohrrv11jclu8e5k@google.com', 'sequence': 0, 'reminders': {'useDefault': True}, 'eventType': 'default'}\u001b[0m"
     ]
    },
    {
     "name": "stderr",
     "output_type": "stream",
     "text": [
      "c:\\Users\\Tales\\Python\\AgenteTuristico\\.venv\\lib\\site-packages\\langchain_google_genai\\chat_models.py:310: UserWarning: Convert_system_message_to_human will be deprecated!\n",
      "  warnings.warn(\"Convert_system_message_to_human will be deprecated!\")\n"
     ]
    },
    {
     "name": "stdout",
     "output_type": "stream",
     "text": [
      "\u001b[32;1m\u001b[1;3m```tool_code\n",
      "Thought: Do I need to use a tool? Yes\n",
      "Action: Insert Calendar Event\n",
      "Action Input: \"Exploração da Via Costeira e almoço - Domingo, 12 de Janeiro de 2025, 13h às 17h. Local: Via Costeira, Natal, RN. Almoço em restaurante com vista para o mar.\"\u001b[0m"
     ]
    },
    {
     "name": "stderr",
     "output_type": "stream",
     "text": [
      "c:\\Users\\Tales\\Python\\AgenteTuristico\\.venv\\lib\\site-packages\\langchain_google_genai\\chat_models.py:310: UserWarning: Convert_system_message_to_human will be deprecated!\n",
      "  warnings.warn(\"Convert_system_message_to_human will be deprecated!\")\n"
     ]
    },
    {
     "name": "stdout",
     "output_type": "stream",
     "text": [
      "\u001b[36;1m\u001b[1;3m{'kind': 'calendar#event', 'etag': '\"3473087402964000\"', 'id': 'e0f1nitr34k45sfegs8hp5h514', 'status': 'confirmed', 'htmlLink': 'https://www.google.com/calendar/event?eid=ZTBmMW5pdHIzNGs0NXNmZWdzOGhwNWg1MTQgdGFsZXMudi5tLmFsdmVzQG0', 'created': '2025-01-10T21:15:01.000Z', 'updated': '2025-01-10T21:15:01.482Z', 'summary': 'Exploração da Via Costeira e almoço', 'description': 'Almoço em restaurante com vista para o mar.', 'location': 'Via Costeira, Natal, RN', 'creator': {'email': 'tales.v.m.alves@gmail.com', 'self': True}, 'organizer': {'email': 'tales.v.m.alves@gmail.com', 'self': True}, 'start': {'dateTime': '2025-01-12T13:00:00-03:00', 'timeZone': 'America/Fortaleza'}, 'end': {'dateTime': '2025-01-12T17:00:00-03:00', 'timeZone': 'America/Fortaleza'}, 'iCalUID': 'e0f1nitr34k45sfegs8hp5h514@google.com', 'sequence': 0, 'reminders': {'useDefault': True}, 'eventType': 'default'}\u001b[0m"
     ]
    },
    {
     "name": "stderr",
     "output_type": "stream",
     "text": [
      "c:\\Users\\Tales\\Python\\AgenteTuristico\\.venv\\lib\\site-packages\\langchain_google_genai\\chat_models.py:310: UserWarning: Convert_system_message_to_human will be deprecated!\n",
      "  warnings.warn(\"Convert_system_message_to_human will be deprecated!\")\n"
     ]
    },
    {
     "name": "stdout",
     "output_type": "stream",
     "text": [
      "\u001b[32;1m\u001b[1;3m```tool_code\n",
      "Thought: Do I need to use a tool? Yes\n",
      "Action: Insert Calendar Event\n",
      "Action Input: \"Jantar em restaurante regional (fora de Ponta Negra) e retorno - Domingo, 12 de Janeiro de 2025, 18h às 22h. Local: Restaurante regional (fora de Ponta Negra), Natal, RN. Retorno ao hotel e preparação para viagem.\"\u001b[0m"
     ]
    },
    {
     "name": "stderr",
     "output_type": "stream",
     "text": [
      "c:\\Users\\Tales\\Python\\AgenteTuristico\\.venv\\lib\\site-packages\\langchain_google_genai\\chat_models.py:310: UserWarning: Convert_system_message_to_human will be deprecated!\n",
      "  warnings.warn(\"Convert_system_message_to_human will be deprecated!\")\n"
     ]
    },
    {
     "name": "stdout",
     "output_type": "stream",
     "text": [
      "\u001b[36;1m\u001b[1;3m{'kind': 'calendar#event', 'etag': '\"3473087410882000\"', 'id': '3osev62p9qq44nqduld0k57fbo', 'status': 'confirmed', 'htmlLink': 'https://www.google.com/calendar/event?eid=M29zZXY2MnA5cXE0NG5xZHVsZDBrNTdmYm8gdGFsZXMudi5tLmFsdmVzQG0', 'created': '2025-01-10T21:15:05.000Z', 'updated': '2025-01-10T21:15:05.441Z', 'summary': 'Jantar em restaurante regional', 'description': 'Jantar em restaurante regional (fora de Ponta Negra) e retorno. Retorno ao hotel e preparação para viagem.', 'location': 'Restaurante regional (fora de Ponta Negra), Natal, RN', 'creator': {'email': 'tales.v.m.alves@gmail.com', 'self': True}, 'organizer': {'email': 'tales.v.m.alves@gmail.com', 'self': True}, 'start': {'dateTime': '2025-01-12T18:00:00-03:00', 'timeZone': 'America/Fortaleza'}, 'end': {'dateTime': '2025-01-12T22:00:00-03:00', 'timeZone': 'America/Fortaleza'}, 'iCalUID': '3osev62p9qq44nqduld0k57fbo@google.com', 'sequence': 0, 'reminders': {'useDefault': True}, 'eventType': 'default'}\u001b[0m"
     ]
    },
    {
     "name": "stderr",
     "output_type": "stream",
     "text": [
      "c:\\Users\\Tales\\Python\\AgenteTuristico\\.venv\\lib\\site-packages\\langchain_google_genai\\chat_models.py:310: UserWarning: Convert_system_message_to_human will be deprecated!\n",
      "  warnings.warn(\"Convert_system_message_to_human will be deprecated!\")\n"
     ]
    },
    {
     "ename": "ServiceUnavailable",
     "evalue": "503 The model is overloaded. Please try again later.",
     "output_type": "error",
     "traceback": [
      "\u001b[1;31m---------------------------------------------------------------------------\u001b[0m",
      "\u001b[1;31m_MultiThreadedRendezvous\u001b[0m                  Traceback (most recent call last)",
      "File \u001b[1;32mc:\\Users\\Tales\\Python\\AgenteTuristico\\.venv\\lib\\site-packages\\google\\api_core\\grpc_helpers.py:116\u001b[0m, in \u001b[0;36m_StreamingResponseIterator.__next__\u001b[1;34m(self)\u001b[0m\n\u001b[0;32m    115\u001b[0m         \u001b[38;5;28;01mreturn\u001b[39;00m result\n\u001b[1;32m--> 116\u001b[0m     \u001b[38;5;28;01mreturn\u001b[39;00m \u001b[38;5;28;43mnext\u001b[39;49m\u001b[43m(\u001b[49m\u001b[38;5;28;43mself\u001b[39;49m\u001b[38;5;241;43m.\u001b[39;49m\u001b[43m_wrapped\u001b[49m\u001b[43m)\u001b[49m\n\u001b[0;32m    117\u001b[0m \u001b[38;5;28;01mexcept\u001b[39;00m grpc\u001b[38;5;241m.\u001b[39mRpcError \u001b[38;5;28;01mas\u001b[39;00m exc:\n\u001b[0;32m    118\u001b[0m     \u001b[38;5;66;03m# If the stream has already returned data, we cannot recover here.\u001b[39;00m\n",
      "File \u001b[1;32mc:\\Users\\Tales\\Python\\AgenteTuristico\\.venv\\lib\\site-packages\\grpc\\_channel.py:543\u001b[0m, in \u001b[0;36m_Rendezvous.__next__\u001b[1;34m(self)\u001b[0m\n\u001b[0;32m    542\u001b[0m \u001b[38;5;28;01mdef\u001b[39;00m \u001b[38;5;21m__next__\u001b[39m(\u001b[38;5;28mself\u001b[39m):\n\u001b[1;32m--> 543\u001b[0m     \u001b[38;5;28;01mreturn\u001b[39;00m \u001b[38;5;28;43mself\u001b[39;49m\u001b[38;5;241;43m.\u001b[39;49m\u001b[43m_next\u001b[49m\u001b[43m(\u001b[49m\u001b[43m)\u001b[49m\n",
      "File \u001b[1;32mc:\\Users\\Tales\\Python\\AgenteTuristico\\.venv\\lib\\site-packages\\grpc\\_channel.py:969\u001b[0m, in \u001b[0;36m_MultiThreadedRendezvous._next\u001b[1;34m(self)\u001b[0m\n\u001b[0;32m    968\u001b[0m \u001b[38;5;28;01melif\u001b[39;00m \u001b[38;5;28mself\u001b[39m\u001b[38;5;241m.\u001b[39m_state\u001b[38;5;241m.\u001b[39mcode \u001b[38;5;129;01mis\u001b[39;00m \u001b[38;5;129;01mnot\u001b[39;00m \u001b[38;5;28;01mNone\u001b[39;00m:\n\u001b[1;32m--> 969\u001b[0m     \u001b[38;5;28;01mraise\u001b[39;00m \u001b[38;5;28mself\u001b[39m\n",
      "\u001b[1;31m_MultiThreadedRendezvous\u001b[0m: <_MultiThreadedRendezvous of RPC that terminated with:\n\tstatus = StatusCode.UNAVAILABLE\n\tdetails = \"The model is overloaded. Please try again later.\"\n\tdebug_error_string = \"UNKNOWN:Error received from peer ipv6:%5B2800:3f0:4001:83a::200a%5D:443 {created_time:\"2025-01-10T21:15:03.1748506+00:00\", grpc_status:14, grpc_message:\"The model is overloaded. Please try again later.\"}\"\n>",
      "\nThe above exception was the direct cause of the following exception:\n",
      "\u001b[1;31mServiceUnavailable\u001b[0m                        Traceback (most recent call last)",
      "Cell \u001b[1;32mIn[21], line 1\u001b[0m\n\u001b[1;32m----> 1\u001b[0m response \u001b[38;5;241m=\u001b[39m \u001b[43mtravel_agent_executor\u001b[49m\u001b[38;5;241;43m.\u001b[39;49m\u001b[43minvoke\u001b[49m\u001b[43m(\u001b[49m\u001b[43m{\u001b[49m\u001b[38;5;124;43m\"\u001b[39;49m\u001b[38;5;124;43minput\u001b[39;49m\u001b[38;5;124;43m\"\u001b[39;49m\u001b[43m:\u001b[49m\u001b[43m \u001b[49m\u001b[38;5;124;43m'\u001b[39;49m\u001b[38;5;124;43mEu quero que você salve os eventos sugeridos no meu calendário google\u001b[39;49m\u001b[38;5;124;43m'\u001b[39;49m\u001b[43m}\u001b[49m\u001b[43m)\u001b[49m\n\u001b[0;32m      3\u001b[0m \u001b[38;5;28mprint\u001b[39m(response[\u001b[38;5;124m\"\u001b[39m\u001b[38;5;124moutput\u001b[39m\u001b[38;5;124m\"\u001b[39m])\n",
      "File \u001b[1;32mc:\\Users\\Tales\\Python\\AgenteTuristico\\.venv\\lib\\site-packages\\langchain\\chains\\base.py:170\u001b[0m, in \u001b[0;36mChain.invoke\u001b[1;34m(self, input, config, **kwargs)\u001b[0m\n\u001b[0;32m    168\u001b[0m \u001b[38;5;28;01mexcept\u001b[39;00m \u001b[38;5;167;01mBaseException\u001b[39;00m \u001b[38;5;28;01mas\u001b[39;00m e:\n\u001b[0;32m    169\u001b[0m     run_manager\u001b[38;5;241m.\u001b[39mon_chain_error(e)\n\u001b[1;32m--> 170\u001b[0m     \u001b[38;5;28;01mraise\u001b[39;00m e\n\u001b[0;32m    171\u001b[0m run_manager\u001b[38;5;241m.\u001b[39mon_chain_end(outputs)\n\u001b[0;32m    173\u001b[0m \u001b[38;5;28;01mif\u001b[39;00m include_run_info:\n",
      "File \u001b[1;32mc:\\Users\\Tales\\Python\\AgenteTuristico\\.venv\\lib\\site-packages\\langchain\\chains\\base.py:160\u001b[0m, in \u001b[0;36mChain.invoke\u001b[1;34m(self, input, config, **kwargs)\u001b[0m\n\u001b[0;32m    157\u001b[0m \u001b[38;5;28;01mtry\u001b[39;00m:\n\u001b[0;32m    158\u001b[0m     \u001b[38;5;28mself\u001b[39m\u001b[38;5;241m.\u001b[39m_validate_inputs(inputs)\n\u001b[0;32m    159\u001b[0m     outputs \u001b[38;5;241m=\u001b[39m (\n\u001b[1;32m--> 160\u001b[0m         \u001b[38;5;28;43mself\u001b[39;49m\u001b[38;5;241;43m.\u001b[39;49m\u001b[43m_call\u001b[49m\u001b[43m(\u001b[49m\u001b[43minputs\u001b[49m\u001b[43m,\u001b[49m\u001b[43m \u001b[49m\u001b[43mrun_manager\u001b[49m\u001b[38;5;241;43m=\u001b[39;49m\u001b[43mrun_manager\u001b[49m\u001b[43m)\u001b[49m\n\u001b[0;32m    161\u001b[0m         \u001b[38;5;28;01mif\u001b[39;00m new_arg_supported\n\u001b[0;32m    162\u001b[0m         \u001b[38;5;28;01melse\u001b[39;00m \u001b[38;5;28mself\u001b[39m\u001b[38;5;241m.\u001b[39m_call(inputs)\n\u001b[0;32m    163\u001b[0m     )\n\u001b[0;32m    165\u001b[0m     final_outputs: Dict[\u001b[38;5;28mstr\u001b[39m, Any] \u001b[38;5;241m=\u001b[39m \u001b[38;5;28mself\u001b[39m\u001b[38;5;241m.\u001b[39mprep_outputs(\n\u001b[0;32m    166\u001b[0m         inputs, outputs, return_only_outputs\n\u001b[0;32m    167\u001b[0m     )\n\u001b[0;32m    168\u001b[0m \u001b[38;5;28;01mexcept\u001b[39;00m \u001b[38;5;167;01mBaseException\u001b[39;00m \u001b[38;5;28;01mas\u001b[39;00m e:\n",
      "File \u001b[1;32mc:\\Users\\Tales\\Python\\AgenteTuristico\\.venv\\lib\\site-packages\\langchain\\agents\\agent.py:1624\u001b[0m, in \u001b[0;36mAgentExecutor._call\u001b[1;34m(self, inputs, run_manager)\u001b[0m\n\u001b[0;32m   1622\u001b[0m \u001b[38;5;66;03m# We now enter the agent loop (until it returns something).\u001b[39;00m\n\u001b[0;32m   1623\u001b[0m \u001b[38;5;28;01mwhile\u001b[39;00m \u001b[38;5;28mself\u001b[39m\u001b[38;5;241m.\u001b[39m_should_continue(iterations, time_elapsed):\n\u001b[1;32m-> 1624\u001b[0m     next_step_output \u001b[38;5;241m=\u001b[39m \u001b[38;5;28;43mself\u001b[39;49m\u001b[38;5;241;43m.\u001b[39;49m\u001b[43m_take_next_step\u001b[49m\u001b[43m(\u001b[49m\n\u001b[0;32m   1625\u001b[0m \u001b[43m        \u001b[49m\u001b[43mname_to_tool_map\u001b[49m\u001b[43m,\u001b[49m\n\u001b[0;32m   1626\u001b[0m \u001b[43m        \u001b[49m\u001b[43mcolor_mapping\u001b[49m\u001b[43m,\u001b[49m\n\u001b[0;32m   1627\u001b[0m \u001b[43m        \u001b[49m\u001b[43minputs\u001b[49m\u001b[43m,\u001b[49m\n\u001b[0;32m   1628\u001b[0m \u001b[43m        \u001b[49m\u001b[43mintermediate_steps\u001b[49m\u001b[43m,\u001b[49m\n\u001b[0;32m   1629\u001b[0m \u001b[43m        \u001b[49m\u001b[43mrun_manager\u001b[49m\u001b[38;5;241;43m=\u001b[39;49m\u001b[43mrun_manager\u001b[49m\u001b[43m,\u001b[49m\n\u001b[0;32m   1630\u001b[0m \u001b[43m    \u001b[49m\u001b[43m)\u001b[49m\n\u001b[0;32m   1631\u001b[0m     \u001b[38;5;28;01mif\u001b[39;00m \u001b[38;5;28misinstance\u001b[39m(next_step_output, AgentFinish):\n\u001b[0;32m   1632\u001b[0m         \u001b[38;5;28;01mreturn\u001b[39;00m \u001b[38;5;28mself\u001b[39m\u001b[38;5;241m.\u001b[39m_return(\n\u001b[0;32m   1633\u001b[0m             next_step_output, intermediate_steps, run_manager\u001b[38;5;241m=\u001b[39mrun_manager\n\u001b[0;32m   1634\u001b[0m         )\n",
      "File \u001b[1;32mc:\\Users\\Tales\\Python\\AgenteTuristico\\.venv\\lib\\site-packages\\langchain\\agents\\agent.py:1330\u001b[0m, in \u001b[0;36mAgentExecutor._take_next_step\u001b[1;34m(self, name_to_tool_map, color_mapping, inputs, intermediate_steps, run_manager)\u001b[0m\n\u001b[0;32m   1321\u001b[0m \u001b[38;5;28;01mdef\u001b[39;00m \u001b[38;5;21m_take_next_step\u001b[39m(\n\u001b[0;32m   1322\u001b[0m     \u001b[38;5;28mself\u001b[39m,\n\u001b[0;32m   1323\u001b[0m     name_to_tool_map: Dict[\u001b[38;5;28mstr\u001b[39m, BaseTool],\n\u001b[1;32m   (...)\u001b[0m\n\u001b[0;32m   1327\u001b[0m     run_manager: Optional[CallbackManagerForChainRun] \u001b[38;5;241m=\u001b[39m \u001b[38;5;28;01mNone\u001b[39;00m,\n\u001b[0;32m   1328\u001b[0m ) \u001b[38;5;241m-\u001b[39m\u001b[38;5;241m>\u001b[39m Union[AgentFinish, List[Tuple[AgentAction, \u001b[38;5;28mstr\u001b[39m]]]:\n\u001b[0;32m   1329\u001b[0m     \u001b[38;5;28;01mreturn\u001b[39;00m \u001b[38;5;28mself\u001b[39m\u001b[38;5;241m.\u001b[39m_consume_next_step(\n\u001b[1;32m-> 1330\u001b[0m         [\n\u001b[0;32m   1331\u001b[0m             a\n\u001b[0;32m   1332\u001b[0m             \u001b[38;5;28;01mfor\u001b[39;00m a \u001b[38;5;129;01min\u001b[39;00m \u001b[38;5;28mself\u001b[39m\u001b[38;5;241m.\u001b[39m_iter_next_step(\n\u001b[0;32m   1333\u001b[0m                 name_to_tool_map,\n\u001b[0;32m   1334\u001b[0m                 color_mapping,\n\u001b[0;32m   1335\u001b[0m                 inputs,\n\u001b[0;32m   1336\u001b[0m                 intermediate_steps,\n\u001b[0;32m   1337\u001b[0m                 run_manager,\n\u001b[0;32m   1338\u001b[0m             )\n\u001b[0;32m   1339\u001b[0m         ]\n\u001b[0;32m   1340\u001b[0m     )\n",
      "File \u001b[1;32mc:\\Users\\Tales\\Python\\AgenteTuristico\\.venv\\lib\\site-packages\\langchain\\agents\\agent.py:1330\u001b[0m, in \u001b[0;36m<listcomp>\u001b[1;34m(.0)\u001b[0m\n\u001b[0;32m   1321\u001b[0m \u001b[38;5;28;01mdef\u001b[39;00m \u001b[38;5;21m_take_next_step\u001b[39m(\n\u001b[0;32m   1322\u001b[0m     \u001b[38;5;28mself\u001b[39m,\n\u001b[0;32m   1323\u001b[0m     name_to_tool_map: Dict[\u001b[38;5;28mstr\u001b[39m, BaseTool],\n\u001b[1;32m   (...)\u001b[0m\n\u001b[0;32m   1327\u001b[0m     run_manager: Optional[CallbackManagerForChainRun] \u001b[38;5;241m=\u001b[39m \u001b[38;5;28;01mNone\u001b[39;00m,\n\u001b[0;32m   1328\u001b[0m ) \u001b[38;5;241m-\u001b[39m\u001b[38;5;241m>\u001b[39m Union[AgentFinish, List[Tuple[AgentAction, \u001b[38;5;28mstr\u001b[39m]]]:\n\u001b[0;32m   1329\u001b[0m     \u001b[38;5;28;01mreturn\u001b[39;00m \u001b[38;5;28mself\u001b[39m\u001b[38;5;241m.\u001b[39m_consume_next_step(\n\u001b[1;32m-> 1330\u001b[0m         [\n\u001b[0;32m   1331\u001b[0m             a\n\u001b[0;32m   1332\u001b[0m             \u001b[38;5;28;01mfor\u001b[39;00m a \u001b[38;5;129;01min\u001b[39;00m \u001b[38;5;28mself\u001b[39m\u001b[38;5;241m.\u001b[39m_iter_next_step(\n\u001b[0;32m   1333\u001b[0m                 name_to_tool_map,\n\u001b[0;32m   1334\u001b[0m                 color_mapping,\n\u001b[0;32m   1335\u001b[0m                 inputs,\n\u001b[0;32m   1336\u001b[0m                 intermediate_steps,\n\u001b[0;32m   1337\u001b[0m                 run_manager,\n\u001b[0;32m   1338\u001b[0m             )\n\u001b[0;32m   1339\u001b[0m         ]\n\u001b[0;32m   1340\u001b[0m     )\n",
      "File \u001b[1;32mc:\\Users\\Tales\\Python\\AgenteTuristico\\.venv\\lib\\site-packages\\langchain\\agents\\agent.py:1415\u001b[0m, in \u001b[0;36mAgentExecutor._iter_next_step\u001b[1;34m(self, name_to_tool_map, color_mapping, inputs, intermediate_steps, run_manager)\u001b[0m\n\u001b[0;32m   1413\u001b[0m     \u001b[38;5;28;01myield\u001b[39;00m agent_action\n\u001b[0;32m   1414\u001b[0m \u001b[38;5;28;01mfor\u001b[39;00m agent_action \u001b[38;5;129;01min\u001b[39;00m actions:\n\u001b[1;32m-> 1415\u001b[0m     \u001b[38;5;28;01myield\u001b[39;00m \u001b[38;5;28;43mself\u001b[39;49m\u001b[38;5;241;43m.\u001b[39;49m\u001b[43m_perform_agent_action\u001b[49m\u001b[43m(\u001b[49m\n\u001b[0;32m   1416\u001b[0m \u001b[43m        \u001b[49m\u001b[43mname_to_tool_map\u001b[49m\u001b[43m,\u001b[49m\u001b[43m \u001b[49m\u001b[43mcolor_mapping\u001b[49m\u001b[43m,\u001b[49m\u001b[43m \u001b[49m\u001b[43magent_action\u001b[49m\u001b[43m,\u001b[49m\u001b[43m \u001b[49m\u001b[43mrun_manager\u001b[49m\n\u001b[0;32m   1417\u001b[0m \u001b[43m    \u001b[49m\u001b[43m)\u001b[49m\n",
      "File \u001b[1;32mc:\\Users\\Tales\\Python\\AgenteTuristico\\.venv\\lib\\site-packages\\langchain\\agents\\agent.py:1437\u001b[0m, in \u001b[0;36mAgentExecutor._perform_agent_action\u001b[1;34m(self, name_to_tool_map, color_mapping, agent_action, run_manager)\u001b[0m\n\u001b[0;32m   1435\u001b[0m         tool_run_kwargs[\u001b[38;5;124m\"\u001b[39m\u001b[38;5;124mllm_prefix\u001b[39m\u001b[38;5;124m\"\u001b[39m] \u001b[38;5;241m=\u001b[39m \u001b[38;5;124m\"\u001b[39m\u001b[38;5;124m\"\u001b[39m\n\u001b[0;32m   1436\u001b[0m     \u001b[38;5;66;03m# We then call the tool on the tool input to get an observation\u001b[39;00m\n\u001b[1;32m-> 1437\u001b[0m     observation \u001b[38;5;241m=\u001b[39m tool\u001b[38;5;241m.\u001b[39mrun(\n\u001b[0;32m   1438\u001b[0m         agent_action\u001b[38;5;241m.\u001b[39mtool_input,\n\u001b[0;32m   1439\u001b[0m         verbose\u001b[38;5;241m=\u001b[39m\u001b[38;5;28mself\u001b[39m\u001b[38;5;241m.\u001b[39mverbose,\n\u001b[0;32m   1440\u001b[0m         color\u001b[38;5;241m=\u001b[39mcolor,\n\u001b[0;32m   1441\u001b[0m         callbacks\u001b[38;5;241m=\u001b[39mrun_manager\u001b[38;5;241m.\u001b[39mget_child() \u001b[38;5;28;01mif\u001b[39;00m run_manager \u001b[38;5;28;01melse\u001b[39;00m \u001b[38;5;28;01mNone\u001b[39;00m,\n\u001b[0;32m   1442\u001b[0m         \u001b[38;5;241m*\u001b[39m\u001b[38;5;241m*\u001b[39mtool_run_kwargs,\n\u001b[0;32m   1443\u001b[0m     )\n\u001b[0;32m   1444\u001b[0m \u001b[38;5;28;01melse\u001b[39;00m:\n\u001b[0;32m   1445\u001b[0m     tool_run_kwargs \u001b[38;5;241m=\u001b[39m \u001b[38;5;28mself\u001b[39m\u001b[38;5;241m.\u001b[39m_action_agent\u001b[38;5;241m.\u001b[39mtool_run_logging_kwargs()\n",
      "File \u001b[1;32mc:\\Users\\Tales\\Python\\AgenteTuristico\\.venv\\lib\\site-packages\\langchain_core\\tools\\base.py:725\u001b[0m, in \u001b[0;36mBaseTool.run\u001b[1;34m(self, tool_input, verbose, start_color, color, callbacks, tags, metadata, run_name, run_id, config, tool_call_id, **kwargs)\u001b[0m\n\u001b[0;32m    723\u001b[0m \u001b[38;5;28;01mif\u001b[39;00m error_to_raise:\n\u001b[0;32m    724\u001b[0m     run_manager\u001b[38;5;241m.\u001b[39mon_tool_error(error_to_raise)\n\u001b[1;32m--> 725\u001b[0m     \u001b[38;5;28;01mraise\u001b[39;00m error_to_raise\n\u001b[0;32m    726\u001b[0m output \u001b[38;5;241m=\u001b[39m _format_output(content, artifact, tool_call_id, \u001b[38;5;28mself\u001b[39m\u001b[38;5;241m.\u001b[39mname, status)\n\u001b[0;32m    727\u001b[0m run_manager\u001b[38;5;241m.\u001b[39mon_tool_end(output, color\u001b[38;5;241m=\u001b[39mcolor, name\u001b[38;5;241m=\u001b[39m\u001b[38;5;28mself\u001b[39m\u001b[38;5;241m.\u001b[39mname, \u001b[38;5;241m*\u001b[39m\u001b[38;5;241m*\u001b[39mkwargs)\n",
      "File \u001b[1;32mc:\\Users\\Tales\\Python\\AgenteTuristico\\.venv\\lib\\site-packages\\langchain_core\\tools\\base.py:693\u001b[0m, in \u001b[0;36mBaseTool.run\u001b[1;34m(self, tool_input, verbose, start_color, color, callbacks, tags, metadata, run_name, run_id, config, tool_call_id, **kwargs)\u001b[0m\n\u001b[0;32m    691\u001b[0m \u001b[38;5;28;01mif\u001b[39;00m config_param \u001b[38;5;241m:=\u001b[39m _get_runnable_config_param(\u001b[38;5;28mself\u001b[39m\u001b[38;5;241m.\u001b[39m_run):\n\u001b[0;32m    692\u001b[0m     tool_kwargs \u001b[38;5;241m=\u001b[39m tool_kwargs \u001b[38;5;241m|\u001b[39m {config_param: config}\n\u001b[1;32m--> 693\u001b[0m response \u001b[38;5;241m=\u001b[39m context\u001b[38;5;241m.\u001b[39mrun(\u001b[38;5;28mself\u001b[39m\u001b[38;5;241m.\u001b[39m_run, \u001b[38;5;241m*\u001b[39mtool_args, \u001b[38;5;241m*\u001b[39m\u001b[38;5;241m*\u001b[39mtool_kwargs)\n\u001b[0;32m    694\u001b[0m \u001b[38;5;28;01mif\u001b[39;00m \u001b[38;5;28mself\u001b[39m\u001b[38;5;241m.\u001b[39mresponse_format \u001b[38;5;241m==\u001b[39m \u001b[38;5;124m\"\u001b[39m\u001b[38;5;124mcontent_and_artifact\u001b[39m\u001b[38;5;124m\"\u001b[39m:\n\u001b[0;32m    695\u001b[0m     \u001b[38;5;28;01mif\u001b[39;00m \u001b[38;5;129;01mnot\u001b[39;00m \u001b[38;5;28misinstance\u001b[39m(response, \u001b[38;5;28mtuple\u001b[39m) \u001b[38;5;129;01mor\u001b[39;00m \u001b[38;5;28mlen\u001b[39m(response) \u001b[38;5;241m!=\u001b[39m \u001b[38;5;241m2\u001b[39m:\n",
      "File \u001b[1;32mc:\\Users\\Tales\\Python\\AgenteTuristico\\.venv\\lib\\site-packages\\langchain_core\\tools\\simple.py:94\u001b[0m, in \u001b[0;36mTool._run\u001b[1;34m(self, config, run_manager, *args, **kwargs)\u001b[0m\n\u001b[0;32m     92\u001b[0m     \u001b[38;5;28;01mif\u001b[39;00m config_param \u001b[38;5;241m:=\u001b[39m _get_runnable_config_param(\u001b[38;5;28mself\u001b[39m\u001b[38;5;241m.\u001b[39mfunc):\n\u001b[0;32m     93\u001b[0m         kwargs[config_param] \u001b[38;5;241m=\u001b[39m config\n\u001b[1;32m---> 94\u001b[0m     \u001b[38;5;28;01mreturn\u001b[39;00m \u001b[38;5;28mself\u001b[39m\u001b[38;5;241m.\u001b[39mfunc(\u001b[38;5;241m*\u001b[39margs, \u001b[38;5;241m*\u001b[39m\u001b[38;5;241m*\u001b[39mkwargs)\n\u001b[0;32m     95\u001b[0m msg \u001b[38;5;241m=\u001b[39m \u001b[38;5;124m\"\u001b[39m\u001b[38;5;124mTool does not support sync invocation.\u001b[39m\u001b[38;5;124m\"\u001b[39m\n\u001b[0;32m     96\u001b[0m \u001b[38;5;28;01mraise\u001b[39;00m \u001b[38;5;167;01mNotImplementedError\u001b[39;00m(msg)\n",
      "Cell \u001b[1;32mIn[5], line 2\u001b[0m, in \u001b[0;36mtransfer_to_calendar_agent\u001b[1;34m(input_str)\u001b[0m\n\u001b[0;32m      1\u001b[0m \u001b[38;5;28;01mdef\u001b[39;00m \u001b[38;5;21mtransfer_to_calendar_agent\u001b[39m(input_str):\n\u001b[1;32m----> 2\u001b[0m     \u001b[38;5;28;01mreturn\u001b[39;00m \u001b[43mcalendar_agent_executor\u001b[49m\u001b[38;5;241;43m.\u001b[39;49m\u001b[43minvoke\u001b[49m\u001b[43m(\u001b[49m\u001b[43m{\u001b[49m\u001b[38;5;124;43m\"\u001b[39;49m\u001b[38;5;124;43minput\u001b[39;49m\u001b[38;5;124;43m\"\u001b[39;49m\u001b[43m:\u001b[49m\u001b[43m \u001b[49m\u001b[43minput_str\u001b[49m\u001b[43m}\u001b[49m\u001b[43m)\u001b[49m\n",
      "File \u001b[1;32mc:\\Users\\Tales\\Python\\AgenteTuristico\\.venv\\lib\\site-packages\\langchain\\chains\\base.py:170\u001b[0m, in \u001b[0;36mChain.invoke\u001b[1;34m(self, input, config, **kwargs)\u001b[0m\n\u001b[0;32m    168\u001b[0m \u001b[38;5;28;01mexcept\u001b[39;00m \u001b[38;5;167;01mBaseException\u001b[39;00m \u001b[38;5;28;01mas\u001b[39;00m e:\n\u001b[0;32m    169\u001b[0m     run_manager\u001b[38;5;241m.\u001b[39mon_chain_error(e)\n\u001b[1;32m--> 170\u001b[0m     \u001b[38;5;28;01mraise\u001b[39;00m e\n\u001b[0;32m    171\u001b[0m run_manager\u001b[38;5;241m.\u001b[39mon_chain_end(outputs)\n\u001b[0;32m    173\u001b[0m \u001b[38;5;28;01mif\u001b[39;00m include_run_info:\n",
      "File \u001b[1;32mc:\\Users\\Tales\\Python\\AgenteTuristico\\.venv\\lib\\site-packages\\langchain\\chains\\base.py:160\u001b[0m, in \u001b[0;36mChain.invoke\u001b[1;34m(self, input, config, **kwargs)\u001b[0m\n\u001b[0;32m    157\u001b[0m \u001b[38;5;28;01mtry\u001b[39;00m:\n\u001b[0;32m    158\u001b[0m     \u001b[38;5;28mself\u001b[39m\u001b[38;5;241m.\u001b[39m_validate_inputs(inputs)\n\u001b[0;32m    159\u001b[0m     outputs \u001b[38;5;241m=\u001b[39m (\n\u001b[1;32m--> 160\u001b[0m         \u001b[38;5;28;43mself\u001b[39;49m\u001b[38;5;241;43m.\u001b[39;49m\u001b[43m_call\u001b[49m\u001b[43m(\u001b[49m\u001b[43minputs\u001b[49m\u001b[43m,\u001b[49m\u001b[43m \u001b[49m\u001b[43mrun_manager\u001b[49m\u001b[38;5;241;43m=\u001b[39;49m\u001b[43mrun_manager\u001b[49m\u001b[43m)\u001b[49m\n\u001b[0;32m    161\u001b[0m         \u001b[38;5;28;01mif\u001b[39;00m new_arg_supported\n\u001b[0;32m    162\u001b[0m         \u001b[38;5;28;01melse\u001b[39;00m \u001b[38;5;28mself\u001b[39m\u001b[38;5;241m.\u001b[39m_call(inputs)\n\u001b[0;32m    163\u001b[0m     )\n\u001b[0;32m    165\u001b[0m     final_outputs: Dict[\u001b[38;5;28mstr\u001b[39m, Any] \u001b[38;5;241m=\u001b[39m \u001b[38;5;28mself\u001b[39m\u001b[38;5;241m.\u001b[39mprep_outputs(\n\u001b[0;32m    166\u001b[0m         inputs, outputs, return_only_outputs\n\u001b[0;32m    167\u001b[0m     )\n\u001b[0;32m    168\u001b[0m \u001b[38;5;28;01mexcept\u001b[39;00m \u001b[38;5;167;01mBaseException\u001b[39;00m \u001b[38;5;28;01mas\u001b[39;00m e:\n",
      "File \u001b[1;32mc:\\Users\\Tales\\Python\\AgenteTuristico\\.venv\\lib\\site-packages\\langchain\\agents\\agent.py:1624\u001b[0m, in \u001b[0;36mAgentExecutor._call\u001b[1;34m(self, inputs, run_manager)\u001b[0m\n\u001b[0;32m   1622\u001b[0m \u001b[38;5;66;03m# We now enter the agent loop (until it returns something).\u001b[39;00m\n\u001b[0;32m   1623\u001b[0m \u001b[38;5;28;01mwhile\u001b[39;00m \u001b[38;5;28mself\u001b[39m\u001b[38;5;241m.\u001b[39m_should_continue(iterations, time_elapsed):\n\u001b[1;32m-> 1624\u001b[0m     next_step_output \u001b[38;5;241m=\u001b[39m \u001b[38;5;28;43mself\u001b[39;49m\u001b[38;5;241;43m.\u001b[39;49m\u001b[43m_take_next_step\u001b[49m\u001b[43m(\u001b[49m\n\u001b[0;32m   1625\u001b[0m \u001b[43m        \u001b[49m\u001b[43mname_to_tool_map\u001b[49m\u001b[43m,\u001b[49m\n\u001b[0;32m   1626\u001b[0m \u001b[43m        \u001b[49m\u001b[43mcolor_mapping\u001b[49m\u001b[43m,\u001b[49m\n\u001b[0;32m   1627\u001b[0m \u001b[43m        \u001b[49m\u001b[43minputs\u001b[49m\u001b[43m,\u001b[49m\n\u001b[0;32m   1628\u001b[0m \u001b[43m        \u001b[49m\u001b[43mintermediate_steps\u001b[49m\u001b[43m,\u001b[49m\n\u001b[0;32m   1629\u001b[0m \u001b[43m        \u001b[49m\u001b[43mrun_manager\u001b[49m\u001b[38;5;241;43m=\u001b[39;49m\u001b[43mrun_manager\u001b[49m\u001b[43m,\u001b[49m\n\u001b[0;32m   1630\u001b[0m \u001b[43m    \u001b[49m\u001b[43m)\u001b[49m\n\u001b[0;32m   1631\u001b[0m     \u001b[38;5;28;01mif\u001b[39;00m \u001b[38;5;28misinstance\u001b[39m(next_step_output, AgentFinish):\n\u001b[0;32m   1632\u001b[0m         \u001b[38;5;28;01mreturn\u001b[39;00m \u001b[38;5;28mself\u001b[39m\u001b[38;5;241m.\u001b[39m_return(\n\u001b[0;32m   1633\u001b[0m             next_step_output, intermediate_steps, run_manager\u001b[38;5;241m=\u001b[39mrun_manager\n\u001b[0;32m   1634\u001b[0m         )\n",
      "File \u001b[1;32mc:\\Users\\Tales\\Python\\AgenteTuristico\\.venv\\lib\\site-packages\\langchain\\agents\\agent.py:1330\u001b[0m, in \u001b[0;36mAgentExecutor._take_next_step\u001b[1;34m(self, name_to_tool_map, color_mapping, inputs, intermediate_steps, run_manager)\u001b[0m\n\u001b[0;32m   1321\u001b[0m \u001b[38;5;28;01mdef\u001b[39;00m \u001b[38;5;21m_take_next_step\u001b[39m(\n\u001b[0;32m   1322\u001b[0m     \u001b[38;5;28mself\u001b[39m,\n\u001b[0;32m   1323\u001b[0m     name_to_tool_map: Dict[\u001b[38;5;28mstr\u001b[39m, BaseTool],\n\u001b[1;32m   (...)\u001b[0m\n\u001b[0;32m   1327\u001b[0m     run_manager: Optional[CallbackManagerForChainRun] \u001b[38;5;241m=\u001b[39m \u001b[38;5;28;01mNone\u001b[39;00m,\n\u001b[0;32m   1328\u001b[0m ) \u001b[38;5;241m-\u001b[39m\u001b[38;5;241m>\u001b[39m Union[AgentFinish, List[Tuple[AgentAction, \u001b[38;5;28mstr\u001b[39m]]]:\n\u001b[0;32m   1329\u001b[0m     \u001b[38;5;28;01mreturn\u001b[39;00m \u001b[38;5;28mself\u001b[39m\u001b[38;5;241m.\u001b[39m_consume_next_step(\n\u001b[1;32m-> 1330\u001b[0m         [\n\u001b[0;32m   1331\u001b[0m             a\n\u001b[0;32m   1332\u001b[0m             \u001b[38;5;28;01mfor\u001b[39;00m a \u001b[38;5;129;01min\u001b[39;00m \u001b[38;5;28mself\u001b[39m\u001b[38;5;241m.\u001b[39m_iter_next_step(\n\u001b[0;32m   1333\u001b[0m                 name_to_tool_map,\n\u001b[0;32m   1334\u001b[0m                 color_mapping,\n\u001b[0;32m   1335\u001b[0m                 inputs,\n\u001b[0;32m   1336\u001b[0m                 intermediate_steps,\n\u001b[0;32m   1337\u001b[0m                 run_manager,\n\u001b[0;32m   1338\u001b[0m             )\n\u001b[0;32m   1339\u001b[0m         ]\n\u001b[0;32m   1340\u001b[0m     )\n",
      "File \u001b[1;32mc:\\Users\\Tales\\Python\\AgenteTuristico\\.venv\\lib\\site-packages\\langchain\\agents\\agent.py:1330\u001b[0m, in \u001b[0;36m<listcomp>\u001b[1;34m(.0)\u001b[0m\n\u001b[0;32m   1321\u001b[0m \u001b[38;5;28;01mdef\u001b[39;00m \u001b[38;5;21m_take_next_step\u001b[39m(\n\u001b[0;32m   1322\u001b[0m     \u001b[38;5;28mself\u001b[39m,\n\u001b[0;32m   1323\u001b[0m     name_to_tool_map: Dict[\u001b[38;5;28mstr\u001b[39m, BaseTool],\n\u001b[1;32m   (...)\u001b[0m\n\u001b[0;32m   1327\u001b[0m     run_manager: Optional[CallbackManagerForChainRun] \u001b[38;5;241m=\u001b[39m \u001b[38;5;28;01mNone\u001b[39;00m,\n\u001b[0;32m   1328\u001b[0m ) \u001b[38;5;241m-\u001b[39m\u001b[38;5;241m>\u001b[39m Union[AgentFinish, List[Tuple[AgentAction, \u001b[38;5;28mstr\u001b[39m]]]:\n\u001b[0;32m   1329\u001b[0m     \u001b[38;5;28;01mreturn\u001b[39;00m \u001b[38;5;28mself\u001b[39m\u001b[38;5;241m.\u001b[39m_consume_next_step(\n\u001b[1;32m-> 1330\u001b[0m         [\n\u001b[0;32m   1331\u001b[0m             a\n\u001b[0;32m   1332\u001b[0m             \u001b[38;5;28;01mfor\u001b[39;00m a \u001b[38;5;129;01min\u001b[39;00m \u001b[38;5;28mself\u001b[39m\u001b[38;5;241m.\u001b[39m_iter_next_step(\n\u001b[0;32m   1333\u001b[0m                 name_to_tool_map,\n\u001b[0;32m   1334\u001b[0m                 color_mapping,\n\u001b[0;32m   1335\u001b[0m                 inputs,\n\u001b[0;32m   1336\u001b[0m                 intermediate_steps,\n\u001b[0;32m   1337\u001b[0m                 run_manager,\n\u001b[0;32m   1338\u001b[0m             )\n\u001b[0;32m   1339\u001b[0m         ]\n\u001b[0;32m   1340\u001b[0m     )\n",
      "File \u001b[1;32mc:\\Users\\Tales\\Python\\AgenteTuristico\\.venv\\lib\\site-packages\\langchain\\agents\\agent.py:1358\u001b[0m, in \u001b[0;36mAgentExecutor._iter_next_step\u001b[1;34m(self, name_to_tool_map, color_mapping, inputs, intermediate_steps, run_manager)\u001b[0m\n\u001b[0;32m   1355\u001b[0m     intermediate_steps \u001b[38;5;241m=\u001b[39m \u001b[38;5;28mself\u001b[39m\u001b[38;5;241m.\u001b[39m_prepare_intermediate_steps(intermediate_steps)\n\u001b[0;32m   1357\u001b[0m     \u001b[38;5;66;03m# Call the LLM to see what to do.\u001b[39;00m\n\u001b[1;32m-> 1358\u001b[0m     output \u001b[38;5;241m=\u001b[39m \u001b[38;5;28mself\u001b[39m\u001b[38;5;241m.\u001b[39m_action_agent\u001b[38;5;241m.\u001b[39mplan(\n\u001b[0;32m   1359\u001b[0m         intermediate_steps,\n\u001b[0;32m   1360\u001b[0m         callbacks\u001b[38;5;241m=\u001b[39mrun_manager\u001b[38;5;241m.\u001b[39mget_child() \u001b[38;5;28;01mif\u001b[39;00m run_manager \u001b[38;5;28;01melse\u001b[39;00m \u001b[38;5;28;01mNone\u001b[39;00m,\n\u001b[0;32m   1361\u001b[0m         \u001b[38;5;241m*\u001b[39m\u001b[38;5;241m*\u001b[39minputs,\n\u001b[0;32m   1362\u001b[0m     )\n\u001b[0;32m   1363\u001b[0m \u001b[38;5;28;01mexcept\u001b[39;00m OutputParserException \u001b[38;5;28;01mas\u001b[39;00m e:\n\u001b[0;32m   1364\u001b[0m     \u001b[38;5;28;01mif\u001b[39;00m \u001b[38;5;28misinstance\u001b[39m(\u001b[38;5;28mself\u001b[39m\u001b[38;5;241m.\u001b[39mhandle_parsing_errors, \u001b[38;5;28mbool\u001b[39m):\n",
      "File \u001b[1;32mc:\\Users\\Tales\\Python\\AgenteTuristico\\.venv\\lib\\site-packages\\langchain\\agents\\agent.py:465\u001b[0m, in \u001b[0;36mRunnableAgent.plan\u001b[1;34m(self, intermediate_steps, callbacks, **kwargs)\u001b[0m\n\u001b[0;32m    457\u001b[0m final_output: Any \u001b[38;5;241m=\u001b[39m \u001b[38;5;28;01mNone\u001b[39;00m\n\u001b[0;32m    458\u001b[0m \u001b[38;5;28;01mif\u001b[39;00m \u001b[38;5;28mself\u001b[39m\u001b[38;5;241m.\u001b[39mstream_runnable:\n\u001b[0;32m    459\u001b[0m     \u001b[38;5;66;03m# Use streaming to make sure that the underlying LLM is invoked in a\u001b[39;00m\n\u001b[0;32m    460\u001b[0m     \u001b[38;5;66;03m# streaming\u001b[39;00m\n\u001b[1;32m   (...)\u001b[0m\n\u001b[0;32m    463\u001b[0m     \u001b[38;5;66;03m# Because the response from the plan is not a generator, we need to\u001b[39;00m\n\u001b[0;32m    464\u001b[0m     \u001b[38;5;66;03m# accumulate the output into final output and return that.\u001b[39;00m\n\u001b[1;32m--> 465\u001b[0m     \u001b[38;5;28;01mfor\u001b[39;00m chunk \u001b[38;5;129;01min\u001b[39;00m \u001b[38;5;28mself\u001b[39m\u001b[38;5;241m.\u001b[39mrunnable\u001b[38;5;241m.\u001b[39mstream(inputs, config\u001b[38;5;241m=\u001b[39m{\u001b[38;5;124m\"\u001b[39m\u001b[38;5;124mcallbacks\u001b[39m\u001b[38;5;124m\"\u001b[39m: callbacks}):\n\u001b[0;32m    466\u001b[0m         \u001b[38;5;28;01mif\u001b[39;00m final_output \u001b[38;5;129;01mis\u001b[39;00m \u001b[38;5;28;01mNone\u001b[39;00m:\n\u001b[0;32m    467\u001b[0m             final_output \u001b[38;5;241m=\u001b[39m chunk\n",
      "File \u001b[1;32mc:\\Users\\Tales\\Python\\AgenteTuristico\\.venv\\lib\\site-packages\\langchain_core\\runnables\\base.py:3407\u001b[0m, in \u001b[0;36mRunnableSequence.stream\u001b[1;34m(self, input, config, **kwargs)\u001b[0m\n\u001b[0;32m   3401\u001b[0m \u001b[38;5;28;01mdef\u001b[39;00m \u001b[38;5;21mstream\u001b[39m(\n\u001b[0;32m   3402\u001b[0m     \u001b[38;5;28mself\u001b[39m,\n\u001b[0;32m   3403\u001b[0m     \u001b[38;5;28minput\u001b[39m: Input,\n\u001b[0;32m   3404\u001b[0m     config: Optional[RunnableConfig] \u001b[38;5;241m=\u001b[39m \u001b[38;5;28;01mNone\u001b[39;00m,\n\u001b[0;32m   3405\u001b[0m     \u001b[38;5;241m*\u001b[39m\u001b[38;5;241m*\u001b[39mkwargs: Optional[Any],\n\u001b[0;32m   3406\u001b[0m ) \u001b[38;5;241m-\u001b[39m\u001b[38;5;241m>\u001b[39m Iterator[Output]:\n\u001b[1;32m-> 3407\u001b[0m     \u001b[38;5;28;01myield from\u001b[39;00m \u001b[38;5;28mself\u001b[39m\u001b[38;5;241m.\u001b[39mtransform(\u001b[38;5;28miter\u001b[39m([\u001b[38;5;28minput\u001b[39m]), config, \u001b[38;5;241m*\u001b[39m\u001b[38;5;241m*\u001b[39mkwargs)\n",
      "File \u001b[1;32mc:\\Users\\Tales\\Python\\AgenteTuristico\\.venv\\lib\\site-packages\\langchain_core\\runnables\\base.py:3394\u001b[0m, in \u001b[0;36mRunnableSequence.transform\u001b[1;34m(self, input, config, **kwargs)\u001b[0m\n\u001b[0;32m   3388\u001b[0m \u001b[38;5;28;01mdef\u001b[39;00m \u001b[38;5;21mtransform\u001b[39m(\n\u001b[0;32m   3389\u001b[0m     \u001b[38;5;28mself\u001b[39m,\n\u001b[0;32m   3390\u001b[0m     \u001b[38;5;28minput\u001b[39m: Iterator[Input],\n\u001b[0;32m   3391\u001b[0m     config: Optional[RunnableConfig] \u001b[38;5;241m=\u001b[39m \u001b[38;5;28;01mNone\u001b[39;00m,\n\u001b[0;32m   3392\u001b[0m     \u001b[38;5;241m*\u001b[39m\u001b[38;5;241m*\u001b[39mkwargs: Optional[Any],\n\u001b[0;32m   3393\u001b[0m ) \u001b[38;5;241m-\u001b[39m\u001b[38;5;241m>\u001b[39m Iterator[Output]:\n\u001b[1;32m-> 3394\u001b[0m     \u001b[38;5;28;01myield from\u001b[39;00m \u001b[38;5;28mself\u001b[39m\u001b[38;5;241m.\u001b[39m_transform_stream_with_config(\n\u001b[0;32m   3395\u001b[0m         \u001b[38;5;28minput\u001b[39m,\n\u001b[0;32m   3396\u001b[0m         \u001b[38;5;28mself\u001b[39m\u001b[38;5;241m.\u001b[39m_transform,\n\u001b[0;32m   3397\u001b[0m         patch_config(config, run_name\u001b[38;5;241m=\u001b[39m(config \u001b[38;5;129;01mor\u001b[39;00m {})\u001b[38;5;241m.\u001b[39mget(\u001b[38;5;124m\"\u001b[39m\u001b[38;5;124mrun_name\u001b[39m\u001b[38;5;124m\"\u001b[39m) \u001b[38;5;129;01mor\u001b[39;00m \u001b[38;5;28mself\u001b[39m\u001b[38;5;241m.\u001b[39mname),\n\u001b[0;32m   3398\u001b[0m         \u001b[38;5;241m*\u001b[39m\u001b[38;5;241m*\u001b[39mkwargs,\n\u001b[0;32m   3399\u001b[0m     )\n",
      "File \u001b[1;32mc:\\Users\\Tales\\Python\\AgenteTuristico\\.venv\\lib\\site-packages\\langchain_core\\runnables\\base.py:2197\u001b[0m, in \u001b[0;36mRunnable._transform_stream_with_config\u001b[1;34m(self, input, transformer, config, run_type, **kwargs)\u001b[0m\n\u001b[0;32m   2195\u001b[0m \u001b[38;5;28;01mtry\u001b[39;00m:\n\u001b[0;32m   2196\u001b[0m     \u001b[38;5;28;01mwhile\u001b[39;00m \u001b[38;5;28;01mTrue\u001b[39;00m:\n\u001b[1;32m-> 2197\u001b[0m         chunk: Output \u001b[38;5;241m=\u001b[39m \u001b[43mcontext\u001b[49m\u001b[38;5;241;43m.\u001b[39;49m\u001b[43mrun\u001b[49m\u001b[43m(\u001b[49m\u001b[38;5;28;43mnext\u001b[39;49m\u001b[43m,\u001b[49m\u001b[43m \u001b[49m\u001b[43miterator\u001b[49m\u001b[43m)\u001b[49m  \u001b[38;5;66;03m# type: ignore\u001b[39;00m\n\u001b[0;32m   2198\u001b[0m         \u001b[38;5;28;01myield\u001b[39;00m chunk\n\u001b[0;32m   2199\u001b[0m         \u001b[38;5;28;01mif\u001b[39;00m final_output_supported:\n",
      "File \u001b[1;32mc:\\Users\\Tales\\Python\\AgenteTuristico\\.venv\\lib\\site-packages\\langchain_core\\runnables\\base.py:3357\u001b[0m, in \u001b[0;36mRunnableSequence._transform\u001b[1;34m(self, input, run_manager, config, **kwargs)\u001b[0m\n\u001b[0;32m   3354\u001b[0m     \u001b[38;5;28;01melse\u001b[39;00m:\n\u001b[0;32m   3355\u001b[0m         final_pipeline \u001b[38;5;241m=\u001b[39m step\u001b[38;5;241m.\u001b[39mtransform(final_pipeline, config)\n\u001b[1;32m-> 3357\u001b[0m \u001b[38;5;28;01myield from\u001b[39;00m final_pipeline\n",
      "File \u001b[1;32mc:\\Users\\Tales\\Python\\AgenteTuristico\\.venv\\lib\\site-packages\\langchain_core\\runnables\\base.py:1413\u001b[0m, in \u001b[0;36mRunnable.transform\u001b[1;34m(self, input, config, **kwargs)\u001b[0m\n\u001b[0;32m   1410\u001b[0m final: Input\n\u001b[0;32m   1411\u001b[0m got_first_val \u001b[38;5;241m=\u001b[39m \u001b[38;5;28;01mFalse\u001b[39;00m\n\u001b[1;32m-> 1413\u001b[0m \u001b[38;5;28;01mfor\u001b[39;00m ichunk \u001b[38;5;129;01min\u001b[39;00m \u001b[38;5;28minput\u001b[39m:\n\u001b[0;32m   1414\u001b[0m     \u001b[38;5;66;03m# The default implementation of transform is to buffer input and\u001b[39;00m\n\u001b[0;32m   1415\u001b[0m     \u001b[38;5;66;03m# then call stream.\u001b[39;00m\n\u001b[0;32m   1416\u001b[0m     \u001b[38;5;66;03m# It'll attempt to gather all input into a single chunk using\u001b[39;00m\n\u001b[0;32m   1417\u001b[0m     \u001b[38;5;66;03m# the `+` operator.\u001b[39;00m\n\u001b[0;32m   1418\u001b[0m     \u001b[38;5;66;03m# If the input is not addable, then we'll assume that we can\u001b[39;00m\n\u001b[0;32m   1419\u001b[0m     \u001b[38;5;66;03m# only operate on the last chunk,\u001b[39;00m\n\u001b[0;32m   1420\u001b[0m     \u001b[38;5;66;03m# and we'll iterate until we get to the last chunk.\u001b[39;00m\n\u001b[0;32m   1421\u001b[0m     \u001b[38;5;28;01mif\u001b[39;00m \u001b[38;5;129;01mnot\u001b[39;00m got_first_val:\n\u001b[0;32m   1422\u001b[0m         final \u001b[38;5;241m=\u001b[39m ichunk\n",
      "File \u001b[1;32mc:\\Users\\Tales\\Python\\AgenteTuristico\\.venv\\lib\\site-packages\\langchain_core\\runnables\\base.py:5561\u001b[0m, in \u001b[0;36mRunnableBindingBase.transform\u001b[1;34m(self, input, config, **kwargs)\u001b[0m\n\u001b[0;32m   5555\u001b[0m \u001b[38;5;28;01mdef\u001b[39;00m \u001b[38;5;21mtransform\u001b[39m(\n\u001b[0;32m   5556\u001b[0m     \u001b[38;5;28mself\u001b[39m,\n\u001b[0;32m   5557\u001b[0m     \u001b[38;5;28minput\u001b[39m: Iterator[Input],\n\u001b[0;32m   5558\u001b[0m     config: Optional[RunnableConfig] \u001b[38;5;241m=\u001b[39m \u001b[38;5;28;01mNone\u001b[39;00m,\n\u001b[0;32m   5559\u001b[0m     \u001b[38;5;241m*\u001b[39m\u001b[38;5;241m*\u001b[39mkwargs: Any,\n\u001b[0;32m   5560\u001b[0m ) \u001b[38;5;241m-\u001b[39m\u001b[38;5;241m>\u001b[39m Iterator[Output]:\n\u001b[1;32m-> 5561\u001b[0m     \u001b[38;5;28;01myield from\u001b[39;00m \u001b[38;5;28mself\u001b[39m\u001b[38;5;241m.\u001b[39mbound\u001b[38;5;241m.\u001b[39mtransform(\n\u001b[0;32m   5562\u001b[0m         \u001b[38;5;28minput\u001b[39m,\n\u001b[0;32m   5563\u001b[0m         \u001b[38;5;28mself\u001b[39m\u001b[38;5;241m.\u001b[39m_merge_configs(config),\n\u001b[0;32m   5564\u001b[0m         \u001b[38;5;241m*\u001b[39m\u001b[38;5;241m*\u001b[39m{\u001b[38;5;241m*\u001b[39m\u001b[38;5;241m*\u001b[39m\u001b[38;5;28mself\u001b[39m\u001b[38;5;241m.\u001b[39mkwargs, \u001b[38;5;241m*\u001b[39m\u001b[38;5;241m*\u001b[39mkwargs},\n\u001b[0;32m   5565\u001b[0m     )\n",
      "File \u001b[1;32mc:\\Users\\Tales\\Python\\AgenteTuristico\\.venv\\lib\\site-packages\\langchain_core\\runnables\\base.py:1431\u001b[0m, in \u001b[0;36mRunnable.transform\u001b[1;34m(self, input, config, **kwargs)\u001b[0m\n\u001b[0;32m   1428\u001b[0m             final \u001b[38;5;241m=\u001b[39m ichunk\n\u001b[0;32m   1430\u001b[0m \u001b[38;5;28;01mif\u001b[39;00m got_first_val:\n\u001b[1;32m-> 1431\u001b[0m     \u001b[38;5;28;01myield from\u001b[39;00m \u001b[38;5;28mself\u001b[39m\u001b[38;5;241m.\u001b[39mstream(final, config, \u001b[38;5;241m*\u001b[39m\u001b[38;5;241m*\u001b[39mkwargs)\n",
      "File \u001b[1;32mc:\\Users\\Tales\\Python\\AgenteTuristico\\.venv\\lib\\site-packages\\langchain_core\\language_models\\chat_models.py:420\u001b[0m, in \u001b[0;36mBaseChatModel.stream\u001b[1;34m(self, input, config, stop, **kwargs)\u001b[0m\n\u001b[0;32m    413\u001b[0m \u001b[38;5;28;01mexcept\u001b[39;00m \u001b[38;5;167;01mBaseException\u001b[39;00m \u001b[38;5;28;01mas\u001b[39;00m e:\n\u001b[0;32m    414\u001b[0m     run_manager\u001b[38;5;241m.\u001b[39mon_llm_error(\n\u001b[0;32m    415\u001b[0m         e,\n\u001b[0;32m    416\u001b[0m         response\u001b[38;5;241m=\u001b[39mLLMResult(\n\u001b[0;32m    417\u001b[0m             generations\u001b[38;5;241m=\u001b[39m[[generation]] \u001b[38;5;28;01mif\u001b[39;00m generation \u001b[38;5;28;01melse\u001b[39;00m []\n\u001b[0;32m    418\u001b[0m         ),\n\u001b[0;32m    419\u001b[0m     )\n\u001b[1;32m--> 420\u001b[0m     \u001b[38;5;28;01mraise\u001b[39;00m e\n\u001b[0;32m    421\u001b[0m \u001b[38;5;28;01melse\u001b[39;00m:\n\u001b[0;32m    422\u001b[0m     run_manager\u001b[38;5;241m.\u001b[39mon_llm_end(LLMResult(generations\u001b[38;5;241m=\u001b[39m[[generation]]))\n",
      "File \u001b[1;32mc:\\Users\\Tales\\Python\\AgenteTuristico\\.venv\\lib\\site-packages\\langchain_core\\language_models\\chat_models.py:400\u001b[0m, in \u001b[0;36mBaseChatModel.stream\u001b[1;34m(self, input, config, stop, **kwargs)\u001b[0m\n\u001b[0;32m    397\u001b[0m     \u001b[38;5;28mself\u001b[39m\u001b[38;5;241m.\u001b[39mrate_limiter\u001b[38;5;241m.\u001b[39macquire(blocking\u001b[38;5;241m=\u001b[39m\u001b[38;5;28;01mTrue\u001b[39;00m)\n\u001b[0;32m    399\u001b[0m \u001b[38;5;28;01mtry\u001b[39;00m:\n\u001b[1;32m--> 400\u001b[0m     \u001b[38;5;28;01mfor\u001b[39;00m chunk \u001b[38;5;129;01min\u001b[39;00m \u001b[38;5;28mself\u001b[39m\u001b[38;5;241m.\u001b[39m_stream(messages, stop\u001b[38;5;241m=\u001b[39mstop, \u001b[38;5;241m*\u001b[39m\u001b[38;5;241m*\u001b[39mkwargs):\n\u001b[0;32m    401\u001b[0m         \u001b[38;5;28;01mif\u001b[39;00m chunk\u001b[38;5;241m.\u001b[39mmessage\u001b[38;5;241m.\u001b[39mid \u001b[38;5;129;01mis\u001b[39;00m \u001b[38;5;28;01mNone\u001b[39;00m:\n\u001b[0;32m    402\u001b[0m             chunk\u001b[38;5;241m.\u001b[39mmessage\u001b[38;5;241m.\u001b[39mid \u001b[38;5;241m=\u001b[39m \u001b[38;5;124mf\u001b[39m\u001b[38;5;124m\"\u001b[39m\u001b[38;5;124mrun-\u001b[39m\u001b[38;5;132;01m{\u001b[39;00mrun_manager\u001b[38;5;241m.\u001b[39mrun_id\u001b[38;5;132;01m}\u001b[39;00m\u001b[38;5;124m\"\u001b[39m\n",
      "File \u001b[1;32mc:\\Users\\Tales\\Python\\AgenteTuristico\\.venv\\lib\\site-packages\\langchain_google_genai\\chat_models.py:1037\u001b[0m, in \u001b[0;36mChatGoogleGenerativeAI._stream\u001b[1;34m(self, messages, stop, run_manager, tools, functions, safety_settings, tool_config, generation_config, cached_content, tool_choice, **kwargs)\u001b[0m\n\u001b[0;32m   1029\u001b[0m response: GenerateContentResponse \u001b[38;5;241m=\u001b[39m _chat_with_retry(\n\u001b[0;32m   1030\u001b[0m     request\u001b[38;5;241m=\u001b[39mrequest,\n\u001b[0;32m   1031\u001b[0m     generation_method\u001b[38;5;241m=\u001b[39m\u001b[38;5;28mself\u001b[39m\u001b[38;5;241m.\u001b[39mclient\u001b[38;5;241m.\u001b[39mstream_generate_content,\n\u001b[0;32m   1032\u001b[0m     \u001b[38;5;241m*\u001b[39m\u001b[38;5;241m*\u001b[39mkwargs,\n\u001b[0;32m   1033\u001b[0m     metadata\u001b[38;5;241m=\u001b[39m\u001b[38;5;28mself\u001b[39m\u001b[38;5;241m.\u001b[39mdefault_metadata,\n\u001b[0;32m   1034\u001b[0m )\n\u001b[0;32m   1036\u001b[0m prev_usage_metadata: UsageMetadata \u001b[38;5;241m|\u001b[39m \u001b[38;5;28;01mNone\u001b[39;00m \u001b[38;5;241m=\u001b[39m \u001b[38;5;28;01mNone\u001b[39;00m\n\u001b[1;32m-> 1037\u001b[0m \u001b[38;5;28;01mfor\u001b[39;00m chunk \u001b[38;5;129;01min\u001b[39;00m response:\n\u001b[0;32m   1038\u001b[0m     _chat_result \u001b[38;5;241m=\u001b[39m _response_to_result(\n\u001b[0;32m   1039\u001b[0m         chunk, stream\u001b[38;5;241m=\u001b[39m\u001b[38;5;28;01mTrue\u001b[39;00m, prev_usage\u001b[38;5;241m=\u001b[39mprev_usage_metadata\n\u001b[0;32m   1040\u001b[0m     )\n\u001b[0;32m   1041\u001b[0m     gen \u001b[38;5;241m=\u001b[39m cast(ChatGenerationChunk, _chat_result\u001b[38;5;241m.\u001b[39mgenerations[\u001b[38;5;241m0\u001b[39m])\n",
      "File \u001b[1;32mc:\\Users\\Tales\\Python\\AgenteTuristico\\.venv\\lib\\site-packages\\google\\api_core\\grpc_helpers.py:119\u001b[0m, in \u001b[0;36m_StreamingResponseIterator.__next__\u001b[1;34m(self)\u001b[0m\n\u001b[0;32m    116\u001b[0m     \u001b[38;5;28;01mreturn\u001b[39;00m \u001b[38;5;28mnext\u001b[39m(\u001b[38;5;28mself\u001b[39m\u001b[38;5;241m.\u001b[39m_wrapped)\n\u001b[0;32m    117\u001b[0m \u001b[38;5;28;01mexcept\u001b[39;00m grpc\u001b[38;5;241m.\u001b[39mRpcError \u001b[38;5;28;01mas\u001b[39;00m exc:\n\u001b[0;32m    118\u001b[0m     \u001b[38;5;66;03m# If the stream has already returned data, we cannot recover here.\u001b[39;00m\n\u001b[1;32m--> 119\u001b[0m     \u001b[38;5;28;01mraise\u001b[39;00m exceptions\u001b[38;5;241m.\u001b[39mfrom_grpc_error(exc) \u001b[38;5;28;01mfrom\u001b[39;00m \u001b[38;5;21;01mexc\u001b[39;00m\n",
      "\u001b[1;31mServiceUnavailable\u001b[0m: 503 The model is overloaded. Please try again later."
     ]
    }
   ],
   "source": [
    "response = travel_agent_executor.invoke({\"input\": 'Eu quero que você salve os eventos sugeridos no meu calendário google'})\n",
    "\n",
    "print(response[\"output\"])"
   ]
  },
  {
   "cell_type": "code",
   "execution_count": null,
   "metadata": {},
   "outputs": [],
   "source": [
    "print(response[\"chat_history\"])"
   ]
  }
 ],
 "metadata": {
  "colab": {
   "provenance": []
  },
  "kernelspec": {
   "display_name": ".venv",
   "language": "python",
   "name": "python3"
  },
  "language_info": {
   "codemirror_mode": {
    "name": "ipython",
    "version": 3
   },
   "file_extension": ".py",
   "mimetype": "text/x-python",
   "name": "python",
   "nbconvert_exporter": "python",
   "pygments_lexer": "ipython3",
   "version": "3.10.11"
  }
 },
 "nbformat": 4,
 "nbformat_minor": 0
}
